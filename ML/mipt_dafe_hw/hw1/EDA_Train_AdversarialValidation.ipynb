{
  "cells": [
    {
      "cell_type": "markdown",
      "metadata": {
        "id": "AGf_xvZiT0Ww"
      },
      "source": [
        "# Домашнее задание № 1\n",
        "\n",
        "Вам необходимо провести анализ и подготовить данные."
      ]
    },
    {
      "cell_type": "markdown",
      "metadata": {
        "_cell_guid": "d2034be1-8579-d4b9-9b18-b7bf2c6fc651",
        "id": "rWc3WRD0TtVq"
      },
      "source": [
        "# Исходные данные\n",
        "\n",
        "Ознакомьтесь с данными в [источнике](https://www.kaggle.com/uciml/student-alcohol-consumption?select=student-por.csv):\n",
        "\n",
        "Если вкратце, то у вас есть 29 параметров и одна целевая переменная G3."
      ]
    },
    {
      "cell_type": "code",
      "execution_count": 54,
      "metadata": {
        "_cell_guid": "87372d85-e9ac-b3b3-c25d-33dfb357ccd8",
        "id": "pQ5OrqpATtVl"
      },
      "outputs": [],
      "source": [
        "import matplotlib.pyplot as plt\n",
        "import seaborn as sns\n",
        "import pandas as pd\n",
        "import numpy as np"
      ]
    },
    {
      "cell_type": "code",
      "execution_count": 104,
      "metadata": {
        "id": "cE9FdACVcBHd"
      },
      "outputs": [],
      "source": [
        "# Читаем данные\n",
        "df = pd.read_csv('train_features_with_answers.csv')\n",
        "# df.head()"
      ]
    },
    {
      "cell_type": "code",
      "execution_count": 105,
      "metadata": {
        "id": "i1j9Yn9Jhz-S",
        "colab": {
          "base_uri": "https://localhost:8080/"
        },
        "outputId": "f26fe56d-dd59-4fa6-a137-753c49c5bfe1"
      },
      "outputs": [
        {
          "output_type": "stream",
          "name": "stdout",
          "text": [
            "<class 'pandas.core.frame.DataFrame'>\n",
            "RangeIndex: 454 entries, 0 to 453\n",
            "Data columns (total 31 columns):\n",
            " #   Column      Non-Null Count  Dtype  \n",
            "---  ------      --------------  -----  \n",
            " 0   school      454 non-null    object \n",
            " 1   sex         454 non-null    object \n",
            " 2   age         426 non-null    float64\n",
            " 3   address     449 non-null    object \n",
            " 4   famsize     454 non-null    object \n",
            " 5   Pstatus     454 non-null    object \n",
            " 6   Medu        454 non-null    int64  \n",
            " 7   Fedu        454 non-null    int64  \n",
            " 8   Mjob        454 non-null    object \n",
            " 9   Fjob        454 non-null    object \n",
            " 10  reason      454 non-null    object \n",
            " 11  guardian    454 non-null    object \n",
            " 12  traveltime  454 non-null    int64  \n",
            " 13  studytime   454 non-null    int64  \n",
            " 14  failures    454 non-null    int64  \n",
            " 15  schoolsup   454 non-null    object \n",
            " 16  famsup      454 non-null    object \n",
            " 17  paid        454 non-null    object \n",
            " 18  activities  454 non-null    object \n",
            " 19  nursery     454 non-null    object \n",
            " 20  higher      454 non-null    object \n",
            " 21  internet    454 non-null    object \n",
            " 22  romantic    454 non-null    object \n",
            " 23  famrel      454 non-null    int64  \n",
            " 24  freetime    454 non-null    int64  \n",
            " 25  goout       454 non-null    int64  \n",
            " 26  Dalc        454 non-null    int64  \n",
            " 27  Walc        454 non-null    int64  \n",
            " 28  health      454 non-null    int64  \n",
            " 29  absences    454 non-null    int64  \n",
            " 30  G3          454 non-null    int64  \n",
            "dtypes: float64(1), int64(13), object(17)\n",
            "memory usage: 110.1+ KB\n"
          ]
        }
      ],
      "source": [
        "# Про характеристики прочитайте в источнике\n",
        "df.info()"
      ]
    },
    {
      "cell_type": "markdown",
      "metadata": {
        "_cell_guid": "daf6f291-b7aa-d184-39f8-6278cc04f0ee",
        "id": "fxkflheLTtVv"
      },
      "source": [
        "# Часть 1. Визуальный анализ данных (Exploratory Data Analysis)\n",
        "\n",
        "Перед тем, как приступать к построению алгоритмов, необходимо понять данные, с которыми требуется работать. Для этого в подходах к построению алгоритмов машинного обучения выделят специальный этап - Разведочный анализ данных или Exploratory Data Analysis (EDA). EDA в себя включает все те, что касается описания данных: визуализацию, интерпретацию и анализ.\n",
        "\n",
        "Прежде всего сделаем визуализацию данных для того, чтобы оценить диапазоны значений и виды их распределений.\n",
        "\n",
        "Постройте для приведенных ниже характеристик следующие виды графиков:\n",
        "- Гистограммы;\n",
        "- Круговые диаграмм;\n",
        "- Графики;\n",
        "- Таблицы;\n",
        "- 3D диаграммы.\n",
        "\n",
        "Выберите наиболее подходящий тип графика для каждой характеристки.\n",
        "\n",
        "__Основной критерий оценивания__ - читаемость и интерпретируемость данных."
      ]
    },
    {
      "cell_type": "markdown",
      "metadata": {
        "id": "FA0btFcmmpAG"
      },
      "source": [
        "## Характеристика: \"Sex\""
      ]
    },
    {
      "cell_type": "code",
      "execution_count": 57,
      "metadata": {
        "_cell_guid": "74f8d40e-415f-9e29-03ca-aa1e75714c11",
        "id": "QElGbkh1TtVw",
        "colab": {
          "base_uri": "https://localhost:8080/",
          "height": 586
        },
        "outputId": "a6060d4e-38a4-46ee-8b3a-21a03a1df369"
      },
      "outputs": [
        {
          "output_type": "stream",
          "name": "stdout",
          "text": [
            "sex\n",
            "F    257\n",
            "M    189\n",
            "D      5\n",
            "C      1\n",
            "B      1\n",
            "A      1\n",
            "Name: count, dtype: int64\n"
          ]
        },
        {
          "output_type": "execute_result",
          "data": {
            "text/plain": [
              "<Axes: >"
            ]
          },
          "metadata": {},
          "execution_count": 57
        },
        {
          "output_type": "display_data",
          "data": {
            "text/plain": [
              "<Figure size 640x480 with 1 Axes>"
            ],
            "image/png": "[encoded data removed]"
          },
          "metadata": {}
        }
      ],
      "source": [
        "print(df[\"sex\"].value_counts())\n",
        "df[\"sex\"].hist(grid=False, bins=50, legend=True)"
      ]
    },
    {
      "cell_type": "markdown",
      "metadata": {
        "_cell_guid": "fe453992-94f6-ae3b-b1fd-63027e71729f",
        "id": "eOkuFjVRTtVy"
      },
      "source": [
        "## Характеристика: \"Age\""
      ]
    },
    {
      "cell_type": "code",
      "execution_count": 58,
      "metadata": {
        "_cell_guid": "1051bfb6-f29e-0c40-1666-c97827578ad3",
        "id": "i9a_yujdTtVy",
        "colab": {
          "base_uri": "https://localhost:8080/",
          "height": 447
        },
        "outputId": "8de049dc-11db-45e5-eee8-bfb24b8fe05c"
      },
      "outputs": [
        {
          "output_type": "execute_result",
          "data": {
            "text/plain": [
              "<Axes: >"
            ]
          },
          "metadata": {},
          "execution_count": 58
        },
        {
          "output_type": "display_data",
          "data": {
            "text/plain": [
              "<Figure size 640x480 with 1 Axes>"
            ],
            "image/png": "[encoded data removed]"
          },
          "metadata": {}
        }
      ],
      "source": [
        "#если не обращать внимание на выбросы:\n",
        "age = df['age'][(10<= df['age']) & (df['age']<=23)]\n",
        "#если хочется посмотреть на выбросы, то надо раскоментить строку выше\n",
        "age.hist(grid=False, bins=50, legend=True)"
      ]
    },
    {
      "cell_type": "markdown",
      "metadata": {
        "_cell_guid": "7febeef3-e6b0-a18a-5705-7ee3876c1965",
        "id": "vgfL_e8lTtV0"
      },
      "source": [
        "## Характеристика: \"Weekly study time\"\n",
        ">❗🚩поправьте тут на \"studytime\", проще же будет студентам.. либо это фишка такая?   "
      ]
    },
    {
      "cell_type": "code",
      "execution_count": 59,
      "metadata": {
        "_cell_guid": "12f1d266-9efa-4bd9-a3c1-48ea880080be",
        "id": "e3UTlpoMTtV1",
        "colab": {
          "base_uri": "https://localhost:8080/",
          "height": 241
        },
        "outputId": "dd5c8efc-3c54-4adb-b91e-89006a1d62a4"
      },
      "outputs": [
        {
          "output_type": "execute_result",
          "data": {
            "text/plain": [
              "studytime\n",
              "2    213\n",
              "1    156\n",
              "3     64\n",
              "4     21\n",
              "Name: count, dtype: int64"
            ],
            "text/html": [
              "<div>\n",
              "<style scoped>\n",
              "    .dataframe tbody tr th:only-of-type {\n",
              "        vertical-align: middle;\n",
              "    }\n",
              "\n",
              "    .dataframe tbody tr th {\n",
              "        vertical-align: top;\n",
              "    }\n",
              "\n",
              "    .dataframe thead th {\n",
              "        text-align: right;\n",
              "    }\n",
              "</style>\n",
              "<table border=\"1\" class=\"dataframe\">\n",
              "  <thead>\n",
              "    <tr style=\"text-align: right;\">\n",
              "      <th></th>\n",
              "      <th>count</th>\n",
              "    </tr>\n",
              "    <tr>\n",
              "      <th>studytime</th>\n",
              "      <th></th>\n",
              "    </tr>\n",
              "  </thead>\n",
              "  <tbody>\n",
              "    <tr>\n",
              "      <th>2</th>\n",
              "      <td>213</td>\n",
              "    </tr>\n",
              "    <tr>\n",
              "      <th>1</th>\n",
              "      <td>156</td>\n",
              "    </tr>\n",
              "    <tr>\n",
              "      <th>3</th>\n",
              "      <td>64</td>\n",
              "    </tr>\n",
              "    <tr>\n",
              "      <th>4</th>\n",
              "      <td>21</td>\n",
              "    </tr>\n",
              "  </tbody>\n",
              "</table>\n",
              "</div><br><label><b>dtype:</b> int64</label>"
            ]
          },
          "metadata": {},
          "execution_count": 59
        }
      ],
      "source": [
        "df[\"studytime\"].value_counts()"
      ]
    },
    {
      "cell_type": "markdown",
      "metadata": {
        "_cell_guid": "a0732dfe-165e-3c44-319c-bb7bf890fe9b",
        "id": "QmcAzPipTtV3"
      },
      "source": [
        "## Характеристика: \"Romantic Relationship\""
      ]
    },
    {
      "cell_type": "code",
      "execution_count": 60,
      "metadata": {
        "_cell_guid": "048c1de0-e55c-6e2f-09db-1263e9fbac76",
        "id": "yICND3ynTtV3",
        "colab": {
          "base_uri": "https://localhost:8080/",
          "height": 178
        },
        "outputId": "644fdcb6-9121-402e-b078-4a03bbb6fb76"
      },
      "outputs": [
        {
          "output_type": "execute_result",
          "data": {
            "text/plain": [
              "romantic\n",
              "no     289\n",
              "yes    165\n",
              "Name: count, dtype: int64"
            ],
            "text/html": [
              "<div>\n",
              "<style scoped>\n",
              "    .dataframe tbody tr th:only-of-type {\n",
              "        vertical-align: middle;\n",
              "    }\n",
              "\n",
              "    .dataframe tbody tr th {\n",
              "        vertical-align: top;\n",
              "    }\n",
              "\n",
              "    .dataframe thead th {\n",
              "        text-align: right;\n",
              "    }\n",
              "</style>\n",
              "<table border=\"1\" class=\"dataframe\">\n",
              "  <thead>\n",
              "    <tr style=\"text-align: right;\">\n",
              "      <th></th>\n",
              "      <th>count</th>\n",
              "    </tr>\n",
              "    <tr>\n",
              "      <th>romantic</th>\n",
              "      <th></th>\n",
              "    </tr>\n",
              "  </thead>\n",
              "  <tbody>\n",
              "    <tr>\n",
              "      <th>no</th>\n",
              "      <td>289</td>\n",
              "    </tr>\n",
              "    <tr>\n",
              "      <th>yes</th>\n",
              "      <td>165</td>\n",
              "    </tr>\n",
              "  </tbody>\n",
              "</table>\n",
              "</div><br><label><b>dtype:</b> int64</label>"
            ]
          },
          "metadata": {},
          "execution_count": 60
        }
      ],
      "source": [
        "df[\"romantic\"].value_counts()"
      ]
    },
    {
      "cell_type": "markdown",
      "metadata": {
        "_cell_guid": "21ae96ef-7925-4a81-1f1d-54d4ed018ec3",
        "id": "cJTillXMTtV5"
      },
      "source": [
        "## Характеристика: \"Alcohol Consumption\""
      ]
    },
    {
      "cell_type": "code",
      "execution_count": 61,
      "metadata": {
        "id": "e4KynL-GnIrc",
        "colab": {
          "base_uri": "https://localhost:8080/",
          "height": 447
        },
        "outputId": "faa0948b-5509-4170-818e-2c12de386af4"
      },
      "outputs": [
        {
          "output_type": "execute_result",
          "data": {
            "text/plain": [
              "<Axes: >"
            ]
          },
          "metadata": {},
          "execution_count": 61
        },
        {
          "output_type": "display_data",
          "data": {
            "text/plain": [
              "<Figure size 640x480 with 1 Axes>"
            ],
            "image/png": "[encoded data removed]"
          },
          "metadata": {}
        }
      ],
      "source": [
        "df[\"Walc\"].hist(grid=False, bins=50, legend=True)"
      ]
    },
    {
      "cell_type": "markdown",
      "metadata": {
        "_cell_guid": "21ae96ef-7925-4a81-1f1d-54d4ed018ec3",
        "id": "JL7MDeVBnDBw"
      },
      "source": [
        "## Целевая зависимость: \"G3\" (Final Grade)"
      ]
    },
    {
      "cell_type": "code",
      "execution_count": 62,
      "metadata": {
        "id": "Fshy5JYdTgyr",
        "colab": {
          "base_uri": "https://localhost:8080/",
          "height": 466
        },
        "outputId": "d93009da-485a-4469-feec-c87e0583b8a4"
      },
      "outputs": [
        {
          "output_type": "execute_result",
          "data": {
            "text/plain": [
              "<Axes: xlabel='G3', ylabel='Density'>"
            ]
          },
          "metadata": {},
          "execution_count": 62
        },
        {
          "output_type": "display_data",
          "data": {
            "text/plain": [
              "<Figure size 640x480 with 1 Axes>"
            ],
            "image/png": "[encoded data removed]"
          },
          "metadata": {}
        }
      ],
      "source": [
        "sns.kdeplot(df[\"G3\"])"
      ]
    },
    {
      "cell_type": "markdown",
      "metadata": {
        "id": "HyR-ETD6Tgys"
      },
      "source": [
        "## Прочие характеристики\n",
        "\n",
        "Прочитайте описание данных на [сайте](https://www.kaggle.com/uciml/student-alcohol-consumption) и подумайте, какие еще характеристики было бы полезно проанализировать. Постройте соответсвующие графики для выбранных характеристик.\n",
        "\n",
        "Постройте графики еще для минимум 4 характеристик: числовая (2) и категориальная (2), применив хотя бы один раз:\n",
        "- pieplot\n",
        "- boxplot\n",
        "- violinplot"
      ]
    },
    {
      "cell_type": "markdown",
      "source": [
        "### usefull"
      ],
      "metadata": {
        "id": "6JbSDRkrXsb3"
      }
    },
    {
      "cell_type": "code",
      "execution_count": 63,
      "metadata": {
        "id": "zYBWdQKjnDB1",
        "colab": {
          "base_uri": "https://localhost:8080/",
          "height": 272
        },
        "outputId": "549fd7c4-ac9d-4233-ac4d-327724c31f9f"
      },
      "outputs": [
        {
          "output_type": "execute_result",
          "data": {
            "text/plain": [
              "health\n",
              "5    175\n",
              "3     85\n",
              "4     76\n",
              "1     62\n",
              "2     56\n",
              "Name: count, dtype: int64"
            ],
            "text/html": [
              "<div>\n",
              "<style scoped>\n",
              "    .dataframe tbody tr th:only-of-type {\n",
              "        vertical-align: middle;\n",
              "    }\n",
              "\n",
              "    .dataframe tbody tr th {\n",
              "        vertical-align: top;\n",
              "    }\n",
              "\n",
              "    .dataframe thead th {\n",
              "        text-align: right;\n",
              "    }\n",
              "</style>\n",
              "<table border=\"1\" class=\"dataframe\">\n",
              "  <thead>\n",
              "    <tr style=\"text-align: right;\">\n",
              "      <th></th>\n",
              "      <th>count</th>\n",
              "    </tr>\n",
              "    <tr>\n",
              "      <th>health</th>\n",
              "      <th></th>\n",
              "    </tr>\n",
              "  </thead>\n",
              "  <tbody>\n",
              "    <tr>\n",
              "      <th>5</th>\n",
              "      <td>175</td>\n",
              "    </tr>\n",
              "    <tr>\n",
              "      <th>3</th>\n",
              "      <td>85</td>\n",
              "    </tr>\n",
              "    <tr>\n",
              "      <th>4</th>\n",
              "      <td>76</td>\n",
              "    </tr>\n",
              "    <tr>\n",
              "      <th>1</th>\n",
              "      <td>62</td>\n",
              "    </tr>\n",
              "    <tr>\n",
              "      <th>2</th>\n",
              "      <td>56</td>\n",
              "    </tr>\n",
              "  </tbody>\n",
              "</table>\n",
              "</div><br><label><b>dtype:</b> int64</label>"
            ]
          },
          "metadata": {},
          "execution_count": 63
        }
      ],
      "source": [
        "df[\"health\"].value_counts()"
      ]
    },
    {
      "cell_type": "code",
      "source": [
        "df[\"goout\"].value_counts()"
      ],
      "metadata": {
        "colab": {
          "base_uri": "https://localhost:8080/",
          "height": 272
        },
        "id": "5cv7TmPWXySH",
        "outputId": "b73342ae-aac0-4790-9edc-d36994ec6f5f"
      },
      "execution_count": 64,
      "outputs": [
        {
          "output_type": "execute_result",
          "data": {
            "text/plain": [
              "goout\n",
              "3    141\n",
              "2    105\n",
              "4     94\n",
              "5     85\n",
              "1     29\n",
              "Name: count, dtype: int64"
            ],
            "text/html": [
              "<div>\n",
              "<style scoped>\n",
              "    .dataframe tbody tr th:only-of-type {\n",
              "        vertical-align: middle;\n",
              "    }\n",
              "\n",
              "    .dataframe tbody tr th {\n",
              "        vertical-align: top;\n",
              "    }\n",
              "\n",
              "    .dataframe thead th {\n",
              "        text-align: right;\n",
              "    }\n",
              "</style>\n",
              "<table border=\"1\" class=\"dataframe\">\n",
              "  <thead>\n",
              "    <tr style=\"text-align: right;\">\n",
              "      <th></th>\n",
              "      <th>count</th>\n",
              "    </tr>\n",
              "    <tr>\n",
              "      <th>goout</th>\n",
              "      <th></th>\n",
              "    </tr>\n",
              "  </thead>\n",
              "  <tbody>\n",
              "    <tr>\n",
              "      <th>3</th>\n",
              "      <td>141</td>\n",
              "    </tr>\n",
              "    <tr>\n",
              "      <th>2</th>\n",
              "      <td>105</td>\n",
              "    </tr>\n",
              "    <tr>\n",
              "      <th>4</th>\n",
              "      <td>94</td>\n",
              "    </tr>\n",
              "    <tr>\n",
              "      <th>5</th>\n",
              "      <td>85</td>\n",
              "    </tr>\n",
              "    <tr>\n",
              "      <th>1</th>\n",
              "      <td>29</td>\n",
              "    </tr>\n",
              "  </tbody>\n",
              "</table>\n",
              "</div><br><label><b>dtype:</b> int64</label>"
            ]
          },
          "metadata": {},
          "execution_count": 64
        }
      ]
    },
    {
      "cell_type": "markdown",
      "source": [
        "###4 more\n"
      ],
      "metadata": {
        "id": "rPT6V9gSX_Yv"
      }
    },
    {
      "cell_type": "markdown",
      "source": [
        "categorical"
      ],
      "metadata": {
        "id": "CoSjJ8pKZnu_"
      }
    },
    {
      "cell_type": "code",
      "source": [
        "reason = df[\"reason\"].value_counts()\n",
        "plt.pie(np.array(reason), labels=np.array(reason.index))\n",
        "plt.title(\"Reason to choose this school\")\n",
        "plt.show()"
      ],
      "metadata": {
        "colab": {
          "base_uri": "https://localhost:8080/",
          "height": 428
        },
        "id": "IJJq-7HeYCtA",
        "outputId": "e9a80dc8-09bd-4399-e2cf-483c039b12a2"
      },
      "execution_count": 65,
      "outputs": [
        {
          "output_type": "display_data",
          "data": {
            "text/plain": [
              "<Figure size 640x480 with 1 Axes>"
            ],
            "image/png": "[encoded data removed]"
          },
          "metadata": {}
        }
      ]
    },
    {
      "cell_type": "code",
      "source": [
        "guardian = df[\"guardian\"].value_counts()\n",
        "plt.pie(np.array(guardian), labels=np.array(guardian.index))\n",
        "plt.title(\"student's guardian\")\n",
        "plt.show()"
      ],
      "metadata": {
        "colab": {
          "base_uri": "https://localhost:8080/",
          "height": 428
        },
        "id": "gWjwbSSAYCvB",
        "outputId": "e7b758ac-ec21-4230-b426-810055a3285a"
      },
      "execution_count": 66,
      "outputs": [
        {
          "output_type": "display_data",
          "data": {
            "text/plain": [
              "<Figure size 640x480 with 1 Axes>"
            ],
            "image/png": "[encoded data removed]"
          },
          "metadata": {}
        }
      ]
    },
    {
      "cell_type": "markdown",
      "source": [
        "numeric"
      ],
      "metadata": {
        "id": "JnA-h3A4Zu8-"
      }
    },
    {
      "cell_type": "code",
      "source": [
        "sns.boxplot(x=df[\"failures\"], y=df[\"G3\"])"
      ],
      "metadata": {
        "colab": {
          "base_uri": "https://localhost:8080/",
          "height": 466
        },
        "id": "wanTR9iRZztb",
        "outputId": "ad061554-1550-41d7-bf23-3862f37c790e"
      },
      "execution_count": 67,
      "outputs": [
        {
          "output_type": "execute_result",
          "data": {
            "text/plain": [
              "<Axes: xlabel='failures', ylabel='G3'>"
            ]
          },
          "metadata": {},
          "execution_count": 67
        },
        {
          "output_type": "display_data",
          "data": {
            "text/plain": [
              "<Figure size 640x480 with 1 Axes>"
            ],
            "image/png": "[encoded data removed]"
          },
          "metadata": {}
        }
      ]
    },
    {
      "cell_type": "code",
      "source": [
        "sns.violinplot(x=df[\"freetime\"], y=df[\"G3\"])"
      ],
      "metadata": {
        "colab": {
          "base_uri": "https://localhost:8080/",
          "height": 466
        },
        "id": "ezlzNvqKZzvK",
        "outputId": "b5aee6fe-078c-42ec-ddc5-11c5b96f3ee7"
      },
      "execution_count": 68,
      "outputs": [
        {
          "output_type": "execute_result",
          "data": {
            "text/plain": [
              "<Axes: xlabel='freetime', ylabel='G3'>"
            ]
          },
          "metadata": {},
          "execution_count": 68
        },
        {
          "output_type": "display_data",
          "data": {
            "text/plain": [
              "<Figure size 640x480 with 1 Axes>"
            ],
            "image/png": "[encoded data removed]"
          },
          "metadata": {}
        }
      ]
    },
    {
      "cell_type": "markdown",
      "metadata": {
        "_cell_guid": "21ae96ef-7925-4a81-1f1d-54d4ed018ec3",
        "id": "dDiTs21MnRYu"
      },
      "source": [
        "## Корреляция признаков\n",
        "\n",
        "Для того, чтобы быстро получить оценку о взаимосвязи признаков целесообразно построить матрицу их корреляции. Постройте матрицу корреляции."
      ]
    },
    {
      "cell_type": "code",
      "source": [
        "df1 = df.drop([\"school\", \"sex\", \"address\", \"famsize\", \"Pstatus\",\n",
        "               \"Mjob\", \"Fjob\", \"reason\",\"guardian\",\n",
        "               \"schoolsup\", \"famsup\", \"schoolsup\", \"paid\", \"activities\",\n",
        "               \"nursery\", \"higher\", \"internet\", \"romantic\"], axis=1)"
      ],
      "metadata": {
        "id": "8y3MgYxjcvaq"
      },
      "execution_count": 69,
      "outputs": []
    },
    {
      "cell_type": "code",
      "execution_count": 70,
      "metadata": {
        "id": "KagTTs4mnRYv",
        "colab": {
          "base_uri": "https://localhost:8080/",
          "height": 510
        },
        "outputId": "678e96df-7d2c-4f86-cbae-5deaa9465702"
      },
      "outputs": [
        {
          "output_type": "execute_result",
          "data": {
            "text/plain": [
              "<Axes: >"
            ]
          },
          "metadata": {},
          "execution_count": 70
        },
        {
          "output_type": "display_data",
          "data": {
            "text/plain": [
              "<Figure size 640x480 with 2 Axes>"
            ],
            "image/png": "[encoded data removed]"
          },
          "metadata": {}
        }
      ],
      "source": [
        "sns.heatmap(df1.corr(), vmin=-1, vmax=1, center= 0, cmap= 'coolwarm', linewidths=1, linecolor='black')"
      ]
    },
    {
      "cell_type": "markdown",
      "metadata": {
        "id": "Uamr3aOOSVo4"
      },
      "source": [
        "## Посчитайте корреляцию Спирмана и нарисуйте ее в виде тепловой карты"
      ]
    },
    {
      "cell_type": "markdown",
      "metadata": {
        "_cell_guid": "21ae96ef-7925-4a81-1f1d-54d4ed018ec3",
        "id": "HU8fL_6GtGWV"
      },
      "source": [
        "## Диапазон значений характеристик\n",
        "\n",
        "Посчитайте число уникальных значений для каждого признака и сравните их между собой."
      ]
    },
    {
      "cell_type": "code",
      "execution_count": 71,
      "metadata": {
        "id": "MnBcttm5tGWW",
        "colab": {
          "base_uri": "https://localhost:8080/"
        },
        "outputId": "0c93f839-9c19-4998-eb81-eb8527a3e6e4"
      },
      "outputs": [
        {
          "output_type": "stream",
          "name": "stdout",
          "text": [
            "school 2\n",
            "sex 6\n",
            "age 16\n",
            "address 2\n",
            "famsize 2\n",
            "Pstatus 2\n",
            "Medu 5\n",
            "Fedu 5\n",
            "Mjob 5\n",
            "Fjob 5\n",
            "reason 4\n",
            "guardian 3\n",
            "traveltime 4\n",
            "studytime 4\n",
            "failures 4\n",
            "schoolsup 2\n",
            "famsup 2\n",
            "paid 2\n",
            "activities 2\n",
            "nursery 2\n",
            "higher 2\n",
            "internet 2\n",
            "romantic 2\n",
            "famrel 5\n",
            "freetime 5\n",
            "goout 5\n",
            "Dalc 5\n",
            "Walc 5\n",
            "health 5\n",
            "absences 22\n",
            "G3 17\n"
          ]
        }
      ],
      "source": [
        "for col in df.columns:\n",
        "    print(col, df[col].nunique())"
      ]
    },
    {
      "cell_type": "code",
      "execution_count": 71,
      "metadata": {
        "id": "UbcS5K4kUI7L"
      },
      "outputs": [],
      "source": []
    },
    {
      "cell_type": "markdown",
      "metadata": {
        "id": "p_mf61fgSVo5"
      },
      "source": [
        "## Найдите соотношение мужского и женского пола для самых выскоих оценок (G3) из датасета, у которых время на дорогу больше, чем 30 минут. Нарисуйте это соотношение на круговой диаграмме"
      ]
    },
    {
      "cell_type": "code",
      "source": [
        "df[(df[\"G3\"]>=12) & (df[\"traveltime\"]>=3)].groupby(\"G3\")[\"sex\"].value_counts()\n",
        "# с кругами возиться тут сильно впадлу, простите😢"
      ],
      "metadata": {
        "colab": {
          "base_uri": "https://localhost:8080/",
          "height": 429
        },
        "id": "dwHvSPeZfbbW",
        "outputId": "e9c5e17b-ff8b-42b1-91ed-8560839ad388"
      },
      "execution_count": 72,
      "outputs": [
        {
          "output_type": "execute_result",
          "data": {
            "text/plain": [
              "G3  sex\n",
              "12  F      1\n",
              "    M      1\n",
              "13  F      4\n",
              "    M      2\n",
              "14  F      3\n",
              "    M      3\n",
              "15  F      1\n",
              "16  F      2\n",
              "    M      1\n",
              "18  F      1\n",
              "Name: count, dtype: int64"
            ],
            "text/html": [
              "<div>\n",
              "<style scoped>\n",
              "    .dataframe tbody tr th:only-of-type {\n",
              "        vertical-align: middle;\n",
              "    }\n",
              "\n",
              "    .dataframe tbody tr th {\n",
              "        vertical-align: top;\n",
              "    }\n",
              "\n",
              "    .dataframe thead th {\n",
              "        text-align: right;\n",
              "    }\n",
              "</style>\n",
              "<table border=\"1\" class=\"dataframe\">\n",
              "  <thead>\n",
              "    <tr style=\"text-align: right;\">\n",
              "      <th></th>\n",
              "      <th></th>\n",
              "      <th>count</th>\n",
              "    </tr>\n",
              "    <tr>\n",
              "      <th>G3</th>\n",
              "      <th>sex</th>\n",
              "      <th></th>\n",
              "    </tr>\n",
              "  </thead>\n",
              "  <tbody>\n",
              "    <tr>\n",
              "      <th rowspan=\"2\" valign=\"top\">12</th>\n",
              "      <th>F</th>\n",
              "      <td>1</td>\n",
              "    </tr>\n",
              "    <tr>\n",
              "      <th>M</th>\n",
              "      <td>1</td>\n",
              "    </tr>\n",
              "    <tr>\n",
              "      <th rowspan=\"2\" valign=\"top\">13</th>\n",
              "      <th>F</th>\n",
              "      <td>4</td>\n",
              "    </tr>\n",
              "    <tr>\n",
              "      <th>M</th>\n",
              "      <td>2</td>\n",
              "    </tr>\n",
              "    <tr>\n",
              "      <th rowspan=\"2\" valign=\"top\">14</th>\n",
              "      <th>F</th>\n",
              "      <td>3</td>\n",
              "    </tr>\n",
              "    <tr>\n",
              "      <th>M</th>\n",
              "      <td>3</td>\n",
              "    </tr>\n",
              "    <tr>\n",
              "      <th>15</th>\n",
              "      <th>F</th>\n",
              "      <td>1</td>\n",
              "    </tr>\n",
              "    <tr>\n",
              "      <th rowspan=\"2\" valign=\"top\">16</th>\n",
              "      <th>F</th>\n",
              "      <td>2</td>\n",
              "    </tr>\n",
              "    <tr>\n",
              "      <th>M</th>\n",
              "      <td>1</td>\n",
              "    </tr>\n",
              "    <tr>\n",
              "      <th>18</th>\n",
              "      <th>F</th>\n",
              "      <td>1</td>\n",
              "    </tr>\n",
              "  </tbody>\n",
              "</table>\n",
              "</div><br><label><b>dtype:</b> int64</label>"
            ]
          },
          "metadata": {},
          "execution_count": 72
        }
      ]
    },
    {
      "cell_type": "code",
      "execution_count": 72,
      "metadata": {
        "id": "Q_GM66scSVo5"
      },
      "outputs": [],
      "source": []
    },
    {
      "cell_type": "markdown",
      "metadata": {
        "id": "hw0rZvP0SVo5"
      },
      "source": [
        "## Построить boxplot для оценок по возрасту.  "
      ]
    },
    {
      "cell_type": "code",
      "execution_count": 73,
      "metadata": {
        "id": "2auancXdSVo5",
        "colab": {
          "base_uri": "https://localhost:8080/",
          "height": 466
        },
        "outputId": "e5fbf6b1-648e-4bef-fb5d-941e5c810aaf"
      },
      "outputs": [
        {
          "output_type": "execute_result",
          "data": {
            "text/plain": [
              "<Axes: xlabel='age', ylabel='G3'>"
            ]
          },
          "metadata": {},
          "execution_count": 73
        },
        {
          "output_type": "display_data",
          "data": {
            "text/plain": [
              "<Figure size 640x480 with 1 Axes>"
            ],
            "image/png": "[encoded data removed]"
          },
          "metadata": {}
        }
      ],
      "source": [
        "sns.boxplot(x=df[\"age\"], y=df[\"G3\"])"
      ]
    },
    {
      "cell_type": "markdown",
      "metadata": {
        "id": "wCL9MGy8SVo5"
      },
      "source": [
        "## Найти id топ-5 самых юных отличников."
      ]
    },
    {
      "cell_type": "code",
      "execution_count": 74,
      "metadata": {
        "id": "TkhnGJ1iSVo5",
        "colab": {
          "base_uri": "https://localhost:8080/"
        },
        "outputId": "40d7b7fb-5bae-4969-8729-156881d7c0fd"
      },
      "outputs": [
        {
          "output_type": "execute_result",
          "data": {
            "text/plain": [
              "Index([249, 50, 109, 112, 197], dtype='int64')"
            ]
          },
          "metadata": {},
          "execution_count": 74
        }
      ],
      "source": [
        "# top_5_young = df.groupby('year').apply(lambda x: x.nsmallest(5, 'duration_ms')).reset_index(drop=True)\n",
        "df[[\"age\", \"G3\"]][df[\"G3\"]>14].nsmallest(n=5, columns='age').index"
      ]
    },
    {
      "cell_type": "markdown",
      "metadata": {
        "id": "9UPBcWBUSVo6"
      },
      "source": [
        "## Для каждого возраста найдите максимальную и минимальную оценку (G3)"
      ]
    },
    {
      "cell_type": "code",
      "execution_count": 75,
      "metadata": {
        "id": "FIJ5B35ySVo6",
        "colab": {
          "base_uri": "https://localhost:8080/",
          "height": 582
        },
        "outputId": "18cceceb-a609-4964-e81d-2f9a175cacd7"
      },
      "outputs": [
        {
          "output_type": "execute_result",
          "data": {
            "text/plain": [
              "        G3  G3\n",
              "age           \n",
              "-1.0    17  17\n",
              " 1.0    11  11\n",
              " 5.0     9   9\n",
              " 8.0     9   9\n",
              " 15.0   18   8\n",
              " 16.0   18   1\n",
              " 17.0   19   0\n",
              " 18.0   17   0\n",
              " 19.0   13   0\n",
              " 20.0   15  10\n",
              " 21.0   12  10\n",
              " 22.0    5   5\n",
              " 116.0   0   0\n",
              " 151.0  11  11\n",
              " 161.0  13  13\n",
              " 181.0  17  17"
            ],
            "text/html": [
              "\n",
              "  <div id=\"df-c1767f20-00a4-4be7-9b9d-4c3646b6e165\" class=\"colab-df-container\">\n",
              "    <div>\n",
              "<style scoped>\n",
              "    .dataframe tbody tr th:only-of-type {\n",
              "        vertical-align: middle;\n",
              "    }\n",
              "\n",
              "    .dataframe tbody tr th {\n",
              "        vertical-align: top;\n",
              "    }\n",
              "\n",
              "    .dataframe thead th {\n",
              "        text-align: right;\n",
              "    }\n",
              "</style>\n",
              "<table border=\"1\" class=\"dataframe\">\n",
              "  <thead>\n",
              "    <tr style=\"text-align: right;\">\n",
              "      <th></th>\n",
              "      <th>G3</th>\n",
              "      <th>G3</th>\n",
              "    </tr>\n",
              "    <tr>\n",
              "      <th>age</th>\n",
              "      <th></th>\n",
              "      <th></th>\n",
              "    </tr>\n",
              "  </thead>\n",
              "  <tbody>\n",
              "    <tr>\n",
              "      <th>-1.0</th>\n",
              "      <td>17</td>\n",
              "      <td>17</td>\n",
              "    </tr>\n",
              "    <tr>\n",
              "      <th>1.0</th>\n",
              "      <td>11</td>\n",
              "      <td>11</td>\n",
              "    </tr>\n",
              "    <tr>\n",
              "      <th>5.0</th>\n",
              "      <td>9</td>\n",
              "      <td>9</td>\n",
              "    </tr>\n",
              "    <tr>\n",
              "      <th>8.0</th>\n",
              "      <td>9</td>\n",
              "      <td>9</td>\n",
              "    </tr>\n",
              "    <tr>\n",
              "      <th>15.0</th>\n",
              "      <td>18</td>\n",
              "      <td>8</td>\n",
              "    </tr>\n",
              "    <tr>\n",
              "      <th>16.0</th>\n",
              "      <td>18</td>\n",
              "      <td>1</td>\n",
              "    </tr>\n",
              "    <tr>\n",
              "      <th>17.0</th>\n",
              "      <td>19</td>\n",
              "      <td>0</td>\n",
              "    </tr>\n",
              "    <tr>\n",
              "      <th>18.0</th>\n",
              "      <td>17</td>\n",
              "      <td>0</td>\n",
              "    </tr>\n",
              "    <tr>\n",
              "      <th>19.0</th>\n",
              "      <td>13</td>\n",
              "      <td>0</td>\n",
              "    </tr>\n",
              "    <tr>\n",
              "      <th>20.0</th>\n",
              "      <td>15</td>\n",
              "      <td>10</td>\n",
              "    </tr>\n",
              "    <tr>\n",
              "      <th>21.0</th>\n",
              "      <td>12</td>\n",
              "      <td>10</td>\n",
              "    </tr>\n",
              "    <tr>\n",
              "      <th>22.0</th>\n",
              "      <td>5</td>\n",
              "      <td>5</td>\n",
              "    </tr>\n",
              "    <tr>\n",
              "      <th>116.0</th>\n",
              "      <td>0</td>\n",
              "      <td>0</td>\n",
              "    </tr>\n",
              "    <tr>\n",
              "      <th>151.0</th>\n",
              "      <td>11</td>\n",
              "      <td>11</td>\n",
              "    </tr>\n",
              "    <tr>\n",
              "      <th>161.0</th>\n",
              "      <td>13</td>\n",
              "      <td>13</td>\n",
              "    </tr>\n",
              "    <tr>\n",
              "      <th>181.0</th>\n",
              "      <td>17</td>\n",
              "      <td>17</td>\n",
              "    </tr>\n",
              "  </tbody>\n",
              "</table>\n",
              "</div>\n",
              "    <div class=\"colab-df-buttons\">\n",
              "\n",
              "  <div class=\"colab-df-container\">\n",
              "    <button class=\"colab-df-convert\" onclick=\"convertToInteractive('df-c1767f20-00a4-4be7-9b9d-4c3646b6e165')\"\n",
              "            title=\"Convert this dataframe to an interactive table.\"\n",
              "            style=\"display:none;\">\n",
              "\n",
              "  <svg xmlns=\"http://www.w3.org/2000/svg\" height=\"24px\" viewBox=\"0 -960 960 960\">\n",
              "    <path d=\"M120-120v-720h720v720H120Zm60-500h600v-160H180v160Zm220 220h160v-160H400v160Zm0 220h160v-160H400v160ZM180-400h160v-160H180v160Zm440 0h160v-160H620v160ZM180-180h160v-160H180v160Zm440 0h160v-160H620v160Z\"/>\n",
              "  </svg>\n",
              "    </button>\n",
              "\n",
              "  <style>\n",
              "    .colab-df-container {\n",
              "      display:flex;\n",
              "      gap: 12px;\n",
              "    }\n",
              "\n",
              "    .colab-df-convert {\n",
              "      background-color: #E8F0FE;\n",
              "      border: none;\n",
              "      border-radius: 50%;\n",
              "      cursor: pointer;\n",
              "      display: none;\n",
              "      fill: #1967D2;\n",
              "      height: 32px;\n",
              "      padding: 0 0 0 0;\n",
              "      width: 32px;\n",
              "    }\n",
              "\n",
              "    .colab-df-convert:hover {\n",
              "      background-color: #E2EBFA;\n",
              "      box-shadow: 0px 1px 2px rgba(60, 64, 67, 0.3), 0px 1px 3px 1px rgba(60, 64, 67, 0.15);\n",
              "      fill: #174EA6;\n",
              "    }\n",
              "\n",
              "    .colab-df-buttons div {\n",
              "      margin-bottom: 4px;\n",
              "    }\n",
              "\n",
              "    [theme=dark] .colab-df-convert {\n",
              "      background-color: #3B4455;\n",
              "      fill: #D2E3FC;\n",
              "    }\n",
              "\n",
              "    [theme=dark] .colab-df-convert:hover {\n",
              "      background-color: #434B5C;\n",
              "      box-shadow: 0px 1px 3px 1px rgba(0, 0, 0, 0.15);\n",
              "      filter: drop-shadow(0px 1px 2px rgba(0, 0, 0, 0.3));\n",
              "      fill: #FFFFFF;\n",
              "    }\n",
              "  </style>\n",
              "\n",
              "    <script>\n",
              "      const buttonEl =\n",
              "        document.querySelector('#df-c1767f20-00a4-4be7-9b9d-4c3646b6e165 button.colab-df-convert');\n",
              "      buttonEl.style.display =\n",
              "        google.colab.kernel.accessAllowed ? 'block' : 'none';\n",
              "\n",
              "      async function convertToInteractive(key) {\n",
              "        const element = document.querySelector('#df-c1767f20-00a4-4be7-9b9d-4c3646b6e165');\n",
              "        const dataTable =\n",
              "          await google.colab.kernel.invokeFunction('convertToInteractive',\n",
              "                                                    [key], {});\n",
              "        if (!dataTable) return;\n",
              "\n",
              "        const docLinkHtml = 'Like what you see? Visit the ' +\n",
              "          '<a target=\"_blank\" href=https://colab.research.google.com/notebooks/data_table.ipynb>data table notebook</a>'\n",
              "          + ' to learn more about interactive tables.';\n",
              "        element.innerHTML = '';\n",
              "        dataTable['output_type'] = 'display_data';\n",
              "        await google.colab.output.renderOutput(dataTable, element);\n",
              "        const docLink = document.createElement('div');\n",
              "        docLink.innerHTML = docLinkHtml;\n",
              "        element.appendChild(docLink);\n",
              "      }\n",
              "    </script>\n",
              "  </div>\n",
              "\n",
              "\n",
              "<div id=\"df-d8e03f40-ebdd-46bc-9f0e-04a8f11979b5\">\n",
              "  <button class=\"colab-df-quickchart\" onclick=\"quickchart('df-d8e03f40-ebdd-46bc-9f0e-04a8f11979b5')\"\n",
              "            title=\"Suggest charts\"\n",
              "            style=\"display:none;\">\n",
              "\n",
              "<svg xmlns=\"http://www.w3.org/2000/svg\" height=\"24px\"viewBox=\"0 0 24 24\"\n",
              "     width=\"24px\">\n",
              "    <g>\n",
              "        <path d=\"M19 3H5c-1.1 0-2 .9-2 2v14c0 1.1.9 2 2 2h14c1.1 0 2-.9 2-2V5c0-1.1-.9-2-2-2zM9 17H7v-7h2v7zm4 0h-2V7h2v10zm4 0h-2v-4h2v4z\"/>\n",
              "    </g>\n",
              "</svg>\n",
              "  </button>\n",
              "\n",
              "<style>\n",
              "  .colab-df-quickchart {\n",
              "      --bg-color: #E8F0FE;\n",
              "      --fill-color: #1967D2;\n",
              "      --hover-bg-color: #E2EBFA;\n",
              "      --hover-fill-color: #174EA6;\n",
              "      --disabled-fill-color: #AAA;\n",
              "      --disabled-bg-color: #DDD;\n",
              "  }\n",
              "\n",
              "  [theme=dark] .colab-df-quickchart {\n",
              "      --bg-color: #3B4455;\n",
              "      --fill-color: #D2E3FC;\n",
              "      --hover-bg-color: #434B5C;\n",
              "      --hover-fill-color: #FFFFFF;\n",
              "      --disabled-bg-color: #3B4455;\n",
              "      --disabled-fill-color: #666;\n",
              "  }\n",
              "\n",
              "  .colab-df-quickchart {\n",
              "    background-color: var(--bg-color);\n",
              "    border: none;\n",
              "    border-radius: 50%;\n",
              "    cursor: pointer;\n",
              "    display: none;\n",
              "    fill: var(--fill-color);\n",
              "    height: 32px;\n",
              "    padding: 0;\n",
              "    width: 32px;\n",
              "  }\n",
              "\n",
              "  .colab-df-quickchart:hover {\n",
              "    background-color: var(--hover-bg-color);\n",
              "    box-shadow: 0 1px 2px rgba(60, 64, 67, 0.3), 0 1px 3px 1px rgba(60, 64, 67, 0.15);\n",
              "    fill: var(--button-hover-fill-color);\n",
              "  }\n",
              "\n",
              "  .colab-df-quickchart-complete:disabled,\n",
              "  .colab-df-quickchart-complete:disabled:hover {\n",
              "    background-color: var(--disabled-bg-color);\n",
              "    fill: var(--disabled-fill-color);\n",
              "    box-shadow: none;\n",
              "  }\n",
              "\n",
              "  .colab-df-spinner {\n",
              "    border: 2px solid var(--fill-color);\n",
              "    border-color: transparent;\n",
              "    border-bottom-color: var(--fill-color);\n",
              "    animation:\n",
              "      spin 1s steps(1) infinite;\n",
              "  }\n",
              "\n",
              "  @keyframes spin {\n",
              "    0% {\n",
              "      border-color: transparent;\n",
              "      border-bottom-color: var(--fill-color);\n",
              "      border-left-color: var(--fill-color);\n",
              "    }\n",
              "    20% {\n",
              "      border-color: transparent;\n",
              "      border-left-color: var(--fill-color);\n",
              "      border-top-color: var(--fill-color);\n",
              "    }\n",
              "    30% {\n",
              "      border-color: transparent;\n",
              "      border-left-color: var(--fill-color);\n",
              "      border-top-color: var(--fill-color);\n",
              "      border-right-color: var(--fill-color);\n",
              "    }\n",
              "    40% {\n",
              "      border-color: transparent;\n",
              "      border-right-color: var(--fill-color);\n",
              "      border-top-color: var(--fill-color);\n",
              "    }\n",
              "    60% {\n",
              "      border-color: transparent;\n",
              "      border-right-color: var(--fill-color);\n",
              "    }\n",
              "    80% {\n",
              "      border-color: transparent;\n",
              "      border-right-color: var(--fill-color);\n",
              "      border-bottom-color: var(--fill-color);\n",
              "    }\n",
              "    90% {\n",
              "      border-color: transparent;\n",
              "      border-bottom-color: var(--fill-color);\n",
              "    }\n",
              "  }\n",
              "</style>\n",
              "\n",
              "  <script>\n",
              "    async function quickchart(key) {\n",
              "      const quickchartButtonEl =\n",
              "        document.querySelector('#' + key + ' button');\n",
              "      quickchartButtonEl.disabled = true;  // To prevent multiple clicks.\n",
              "      quickchartButtonEl.classList.add('colab-df-spinner');\n",
              "      try {\n",
              "        const charts = await google.colab.kernel.invokeFunction(\n",
              "            'suggestCharts', [key], {});\n",
              "      } catch (error) {\n",
              "        console.error('Error during call to suggestCharts:', error);\n",
              "      }\n",
              "      quickchartButtonEl.classList.remove('colab-df-spinner');\n",
              "      quickchartButtonEl.classList.add('colab-df-quickchart-complete');\n",
              "    }\n",
              "    (() => {\n",
              "      let quickchartButtonEl =\n",
              "        document.querySelector('#df-d8e03f40-ebdd-46bc-9f0e-04a8f11979b5 button');\n",
              "      quickchartButtonEl.style.display =\n",
              "        google.colab.kernel.accessAllowed ? 'block' : 'none';\n",
              "    })();\n",
              "  </script>\n",
              "</div>\n",
              "    </div>\n",
              "  </div>\n"
            ],
            "application/vnd.google.colaboratory.intrinsic+json": {
              "type": "dataframe",
              "summary": "{\n  \"name\": \"pd\",\n  \"rows\": 16,\n  \"fields\": [\n    {\n      \"column\": \"age\",\n      \"properties\": {\n        \"dtype\": \"number\",\n        \"std\": 63.641574461982,\n        \"min\": -1.0,\n        \"max\": 181.0,\n        \"num_unique_values\": 16,\n        \"samples\": [\n          -1.0,\n          1.0,\n          16.0\n        ],\n        \"semantic_type\": \"\",\n        \"description\": \"\"\n      }\n    },\n    {\n      \"column\": \"G3\",\n      \"properties\": {\n        \"dtype\": \"number\",\n        \"std\": 5,\n        \"min\": 0,\n        \"max\": 19,\n        \"num_unique_values\": 10,\n        \"samples\": [\n          5,\n          11,\n          13\n        ],\n        \"semantic_type\": \"\",\n        \"description\": \"\"\n      }\n    },\n    {\n      \"column\": \"G3\",\n      \"properties\": {\n        \"dtype\": \"number\",\n        \"std\": 5,\n        \"min\": 0,\n        \"max\": 17,\n        \"num_unique_values\": 9,\n        \"samples\": [\n          5,\n          11,\n          0\n        ],\n        \"semantic_type\": \"\",\n        \"description\": \"\"\n      }\n    }\n  ]\n}"
            }
          },
          "metadata": {},
          "execution_count": 75
        }
      ],
      "source": [
        "pd.concat([df.groupby(\"age\")[\"G3\"].max(), df.groupby(\"age\")[\"G3\"].min()], axis=1)"
      ]
    },
    {
      "cell_type": "markdown",
      "metadata": {
        "_cell_guid": "0e9fb698-c819-074d-26ee-7a6afe00ad62",
        "id": "ZnrLrANOTtWC"
      },
      "source": [
        "# Часть 2. Предобработка данных\n",
        "\n",
        "Теперь перейдем к подготовке данных для моделей машинного обучения. Не все из описанного ниже нужно делать. Подумайте."
      ]
    },
    {
      "cell_type": "code",
      "execution_count": 155,
      "metadata": {
        "id": "q6-p0CoXeYeH"
      },
      "outputs": [],
      "source": [
        "df = pd.read_csv('train_features_with_answers.csv')\n",
        "# df.info()"
      ]
    },
    {
      "cell_type": "markdown",
      "metadata": {
        "_cell_guid": "21ae96ef-7925-4a81-1f1d-54d4ed018ec3",
        "id": "lY0qoZnQ90NO"
      },
      "source": [
        "## Найдите и исправьте ошибки в данных"
      ]
    },
    {
      "cell_type": "code",
      "execution_count": 156,
      "metadata": {
        "id": "Xt4J1g5l90NP"
      },
      "outputs": [],
      "source": [
        "df['sex'] = df['sex'].where(df['sex'].isin([\"F\", \"M\"]), np.nan)\n",
        "# df.info()"
      ]
    },
    {
      "cell_type": "markdown",
      "metadata": {
        "_cell_guid": "21ae96ef-7925-4a81-1f1d-54d4ed018ec3",
        "id": "JCVXK7Wsnuf0"
      },
      "source": [
        "## Удалите скоррелированные данные"
      ]
    },
    {
      "cell_type": "code",
      "execution_count": 157,
      "metadata": {
        "id": "KJAfBn9znuf1"
      },
      "outputs": [],
      "source": [
        "df.drop(\"Fedu\", axis=1, inplace = True)\n",
        "# df.info()"
      ]
    },
    {
      "cell_type": "markdown",
      "metadata": {
        "id": "qF81qsInnuf4"
      },
      "source": [
        "## Заполните пропуски в данных\n",
        "\n",
        "Заполнить пропуски в данных можно одним из следующи способов или разными для разных признаков:\n",
        "- Заполнить нулями\n",
        "- Выбросить данные с нулями (не рекомендуется)\n",
        "- Заполнить средним для данного параметра\n",
        "- Заполнить наиболее соответствующим данному прецеденту (рекомендуется)"
      ]
    },
    {
      "cell_type": "code",
      "execution_count": 158,
      "metadata": {
        "id": "yaCEkU9anuf4",
        "colab": {
          "base_uri": "https://localhost:8080/"
        },
        "outputId": "5c137130-49e2-43b9-bcc3-70a5f9a36a0d"
      },
      "outputs": [
        {
          "output_type": "stream",
          "name": "stdout",
          "text": [
            "<class 'pandas.core.frame.DataFrame'>\n",
            "RangeIndex: 446 entries, 0 to 445\n",
            "Data columns (total 30 columns):\n",
            " #   Column      Non-Null Count  Dtype  \n",
            "---  ------      --------------  -----  \n",
            " 0   school      446 non-null    object \n",
            " 1   sex         446 non-null    object \n",
            " 2   age         446 non-null    float64\n",
            " 3   address     446 non-null    object \n",
            " 4   famsize     446 non-null    object \n",
            " 5   Pstatus     446 non-null    object \n",
            " 6   Medu        446 non-null    int64  \n",
            " 7   Mjob        446 non-null    object \n",
            " 8   Fjob        446 non-null    object \n",
            " 9   reason      446 non-null    object \n",
            " 10  guardian    446 non-null    object \n",
            " 11  traveltime  446 non-null    int64  \n",
            " 12  studytime   446 non-null    int64  \n",
            " 13  failures    446 non-null    int64  \n",
            " 14  schoolsup   446 non-null    object \n",
            " 15  famsup      446 non-null    object \n",
            " 16  paid        446 non-null    object \n",
            " 17  activities  446 non-null    object \n",
            " 18  nursery     446 non-null    object \n",
            " 19  higher      446 non-null    object \n",
            " 20  internet    446 non-null    object \n",
            " 21  romantic    446 non-null    object \n",
            " 22  famrel      446 non-null    int64  \n",
            " 23  freetime    446 non-null    int64  \n",
            " 24  goout       446 non-null    int64  \n",
            " 25  Dalc        446 non-null    int64  \n",
            " 26  Walc        446 non-null    int64  \n",
            " 27  health      446 non-null    int64  \n",
            " 28  absences    446 non-null    int64  \n",
            " 29  G3          446 non-null    int64  \n",
            "dtypes: float64(1), int64(12), object(17)\n",
            "memory usage: 104.7+ KB\n"
          ]
        }
      ],
      "source": [
        "df_r = df.copy()\n",
        "df_r.replace(float('nan'), np.nan, inplace=True) # мб воркает...\n",
        "df_r[\"age\"] = df_r[\"age\"].fillna(df_r[\"age\"].mode()[0]) # насчет такого мува тоже не уверен\n",
        "df_r[\"sex\"] = df_r[\"sex\"].fillna(df_r[\"sex\"].mode()[0])\n",
        "df_r = df_r[(15<= df_r['age']) & (df_r['age']<=22)]\n",
        "df_r[\"address\"] = df_r[\"address\"].fillna(df_r[\"address\"].mode()[0]) # четко\n",
        "df_r.reset_index(drop=True, inplace=True)\n",
        "df_r.info()"
      ]
    },
    {
      "cell_type": "markdown",
      "metadata": {
        "_cell_guid": "21ae96ef-7925-4a81-1f1d-54d4ed018ec3",
        "id": "_p3_0Is6nuf6"
      },
      "source": [
        "## Закодируйте категориальные признаки"
      ]
    },
    {
      "cell_type": "code",
      "source": [
        "import pandas as pd\n",
        "from sklearn.preprocessing import OneHotEncoder\n",
        "\n",
        "enc = OneHotEncoder(sparse_output=False)\n",
        "\n",
        "categorical = [\"school\", \"sex\", \"address\", \"famsize\", \"Pstatus\",\n",
        "               \"Mjob\", \"Fjob\", \"reason\",\"guardian\",\n",
        "               \"schoolsup\", \"famsup\", \"paid\", \"activities\",\n",
        "               \"nursery\", \"higher\", \"internet\", \"romantic\"]\n",
        "enc_fea = enc.fit_transform(df_r[categorical])\n",
        "encoded_df = pd.DataFrame(enc_fea, columns=enc.get_feature_names_out(categorical))\n",
        "df_enc = pd.concat([df_r.drop(categorical, axis=1), encoded_df], axis=1)\n",
        "# df_encoded.info()"
      ],
      "metadata": {
        "id": "cfP7yUuaw0F4"
      },
      "execution_count": 194,
      "outputs": []
    },
    {
      "cell_type": "markdown",
      "metadata": {
        "_cell_guid": "21ae96ef-7925-4a81-1f1d-54d4ed018ec3",
        "id": "TQGQtLdynuf8"
      },
      "source": [
        "## Придумайте сложные признаки\n",
        "\n",
        "Сложные признаки - это комбинации существующих (линейных или нелинейных).\n",
        "Это нужно для того, чтобы самостоятельно добавить нелинейность в алгоритм.\n",
        "\n",
        "Приведите не менее двух признаков."
      ]
    },
    {
      "cell_type": "code",
      "execution_count": 195,
      "metadata": {
        "id": "JttEVehTeYeI"
      },
      "outputs": [],
      "source": [
        "#    1) freetime - 0.666*goout\n",
        "#( Логика: пробуем понять насколько человек deadinside/интроверт.\n",
        "# Если у него много времени и он его тратит на чилл с кентами, то новый признак будет небольшой)\n",
        "\n",
        "#    2) ((age-5)**2) * 0.52*Walc\n",
        "#( Логика: Возможно, человек с возрастом уже привык к алкоголю и это его даже бустит, тогда новый признак будет заметно выше у страших, которые постоянно выпивают)"
      ]
    },
    {
      "cell_type": "code",
      "source": [
        "float('nan') == float('nan')"
      ],
      "metadata": {
        "colab": {
          "base_uri": "https://localhost:8080/"
        },
        "id": "XfzdB4KuLvX5",
        "outputId": "4c0e1f01-43e5-4eb2-c56b-0389d2b05094"
      },
      "execution_count": 196,
      "outputs": [
        {
          "output_type": "execute_result",
          "data": {
            "text/plain": [
              "False"
            ]
          },
          "metadata": {},
          "execution_count": 196
        }
      ]
    },
    {
      "cell_type": "code",
      "source": [
        "df_enc[\"deadinside\"] = df_enc.apply(lambda row: row['freetime'] - 0.666*row['goout'], axis=1)\n",
        "df_enc[\"alcho_boost\"] = df_enc.apply(lambda row: ((row['age']-5)**2) * 0.52*row['Walc'], axis=1)"
      ],
      "metadata": {
        "id": "y_ZuIZlSuERv"
      },
      "execution_count": 197,
      "outputs": []
    },
    {
      "cell_type": "markdown",
      "metadata": {
        "_cell_guid": "9d8e5350-8caa-ab7d-834c-bbaf3e30c2b1",
        "id": "621800ae-7aae-4802-b714-b727f39d5c11"
      },
      "source": [
        "# Часть 3. Стратегия валидации\n",
        "\n",
        "Итак, у вас есть данные для обучения и данные, на которых необходимо сделать предсказание. Для оценки точности необходимо проводить валидацию (так как мало данных, можно проводить кросс валидацию).\n",
        "Валидацию проще всего реализовать методами sklearn, например:\n",
        "- KFold\n",
        "- ShuffleSplit\n",
        "- StratifiedKFold\n",
        "- StratifiedShuffleSplit\n",
        "- GroupKFold\n",
        "- GroupShuffleSplit"
      ]
    },
    {
      "cell_type": "code",
      "execution_count": 114,
      "metadata": {
        "id": "fee2652c-2c50-4eae-ac00-d5cc84bea6d4"
      },
      "outputs": [],
      "source": [
        "from sklearn.model_selection import cross_val_score\n"
      ]
    },
    {
      "cell_type": "markdown",
      "metadata": {
        "id": "1a479fa7-ee88-469d-9f14-7e513f1b3f98"
      },
      "source": [
        "## Разделите данные и объясните выбор стратегии"
      ]
    },
    {
      "cell_type": "code",
      "execution_count": 114,
      "metadata": {
        "_cell_guid": "35d7b6ae-6a83-d93d-0fa3-8502b8f9bee0",
        "id": "27828236-8b74-40db-ae41-fbbba4f0704f"
      },
      "outputs": [],
      "source": []
    },
    {
      "cell_type": "markdown",
      "metadata": {
        "id": "54901900-de8c-4f6e-a755-17f6b4aaf937"
      },
      "source": [
        "__Ваш ответ:__ KFold - рабочая база, пойдет\n",
        "\n",
        "sklearn solo :)"
      ]
    },
    {
      "cell_type": "markdown",
      "metadata": {
        "id": "8cc67c68-03f3-4cfa-a7fb-b56d86ed6805"
      },
      "source": [
        "# Часть 4. Заполнение пропусков в данных"
      ]
    },
    {
      "cell_type": "markdown",
      "metadata": {
        "id": "1c34dd70-4252-4c1d-86ac-4fa063f41c0c"
      },
      "source": [
        "## Фильтрация по диапазону значений\n",
        "\n",
        "Проверьте, что все характеристики принадлежат тому диапазону значений, который приведен в описании к исходным данным. Например, если в графе \"Пол\" есть значение FF, P или -1, то это явная ошибка заполнения.\n",
        "\n",
        "Приведите данные в соответствии с описанием данных. Если значение указано неверно - укажите ```NaN```."
      ]
    },
    {
      "cell_type": "code",
      "execution_count": 163,
      "metadata": {
        "id": "2ea9237e-f421-4994-a87a-4b8c17e5e550"
      },
      "outputs": [],
      "source": [
        "df = df_enc.copy()\n",
        "# вроде всё норм:\n",
        "# for col in df.columns:\n",
        "#     print(col, df[col].nunique())"
      ]
    },
    {
      "cell_type": "markdown",
      "metadata": {
        "id": "a31c8aea-226c-4378-a78b-e68842921ead"
      },
      "source": [
        "## Адаптивное заполнения пропусков\n",
        "\n",
        "Реализуйте стратегию заполнения пропусков данных на основе схожих примеров. Обучите один из известных вам алгоритмов (knn, Naive Bayes, linear regression) для предсказания той характеристики, пропуски которой присутсвуют в данных. В качестве характеристики для обучения алгоритмов __нельзя__ использовать ```G3```."
      ]
    },
    {
      "cell_type": "code",
      "execution_count": 116,
      "metadata": {
        "id": "c48d9077-392e-48ef-9a3f-3347ca38da4b"
      },
      "outputs": [],
      "source": [
        "# Ваш код"
      ]
    },
    {
      "cell_type": "code",
      "execution_count": 117,
      "metadata": {
        "id": "ef0e8f16-8ab8-497b-b8db-4884b29babd2"
      },
      "outputs": [],
      "source": [
        "#а пропусков не видно("
      ]
    },
    {
      "cell_type": "code",
      "source": [],
      "metadata": {
        "id": "8s4YixXzuJRC"
      },
      "execution_count": 117,
      "outputs": []
    },
    {
      "cell_type": "markdown",
      "metadata": {
        "_cell_guid": "3013b854-7aaa-4ad6-7952-1d188121ea25",
        "id": "22646374-f328-4412-8c59-5e157e779cf2"
      },
      "source": [
        "# Часть 5. Обучение алгоритма"
      ]
    },
    {
      "cell_type": "markdown",
      "metadata": {
        "id": "fc9c91d2-bfea-43e0-b6df-7f96664a7d66"
      },
      "source": [
        "Целевая переменная принимает дискретные значения [0; 20], поэтому вы можете поставить как задачу классификации, так и задачу регрессии.\n",
        "\n",
        "!Не забудьте про оптимизацию параметров алгоритмов, у вас же уже есть данные для валидации."
      ]
    },
    {
      "cell_type": "code",
      "source": [
        "df = df_enc.copy()\n",
        "# таких экземпляров слишком уж мало\n",
        "df = df[(df[\"G3\"] != 1) & (df[\"G3\"] != 5) & (df[\"G3\"] != 6) & (df[\"G3\"] != 19) & (df[\"G3\"] != 18)]\n",
        "df.reset_index(drop=True, inplace=True)\n",
        "\n",
        "X = df.drop(\"G3\", axis=1)\n",
        "# y = np.array(df[\"G3\"]).reshape(-1,1).ravel()\n",
        "y = df[\"G3\"]\n",
        "\n",
        "print(X.shape, y.shape)\n",
        "# df[\"G3\"].value_counts()"
      ],
      "metadata": {
        "colab": {
          "base_uri": "https://localhost:8080/"
        },
        "id": "LYMt_DufUpHr",
        "outputId": "079fe66b-632a-4feb-c371-1947aee686b8"
      },
      "execution_count": 237,
      "outputs": [
        {
          "output_type": "stream",
          "name": "stdout",
          "text": [
            "(435, 57) (435,)\n"
          ]
        }
      ]
    },
    {
      "cell_type": "markdown",
      "metadata": {
        "id": "fcb899db-1e1f-428c-a035-1d2b690714e5"
      },
      "source": [
        "## KNN"
      ]
    },
    {
      "cell_type": "code",
      "execution_count": 165,
      "metadata": {
        "_cell_guid": "74f8d40e-415f-9e29-03ca-aa1e75714c11",
        "id": "e37ad661-fc01-4164-bf37-9f6d09370058",
        "colab": {
          "base_uri": "https://localhost:8080/",
          "height": 485
        },
        "outputId": "f7eeebf5-d67d-417e-da57-ad4fe4ccb260"
      },
      "outputs": [
        {
          "output_type": "stream",
          "name": "stderr",
          "text": [
            "100%|██████████| 20/20 [00:01<00:00, 14.77it/s]\n"
          ]
        },
        {
          "output_type": "stream",
          "name": "stdout",
          "text": [
            "cv_score depend on n_neighbors, let's take n=16\n"
          ]
        },
        {
          "output_type": "display_data",
          "data": {
            "text/plain": [
              "<Figure size 640x480 with 1 Axes>"
            ],
            "image/png": "[encoded data removed]"
          },
          "metadata": {}
        }
      ],
      "source": [
        "from sklearn.neighbors import KNeighborsClassifier\n",
        "from tqdm import tqdm\n",
        "from sklearn.model_selection import cross_val_score\n",
        "\n",
        "cv_score = []\n",
        "max_cv = 0\n",
        "best_n = 1\n",
        "mass_of_n = np.arange(5, 25)\n",
        "for n in tqdm(mass_of_n):\n",
        "    knn = KNeighborsClassifier(n_neighbors=n)\n",
        "    cv = np.mean(cross_val_score(knn, X, y))\n",
        "    cv_score.append(cv)\n",
        "    if cv > max_cv:\n",
        "        best_n = n\n",
        "        max_cv = cv\n",
        "\n",
        "print(f\"cv_score depend on n_neighbors, let's take n={round(best_n, 5)}\")\n",
        "plt.plot(mass_of_n, cv_score)\n",
        "plt.xlabel(\"n_neighbors\")\n",
        "plt.ylabel(\"cv_score\")\n",
        "plt.grid()"
      ]
    },
    {
      "cell_type": "markdown",
      "metadata": {
        "id": "c0b47e9a-3c22-415c-98db-8be4aabbf021"
      },
      "source": [
        "## Bayes"
      ]
    },
    {
      "cell_type": "code",
      "execution_count": 90,
      "metadata": {
        "id": "e7976a0b-0a53-4a9d-b7b6-e5fd5dbf83a6",
        "colab": {
          "base_uri": "https://localhost:8080/"
        },
        "outputId": "1834daa9-6655-41a7-cef8-de280edabe06"
      },
      "outputs": [
        {
          "output_type": "stream",
          "name": "stdout",
          "text": [
            "0.08045977011494253\n"
          ]
        }
      ],
      "source": [
        "from sklearn.naive_bayes import GaussianNB\n",
        "\n",
        "nb = GaussianNB()\n",
        "print(np.mean(cross_val_score(nb, X, y, cv=5)))"
      ]
    },
    {
      "cell_type": "markdown",
      "metadata": {
        "_cell_guid": "7febeef3-e6b0-a18a-5705-7ee3876c1965",
        "id": "dbe6c3e0-11c0-4f15-8cab-9250255625fc"
      },
      "source": [
        "## Регрессия"
      ]
    },
    {
      "cell_type": "code",
      "execution_count": 39,
      "metadata": {
        "_cell_guid": "12f1d266-9efa-4bd9-a3c1-48ea880080be",
        "id": "591b682b-ff10-4a38-8e17-1b0ddef9ec1a"
      },
      "outputs": [],
      "source": [
        "# from sklearn.linear_model import LogisticRegression\n",
        "\n",
        "# start = 0.1\n",
        "# stop = 1.5\n",
        "# step = 0.1\n",
        "# cv_score = []\n",
        "# max_cv = 0\n",
        "# best_c = start\n",
        "# mass_of_c = np.arange(start, stop+step, step)\n",
        "# for c in tqdm(mass_of_c):\n",
        "#     regr = LogisticRegression(C=c, max_iter=500, random_state=42)\n",
        "#     cv = np.mean(cross_val_score(regr, X, y))\n",
        "#     cv_score.append(cv)\n",
        "#     if cv > max_cv:\n",
        "#         best_c = c\n",
        "#         max_cv = cv\n",
        "\n",
        "# print(f\"cv_score depend on C, let's take c={round(best_c, 5)}\")\n",
        "# plt.plot(mass_of_c, cv_score)\n",
        "# plt.xlabel(\"C\")\n",
        "# plt.ylabel(\"cv_score\")\n",
        "# plt.grid()\n"
      ]
    },
    {
      "cell_type": "markdown",
      "metadata": {
        "id": "7975eaae-4b07-43b8-a4c7-c573f8593957"
      },
      "source": [
        "## SVM"
      ]
    },
    {
      "cell_type": "code",
      "execution_count": 267,
      "metadata": {
        "id": "3d9d4146-15e4-44df-a882-b794ce252ec5",
        "colab": {
          "base_uri": "https://localhost:8080/",
          "height": 744
        },
        "outputId": "6eacdaaa-0cf1-4508-c99c-80144470fd02"
      },
      "outputs": [
        {
          "output_type": "stream",
          "name": "stderr",
          "text": [
            " 13%|█▎        | 2/15 [00:00<00:02,  5.05it/s]"
          ]
        },
        {
          "output_type": "stream",
          "name": "stdout",
          "text": [
            "12.177011494252874\n",
            "9.404597701149426\n"
          ]
        },
        {
          "output_type": "stream",
          "name": "stderr",
          "text": [
            " 27%|██▋       | 4/15 [00:00<00:02,  5.08it/s]"
          ]
        },
        {
          "output_type": "stream",
          "name": "stdout",
          "text": [
            "9.222988505747127\n",
            "9.280459770114943\n"
          ]
        },
        {
          "output_type": "stream",
          "name": "stderr",
          "text": [
            "\r 33%|███▎      | 5/15 [00:01<00:02,  4.56it/s]"
          ]
        },
        {
          "output_type": "stream",
          "name": "stdout",
          "text": [
            "9.280459770114943\n"
          ]
        },
        {
          "output_type": "stream",
          "name": "stderr",
          "text": [
            " 47%|████▋     | 7/15 [00:01<00:01,  4.81it/s]"
          ]
        },
        {
          "output_type": "stream",
          "name": "stdout",
          "text": [
            "9.280459770114943\n",
            "9.280459770114943\n"
          ]
        },
        {
          "output_type": "stream",
          "name": "stderr",
          "text": [
            "\r 53%|█████▎    | 8/15 [00:01<00:01,  4.88it/s]"
          ]
        },
        {
          "output_type": "stream",
          "name": "stdout",
          "text": [
            "9.271264367816093\n"
          ]
        },
        {
          "output_type": "stream",
          "name": "stderr",
          "text": [
            "\r 60%|██████    | 9/15 [00:01<00:01,  4.88it/s]"
          ]
        },
        {
          "output_type": "stream",
          "name": "stdout",
          "text": [
            "9.273563218390805\n"
          ]
        },
        {
          "output_type": "stream",
          "name": "stderr",
          "text": [
            "\r 67%|██████▋   | 10/15 [00:02<00:01,  4.83it/s]"
          ]
        },
        {
          "output_type": "stream",
          "name": "stdout",
          "text": [
            "9.273563218390805\n"
          ]
        },
        {
          "output_type": "stream",
          "name": "stderr",
          "text": [
            "\r 73%|███████▎  | 11/15 [00:02<00:00,  4.84it/s]"
          ]
        },
        {
          "output_type": "stream",
          "name": "stdout",
          "text": [
            "9.273563218390805\n"
          ]
        },
        {
          "output_type": "stream",
          "name": "stderr",
          "text": [
            "\r 80%|████████  | 12/15 [00:02<00:00,  4.50it/s]"
          ]
        },
        {
          "output_type": "stream",
          "name": "stdout",
          "text": [
            "9.273563218390805\n"
          ]
        },
        {
          "output_type": "stream",
          "name": "stderr",
          "text": [
            "\r 87%|████████▋ | 13/15 [00:02<00:00,  4.01it/s]"
          ]
        },
        {
          "output_type": "stream",
          "name": "stdout",
          "text": [
            "9.273563218390805\n"
          ]
        },
        {
          "output_type": "stream",
          "name": "stderr",
          "text": [
            "\r 93%|█████████▎| 14/15 [00:03<00:00,  3.61it/s]"
          ]
        },
        {
          "output_type": "stream",
          "name": "stdout",
          "text": [
            "9.273563218390805\n"
          ]
        },
        {
          "output_type": "stream",
          "name": "stderr",
          "text": [
            "100%|██████████| 15/15 [00:03<00:00,  4.28it/s]"
          ]
        },
        {
          "output_type": "stream",
          "name": "stdout",
          "text": [
            "9.27816091954023\n",
            "cv_score depend on C, let's take c=0.5\n"
          ]
        },
        {
          "output_type": "stream",
          "name": "stderr",
          "text": [
            "\n"
          ]
        },
        {
          "output_type": "display_data",
          "data": {
            "text/plain": [
              "<Figure size 640x480 with 1 Axes>"
            ],
            "image/png": "[encoded data removed]"
          },
          "metadata": {}
        }
      ],
      "source": [
        "from sklearn.svm import SVC\n",
        "\n",
        "start = 0.1\n",
        "stop = 1.5\n",
        "step = 0.1\n",
        "cv_score = []\n",
        "max_cv = 0\n",
        "best_c = start\n",
        "mass_of_c = np.arange(start, stop+step, step)\n",
        "for c in tqdm(mass_of_c):\n",
        "    svc = SVC(C=c, random_state=42)\n",
        "    cv = np.mean(cross_val_score(svc, X, y))\n",
        "    cv_score.append(cv)\n",
        "    if cv > max_cv:\n",
        "        best_c = c\n",
        "        max_cv = cv\n",
        "\n",
        "print(f\"cv_score depend on C, let's take c={round(best_c, 5)}\")\n",
        "plt.plot(mass_of_c, cv_score)\n",
        "plt.xlabel(\"C\")\n",
        "plt.ylabel(\"cv_score\")\n",
        "plt.grid()"
      ]
    },
    {
      "cell_type": "markdown",
      "metadata": {
        "id": "8a1ce346-4ac2-4950-b2c8-ffc6cdb0cca5"
      },
      "source": [
        "## Постройте сложную модель на основе предыдущих четырех простых и оцените ее точность"
      ]
    },
    {
      "cell_type": "markdown",
      "metadata": {
        "id": "dfad6385-0e3b-47c2-aecf-0e894089f013"
      },
      "source": [
        "Вариант 1. Нужно взвесить предсказания простых моделей. Предложите метод взвешивания."
      ]
    },
    {
      "cell_type": "code",
      "execution_count": 238,
      "metadata": {
        "id": "2a791883-273f-4b2d-a300-8a6d287b44f7",
        "colab": {
          "base_uri": "https://localhost:8080/"
        },
        "outputId": "aab707cb-2f50-4ede-8956-2b9125124f78"
      },
      "outputs": [
        {
          "output_type": "stream",
          "name": "stdout",
          "text": [
            "0.1885057471264368\n"
          ]
        }
      ],
      "source": [
        "#все модели супер плохи, поэтому возьмем просто Voting (и опираемся больше на svc)\n",
        "# а logregr вообще хочется выкинуть, надоели эти предпреждения о max_iter...\n",
        "from sklearn.ensemble import VotingClassifier\n",
        "\n",
        "knn = KNeighborsClassifier(n_neighbors=16)\n",
        "svc = SVC(C=0.5, random_state=42)\n",
        "nb = GaussianNB()\n",
        "\n",
        "voting = VotingClassifier(estimators=[('knn', knn), ('svc', svc), ('nb', nb)],\n",
        "                          weights=[2,3,2])\n",
        "print(np.mean(cross_val_score(voting, X, y, cv=5)))"
      ]
    },
    {
      "cell_type": "markdown",
      "metadata": {
        "id": "2e550dac-82ba-41bc-835e-61a4661e2452"
      },
      "source": [
        "Вариант 2. Нужно оценить корреляцию предсказаний простых моделей."
      ]
    },
    {
      "cell_type": "code",
      "execution_count": 239,
      "metadata": {
        "id": "1c992ab6-ad87-48a9-9535-e9c8940a1d5c",
        "colab": {
          "base_uri": "https://localhost:8080/"
        },
        "outputId": "af5d09e5-8790-4a6b-99b6-3806a9dd2045"
      },
      "outputs": [
        {
          "output_type": "stream",
          "name": "stdout",
          "text": [
            "          KNN       SVC        NB\n",
            "KNN  1.000000  0.490511  0.050541\n",
            "SVC  0.490511  1.000000  0.157149\n",
            "NB   0.050541  0.157149  1.000000\n"
          ]
        }
      ],
      "source": [
        "knn = KNeighborsClassifier(n_neighbors=n).fit(X,y)\n",
        "svc = SVC(C=0.5, random_state=42).fit(X,y)\n",
        "nb = GaussianNB().fit(X,y)\n",
        "\n",
        "# Получим предсказания\n",
        "pred_knn = knn.predict(X)\n",
        "pred_svc = svc.predict(X)\n",
        "pred_nb = nb.predict(X)\n",
        "\n",
        "# Создадим DataFrame для предсказаний\n",
        "predictions_df = pd.DataFrame({\n",
        "    'KNN': pred_knn,\n",
        "    'SVC': pred_svc,\n",
        "    'NB': pred_nb\n",
        "})\n",
        "# Вычислим корреляцию между предсказаниями\n",
        "correlation_matrix = predictions_df.corr()\n",
        "print(correlation_matrix)"
      ]
    },
    {
      "cell_type": "code",
      "source": [
        "from sklearn.linear_model import LogisticRegression\n",
        "from sklearn.preprocessing import StandardScaler\n",
        "from sklearn.pipeline import make_pipeline\n",
        "from sklearn.ensemble import StackingClassifier\n",
        "\n",
        "knn = KNeighborsClassifier(n_neighbors=15)\n",
        "svc = SVC(C=0.5, random_state=42)\n",
        "nb = GaussianNB()\n",
        "\n",
        "\n",
        "estimators = [\n",
        "    ('knn', KNeighborsClassifier(n_neighbors=15)),\n",
        "    ('nb', GaussianNB()),\n",
        "    ('svc', SVC(C=0.5, random_state=42))\n",
        "]\n",
        "clf = StackingClassifier(\n",
        "    estimators=estimators, final_estimator=LogisticRegression(max_iter=10000, random_state=42)\n",
        ")\n",
        "\n",
        "print(np.mean(cross_val_score(clf, X, y, cv=3)))"
      ],
      "metadata": {
        "colab": {
          "base_uri": "https://localhost:8080/"
        },
        "id": "kEWqGgaS_9et",
        "outputId": "241dea34-b0c1-423e-81b1-2a48649ff762"
      },
      "execution_count": 240,
      "outputs": [
        {
          "output_type": "stream",
          "name": "stdout",
          "text": [
            "0.18160919540229883\n"
          ]
        }
      ]
    },
    {
      "cell_type": "markdown",
      "metadata": {
        "_cell_guid": "3013b854-7aaa-4ad6-7952-1d188121ea25",
        "id": "208a2eca-34e3-4339-830e-e5b26eee33bb"
      },
      "source": [
        "## Сделайте итоговое предсказание"
      ]
    },
    {
      "cell_type": "markdown",
      "metadata": {
        "id": "788d78fb-ee0f-40c9-9831-97b7cffe44ed"
      },
      "source": [
        "Решением домашнего задания является данный ноутбук + .csv файл с предсказанием. Пример формата файла, который должен у вас получится приведен в ```data/sample_submission.csv```. Данные для предсказания - ```X_test.csv```.\n",
        "\n",
        "За лучшее предсказание 5 человек получат +10% к домашке.\n",
        "\n",
        "Значения предсказаний должны быть целочисленными. Проверка будет точности решения будет по MSE."
      ]
    },
    {
      "cell_type": "markdown",
      "source": [
        "------------------------------------------PREPARE X_TEST------------------------------------------"
      ],
      "metadata": {
        "id": "r2u8-B609EFX"
      }
    },
    {
      "cell_type": "code",
      "source": [
        "X_test = pd.read_csv('X_test.csv')\n",
        "\n",
        "X_test.drop(\"Fedu\", axis=1, inplace=True)\n",
        "\n",
        "enc = OneHotEncoder(sparse_output=False)\n",
        "\n",
        "categorical = [\"school\", \"sex\", \"address\", \"famsize\", \"Pstatus\",\n",
        "               \"Mjob\", \"Fjob\", \"reason\",\"guardian\",\n",
        "               \"schoolsup\", \"famsup\", \"paid\", \"activities\",\n",
        "               \"nursery\", \"higher\", \"internet\", \"romantic\"]\n",
        "enc_fea = enc.fit_transform(X_test[categorical])\n",
        "encoded_df = pd.DataFrame(enc_fea, columns=enc.get_feature_names_out(categorical))\n",
        "df_encoded = pd.concat([X_test.drop(categorical, axis=1), encoded_df], axis=1)\n",
        "\n",
        "df_encoded[\"deadinside\"] = df_encoded.apply(lambda row: row['freetime'] - 0.666*row['goout'], axis=1)\n",
        "df_encoded[\"alcho_boost\"] = df_encoded.apply(lambda row: ((row['age']-5)**2) * 0.52*row['Walc'], axis=1)\n",
        "\n",
        "X_test = df_encoded.copy()\n",
        "X_test.head()"
      ],
      "metadata": {
        "colab": {
          "base_uri": "https://localhost:8080/",
          "height": 255
        },
        "id": "tToOX-I58Zwj",
        "outputId": "3243d66e-4db4-40a6-870d-f055cb02cd21"
      },
      "execution_count": 241,
      "outputs": [
        {
          "output_type": "execute_result",
          "data": {
            "text/plain": [
              "   age  Medu  traveltime  studytime  failures  famrel  freetime  goout  Dalc  \\\n",
              "0   18     4           1          2         0       3         2      4     1   \n",
              "1   16     3           1          2         0       2         3      3     2   \n",
              "2   18     4           2          2         0       4         3      5     1   \n",
              "3   16     4           1          2         0       5         3      2     1   \n",
              "4   15     1           1          2         0       3         3      4     2   \n",
              "\n",
              "   Walc  ...  nursery_no  nursery_yes  higher_no  higher_yes  internet_no  \\\n",
              "0     4  ...         1.0          0.0        0.0         1.0          0.0   \n",
              "1     2  ...         0.0          1.0        0.0         1.0          0.0   \n",
              "2     2  ...         1.0          0.0        0.0         1.0          0.0   \n",
              "3     3  ...         0.0          1.0        0.0         1.0          1.0   \n",
              "4     4  ...         1.0          0.0        0.0         1.0          0.0   \n",
              "\n",
              "   internet_yes  romantic_no  romantic_yes  deadinside  alcho_boost  \n",
              "0           1.0          1.0           0.0      -0.664       351.52  \n",
              "1           1.0          1.0           0.0       1.002       125.84  \n",
              "2           1.0          1.0           0.0      -0.330       175.76  \n",
              "3           0.0          1.0           0.0       1.668       188.76  \n",
              "4           1.0          0.0           1.0       0.336       208.00  \n",
              "\n",
              "[5 rows x 57 columns]"
            ],
            "text/html": [
              "\n",
              "  <div id=\"df-73b910d9-600e-4ee1-98cc-4062cefe500d\" class=\"colab-df-container\">\n",
              "    <div>\n",
              "<style scoped>\n",
              "    .dataframe tbody tr th:only-of-type {\n",
              "        vertical-align: middle;\n",
              "    }\n",
              "\n",
              "    .dataframe tbody tr th {\n",
              "        vertical-align: top;\n",
              "    }\n",
              "\n",
              "    .dataframe thead th {\n",
              "        text-align: right;\n",
              "    }\n",
              "</style>\n",
              "<table border=\"1\" class=\"dataframe\">\n",
              "  <thead>\n",
              "    <tr style=\"text-align: right;\">\n",
              "      <th></th>\n",
              "      <th>age</th>\n",
              "      <th>Medu</th>\n",
              "      <th>traveltime</th>\n",
              "      <th>studytime</th>\n",
              "      <th>failures</th>\n",
              "      <th>famrel</th>\n",
              "      <th>freetime</th>\n",
              "      <th>goout</th>\n",
              "      <th>Dalc</th>\n",
              "      <th>Walc</th>\n",
              "      <th>...</th>\n",
              "      <th>nursery_no</th>\n",
              "      <th>nursery_yes</th>\n",
              "      <th>higher_no</th>\n",
              "      <th>higher_yes</th>\n",
              "      <th>internet_no</th>\n",
              "      <th>internet_yes</th>\n",
              "      <th>romantic_no</th>\n",
              "      <th>romantic_yes</th>\n",
              "      <th>deadinside</th>\n",
              "      <th>alcho_boost</th>\n",
              "    </tr>\n",
              "  </thead>\n",
              "  <tbody>\n",
              "    <tr>\n",
              "      <th>0</th>\n",
              "      <td>18</td>\n",
              "      <td>4</td>\n",
              "      <td>1</td>\n",
              "      <td>2</td>\n",
              "      <td>0</td>\n",
              "      <td>3</td>\n",
              "      <td>2</td>\n",
              "      <td>4</td>\n",
              "      <td>1</td>\n",
              "      <td>4</td>\n",
              "      <td>...</td>\n",
              "      <td>1.0</td>\n",
              "      <td>0.0</td>\n",
              "      <td>0.0</td>\n",
              "      <td>1.0</td>\n",
              "      <td>0.0</td>\n",
              "      <td>1.0</td>\n",
              "      <td>1.0</td>\n",
              "      <td>0.0</td>\n",
              "      <td>-0.664</td>\n",
              "      <td>351.52</td>\n",
              "    </tr>\n",
              "    <tr>\n",
              "      <th>1</th>\n",
              "      <td>16</td>\n",
              "      <td>3</td>\n",
              "      <td>1</td>\n",
              "      <td>2</td>\n",
              "      <td>0</td>\n",
              "      <td>2</td>\n",
              "      <td>3</td>\n",
              "      <td>3</td>\n",
              "      <td>2</td>\n",
              "      <td>2</td>\n",
              "      <td>...</td>\n",
              "      <td>0.0</td>\n",
              "      <td>1.0</td>\n",
              "      <td>0.0</td>\n",
              "      <td>1.0</td>\n",
              "      <td>0.0</td>\n",
              "      <td>1.0</td>\n",
              "      <td>1.0</td>\n",
              "      <td>0.0</td>\n",
              "      <td>1.002</td>\n",
              "      <td>125.84</td>\n",
              "    </tr>\n",
              "    <tr>\n",
              "      <th>2</th>\n",
              "      <td>18</td>\n",
              "      <td>4</td>\n",
              "      <td>2</td>\n",
              "      <td>2</td>\n",
              "      <td>0</td>\n",
              "      <td>4</td>\n",
              "      <td>3</td>\n",
              "      <td>5</td>\n",
              "      <td>1</td>\n",
              "      <td>2</td>\n",
              "      <td>...</td>\n",
              "      <td>1.0</td>\n",
              "      <td>0.0</td>\n",
              "      <td>0.0</td>\n",
              "      <td>1.0</td>\n",
              "      <td>0.0</td>\n",
              "      <td>1.0</td>\n",
              "      <td>1.0</td>\n",
              "      <td>0.0</td>\n",
              "      <td>-0.330</td>\n",
              "      <td>175.76</td>\n",
              "    </tr>\n",
              "    <tr>\n",
              "      <th>3</th>\n",
              "      <td>16</td>\n",
              "      <td>4</td>\n",
              "      <td>1</td>\n",
              "      <td>2</td>\n",
              "      <td>0</td>\n",
              "      <td>5</td>\n",
              "      <td>3</td>\n",
              "      <td>2</td>\n",
              "      <td>1</td>\n",
              "      <td>3</td>\n",
              "      <td>...</td>\n",
              "      <td>0.0</td>\n",
              "      <td>1.0</td>\n",
              "      <td>0.0</td>\n",
              "      <td>1.0</td>\n",
              "      <td>1.0</td>\n",
              "      <td>0.0</td>\n",
              "      <td>1.0</td>\n",
              "      <td>0.0</td>\n",
              "      <td>1.668</td>\n",
              "      <td>188.76</td>\n",
              "    </tr>\n",
              "    <tr>\n",
              "      <th>4</th>\n",
              "      <td>15</td>\n",
              "      <td>1</td>\n",
              "      <td>1</td>\n",
              "      <td>2</td>\n",
              "      <td>0</td>\n",
              "      <td>3</td>\n",
              "      <td>3</td>\n",
              "      <td>4</td>\n",
              "      <td>2</td>\n",
              "      <td>4</td>\n",
              "      <td>...</td>\n",
              "      <td>1.0</td>\n",
              "      <td>0.0</td>\n",
              "      <td>0.0</td>\n",
              "      <td>1.0</td>\n",
              "      <td>0.0</td>\n",
              "      <td>1.0</td>\n",
              "      <td>0.0</td>\n",
              "      <td>1.0</td>\n",
              "      <td>0.336</td>\n",
              "      <td>208.00</td>\n",
              "    </tr>\n",
              "  </tbody>\n",
              "</table>\n",
              "<p>5 rows × 57 columns</p>\n",
              "</div>\n",
              "    <div class=\"colab-df-buttons\">\n",
              "\n",
              "  <div class=\"colab-df-container\">\n",
              "    <button class=\"colab-df-convert\" onclick=\"convertToInteractive('df-73b910d9-600e-4ee1-98cc-4062cefe500d')\"\n",
              "            title=\"Convert this dataframe to an interactive table.\"\n",
              "            style=\"display:none;\">\n",
              "\n",
              "  <svg xmlns=\"http://www.w3.org/2000/svg\" height=\"24px\" viewBox=\"0 -960 960 960\">\n",
              "    <path d=\"M120-120v-720h720v720H120Zm60-500h600v-160H180v160Zm220 220h160v-160H400v160Zm0 220h160v-160H400v160ZM180-400h160v-160H180v160Zm440 0h160v-160H620v160ZM180-180h160v-160H180v160Zm440 0h160v-160H620v160Z\"/>\n",
              "  </svg>\n",
              "    </button>\n",
              "\n",
              "  <style>\n",
              "    .colab-df-container {\n",
              "      display:flex;\n",
              "      gap: 12px;\n",
              "    }\n",
              "\n",
              "    .colab-df-convert {\n",
              "      background-color: #E8F0FE;\n",
              "      border: none;\n",
              "      border-radius: 50%;\n",
              "      cursor: pointer;\n",
              "      display: none;\n",
              "      fill: #1967D2;\n",
              "      height: 32px;\n",
              "      padding: 0 0 0 0;\n",
              "      width: 32px;\n",
              "    }\n",
              "\n",
              "    .colab-df-convert:hover {\n",
              "      background-color: #E2EBFA;\n",
              "      box-shadow: 0px 1px 2px rgba(60, 64, 67, 0.3), 0px 1px 3px 1px rgba(60, 64, 67, 0.15);\n",
              "      fill: #174EA6;\n",
              "    }\n",
              "\n",
              "    .colab-df-buttons div {\n",
              "      margin-bottom: 4px;\n",
              "    }\n",
              "\n",
              "    [theme=dark] .colab-df-convert {\n",
              "      background-color: #3B4455;\n",
              "      fill: #D2E3FC;\n",
              "    }\n",
              "\n",
              "    [theme=dark] .colab-df-convert:hover {\n",
              "      background-color: #434B5C;\n",
              "      box-shadow: 0px 1px 3px 1px rgba(0, 0, 0, 0.15);\n",
              "      filter: drop-shadow(0px 1px 2px rgba(0, 0, 0, 0.3));\n",
              "      fill: #FFFFFF;\n",
              "    }\n",
              "  </style>\n",
              "\n",
              "    <script>\n",
              "      const buttonEl =\n",
              "        document.querySelector('#df-73b910d9-600e-4ee1-98cc-4062cefe500d button.colab-df-convert');\n",
              "      buttonEl.style.display =\n",
              "        google.colab.kernel.accessAllowed ? 'block' : 'none';\n",
              "\n",
              "      async function convertToInteractive(key) {\n",
              "        const element = document.querySelector('#df-73b910d9-600e-4ee1-98cc-4062cefe500d');\n",
              "        const dataTable =\n",
              "          await google.colab.kernel.invokeFunction('convertToInteractive',\n",
              "                                                    [key], {});\n",
              "        if (!dataTable) return;\n",
              "\n",
              "        const docLinkHtml = 'Like what you see? Visit the ' +\n",
              "          '<a target=\"_blank\" href=https://colab.research.google.com/notebooks/data_table.ipynb>data table notebook</a>'\n",
              "          + ' to learn more about interactive tables.';\n",
              "        element.innerHTML = '';\n",
              "        dataTable['output_type'] = 'display_data';\n",
              "        await google.colab.output.renderOutput(dataTable, element);\n",
              "        const docLink = document.createElement('div');\n",
              "        docLink.innerHTML = docLinkHtml;\n",
              "        element.appendChild(docLink);\n",
              "      }\n",
              "    </script>\n",
              "  </div>\n",
              "\n",
              "\n",
              "<div id=\"df-a7c8d581-d3c1-4696-9bc9-bb5141ae99fc\">\n",
              "  <button class=\"colab-df-quickchart\" onclick=\"quickchart('df-a7c8d581-d3c1-4696-9bc9-bb5141ae99fc')\"\n",
              "            title=\"Suggest charts\"\n",
              "            style=\"display:none;\">\n",
              "\n",
              "<svg xmlns=\"http://www.w3.org/2000/svg\" height=\"24px\"viewBox=\"0 0 24 24\"\n",
              "     width=\"24px\">\n",
              "    <g>\n",
              "        <path d=\"M19 3H5c-1.1 0-2 .9-2 2v14c0 1.1.9 2 2 2h14c1.1 0 2-.9 2-2V5c0-1.1-.9-2-2-2zM9 17H7v-7h2v7zm4 0h-2V7h2v10zm4 0h-2v-4h2v4z\"/>\n",
              "    </g>\n",
              "</svg>\n",
              "  </button>\n",
              "\n",
              "<style>\n",
              "  .colab-df-quickchart {\n",
              "      --bg-color: #E8F0FE;\n",
              "      --fill-color: #1967D2;\n",
              "      --hover-bg-color: #E2EBFA;\n",
              "      --hover-fill-color: #174EA6;\n",
              "      --disabled-fill-color: #AAA;\n",
              "      --disabled-bg-color: #DDD;\n",
              "  }\n",
              "\n",
              "  [theme=dark] .colab-df-quickchart {\n",
              "      --bg-color: #3B4455;\n",
              "      --fill-color: #D2E3FC;\n",
              "      --hover-bg-color: #434B5C;\n",
              "      --hover-fill-color: #FFFFFF;\n",
              "      --disabled-bg-color: #3B4455;\n",
              "      --disabled-fill-color: #666;\n",
              "  }\n",
              "\n",
              "  .colab-df-quickchart {\n",
              "    background-color: var(--bg-color);\n",
              "    border: none;\n",
              "    border-radius: 50%;\n",
              "    cursor: pointer;\n",
              "    display: none;\n",
              "    fill: var(--fill-color);\n",
              "    height: 32px;\n",
              "    padding: 0;\n",
              "    width: 32px;\n",
              "  }\n",
              "\n",
              "  .colab-df-quickchart:hover {\n",
              "    background-color: var(--hover-bg-color);\n",
              "    box-shadow: 0 1px 2px rgba(60, 64, 67, 0.3), 0 1px 3px 1px rgba(60, 64, 67, 0.15);\n",
              "    fill: var(--button-hover-fill-color);\n",
              "  }\n",
              "\n",
              "  .colab-df-quickchart-complete:disabled,\n",
              "  .colab-df-quickchart-complete:disabled:hover {\n",
              "    background-color: var(--disabled-bg-color);\n",
              "    fill: var(--disabled-fill-color);\n",
              "    box-shadow: none;\n",
              "  }\n",
              "\n",
              "  .colab-df-spinner {\n",
              "    border: 2px solid var(--fill-color);\n",
              "    border-color: transparent;\n",
              "    border-bottom-color: var(--fill-color);\n",
              "    animation:\n",
              "      spin 1s steps(1) infinite;\n",
              "  }\n",
              "\n",
              "  @keyframes spin {\n",
              "    0% {\n",
              "      border-color: transparent;\n",
              "      border-bottom-color: var(--fill-color);\n",
              "      border-left-color: var(--fill-color);\n",
              "    }\n",
              "    20% {\n",
              "      border-color: transparent;\n",
              "      border-left-color: var(--fill-color);\n",
              "      border-top-color: var(--fill-color);\n",
              "    }\n",
              "    30% {\n",
              "      border-color: transparent;\n",
              "      border-left-color: var(--fill-color);\n",
              "      border-top-color: var(--fill-color);\n",
              "      border-right-color: var(--fill-color);\n",
              "    }\n",
              "    40% {\n",
              "      border-color: transparent;\n",
              "      border-right-color: var(--fill-color);\n",
              "      border-top-color: var(--fill-color);\n",
              "    }\n",
              "    60% {\n",
              "      border-color: transparent;\n",
              "      border-right-color: var(--fill-color);\n",
              "    }\n",
              "    80% {\n",
              "      border-color: transparent;\n",
              "      border-right-color: var(--fill-color);\n",
              "      border-bottom-color: var(--fill-color);\n",
              "    }\n",
              "    90% {\n",
              "      border-color: transparent;\n",
              "      border-bottom-color: var(--fill-color);\n",
              "    }\n",
              "  }\n",
              "</style>\n",
              "\n",
              "  <script>\n",
              "    async function quickchart(key) {\n",
              "      const quickchartButtonEl =\n",
              "        document.querySelector('#' + key + ' button');\n",
              "      quickchartButtonEl.disabled = true;  // To prevent multiple clicks.\n",
              "      quickchartButtonEl.classList.add('colab-df-spinner');\n",
              "      try {\n",
              "        const charts = await google.colab.kernel.invokeFunction(\n",
              "            'suggestCharts', [key], {});\n",
              "      } catch (error) {\n",
              "        console.error('Error during call to suggestCharts:', error);\n",
              "      }\n",
              "      quickchartButtonEl.classList.remove('colab-df-spinner');\n",
              "      quickchartButtonEl.classList.add('colab-df-quickchart-complete');\n",
              "    }\n",
              "    (() => {\n",
              "      let quickchartButtonEl =\n",
              "        document.querySelector('#df-a7c8d581-d3c1-4696-9bc9-bb5141ae99fc button');\n",
              "      quickchartButtonEl.style.display =\n",
              "        google.colab.kernel.accessAllowed ? 'block' : 'none';\n",
              "    })();\n",
              "  </script>\n",
              "</div>\n",
              "    </div>\n",
              "  </div>\n"
            ],
            "application/vnd.google.colaboratory.intrinsic+json": {
              "type": "dataframe",
              "variable_name": "X_test"
            }
          },
          "metadata": {},
          "execution_count": 241
        }
      ]
    },
    {
      "cell_type": "code",
      "source": [
        "estimators = [\n",
        "    ('knn', KNeighborsClassifier(n_neighbors=15)),\n",
        "    ('nb', GaussianNB()),\n",
        "    ('svc', SVC(C=0.5, random_state=42))\n",
        "]\n",
        "clf = StackingClassifier(\n",
        "    estimators=estimators, final_estimator=LogisticRegression(max_iter=10000)\n",
        ").fit(X, y)\n",
        "\n",
        "predicts = clf.predict(X_test)\n",
        "# predicts"
      ],
      "metadata": {
        "id": "aNWjVPkq8TlB"
      },
      "execution_count": 242,
      "outputs": []
    },
    {
      "cell_type": "code",
      "execution_count": 243,
      "metadata": {
        "id": "28d93753-2124-465d-a6bd-825fab0f5fb1",
        "colab": {
          "base_uri": "https://localhost:8080/",
          "height": 110
        },
        "outputId": "2c8fb086-a1bd-40ec-ea48-bee4ccd99e88"
      },
      "outputs": [
        {
          "output_type": "execute_result",
          "data": {
            "text/plain": [
              "id  0    1    2    3    4    5    6    7    8    9    ...  185  186  187  188  \\\n",
              "G3   15   10   15   12   11   13   13   10   15   12  ...   15   15   14   13   \n",
              "\n",
              "id  189  190  191  192  193  194  \n",
              "G3   12   10   12   14   13   13  \n",
              "\n",
              "[1 rows x 195 columns]"
            ],
            "text/html": [
              "\n",
              "  <div id=\"df-0ab2f581-c293-4c91-aea5-64277a3cd9ba\" class=\"colab-df-container\">\n",
              "    <div>\n",
              "<style scoped>\n",
              "    .dataframe tbody tr th:only-of-type {\n",
              "        vertical-align: middle;\n",
              "    }\n",
              "\n",
              "    .dataframe tbody tr th {\n",
              "        vertical-align: top;\n",
              "    }\n",
              "\n",
              "    .dataframe thead th {\n",
              "        text-align: right;\n",
              "    }\n",
              "</style>\n",
              "<table border=\"1\" class=\"dataframe\">\n",
              "  <thead>\n",
              "    <tr style=\"text-align: right;\">\n",
              "      <th>id</th>\n",
              "      <th>0</th>\n",
              "      <th>1</th>\n",
              "      <th>2</th>\n",
              "      <th>3</th>\n",
              "      <th>4</th>\n",
              "      <th>5</th>\n",
              "      <th>6</th>\n",
              "      <th>7</th>\n",
              "      <th>8</th>\n",
              "      <th>9</th>\n",
              "      <th>...</th>\n",
              "      <th>185</th>\n",
              "      <th>186</th>\n",
              "      <th>187</th>\n",
              "      <th>188</th>\n",
              "      <th>189</th>\n",
              "      <th>190</th>\n",
              "      <th>191</th>\n",
              "      <th>192</th>\n",
              "      <th>193</th>\n",
              "      <th>194</th>\n",
              "    </tr>\n",
              "  </thead>\n",
              "  <tbody>\n",
              "    <tr>\n",
              "      <th>G3</th>\n",
              "      <td>15</td>\n",
              "      <td>10</td>\n",
              "      <td>15</td>\n",
              "      <td>12</td>\n",
              "      <td>11</td>\n",
              "      <td>13</td>\n",
              "      <td>13</td>\n",
              "      <td>10</td>\n",
              "      <td>15</td>\n",
              "      <td>12</td>\n",
              "      <td>...</td>\n",
              "      <td>15</td>\n",
              "      <td>15</td>\n",
              "      <td>14</td>\n",
              "      <td>13</td>\n",
              "      <td>12</td>\n",
              "      <td>10</td>\n",
              "      <td>12</td>\n",
              "      <td>14</td>\n",
              "      <td>13</td>\n",
              "      <td>13</td>\n",
              "    </tr>\n",
              "  </tbody>\n",
              "</table>\n",
              "<p>1 rows × 195 columns</p>\n",
              "</div>\n",
              "    <div class=\"colab-df-buttons\">\n",
              "\n",
              "  <div class=\"colab-df-container\">\n",
              "    <button class=\"colab-df-convert\" onclick=\"convertToInteractive('df-0ab2f581-c293-4c91-aea5-64277a3cd9ba')\"\n",
              "            title=\"Convert this dataframe to an interactive table.\"\n",
              "            style=\"display:none;\">\n",
              "\n",
              "  <svg xmlns=\"http://www.w3.org/2000/svg\" height=\"24px\" viewBox=\"0 -960 960 960\">\n",
              "    <path d=\"M120-120v-720h720v720H120Zm60-500h600v-160H180v160Zm220 220h160v-160H400v160Zm0 220h160v-160H400v160ZM180-400h160v-160H180v160Zm440 0h160v-160H620v160ZM180-180h160v-160H180v160Zm440 0h160v-160H620v160Z\"/>\n",
              "  </svg>\n",
              "    </button>\n",
              "\n",
              "  <style>\n",
              "    .colab-df-container {\n",
              "      display:flex;\n",
              "      gap: 12px;\n",
              "    }\n",
              "\n",
              "    .colab-df-convert {\n",
              "      background-color: #E8F0FE;\n",
              "      border: none;\n",
              "      border-radius: 50%;\n",
              "      cursor: pointer;\n",
              "      display: none;\n",
              "      fill: #1967D2;\n",
              "      height: 32px;\n",
              "      padding: 0 0 0 0;\n",
              "      width: 32px;\n",
              "    }\n",
              "\n",
              "    .colab-df-convert:hover {\n",
              "      background-color: #E2EBFA;\n",
              "      box-shadow: 0px 1px 2px rgba(60, 64, 67, 0.3), 0px 1px 3px 1px rgba(60, 64, 67, 0.15);\n",
              "      fill: #174EA6;\n",
              "    }\n",
              "\n",
              "    .colab-df-buttons div {\n",
              "      margin-bottom: 4px;\n",
              "    }\n",
              "\n",
              "    [theme=dark] .colab-df-convert {\n",
              "      background-color: #3B4455;\n",
              "      fill: #D2E3FC;\n",
              "    }\n",
              "\n",
              "    [theme=dark] .colab-df-convert:hover {\n",
              "      background-color: #434B5C;\n",
              "      box-shadow: 0px 1px 3px 1px rgba(0, 0, 0, 0.15);\n",
              "      filter: drop-shadow(0px 1px 2px rgba(0, 0, 0, 0.3));\n",
              "      fill: #FFFFFF;\n",
              "    }\n",
              "  </style>\n",
              "\n",
              "    <script>\n",
              "      const buttonEl =\n",
              "        document.querySelector('#df-0ab2f581-c293-4c91-aea5-64277a3cd9ba button.colab-df-convert');\n",
              "      buttonEl.style.display =\n",
              "        google.colab.kernel.accessAllowed ? 'block' : 'none';\n",
              "\n",
              "      async function convertToInteractive(key) {\n",
              "        const element = document.querySelector('#df-0ab2f581-c293-4c91-aea5-64277a3cd9ba');\n",
              "        const dataTable =\n",
              "          await google.colab.kernel.invokeFunction('convertToInteractive',\n",
              "                                                    [key], {});\n",
              "        if (!dataTable) return;\n",
              "\n",
              "        const docLinkHtml = 'Like what you see? Visit the ' +\n",
              "          '<a target=\"_blank\" href=https://colab.research.google.com/notebooks/data_table.ipynb>data table notebook</a>'\n",
              "          + ' to learn more about interactive tables.';\n",
              "        element.innerHTML = '';\n",
              "        dataTable['output_type'] = 'display_data';\n",
              "        await google.colab.output.renderOutput(dataTable, element);\n",
              "        const docLink = document.createElement('div');\n",
              "        docLink.innerHTML = docLinkHtml;\n",
              "        element.appendChild(docLink);\n",
              "      }\n",
              "    </script>\n",
              "  </div>\n",
              "\n",
              "    </div>\n",
              "  </div>\n"
            ],
            "application/vnd.google.colaboratory.intrinsic+json": {
              "type": "dataframe"
            }
          },
          "metadata": {},
          "execution_count": 243
        }
      ],
      "source": [
        "# Для colab notebook\n",
        "\n",
        "from google.colab import files\n",
        "\n",
        "submission = pd.read_csv('sample_submission.csv', index_col='id')\n",
        "submission['G3'] = predicts # ваше предсказание\n",
        "submission.to_csv('submission.csv', index=False)\n",
        "submission.T\n",
        "# files.download('data/submission.csv')"
      ]
    },
    {
      "cell_type": "code",
      "source": [
        "sns.kdeplot(y)\n",
        "sns.kdeplot(predicts)"
      ],
      "metadata": {
        "colab": {
          "base_uri": "https://localhost:8080/",
          "height": 466
        },
        "id": "y02LmOLXFZJz",
        "outputId": "96798eb8-6ba7-4fe8-d82e-ebec3c754565"
      },
      "execution_count": 244,
      "outputs": [
        {
          "output_type": "execute_result",
          "data": {
            "text/plain": [
              "<Axes: xlabel='G3', ylabel='Density'>"
            ]
          },
          "metadata": {},
          "execution_count": 244
        },
        {
          "output_type": "display_data",
          "data": {
            "text/plain": [
              "<Figure size 640x480 with 1 Axes>"
            ],
            "image/png": "[encoded data removed]"
          },
          "metadata": {}
        }
      ]
    },
    {
      "cell_type": "markdown",
      "metadata": {
        "id": "7582f216-5e7c-4189-ad8d-1a5f1714a6a0"
      },
      "source": [
        "# Часть 6. Состязательная валидация (Adversarial Validation)"
      ]
    },
    {
      "cell_type": "markdown",
      "metadata": {
        "id": "26b24cd0-771b-440d-9fad-f792a9a00d81"
      },
      "source": [
        "Данная стратегия часто применяется в соревнованиях по машинному обучению. Так как проверить свой алгоритм возможно только на заданном тренировочном наборе данных, а результат требуется к набору, для которого нет ответов, то выбирают следующий подход:\n",
        "- оценить степень схожести тренировочных и тестовых данных;\n",
        "- составить валидацию из тех тренировочных данных, которые больше похожи на тестовые.\n",
        "\n",
        "Алгоритм реализации AV:\n",
        "1. Удаляем ответы из тренировочных данных.\n",
        "2. Добавляем специальные метки (```is_test```) для классов: тренировочные данные и тестовые.\n",
        "То есть у тестовых данных будет значение ```is_test = 1```, а у тренировочных ```is_test = 0```.\n",
        "4. Учим алгоритм классификации предсказывать заданную метку ```is_test```.\n",
        "5. Делим тренировочные данные на N частей и проводим кросс-валидацию.\n",
        "\n",
        "Обучаем N алгоритмов классификации: каждый обучается на всех тестовых данных и на N-1 наборах тренировочных. Предсказываем на 1 тренировочном наборе.\n",
        "\n",
        "6. Для каждого элемента в выборке предсказываем вероятность принадлежности класса и сортируем тренировочные данные по вероятности принадлежности тестовой выборке.\n",
        "7. Выделяем заданное число данных в валидацию.\n",
        "8. Обучаемся для итогового предсказания на всех данных."
      ]
    },
    {
      "cell_type": "code",
      "execution_count": 257,
      "metadata": {
        "_cell_guid": "03e74d0f-a241-a724-8b95-215bf4369d90",
        "id": "b1b92221-c587-4555-a4de-3131a56d6e70"
      },
      "outputs": [],
      "source": [
        "from sklearn.metrics import roc_auc_score"
      ]
    },
    {
      "cell_type": "code",
      "source": [
        "#1 already\n",
        "#2\n",
        "X_av = X.copy() #сохраним базовый train\n",
        "X_test_av = X_test.copy() #сохраним базовый test\n",
        "\n",
        "X_av[\"is_test\"] = 0\n",
        "X_test_av[\"is_test\"]  = 1\n",
        "all = pd.concat([X_av, X_test_av], axis=0, ignore_index=True)\n",
        "    # +SHAFFLE\n",
        "# all = all.sample(frac=1)\n",
        "\n",
        "#new train and target\n",
        "X_all = all.drop(['is_test'], axis=1)\n",
        "y_all = all['is_test']\n",
        "\n",
        "#fitting\n",
        "estimators = [\n",
        "    ('knn', KNeighborsClassifier(n_neighbors=16)),\n",
        "    ('nb', GaussianNB()),\n",
        "    ('svc', SVC(C=0.5, random_state=42))\n",
        "]\n",
        "\n",
        "clf = StackingClassifier(\n",
        "    estimators=estimators, final_estimator=LogisticRegression(max_iter=10000, random_state=42)\n",
        ").fit(X_all,y_all)\n",
        "\n",
        "auc_score = roc_auc_score(y_all, clf.predict_proba(X_all)[:,1])\n",
        "print(auc_score, \"если больше 0.5, то шансы есть; вроде норм\")"
      ],
      "metadata": {
        "colab": {
          "base_uri": "https://localhost:8080/"
        },
        "id": "Kp8FrXpXHR3Z",
        "outputId": "dfa479c2-7a00-4e74-ceeb-d9cd93f50d68"
      },
      "execution_count": 268,
      "outputs": [
        {
          "output_type": "stream",
          "name": "stdout",
          "text": [
            "0.659463601532567 если больше 0.5, то шансы есть; вроде норм\n"
          ]
        }
      ]
    },
    {
      "cell_type": "code",
      "source": [
        "#predict proba\n",
        "X_new = X_all.copy()\n",
        "X_new['proba'] = clf.predict_proba(X_all)[:,1]\n",
        "X_new['is_test'] = y_all\n",
        "\n",
        "# оставляем только обучающую\n",
        "X_new = X_new[X_new['is_test']==0]\n",
        "\n",
        "#sorting\n",
        "nrows = X_new.shape[0]\n",
        "\n",
        "sorted = X_new.sort_values(by='proba',ascending=False)\n",
        "\n",
        "#выделяем 10 % на валидацию\n",
        "ind = sorted[:int(nrows*.1)].index\n",
        "ind2 = sorted[int(nrows*.1):].index\n",
        "\n",
        "X_valid = X.iloc[ind]\n",
        "y_valid = y.iloc[ind]\n",
        "X_train = X.iloc[ind2]\n",
        "y_train = y.iloc[ind2]"
      ],
      "metadata": {
        "id": "chLkCYuMHTBk"
      },
      "execution_count": 269,
      "outputs": []
    },
    {
      "cell_type": "markdown",
      "source": [
        "Ориентируемся на MSE"
      ],
      "metadata": {
        "id": "nvQbiQwTe3rM"
      }
    },
    {
      "cell_type": "code",
      "source": [
        "%%time\n",
        "from sklearn.model_selection import GridSearchCV\n",
        "\n",
        "from sklearn.metrics import make_scorer, mean_squared_error\n",
        "mse = make_scorer(mean_squared_error,greater_is_better=False)\n",
        "\n",
        "estimators = [\n",
        "    ('knn', KNeighborsClassifier()),\n",
        "    ('nb', GaussianNB()),\n",
        "    ('svc', SVC(random_state=42))\n",
        "]\n",
        "\n",
        "clf = StackingClassifier(\n",
        "    estimators=estimators, final_estimator=LogisticRegression(max_iter=10000, random_state=42)\n",
        ")\n",
        "\n",
        "\n",
        "start = 0.05\n",
        "stop = 0.11\n",
        "step = 0.01\n",
        "param_grid = {\n",
        "    \"knn__n_neighbors\": np.arange(5, 13),\n",
        "    \"svc__C\": np.arange(start, stop+step, step),\n",
        "}\n",
        "\n",
        "search = GridSearchCV(clf, param_grid, n_jobs=-1, scoring=mse)\n",
        "search.fit(X_train, y_train)\n",
        "print(\"Best parameter (MSE score=%0.3f):\" % search.best_score_)\n",
        "print(\"svc__C :\", search.best_params_[\"svc__C\"])\n",
        "print(\"knn__n_neighbors :\", search.best_params_[\"knn__n_neighbors\"])"
      ],
      "metadata": {
        "colab": {
          "base_uri": "https://localhost:8080/"
        },
        "id": "qOPi_iR4cw1y",
        "outputId": "94d73b83-eef8-42b7-91c5-010b728a57d9"
      },
      "execution_count": 284,
      "outputs": [
        {
          "output_type": "stream",
          "name": "stdout",
          "text": [
            "Best parameter (MSE score=-7.880):\n",
            "svc__C : 0.08000000000000002\n",
            "knn__n_neighbors : 10\n",
            "CPU times: user 2.87 s, sys: 403 ms, total: 3.27 s\n",
            "Wall time: 2min 7s\n"
          ]
        }
      ]
    },
    {
      "cell_type": "markdown",
      "source": [
        "Теперь ещё раз подберем параметры, так, чтобы на валидации (которая близка к тесту, было наименьшее MSE)"
      ],
      "metadata": {
        "id": "1Sq5qXGBmo7U"
      }
    },
    {
      "cell_type": "code",
      "source": [
        "start = 0.08\n",
        "stop = 0.11\n",
        "step = 0.01\n",
        "param_grid = {\n",
        "    \"knn__n_neighbors\": np.arange(7, 13),\n",
        "    \"svc__C\": np.arange(start, stop+step, step),\n",
        "}\n",
        "\n",
        "\n",
        "for c in np.arange(start, stop+step, step):\n",
        "    for n in np.arange(7, 13):\n",
        "        estimators = [\n",
        "            ('knn', KNeighborsClassifier(n_neighbors=n)),\n",
        "            ('nb', GaussianNB()),\n",
        "            ('svc', SVC(C=c, random_state=42))\n",
        "        ]\n",
        "\n",
        "        clf = StackingClassifier(\n",
        "            estimators=estimators, final_estimator=LogisticRegression(max_iter=10000, random_state=42)\n",
        "        ).fit(X_train, y_train)\n",
        "        y_pred = clf.predict(X_valid)\n",
        "        print(round(c, 2), n, \"MSE=\", round(mean_squared_error(y_valid, y_pred), 3))\n",
        "\n",
        "# и просто глазами выберем.."
      ],
      "metadata": {
        "colab": {
          "base_uri": "https://localhost:8080/"
        },
        "id": "QXPaVgPxkcYo",
        "outputId": "adac2fcc-9784-48e3-8d62-e90208dfafa4"
      },
      "execution_count": 289,
      "outputs": [
        {
          "output_type": "stream",
          "name": "stdout",
          "text": [
            "0.08 7 MSE= 12.558\n",
            "0.08 8 MSE= 11.907\n",
            "0.08 9 MSE= 11.186\n",
            "0.08 10 MSE= 10.884\n",
            "0.08 11 MSE= 9.605\n",
            "0.08 12 MSE= 10.535\n",
            "0.09 7 MSE= 12.558\n",
            "0.09 8 MSE= 11.907\n",
            "0.09 9 MSE= 9.977\n",
            "0.09 10 MSE= 10.884\n",
            "0.09 11 MSE= 9.326\n",
            "0.09 12 MSE= 10.605\n",
            "0.1 7 MSE= 16.256\n",
            "0.1 8 MSE= 16.116\n",
            "0.1 9 MSE= 16.116\n",
            "0.1 10 MSE= 16.465\n",
            "0.1 11 MSE= 16.209\n",
            "0.1 12 MSE= 16.279\n",
            "0.11 7 MSE= 14.791\n",
            "0.11 8 MSE= 15.512\n",
            "0.11 9 MSE= 15.721\n",
            "0.11 10 MSE= 16.07\n",
            "0.11 11 MSE= 15.326\n",
            "0.11 12 MSE= 14.698\n"
          ]
        }
      ]
    },
    {
      "cell_type": "code",
      "source": [
        "estimators = [\n",
        "    ('knn', KNeighborsClassifier(n_neighbors=11)),\n",
        "    ('nb', GaussianNB()),\n",
        "    ('svc', SVC(C=0.09, random_state=42))\n",
        "]\n",
        "clf = StackingClassifier(\n",
        "    estimators=estimators, final_estimator=LogisticRegression(max_iter=10000, random_state=42)\n",
        ").fit(X, y)\n",
        "\n",
        "predicts = clf.predict(X_test)\n",
        "submission = pd.read_csv('sample_submission.csv', index_col='id')\n",
        "submission['G3'] = predicts # ваше предсказание\n",
        "submission.to_csv('submission.csv', index=False)\n",
        "submission.T"
      ],
      "metadata": {
        "colab": {
          "base_uri": "https://localhost:8080/",
          "height": 110
        },
        "id": "yJydJWxpiGb7",
        "outputId": "6cd6a131-85fc-42a1-ff03-8fd924e5e3ed"
      },
      "execution_count": 281,
      "outputs": [
        {
          "output_type": "execute_result",
          "data": {
            "text/plain": [
              "id  0    1    2    3    4    5    6    7    8    9    ...  185  186  187  188  \\\n",
              "G3   10    8   15   12   12   15   15   10   10   10  ...   10   15   11   12   \n",
              "\n",
              "id  189  190  191  192  193  194  \n",
              "G3   15   11   11   11   11   15  \n",
              "\n",
              "[1 rows x 195 columns]"
            ],
            "text/html": [
              "\n",
              "  <div id=\"df-fc5a2db1-2fef-4507-a5dc-af437f5eb9d7\" class=\"colab-df-container\">\n",
              "    <div>\n",
              "<style scoped>\n",
              "    .dataframe tbody tr th:only-of-type {\n",
              "        vertical-align: middle;\n",
              "    }\n",
              "\n",
              "    .dataframe tbody tr th {\n",
              "        vertical-align: top;\n",
              "    }\n",
              "\n",
              "    .dataframe thead th {\n",
              "        text-align: right;\n",
              "    }\n",
              "</style>\n",
              "<table border=\"1\" class=\"dataframe\">\n",
              "  <thead>\n",
              "    <tr style=\"text-align: right;\">\n",
              "      <th>id</th>\n",
              "      <th>0</th>\n",
              "      <th>1</th>\n",
              "      <th>2</th>\n",
              "      <th>3</th>\n",
              "      <th>4</th>\n",
              "      <th>5</th>\n",
              "      <th>6</th>\n",
              "      <th>7</th>\n",
              "      <th>8</th>\n",
              "      <th>9</th>\n",
              "      <th>...</th>\n",
              "      <th>185</th>\n",
              "      <th>186</th>\n",
              "      <th>187</th>\n",
              "      <th>188</th>\n",
              "      <th>189</th>\n",
              "      <th>190</th>\n",
              "      <th>191</th>\n",
              "      <th>192</th>\n",
              "      <th>193</th>\n",
              "      <th>194</th>\n",
              "    </tr>\n",
              "  </thead>\n",
              "  <tbody>\n",
              "    <tr>\n",
              "      <th>G3</th>\n",
              "      <td>10</td>\n",
              "      <td>8</td>\n",
              "      <td>15</td>\n",
              "      <td>12</td>\n",
              "      <td>12</td>\n",
              "      <td>15</td>\n",
              "      <td>15</td>\n",
              "      <td>10</td>\n",
              "      <td>10</td>\n",
              "      <td>10</td>\n",
              "      <td>...</td>\n",
              "      <td>10</td>\n",
              "      <td>15</td>\n",
              "      <td>11</td>\n",
              "      <td>12</td>\n",
              "      <td>15</td>\n",
              "      <td>11</td>\n",
              "      <td>11</td>\n",
              "      <td>11</td>\n",
              "      <td>11</td>\n",
              "      <td>15</td>\n",
              "    </tr>\n",
              "  </tbody>\n",
              "</table>\n",
              "<p>1 rows × 195 columns</p>\n",
              "</div>\n",
              "    <div class=\"colab-df-buttons\">\n",
              "\n",
              "  <div class=\"colab-df-container\">\n",
              "    <button class=\"colab-df-convert\" onclick=\"convertToInteractive('df-fc5a2db1-2fef-4507-a5dc-af437f5eb9d7')\"\n",
              "            title=\"Convert this dataframe to an interactive table.\"\n",
              "            style=\"display:none;\">\n",
              "\n",
              "  <svg xmlns=\"http://www.w3.org/2000/svg\" height=\"24px\" viewBox=\"0 -960 960 960\">\n",
              "    <path d=\"M120-120v-720h720v720H120Zm60-500h600v-160H180v160Zm220 220h160v-160H400v160Zm0 220h160v-160H400v160ZM180-400h160v-160H180v160Zm440 0h160v-160H620v160ZM180-180h160v-160H180v160Zm440 0h160v-160H620v160Z\"/>\n",
              "  </svg>\n",
              "    </button>\n",
              "\n",
              "  <style>\n",
              "    .colab-df-container {\n",
              "      display:flex;\n",
              "      gap: 12px;\n",
              "    }\n",
              "\n",
              "    .colab-df-convert {\n",
              "      background-color: #E8F0FE;\n",
              "      border: none;\n",
              "      border-radius: 50%;\n",
              "      cursor: pointer;\n",
              "      display: none;\n",
              "      fill: #1967D2;\n",
              "      height: 32px;\n",
              "      padding: 0 0 0 0;\n",
              "      width: 32px;\n",
              "    }\n",
              "\n",
              "    .colab-df-convert:hover {\n",
              "      background-color: #E2EBFA;\n",
              "      box-shadow: 0px 1px 2px rgba(60, 64, 67, 0.3), 0px 1px 3px 1px rgba(60, 64, 67, 0.15);\n",
              "      fill: #174EA6;\n",
              "    }\n",
              "\n",
              "    .colab-df-buttons div {\n",
              "      margin-bottom: 4px;\n",
              "    }\n",
              "\n",
              "    [theme=dark] .colab-df-convert {\n",
              "      background-color: #3B4455;\n",
              "      fill: #D2E3FC;\n",
              "    }\n",
              "\n",
              "    [theme=dark] .colab-df-convert:hover {\n",
              "      background-color: #434B5C;\n",
              "      box-shadow: 0px 1px 3px 1px rgba(0, 0, 0, 0.15);\n",
              "      filter: drop-shadow(0px 1px 2px rgba(0, 0, 0, 0.3));\n",
              "      fill: #FFFFFF;\n",
              "    }\n",
              "  </style>\n",
              "\n",
              "    <script>\n",
              "      const buttonEl =\n",
              "        document.querySelector('#df-fc5a2db1-2fef-4507-a5dc-af437f5eb9d7 button.colab-df-convert');\n",
              "      buttonEl.style.display =\n",
              "        google.colab.kernel.accessAllowed ? 'block' : 'none';\n",
              "\n",
              "      async function convertToInteractive(key) {\n",
              "        const element = document.querySelector('#df-fc5a2db1-2fef-4507-a5dc-af437f5eb9d7');\n",
              "        const dataTable =\n",
              "          await google.colab.kernel.invokeFunction('convertToInteractive',\n",
              "                                                    [key], {});\n",
              "        if (!dataTable) return;\n",
              "\n",
              "        const docLinkHtml = 'Like what you see? Visit the ' +\n",
              "          '<a target=\"_blank\" href=https://colab.research.google.com/notebooks/data_table.ipynb>data table notebook</a>'\n",
              "          + ' to learn more about interactive tables.';\n",
              "        element.innerHTML = '';\n",
              "        dataTable['output_type'] = 'display_data';\n",
              "        await google.colab.output.renderOutput(dataTable, element);\n",
              "        const docLink = document.createElement('div');\n",
              "        docLink.innerHTML = docLinkHtml;\n",
              "        element.appendChild(docLink);\n",
              "      }\n",
              "    </script>\n",
              "  </div>\n",
              "\n",
              "    </div>\n",
              "  </div>\n"
            ],
            "application/vnd.google.colaboratory.intrinsic+json": {
              "type": "dataframe"
            }
          },
          "metadata": {},
          "execution_count": 281
        }
      ]
    },
    {
      "cell_type": "code",
      "source": [
        "sns.kdeplot(y)\n",
        "sns.kdeplot(predicts)"
      ],
      "metadata": {
        "colab": {
          "base_uri": "https://localhost:8080/",
          "height": 466
        },
        "id": "4amdvbKkfw04",
        "outputId": "7b03894c-344f-408f-b746-e9533d5583ad"
      },
      "execution_count": 282,
      "outputs": [
        {
          "output_type": "execute_result",
          "data": {
            "text/plain": [
              "<Axes: xlabel='G3', ylabel='Density'>"
            ]
          },
          "metadata": {},
          "execution_count": 282
        },
        {
          "output_type": "display_data",
          "data": {
            "text/plain": [
              "<Figure size 640x480 with 1 Axes>"
            ],
            "image/png": "[encoded data removed]"
          },
          "metadata": {}
        }
      ]
    },
    {
      "cell_type": "code",
      "source": [],
      "metadata": {
        "id": "Va_uUgdlixiN"
      },
      "execution_count": null,
      "outputs": []
    }
  ],
  "metadata": {
    "_change_revision": 0,
    "_is_fork": false,
    "colab": {
      "provenance": [],
      "collapsed_sections": [
        "fcb899db-1e1f-428c-a035-1d2b690714e5",
        "c0b47e9a-3c22-415c-98db-8be4aabbf021",
        "dbe6c3e0-11c0-4f15-8cab-9250255625fc",
        "7975eaae-4b07-43b8-a4c7-c573f8593957"
      ]
    },
    "kernelspec": {
      "display_name": "Python 3 (ipykernel)",
      "language": "python",
      "name": "python3"
    },
    "language_info": {
      "codemirror_mode": {
        "name": "ipython",
        "version": 3
      },
      "file_extension": ".py",
      "mimetype": "text/x-python",
      "name": "python",
      "nbconvert_exporter": "python",
      "pygments_lexer": "ipython3",
      "version": "3.7.11"
    }
  },
  "nbformat": 4,
  "nbformat_minor": 0
}