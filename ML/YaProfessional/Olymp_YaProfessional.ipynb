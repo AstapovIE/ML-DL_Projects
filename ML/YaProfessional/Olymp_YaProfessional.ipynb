{
  "nbformat": 4,
  "nbformat_minor": 0,
  "metadata": {
    "colab": {
      "provenance": []
    },
    "kernelspec": {
      "name": "python3",
      "display_name": "Python 3"
    },
    "language_info": {
      "name": "python"
    }
  },
  "cells": [
    {
      "cell_type": "markdown",
      "source": [
        "# 1. Фруктовая Метрика (5)"
      ],
      "metadata": {
        "id": "-bN6c3I_t5aZ"
      }
    },
    {
      "cell_type": "code",
      "execution_count": null,
      "metadata": {
        "colab": {
          "base_uri": "https://localhost:8080/"
        },
        "id": "cNfWXf3JtHQk",
        "outputId": "7052fdba-7090-4654-a583-d21dbba851e3"
      },
      "outputs": [
        {
          "output_type": "stream",
          "name": "stdout",
          "text": [
            "Average Precision = 0.77\n"
          ]
        }
      ],
      "source": [
        "import numpy as np\n",
        "import pandas as pd\n",
        "\n",
        "# Данные\n",
        "data = {\n",
        "    \"probability\": [0.85, 0.55, 0.65, 0.40, 0.95, 0.75, 0.50, 0.60, 0.30, 0.80],\n",
        "    \"label\": [\"Спелый\", \"Спелый\", \"Неспелый\", \"Спелый\", \"Спелый\", \"Неспелый\", \"Спелый\", \"Спелый\", \"Неспелый\", \"Спелый\"]\n",
        "}\n",
        "\n",
        "df = pd.DataFrame(data)\n",
        "df['label'] = df['label'].map({\"Спелый\": 1, \"Неспелый\": 0})  # Переводим метки в бинарные значения\n",
        "\n",
        "# Пороги\n",
        "# thresholds = np.arange(0.0, 1.1, 0.1)\n",
        "# numpy немного портит числа (0.3 -> 0.3000000000000000004)\n",
        "thresholds = [0.0, 0.1, 0.2, 0.3, 0.4, 0.5, 0.6, 0.7, 0.8, 0.9]\n",
        "\n",
        "# Вычисление AP\n",
        "precision_values = []\n",
        "\n",
        "for t in thresholds:\n",
        "    predictions = (df['probability'] >= t).astype(int)\n",
        "    # print(\"t= \", t)\n",
        "    # print(predictions)\n",
        "    tp = ((predictions == 1) & (df['label'] == 1)).sum()  # Истинные положительные\n",
        "    fp = ((predictions == 1) & (df['label'] == 0)).sum()  # Ложные положительные\n",
        "    # print(\"TP = \", tp, \"FP = \",fp)\n",
        "\n",
        "    if tp + fp > 0:\n",
        "        precision = tp / (tp + fp)\n",
        "    else:\n",
        "        precision = 0.0\n",
        "\n",
        "    precision_values.append(precision)\n",
        "\n",
        "# Average Precision\n",
        "average_precision = np.mean(precision_values)\n",
        "print(f\"Average Precision = {average_precision:.2f}\")\n"
      ]
    },
    {
      "cell_type": "markdown",
      "source": [
        "# 2. Разделяющий эллипс (5)"
      ],
      "metadata": {
        "id": "Za8DRv11xbmN"
      }
    },
    {
      "cell_type": "code",
      "source": [
        "import numpy as np\n",
        "\n",
        "# Заданные параметры\n",
        "mu1 = np.array([-2, 3])\n",
        "mu2 = np.array([1, 0])\n",
        "\n",
        "Sigma1 = np.array([[2, 0],\n",
        "                   [0, 1]])\n",
        "Sigma2 = np.array([[3, -1],\n",
        "                   [-1, 4]])\n",
        "\n",
        "# Вычисление обратных матриц ковариации\n",
        "Sigma1_inv = np.linalg.inv(Sigma1)\n",
        "Sigma2_inv = np.linalg.inv(Sigma2)\n",
        "# print(Sigma1_inv)\n",
        "# print(Sigma2_inv)\n",
        "\n",
        "# Матрица A\n",
        "A = Sigma1_inv - Sigma2_inv\n",
        "# print(A)\n",
        "# Найдём собственные значения матрицы A\n",
        "eigvals, _ = np.linalg.eig(A)\n",
        "# print(eigvals)\n",
        "# Длина большой полуоси\n",
        "major_axis_length = np.sqrt(1 / min(eigvals))\n",
        "\n",
        "# Округление до ближайшего целого\n",
        "result = round(major_axis_length)\n",
        "print(\"Длина большой полуоси разделяющего эллипса :\", result)\n"
      ],
      "metadata": {
        "colab": {
          "base_uri": "https://localhost:8080/"
        },
        "id": "2E1sKhrXuW4v",
        "outputId": "43d40538-4f6f-4a70-b658-93e8dc8eec85"
      },
      "execution_count": null,
      "outputs": [
        {
          "output_type": "stream",
          "name": "stdout",
          "text": [
            "Длина большой полуоси разделяющего эллипса : 3\n"
          ]
        }
      ]
    },
    {
      "cell_type": "markdown",
      "source": [
        "# 3. Двойное блуждание по числовой прямой (5)"
      ],
      "metadata": {
        "id": "TfinSQJh4xcS"
      }
    },
    {
      "cell_type": "markdown",
      "source": [
        "Марковский процесс для разницы координат друзей, которая менается на -2 0 +2"
      ],
      "metadata": {
        "id": "blOLVbMbAP7D"
      }
    },
    {
      "cell_type": "code",
      "source": [
        "import random\n",
        "\n",
        "def simulate_meeting(max_time, initial_distance, num_simulations):\n",
        "    success_count = 0\n",
        "\n",
        "    for _ in range(num_simulations):\n",
        "        distance = initial_distance\n",
        "        for _ in range(max_time):\n",
        "            step = random.choices([-2, 0, 2], weights=[0.25, 0.5, 0.25])[0]\n",
        "            distance = max(0, distance + step)  # отражение от 0\n",
        "            if distance == 0:  # встреча\n",
        "                success_count += 1\n",
        "                break\n",
        "\n",
        "    return success_count / num_simulations\n",
        "\n",
        "# Параметры задачи\n",
        "max_time = 100\n",
        "initial_distance = 10\n",
        "num_simulations = 1000000  # количество экспериментов\n",
        "\n",
        "probability = simulate_meeting(max_time, initial_distance, num_simulations)\n",
        "print(f\"{probability:.3f}\")\n"
      ],
      "metadata": {
        "colab": {
          "base_uri": "https://localhost:8080/"
        },
        "id": "DvWOD21iyMJD",
        "outputId": "ff350944-ce45-40e2-9782-a898dc8f5802"
      },
      "execution_count": null,
      "outputs": [
        {
          "output_type": "stream",
          "name": "stdout",
          "text": [
            "0.480\n"
          ]
        }
      ]
    },
    {
      "cell_type": "markdown",
      "source": [
        "# 4. Минимизация MSE (5) [тетрадь]"
      ],
      "metadata": {
        "id": "3s2aOxm3ViCG"
      }
    },
    {
      "cell_type": "markdown",
      "source": [
        "# 5. Комбинации для геймера (5)"
      ],
      "metadata": {
        "id": "jIBPqEZBe48q"
      }
    },
    {
      "cell_type": "code",
      "source": [
        "N = 100\n",
        "k = 64\n",
        "\n",
        "for m in range(100):\n",
        "    if (k-m) + 2*(m) == 100:\n",
        "        print(\"ответ:\", (6)*(k-m) + (7)*m*2)\n",
        "        print((k-m), m)\n",
        "        break\n",
        "\n"
      ],
      "metadata": {
        "colab": {
          "base_uri": "https://localhost:8080/"
        },
        "id": "kDjnAzQqK1LE",
        "outputId": "2c81f372-56c9-444d-fc57-a82c79f00f78"
      },
      "execution_count": null,
      "outputs": [
        {
          "output_type": "stream",
          "name": "stdout",
          "text": [
            "672\n",
            "28 36\n"
          ]
        }
      ]
    },
    {
      "cell_type": "code",
      "source": [
        "4608/36\n"
      ],
      "metadata": {
        "colab": {
          "base_uri": "https://localhost:8080/"
        },
        "id": "j7-qTUaNgvIA",
        "outputId": "d7868056-b403-4ab8-a86d-a94b9fc93747"
      },
      "execution_count": null,
      "outputs": [
        {
          "output_type": "execute_result",
          "data": {
            "text/plain": [
              "128.0"
            ]
          },
          "metadata": {},
          "execution_count": 44
        }
      ]
    },
    {
      "cell_type": "markdown",
      "source": [
        "# 7. Восстановить ядро свертки (7)"
      ],
      "metadata": {
        "id": "s4tbvxNWWYqG"
      }
    },
    {
      "cell_type": "code",
      "source": [
        "import numpy as np\n",
        "\n",
        "def solve_convolution_kernel(m, n, image, h, w, result):\n",
        "    pad_h = (h - 1) // 2\n",
        "    pad_w = (w - 1) // 2\n",
        "\n",
        "    kernel = np.zeros((h * w,), dtype=int)\n",
        "\n",
        "    kernel_index = [(i, j) for i in range(h) for j in range(w)]\n",
        "\n",
        "    equations = []\n",
        "    results = []\n",
        "\n",
        "    for i in range(m):\n",
        "        for j in range(n):\n",
        "            eq = np.zeros(h * w, dtype=int)\n",
        "\n",
        "            for di in range(h):\n",
        "                for dj in range(w):\n",
        "                    image_i = i + di - pad_h\n",
        "                    image_j = j + dj - pad_w\n",
        "                    if 0 <= image_i < m and 0 <= image_j < n:\n",
        "                        idx = kernel_index.index((di, dj))\n",
        "                        eq[idx] = image[image_i][image_j]\n",
        "\n",
        "            equations.append(eq)\n",
        "            results.append(result[i][j])\n",
        "\n",
        "    A = np.array(equations, dtype=int)\n",
        "    b = np.array(results, dtype=int)\n",
        "    kernel_values = np.linalg.lstsq(A, b, rcond=None)[0]\n",
        "    kernel_values = np.round(kernel_values).astype(int)\n",
        "\n",
        "    kernel = kernel_values.reshape(h, w)\n",
        "    kernel = np.flip(kernel, axis=(0, 1))\n",
        "    return kernel\n",
        "\n",
        "m, n = map(int, input().split(','))\n",
        "image = [list(map(int, input().split(','))) for _ in range(m)]\n",
        "h, w = map(int, input().split(','))\n",
        "result = [list(map(int, input().split(','))) for _ in range(m)]\n",
        "\n",
        "kernel = solve_convolution_kernel(m, n, image, h, w, result)\n",
        "\n",
        "for row in kernel:\n",
        "    print(','.join(map(str, row)))\n"
      ],
      "metadata": {
        "colab": {
          "base_uri": "https://localhost:8080/"
        },
        "id": "HqQSeTIcWYNu",
        "outputId": "bbe8668b-c60f-49a7-ea85-4abf3b8bda56"
      },
      "execution_count": null,
      "outputs": [
        {
          "output_type": "stream",
          "name": "stdout",
          "text": [
            "3,5\n",
            "9,0,46,57,49\n",
            "19,23,41,23,88\n",
            "47,71,92,8,86\n",
            "3,3\n",
            "256,1096,1586,2501,1300\n",
            "1135,1014,1028,2221,1341\n",
            "1465,2149,1830,936,1860\n",
            "-10,12,-15\n",
            "11,11,15\n",
            "2,1,6\n"
          ]
        }
      ]
    },
    {
      "cell_type": "code",
      "source": [],
      "metadata": {
        "id": "Tsd7phOlcODh"
      },
      "execution_count": null,
      "outputs": []
    },
    {
      "cell_type": "code",
      "source": [],
      "metadata": {
        "id": "1_mcRFDncOFb"
      },
      "execution_count": null,
      "outputs": []
    },
    {
      "cell_type": "markdown",
      "source": [
        "# 8. Обходы графа (7)"
      ],
      "metadata": {
        "id": "iUX1XHU3dNsy"
      }
    },
    {
      "cell_type": "code",
      "source": [
        "MOD = 1000000007\n",
        "\n",
        "def matrix_mult(A, B, mod=MOD):\n",
        "    \"\"\"Умножение двух матриц с модулем.\"\"\"\n",
        "    n = len(A)\n",
        "    result = [[0] * n for _ in range(n)]\n",
        "    for i in range(n):\n",
        "        for j in range(n):\n",
        "            for k in range(n):\n",
        "                result[i][j] = (result[i][j] + A[i][k] * B[k][j]) % mod\n",
        "    return result\n",
        "\n",
        "def matrix_pow(A, k, mod=MOD):\n",
        "    \"\"\"Быстрое возведение матрицы A в степень k.\"\"\"\n",
        "    n = len(A)\n",
        "    # Единичная матрица\n",
        "    result = [[1 if i == j else 0 for j in range(n)] for i in range(n)]\n",
        "    base = A\n",
        "    while k > 0:\n",
        "        if k % 2 == 1:\n",
        "            result = matrix_mult(result, base, mod)\n",
        "        base = matrix_mult(base, base, mod)\n",
        "        k //= 2\n",
        "    return result\n",
        "\n",
        "# Чтение входных данных\n",
        "n, k = map(int, input().split())\n",
        "adj_matrix = [list(map(int, input().split())) for _ in range(n)]\n",
        "\n",
        "# Возведение матрицы в степень\n",
        "result_matrix = matrix_pow(adj_matrix, k)\n",
        "\n",
        "# Ответ — элемент (0, 0) в матрице (считаем, что индексация с 0)\n",
        "print(result_matrix[0][0])\n"
      ],
      "metadata": {
        "id": "XyruTzVGcOHM"
      },
      "execution_count": null,
      "outputs": []
    },
    {
      "cell_type": "code",
      "source": [],
      "metadata": {
        "id": "adR2UMwfhdVo"
      },
      "execution_count": null,
      "outputs": []
    },
    {
      "cell_type": "code",
      "source": [
        "import numpy as np\n",
        "\n",
        "MOD = 10**9 + 7\n",
        "\n",
        "# Функция для модульного обратного числа\n",
        "def mod_inverse(a, mod):\n",
        "    return pow(a, mod - 2, mod)\n",
        "\n",
        "# Основной алгоритм\n",
        "def solve():\n",
        "    # Считывание количества состояний\n",
        "    n = int(input())\n",
        "\n",
        "    # Построение графа и считывание рёбер\n",
        "    graph = [[] for _ in range(n + 1)]\n",
        "    flow = [[] for _ in range(n + 1)]\n",
        "    out_degree = [0] * (n + 1)\n",
        "    is_sink = [True] * (n + 1)\n",
        "\n",
        "    for s in range(1, n + 1):\n",
        "        line = list(map(int, input().split()))\n",
        "        k = line[0]\n",
        "        if k > 0:\n",
        "            is_sink[s] = False  # Не сток\n",
        "        for i in range(k):\n",
        "            to, f = line[1 + 2 * i], line[2 + 2 * i]\n",
        "            graph[to].append(s)\n",
        "            flow[to].append(f)\n",
        "            out_degree[s] += 1\n",
        "\n",
        "    # Определение стоков\n",
        "    sinks = [i for i in range(1, n + 1) if is_sink[i]]\n",
        "\n",
        "    # Динамика для подсчёта вероятностей\n",
        "    dp = np.zeros(n + 1, dtype=np.int64)\n",
        "    dp[1] = 1  # Вероятность в начальном состоянии\n",
        "\n",
        "    # Обратный топологический порядок\n",
        "    order = []\n",
        "    queue = [1]\n",
        "    while queue:\n",
        "        current = queue.pop()\n",
        "        order.append(current)\n",
        "        for next_state in graph[current]:\n",
        "            out_degree[next_state] -= 1\n",
        "            if out_degree[next_state] == 0:\n",
        "                queue.append(next_state)\n",
        "\n",
        "    # Пересчитываем вероятности в обратном порядке\n",
        "    for current in reversed(order):\n",
        "        total_flow = sum(flow[current])\n",
        "        if total_flow > 0:\n",
        "            inv_total_flow = mod_inverse(total_flow, MOD)\n",
        "            for i, prev in enumerate(graph[current]):\n",
        "                dp[prev] = (dp[prev] + dp[current] * flow[current][i] * inv_total_flow) % MOD\n",
        "\n",
        "    # Формирование ответа для стоков\n",
        "    result = []\n",
        "    for sink in sinks:\n",
        "        result.append((sink, dp[sink]))\n",
        "\n",
        "    result.sort()\n",
        "    for x, prob in result:\n",
        "        print(x, prob)\n",
        "\n",
        "# Запуск решения\n",
        "solve()\n"
      ],
      "metadata": {
        "colab": {
          "base_uri": "https://localhost:8080/",
          "height": 211
        },
        "id": "dROhCpKVhdXq",
        "outputId": "0740a002-18f1-44d3-8f41-67d423603f19"
      },
      "execution_count": null,
      "outputs": [
        {
          "output_type": "error",
          "ename": "IndexError",
          "evalue": "list index out of range",
          "traceback": [
            "\u001b[0;31m---------------------------------------------------------------------------\u001b[0m",
            "\u001b[0;31mIndexError\u001b[0m                                Traceback (most recent call last)",
            "\u001b[0;32m<ipython-input-502-1a7f18fbd444>\u001b[0m in \u001b[0;36m<cell line: 12>\u001b[0;34m()\u001b[0m\n\u001b[1;32m     10\u001b[0m \u001b[0mdata\u001b[0m \u001b[0;34m=\u001b[0m \u001b[0minput\u001b[0m\u001b[0;34m(\u001b[0m\u001b[0;34m)\u001b[0m\u001b[0;34m.\u001b[0m\u001b[0msplit\u001b[0m\u001b[0;34m(\u001b[0m\u001b[0;34m)\u001b[0m\u001b[0;34m\u001b[0m\u001b[0;34m\u001b[0m\u001b[0m\n\u001b[1;32m     11\u001b[0m \u001b[0;34m\u001b[0m\u001b[0m\n\u001b[0;32m---> 12\u001b[0;31m \u001b[0mn\u001b[0m \u001b[0;34m=\u001b[0m \u001b[0mint\u001b[0m\u001b[0;34m(\u001b[0m\u001b[0mdata\u001b[0m\u001b[0;34m[\u001b[0m\u001b[0;36m0\u001b[0m\u001b[0;34m]\u001b[0m\u001b[0;34m)\u001b[0m\u001b[0;34m\u001b[0m\u001b[0;34m\u001b[0m\u001b[0m\n\u001b[0m\u001b[1;32m     13\u001b[0m \u001b[0medges\u001b[0m \u001b[0;34m=\u001b[0m \u001b[0;34m[\u001b[0m\u001b[0;34m]\u001b[0m\u001b[0;34m\u001b[0m\u001b[0;34m\u001b[0m\u001b[0m\n\u001b[1;32m     14\u001b[0m \u001b[0mgraph\u001b[0m \u001b[0;34m=\u001b[0m \u001b[0;34m[\u001b[0m\u001b[0;34m[\u001b[0m\u001b[0;34m]\u001b[0m \u001b[0;32mfor\u001b[0m \u001b[0m_\u001b[0m \u001b[0;32min\u001b[0m \u001b[0mrange\u001b[0m\u001b[0;34m(\u001b[0m\u001b[0mn\u001b[0m \u001b[0;34m+\u001b[0m \u001b[0;36m1\u001b[0m\u001b[0;34m)\u001b[0m\u001b[0;34m]\u001b[0m\u001b[0;34m\u001b[0m\u001b[0;34m\u001b[0m\u001b[0m\n",
            "\u001b[0;31mIndexError\u001b[0m: list index out of range"
          ]
        }
      ]
    },
    {
      "cell_type": "code",
      "source": [],
      "metadata": {
        "id": "PydvxDUgcOgD"
      },
      "execution_count": null,
      "outputs": []
    },
    {
      "cell_type": "code",
      "source": [],
      "metadata": {
        "id": "7nMalyqVcOh3"
      },
      "execution_count": null,
      "outputs": []
    },
    {
      "cell_type": "markdown",
      "source": [
        "# 11. Предсказание победителя в компьютерной игре (10)\n"
      ],
      "metadata": {
        "id": "pQ6E4hp27esT"
      }
    },
    {
      "cell_type": "markdown",
      "source": [
        "## imports/prepare"
      ],
      "metadata": {
        "id": "40WFyWdI9bui"
      }
    },
    {
      "cell_type": "code",
      "source": [
        "# !pip install catboost\n",
        "# !pip install lightgbm==3.2.1"
      ],
      "metadata": {
        "id": "0b0udbr_k1bY"
      },
      "execution_count": null,
      "outputs": []
    },
    {
      "cell_type": "code",
      "source": [
        "import matplotlib.pyplot as plt\n",
        "import seaborn as sns\n",
        "import pandas as pd\n",
        "import numpy as np\n",
        "from tqdm import tqdm\n",
        "\n",
        "from sklearn.preprocessing import StandardScaler\n",
        "from sklearn.preprocessing import OneHotEncoder\n",
        "\n",
        "from sklearn.ensemble import StackingClassifier\n",
        "from sklearn.ensemble import GradientBoostingClassifier\n",
        "\n",
        "from catboost import CatBoostClassifier, Pool\n",
        "import lightgbm as lgb\n",
        "\n",
        "from sklearn.linear_model import LogisticRegression\n",
        "from sklearn.pipeline import make_pipeline, Pipeline\n",
        "\n",
        "from sklearn.model_selection import train_test_split\n",
        "from sklearn.model_selection import cross_val_score\n",
        "from sklearn.model_selection import GridSearchCV\n",
        "from sklearn.metrics import accuracy_score"
      ],
      "metadata": {
        "id": "Bxcjzuls8NXO"
      },
      "execution_count": null,
      "outputs": []
    },
    {
      "cell_type": "code",
      "source": [
        "data = pd.read_csv('train.csv')\n",
        "test = pd.read_csv('test.csv')\n",
        "\n",
        "data.drop_duplicates(inplace=True)"
      ],
      "metadata": {
        "id": "1F0kRsR28Z9E"
      },
      "execution_count": null,
      "outputs": []
    },
    {
      "cell_type": "code",
      "source": [
        "continuos = [\"roundNum\", \"ctScore\", \"tScore\", \"ctFreezeTimeEndEqVal\", \"ctRoundStartEqVal\", \"tFreezeTimeEndEqVal\", \"tRoundStartEqVal\"]\n",
        "cat_features=[\"mapName\", \"ctTeam\", \"tTeam\", \"ctBuyType\", \"tBuyType\"]"
      ],
      "metadata": {
        "id": "K_Odq1tIT6Oq"
      },
      "execution_count": null,
      "outputs": []
    },
    {
      "cell_type": "code",
      "source": [
        "# data.info()"
      ],
      "metadata": {
        "id": "NcDSdTIZ8e5C"
      },
      "execution_count": null,
      "outputs": []
    },
    {
      "cell_type": "code",
      "source": [
        "# data.describe()"
      ],
      "metadata": {
        "id": "8twCXXk68gtF"
      },
      "execution_count": null,
      "outputs": []
    },
    {
      "cell_type": "code",
      "source": [
        "for col in cat_features:\n",
        "    print(data[col].nunique() == test[col].nunique() )"
      ],
      "metadata": {
        "colab": {
          "base_uri": "https://localhost:8080/"
        },
        "id": "btbo6PefETGV",
        "outputId": "20fddb28-db1c-492d-d884-daf7fd84a998"
      },
      "execution_count": null,
      "outputs": [
        {
          "output_type": "stream",
          "name": "stdout",
          "text": [
            "True\n",
            "False\n",
            "False\n",
            "True\n",
            "True\n"
          ]
        }
      ]
    },
    {
      "cell_type": "code",
      "source": [
        "not_in_train_ctTeam = []\n",
        "not_in_test_ctTeam = []\n",
        "\n",
        "col = \"ctTeam\"\n",
        "for value in test[col].unique():\n",
        "    if value not in data[col].unique():\n",
        "        not_in_train_ctTeam.append(value)\n",
        "\n",
        "for value in data[col].unique():\n",
        "    if value not in test[col].unique():\n",
        "        not_in_test_ctTeam.append(value)\n",
        "\n",
        "\n",
        "print(not_in_train_ctTeam)\n",
        "print(not_in_test_ctTeam)\n",
        "\n",
        "not_in_train_tTeam = []\n",
        "not_in_test_tTeam = []\n",
        "\n",
        "col = \"tTeam\"\n",
        "for value in test[col].unique():\n",
        "    if value not in data[col].unique():\n",
        "        not_in_train_tTeam.append(value)\n",
        "\n",
        "for value in data[col].unique():\n",
        "    if value not in test[col].unique():\n",
        "        not_in_test_tTeam.append(value)\n",
        "\n",
        "print(not_in_train_tTeam)\n",
        "print(not_in_test_tTeam)"
      ],
      "metadata": {
        "colab": {
          "base_uri": "https://localhost:8080/"
        },
        "id": "kTVWJZmpFz9M",
        "outputId": "4be26cf8-a4c0-4d15-b584-e2191722850d"
      },
      "execution_count": null,
      "outputs": [
        {
          "output_type": "stream",
          "name": "stdout",
          "text": [
            "['EYEBALLERS']\n",
            "['ENCE', '100TAG', 'Hype E-Sports']\n",
            "[]\n",
            "['MOUZ', 'Let us cook', 'EYEBALLERS', 'paiN Academy', 'ENCE Academy']\n"
          ]
        }
      ]
    },
    {
      "cell_type": "code",
      "source": [
        "add_to_train = test[test[\"ctTeam\"]==\"EYEBALLERS\"]\n",
        "add_to_train.drop_duplicates(inplace=True)\n",
        "add_to_train[\"winnerSide\"] = 0\n",
        "add_to_train"
      ],
      "metadata": {
        "colab": {
          "base_uri": "https://localhost:8080/",
          "height": 309
        },
        "id": "3_lUmiGRPVRW",
        "outputId": "d1d5f2ab-feee-4980-a33c-bfe47dffac2b"
      },
      "execution_count": null,
      "outputs": [
        {
          "output_type": "stream",
          "name": "stderr",
          "text": [
            "<ipython-input-487-da1099545362>:2: SettingWithCopyWarning: \n",
            "A value is trying to be set on a copy of a slice from a DataFrame\n",
            "\n",
            "See the caveats in the documentation: https://pandas.pydata.org/pandas-docs/stable/user_guide/indexing.html#returning-a-view-versus-a-copy\n",
            "  add_to_train.drop_duplicates(inplace=True)\n",
            "<ipython-input-487-da1099545362>:3: SettingWithCopyWarning: \n",
            "A value is trying to be set on a copy of a slice from a DataFrame.\n",
            "Try using .loc[row_indexer,col_indexer] = value instead\n",
            "\n",
            "See the caveats in the documentation: https://pandas.pydata.org/pandas-docs/stable/user_guide/indexing.html#returning-a-view-versus-a-copy\n",
            "  add_to_train[\"winnerSide\"] = 0\n"
          ]
        },
        {
          "output_type": "execute_result",
          "data": {
            "text/plain": [
              "        mapName  roundNum  ctScore  tScore      ctTeam    tTeam  \\\n",
              "2123  de_anubis        24       11      12  EYEBALLERS  LDLC OL   \n",
              "\n",
              "      ctFreezeTimeEndEqVal  ctRoundStartEqVal ctBuyType  tFreezeTimeEndEqVal  \\\n",
              "2123                 29850               1000  Full Buy                30150   \n",
              "\n",
              "      tRoundStartEqVal  tBuyType  winnerSide  \n",
              "2123             24750  Full Buy           0  "
            ],
            "text/html": [
              "\n",
              "  <div id=\"df-4b54bd63-dd1c-438a-ba24-88e5748d17c1\" class=\"colab-df-container\">\n",
              "    <div>\n",
              "<style scoped>\n",
              "    .dataframe tbody tr th:only-of-type {\n",
              "        vertical-align: middle;\n",
              "    }\n",
              "\n",
              "    .dataframe tbody tr th {\n",
              "        vertical-align: top;\n",
              "    }\n",
              "\n",
              "    .dataframe thead th {\n",
              "        text-align: right;\n",
              "    }\n",
              "</style>\n",
              "<table border=\"1\" class=\"dataframe\">\n",
              "  <thead>\n",
              "    <tr style=\"text-align: right;\">\n",
              "      <th></th>\n",
              "      <th>mapName</th>\n",
              "      <th>roundNum</th>\n",
              "      <th>ctScore</th>\n",
              "      <th>tScore</th>\n",
              "      <th>ctTeam</th>\n",
              "      <th>tTeam</th>\n",
              "      <th>ctFreezeTimeEndEqVal</th>\n",
              "      <th>ctRoundStartEqVal</th>\n",
              "      <th>ctBuyType</th>\n",
              "      <th>tFreezeTimeEndEqVal</th>\n",
              "      <th>tRoundStartEqVal</th>\n",
              "      <th>tBuyType</th>\n",
              "      <th>winnerSide</th>\n",
              "    </tr>\n",
              "  </thead>\n",
              "  <tbody>\n",
              "    <tr>\n",
              "      <th>2123</th>\n",
              "      <td>de_anubis</td>\n",
              "      <td>24</td>\n",
              "      <td>11</td>\n",
              "      <td>12</td>\n",
              "      <td>EYEBALLERS</td>\n",
              "      <td>LDLC OL</td>\n",
              "      <td>29850</td>\n",
              "      <td>1000</td>\n",
              "      <td>Full Buy</td>\n",
              "      <td>30150</td>\n",
              "      <td>24750</td>\n",
              "      <td>Full Buy</td>\n",
              "      <td>0</td>\n",
              "    </tr>\n",
              "  </tbody>\n",
              "</table>\n",
              "</div>\n",
              "    <div class=\"colab-df-buttons\">\n",
              "\n",
              "  <div class=\"colab-df-container\">\n",
              "    <button class=\"colab-df-convert\" onclick=\"convertToInteractive('df-4b54bd63-dd1c-438a-ba24-88e5748d17c1')\"\n",
              "            title=\"Convert this dataframe to an interactive table.\"\n",
              "            style=\"display:none;\">\n",
              "\n",
              "  <svg xmlns=\"http://www.w3.org/2000/svg\" height=\"24px\" viewBox=\"0 -960 960 960\">\n",
              "    <path d=\"M120-120v-720h720v720H120Zm60-500h600v-160H180v160Zm220 220h160v-160H400v160Zm0 220h160v-160H400v160ZM180-400h160v-160H180v160Zm440 0h160v-160H620v160ZM180-180h160v-160H180v160Zm440 0h160v-160H620v160Z\"/>\n",
              "  </svg>\n",
              "    </button>\n",
              "\n",
              "  <style>\n",
              "    .colab-df-container {\n",
              "      display:flex;\n",
              "      gap: 12px;\n",
              "    }\n",
              "\n",
              "    .colab-df-convert {\n",
              "      background-color: #E8F0FE;\n",
              "      border: none;\n",
              "      border-radius: 50%;\n",
              "      cursor: pointer;\n",
              "      display: none;\n",
              "      fill: #1967D2;\n",
              "      height: 32px;\n",
              "      padding: 0 0 0 0;\n",
              "      width: 32px;\n",
              "    }\n",
              "\n",
              "    .colab-df-convert:hover {\n",
              "      background-color: #E2EBFA;\n",
              "      box-shadow: 0px 1px 2px rgba(60, 64, 67, 0.3), 0px 1px 3px 1px rgba(60, 64, 67, 0.15);\n",
              "      fill: #174EA6;\n",
              "    }\n",
              "\n",
              "    .colab-df-buttons div {\n",
              "      margin-bottom: 4px;\n",
              "    }\n",
              "\n",
              "    [theme=dark] .colab-df-convert {\n",
              "      background-color: #3B4455;\n",
              "      fill: #D2E3FC;\n",
              "    }\n",
              "\n",
              "    [theme=dark] .colab-df-convert:hover {\n",
              "      background-color: #434B5C;\n",
              "      box-shadow: 0px 1px 3px 1px rgba(0, 0, 0, 0.15);\n",
              "      filter: drop-shadow(0px 1px 2px rgba(0, 0, 0, 0.3));\n",
              "      fill: #FFFFFF;\n",
              "    }\n",
              "  </style>\n",
              "\n",
              "    <script>\n",
              "      const buttonEl =\n",
              "        document.querySelector('#df-4b54bd63-dd1c-438a-ba24-88e5748d17c1 button.colab-df-convert');\n",
              "      buttonEl.style.display =\n",
              "        google.colab.kernel.accessAllowed ? 'block' : 'none';\n",
              "\n",
              "      async function convertToInteractive(key) {\n",
              "        const element = document.querySelector('#df-4b54bd63-dd1c-438a-ba24-88e5748d17c1');\n",
              "        const dataTable =\n",
              "          await google.colab.kernel.invokeFunction('convertToInteractive',\n",
              "                                                    [key], {});\n",
              "        if (!dataTable) return;\n",
              "\n",
              "        const docLinkHtml = 'Like what you see? Visit the ' +\n",
              "          '<a target=\"_blank\" href=https://colab.research.google.com/notebooks/data_table.ipynb>data table notebook</a>'\n",
              "          + ' to learn more about interactive tables.';\n",
              "        element.innerHTML = '';\n",
              "        dataTable['output_type'] = 'display_data';\n",
              "        await google.colab.output.renderOutput(dataTable, element);\n",
              "        const docLink = document.createElement('div');\n",
              "        docLink.innerHTML = docLinkHtml;\n",
              "        element.appendChild(docLink);\n",
              "      }\n",
              "    </script>\n",
              "  </div>\n",
              "\n",
              "    </div>\n",
              "  </div>\n"
            ],
            "application/vnd.google.colaboratory.intrinsic+json": {
              "type": "dataframe",
              "variable_name": "add_to_train",
              "summary": "{\n  \"name\": \"add_to_train\",\n  \"rows\": 1,\n  \"fields\": [\n    {\n      \"column\": \"mapName\",\n      \"properties\": {\n        \"dtype\": \"string\",\n        \"num_unique_values\": 1,\n        \"samples\": [\n          \"de_anubis\"\n        ],\n        \"semantic_type\": \"\",\n        \"description\": \"\"\n      }\n    },\n    {\n      \"column\": \"roundNum\",\n      \"properties\": {\n        \"dtype\": \"number\",\n        \"std\": null,\n        \"min\": 24,\n        \"max\": 24,\n        \"num_unique_values\": 1,\n        \"samples\": [\n          24\n        ],\n        \"semantic_type\": \"\",\n        \"description\": \"\"\n      }\n    },\n    {\n      \"column\": \"ctScore\",\n      \"properties\": {\n        \"dtype\": \"number\",\n        \"std\": null,\n        \"min\": 11,\n        \"max\": 11,\n        \"num_unique_values\": 1,\n        \"samples\": [\n          11\n        ],\n        \"semantic_type\": \"\",\n        \"description\": \"\"\n      }\n    },\n    {\n      \"column\": \"tScore\",\n      \"properties\": {\n        \"dtype\": \"number\",\n        \"std\": null,\n        \"min\": 12,\n        \"max\": 12,\n        \"num_unique_values\": 1,\n        \"samples\": [\n          12\n        ],\n        \"semantic_type\": \"\",\n        \"description\": \"\"\n      }\n    },\n    {\n      \"column\": \"ctTeam\",\n      \"properties\": {\n        \"dtype\": \"string\",\n        \"num_unique_values\": 1,\n        \"samples\": [\n          \"EYEBALLERS\"\n        ],\n        \"semantic_type\": \"\",\n        \"description\": \"\"\n      }\n    },\n    {\n      \"column\": \"tTeam\",\n      \"properties\": {\n        \"dtype\": \"string\",\n        \"num_unique_values\": 1,\n        \"samples\": [\n          \"LDLC OL\"\n        ],\n        \"semantic_type\": \"\",\n        \"description\": \"\"\n      }\n    },\n    {\n      \"column\": \"ctFreezeTimeEndEqVal\",\n      \"properties\": {\n        \"dtype\": \"number\",\n        \"std\": null,\n        \"min\": 29850,\n        \"max\": 29850,\n        \"num_unique_values\": 1,\n        \"samples\": [\n          29850\n        ],\n        \"semantic_type\": \"\",\n        \"description\": \"\"\n      }\n    },\n    {\n      \"column\": \"ctRoundStartEqVal\",\n      \"properties\": {\n        \"dtype\": \"number\",\n        \"std\": null,\n        \"min\": 1000,\n        \"max\": 1000,\n        \"num_unique_values\": 1,\n        \"samples\": [\n          1000\n        ],\n        \"semantic_type\": \"\",\n        \"description\": \"\"\n      }\n    },\n    {\n      \"column\": \"ctBuyType\",\n      \"properties\": {\n        \"dtype\": \"string\",\n        \"num_unique_values\": 1,\n        \"samples\": [\n          \"Full Buy\"\n        ],\n        \"semantic_type\": \"\",\n        \"description\": \"\"\n      }\n    },\n    {\n      \"column\": \"tFreezeTimeEndEqVal\",\n      \"properties\": {\n        \"dtype\": \"number\",\n        \"std\": null,\n        \"min\": 30150,\n        \"max\": 30150,\n        \"num_unique_values\": 1,\n        \"samples\": [\n          30150\n        ],\n        \"semantic_type\": \"\",\n        \"description\": \"\"\n      }\n    },\n    {\n      \"column\": \"tRoundStartEqVal\",\n      \"properties\": {\n        \"dtype\": \"number\",\n        \"std\": null,\n        \"min\": 24750,\n        \"max\": 24750,\n        \"num_unique_values\": 1,\n        \"samples\": [\n          24750\n        ],\n        \"semantic_type\": \"\",\n        \"description\": \"\"\n      }\n    },\n    {\n      \"column\": \"tBuyType\",\n      \"properties\": {\n        \"dtype\": \"string\",\n        \"num_unique_values\": 1,\n        \"samples\": [\n          \"Full Buy\"\n        ],\n        \"semantic_type\": \"\",\n        \"description\": \"\"\n      }\n    },\n    {\n      \"column\": \"winnerSide\",\n      \"properties\": {\n        \"dtype\": \"number\",\n        \"std\": null,\n        \"min\": 0,\n        \"max\": 0,\n        \"num_unique_values\": 1,\n        \"samples\": [\n          0\n        ],\n        \"semantic_type\": \"\",\n        \"description\": \"\"\n      }\n    }\n  ]\n}"
            }
          },
          "metadata": {},
          "execution_count": 487
        }
      ]
    },
    {
      "cell_type": "code",
      "source": [
        "print(data.shape)\n",
        "\n",
        "data_r = data[~data[\"ctTeam\"].isin(not_in_test_ctTeam)]\n",
        "data_r = data_r[~data_r[\"tTeam\"].isin(not_in_test_tTeam)]\n",
        "data_r = pd.concat([data_r, add_to_train], ignore_index=True).reset_index(drop=True)\n",
        "\n",
        "print(data_r.shape)"
      ],
      "metadata": {
        "colab": {
          "base_uri": "https://localhost:8080/"
        },
        "id": "cyvVFzcTGaxp",
        "outputId": "04c73a8d-ffef-49be-a058-8e15bfe6a3b4"
      },
      "execution_count": null,
      "outputs": [
        {
          "output_type": "stream",
          "name": "stdout",
          "text": [
            "(9008, 13)\n",
            "(8999, 13)\n"
          ]
        }
      ]
    },
    {
      "cell_type": "code",
      "source": [
        "def prepare_for_lgbm(df):\n",
        "    enc = OneHotEncoder(sparse_output=False)\n",
        "\n",
        "    categorical = [\"mapName\", \"ctTeam\", \"tTeam\", \"ctBuyType\", \"tBuyType\"]\n",
        "    enc_fea = enc.fit_transform(df[categorical])\n",
        "    encoded_df = pd.DataFrame(enc_fea, columns=enc.get_feature_names_out(categorical))\n",
        "    return pd.concat([df.drop(categorical, axis=1), encoded_df], axis=1)"
      ],
      "metadata": {
        "id": "K8jMEzI1_hgP"
      },
      "execution_count": null,
      "outputs": []
    },
    {
      "cell_type": "code",
      "source": [
        "df_simple = prepare_for_lgbm(data_r.copy())\n",
        "\n",
        "X = df_simple.drop(\"winnerSide\", axis=1)\n",
        "y = df_simple[\"winnerSide\"]\n",
        "print(X.shape, y.shape)"
      ],
      "metadata": {
        "colab": {
          "base_uri": "https://localhost:8080/"
        },
        "id": "TdIw-XFR88YW",
        "outputId": "535cf6da-74a5-4000-e291-82c188464ea3"
      },
      "execution_count": null,
      "outputs": [
        {
          "output_type": "stream",
          "name": "stdout",
          "text": [
            "(8999, 367) (8999,)\n"
          ]
        }
      ]
    },
    {
      "cell_type": "code",
      "source": [
        "X_w_cat = data_r.drop(\"winnerSide\", axis=1)\n",
        "y_w_cat = data_r[\"winnerSide\"]\n",
        "print(X_w_cat.shape, y_w_cat.shape)"
      ],
      "metadata": {
        "colab": {
          "base_uri": "https://localhost:8080/"
        },
        "id": "HnhXz2OQfrkT",
        "outputId": "7a5b4209-1779-4f99-d54d-aa8f53b8d2bf"
      },
      "execution_count": null,
      "outputs": [
        {
          "output_type": "stream",
          "name": "stdout",
          "text": [
            "(8999, 12) (8999,)\n"
          ]
        }
      ]
    },
    {
      "cell_type": "code",
      "source": [
        "X_test = prepare_for_lgbm(test.copy())\n",
        "print(X_test.shape)"
      ],
      "metadata": {
        "colab": {
          "base_uri": "https://localhost:8080/"
        },
        "id": "Wa9uFwOlA3Ww",
        "outputId": "a136b445-e488-4be2-f379-4d6b98b10a5d"
      },
      "execution_count": null,
      "outputs": [
        {
          "output_type": "stream",
          "name": "stdout",
          "text": [
            "(3750, 367)\n"
          ]
        }
      ]
    },
    {
      "cell_type": "code",
      "source": [
        "X_test_w_cat = test.copy()\n",
        "print(X_test_w_cat.shape)"
      ],
      "metadata": {
        "colab": {
          "base_uri": "https://localhost:8080/"
        },
        "id": "n7MxrwIHf4BM",
        "outputId": "2306cab5-cead-4eba-b48b-4a804d76e5c2"
      },
      "execution_count": null,
      "outputs": [
        {
          "output_type": "stream",
          "name": "stdout",
          "text": [
            "(3750, 12)\n"
          ]
        }
      ]
    },
    {
      "cell_type": "code",
      "source": [
        "X_train, X_val, y_train, y_val = train_test_split(X, y, test_size=0.2, random_state=42)\n",
        "scaler = StandardScaler()\n",
        "X_train[continuos] = scaler.fit_transform(X_train[continuos])\n",
        "X_val[continuos] = scaler.transform(X_val[continuos])"
      ],
      "metadata": {
        "id": "6dcDrHQHTgfY"
      },
      "execution_count": null,
      "outputs": []
    },
    {
      "cell_type": "markdown",
      "source": [
        "## Fitting"
      ],
      "metadata": {
        "id": "Anu_iU8d9fsj"
      }
    },
    {
      "cell_type": "markdown",
      "source": [
        "### lgbm"
      ],
      "metadata": {
        "id": "9-sogNwm-bx4"
      }
    },
    {
      "cell_type": "code",
      "source": [
        "%%time\n",
        "lgbm = lgb.LGBMClassifier(objective=\"binary\", random_state=42)\n",
        "\n",
        "param_grid = {\n",
        "    \"min_child_samples\": np.arange(13, 20),\n",
        "    \"max_depth\": np.arange(3, 6),\n",
        "    'n_estimators': [450, 300, 250],\n",
        "}\n",
        "\n",
        "search = GridSearchCV(lgbm, param_grid, cv=5, scoring=\"accuracy\").fit(X_train, y_train)\n",
        "\n",
        "# Вывод результатов\n",
        "print(\"Лучшие параметры:\", search.best_params_)\n",
        "print(\"Лучшее значение точности:\", search.best_score_)\n",
        "\n",
        "# Оценка на валидационной выборке\n",
        "best_pipeline = search.best_estimator_\n",
        "val_accuracy = best_pipeline.score(X_val, y_val)\n",
        "print(\"Точность на валидационной выборке:\", val_accuracy)"
      ],
      "metadata": {
        "colab": {
          "base_uri": "https://localhost:8080/"
        },
        "id": "9WPwKC809iQj",
        "outputId": "c660c006-9ad7-43d1-9373-37b01a9a6ca7"
      },
      "execution_count": null,
      "outputs": [
        {
          "output_type": "stream",
          "name": "stdout",
          "text": [
            "Лучшие параметры: {'max_depth': 3, 'min_child_samples': 15, 'n_estimators': 300}\n",
            "Лучшее значение точности: 0.6484222260829279\n",
            "Точность на валидационной выборке: 0.6433333333333333\n",
            "CPU times: user 3min 47s, sys: 1.79 s, total: 3min 49s\n",
            "Wall time: 2min 33s\n"
          ]
        }
      ]
    },
    {
      "cell_type": "code",
      "source": [
        "scaler = StandardScaler()\n",
        "X[continuos] = scaler.fit_transform(X[continuos])\n",
        "X_test[continuos] = scaler.transform(X_test[continuos])"
      ],
      "metadata": {
        "id": "ZaOLDDweUmjh"
      },
      "execution_count": null,
      "outputs": []
    },
    {
      "cell_type": "code",
      "source": [
        "lgbm = lgb.LGBMClassifier(\n",
        "    objective=\"binary\",\n",
        "    min_data_in_leaf = 15,\n",
        "    max_depth = 3,\n",
        "    n_estimators = 300,\n",
        "    random_state=42\n",
        ").fit(X, y)\n",
        "\n",
        "\n",
        "pred_lgbm = lgbm.predict(X_test)\n",
        "submission = pd.read_csv('SampleSubmission.csv')\n",
        "submission['winnerSide'] = pred_lgbm # ваше предсказание\n",
        "submission.to_csv('submission_hw3_lgbm.csv', index=False)\n",
        "print(submission)\n",
        "\n",
        "sns.kdeplot(y)\n",
        "sns.kdeplot(pred_lgbm, color=\"r\")"
      ],
      "metadata": {
        "colab": {
          "base_uri": "https://localhost:8080/",
          "height": 727
        },
        "id": "4qYhZC1oAay1",
        "outputId": "84de4770-6253-4d1a-fdc0-ec508d6e753b"
      },
      "execution_count": null,
      "outputs": [
        {
          "output_type": "stream",
          "name": "stdout",
          "text": [
            "[LightGBM] [Warning] min_data_in_leaf is set=15, min_child_samples=20 will be ignored. Current value: min_data_in_leaf=15\n",
            "      winnerSide\n",
            "0              1\n",
            "1              0\n",
            "2              0\n",
            "3              1\n",
            "4              0\n",
            "...          ...\n",
            "3745           1\n",
            "3746           0\n",
            "3747           1\n",
            "3748           1\n",
            "3749           0\n",
            "\n",
            "[3750 rows x 1 columns]\n"
          ]
        },
        {
          "output_type": "execute_result",
          "data": {
            "text/plain": [
              "<Axes: xlabel='winnerSide', ylabel='Density'>"
            ]
          },
          "metadata": {},
          "execution_count": 452
        },
        {
          "output_type": "display_data",
          "data": {
            "text/plain": [
              "<Figure size 640x480 with 1 Axes>"
            ],
            "image/png": "[encoded data removed]"
          },
          "metadata": {}
        }
      ]
    },
    {
      "cell_type": "markdown",
      "source": [
        "-------- AdversarialValidation --------"
      ],
      "metadata": {
        "id": "cvpfMS0qY2PK"
      }
    },
    {
      "cell_type": "code",
      "source": [
        "from sklearn.metrics import roc_auc_score\n",
        "#2\n",
        "X_av = X.copy() #сохраним базовый train\n",
        "X_test_av = X_test.copy() #сохраним базовый test\n",
        "\n",
        "X_av[\"is_test\"] = 0\n",
        "X_test_av[\"is_test\"]  = 1\n",
        "all = pd.concat([X_av, X_test_av], axis=0, ignore_index=True)\n",
        "\n",
        "#new train and target\n",
        "X_all = all.drop(['is_test'], axis=1)\n",
        "y_all = all['is_test']\n",
        "\n",
        "#fitting\n",
        "lgbm_AV = lgb.LGBMClassifier(\n",
        "    objective=\"binary\",\n",
        "    min_data_in_leaf = 15,\n",
        "    max_depth = 3,\n",
        "    n_estimators = 300,\n",
        "    random_state=42\n",
        ").fit(X_all, y_all)\n",
        "\n",
        "\n",
        "auc_score = roc_auc_score(y_all, lgbm_AV.predict_proba(X_all)[:,1])\n",
        "print(auc_score, \"если больше 0.5, то шансы есть; вроде норм\")\n",
        "\n",
        "#predict proba\n",
        "X_new = X_all.copy()\n",
        "X_new['proba'] = lgbm_AV.predict_proba(X_all)[:,1]\n",
        "X_new['is_test'] = y_all\n",
        "\n",
        "# оставляем только обучающую\n",
        "X_new = X_new[X_new['is_test']==0]\n",
        "\n",
        "#sorting\n",
        "nrows = X_new.shape[0]\n",
        "\n",
        "sorted = X_new.sort_values(by='proba',ascending=False)\n",
        "\n",
        "#выделяем 10 % на валидацию\n",
        "ind = sorted[:int(nrows*.1)].index\n",
        "ind2 = sorted[int(nrows*.1):].index\n",
        "\n",
        "X_valid_av = X.iloc[ind]\n",
        "y_valid_av = y.iloc[ind]\n",
        "X_train_av = X.iloc[ind2]\n",
        "y_train_av = y.iloc[ind2]"
      ],
      "metadata": {
        "colab": {
          "base_uri": "https://localhost:8080/"
        },
        "id": "Gvg-8TL6-eay",
        "outputId": "ebbe50e6-d3dd-4130-fe09-86ed58bb2a82"
      },
      "execution_count": null,
      "outputs": [
        {
          "output_type": "stream",
          "name": "stdout",
          "text": [
            "[LightGBM] [Warning] min_data_in_leaf is set=15, min_child_samples=20 will be ignored. Current value: min_data_in_leaf=15\n",
            "0.6516430714523835 если больше 0.5, то шансы есть; вроде норм\n"
          ]
        }
      ]
    },
    {
      "cell_type": "code",
      "source": [
        "%%time\n",
        "lgbm = lgb.LGBMClassifier(objective=\"binary\", random_state=42)\n",
        "\n",
        "param_grid = {\n",
        "    \"min_child_samples\": np.arange(13, 17),\n",
        "    \"max_depth\": np.arange(3, 4),\n",
        "    'n_estimators': [450, 300, 250],\n",
        "}\n",
        "\n",
        "search = GridSearchCV(lgbm, param_grid, cv=5, scoring=\"accuracy\").fit(X_train_av, y_train_av)\n",
        "\n",
        "# Вывод результатов\n",
        "print(\"Лучшие параметры:\", search.best_params_)\n",
        "print(\"Лучшее значение точности:\", search.best_score_)\n",
        "\n",
        "# Оценка на валидационной выборке\n",
        "best_pipeline = search.best_estimator_\n",
        "val_accuracy = best_pipeline.score(X_valid_av, y_valid_av)\n",
        "print(\"Точность на валидационной выборке:\", val_accuracy)"
      ],
      "metadata": {
        "colab": {
          "base_uri": "https://localhost:8080/",
          "height": 391
        },
        "id": "Kcq5j126YsOX",
        "outputId": "e54554fe-838f-434e-e8ff-96d374c4df59"
      },
      "execution_count": null,
      "outputs": [
        {
          "output_type": "error",
          "ename": "KeyboardInterrupt",
          "evalue": "",
          "traceback": [
            "\u001b[0;31m---------------------------------------------------------------------------\u001b[0m",
            "\u001b[0;31mKeyboardInterrupt\u001b[0m                         Traceback (most recent call last)",
            "\u001b[0;32m<timed exec>\u001b[0m in \u001b[0;36m<module>\u001b[0;34m\u001b[0m\n",
            "\u001b[0;32m/usr/local/lib/python3.10/dist-packages/sklearn/base.py\u001b[0m in \u001b[0;36mwrapper\u001b[0;34m(estimator, *args, **kwargs)\u001b[0m\n\u001b[1;32m   1471\u001b[0m                 )\n\u001b[1;32m   1472\u001b[0m             ):\n\u001b[0;32m-> 1473\u001b[0;31m                 \u001b[0;32mreturn\u001b[0m \u001b[0mfit_method\u001b[0m\u001b[0;34m(\u001b[0m\u001b[0mestimator\u001b[0m\u001b[0;34m,\u001b[0m \u001b[0;34m*\u001b[0m\u001b[0margs\u001b[0m\u001b[0;34m,\u001b[0m \u001b[0;34m**\u001b[0m\u001b[0mkwargs\u001b[0m\u001b[0;34m)\u001b[0m\u001b[0;34m\u001b[0m\u001b[0;34m\u001b[0m\u001b[0m\n\u001b[0m\u001b[1;32m   1474\u001b[0m \u001b[0;34m\u001b[0m\u001b[0m\n\u001b[1;32m   1475\u001b[0m         \u001b[0;32mreturn\u001b[0m \u001b[0mwrapper\u001b[0m\u001b[0;34m\u001b[0m\u001b[0;34m\u001b[0m\u001b[0m\n",
            "\u001b[0;32m/usr/local/lib/python3.10/dist-packages/sklearn/model_selection/_search.py\u001b[0m in \u001b[0;36mfit\u001b[0;34m(self, X, y, **params)\u001b[0m\n\u001b[1;32m   1017\u001b[0m                 \u001b[0;32mreturn\u001b[0m \u001b[0mresults\u001b[0m\u001b[0;34m\u001b[0m\u001b[0;34m\u001b[0m\u001b[0m\n\u001b[1;32m   1018\u001b[0m \u001b[0;34m\u001b[0m\u001b[0m\n\u001b[0;32m-> 1019\u001b[0;31m             \u001b[0mself\u001b[0m\u001b[0;34m.\u001b[0m\u001b[0m_run_search\u001b[0m\u001b[0;34m(\u001b[0m\u001b[0mevaluate_candidates\u001b[0m\u001b[0;34m)\u001b[0m\u001b[0;34m\u001b[0m\u001b[0;34m\u001b[0m\u001b[0m\n\u001b[0m\u001b[1;32m   1020\u001b[0m \u001b[0;34m\u001b[0m\u001b[0m\n\u001b[1;32m   1021\u001b[0m             \u001b[0;31m# multimetric is determined here because in the case of a callable\u001b[0m\u001b[0;34m\u001b[0m\u001b[0;34m\u001b[0m\u001b[0m\n",
            "\u001b[0;32m/usr/local/lib/python3.10/dist-packages/sklearn/model_selection/_search.py\u001b[0m in \u001b[0;36m_run_search\u001b[0;34m(self, evaluate_candidates)\u001b[0m\n\u001b[1;32m   1571\u001b[0m     \u001b[0;32mdef\u001b[0m \u001b[0m_run_search\u001b[0m\u001b[0;34m(\u001b[0m\u001b[0mself\u001b[0m\u001b[0;34m,\u001b[0m \u001b[0mevaluate_candidates\u001b[0m\u001b[0;34m)\u001b[0m\u001b[0;34m:\u001b[0m\u001b[0;34m\u001b[0m\u001b[0;34m\u001b[0m\u001b[0m\n\u001b[1;32m   1572\u001b[0m         \u001b[0;34m\"\"\"Search all candidates in param_grid\"\"\"\u001b[0m\u001b[0;34m\u001b[0m\u001b[0;34m\u001b[0m\u001b[0m\n\u001b[0;32m-> 1573\u001b[0;31m         \u001b[0mevaluate_candidates\u001b[0m\u001b[0;34m(\u001b[0m\u001b[0mParameterGrid\u001b[0m\u001b[0;34m(\u001b[0m\u001b[0mself\u001b[0m\u001b[0;34m.\u001b[0m\u001b[0mparam_grid\u001b[0m\u001b[0;34m)\u001b[0m\u001b[0;34m)\u001b[0m\u001b[0;34m\u001b[0m\u001b[0;34m\u001b[0m\u001b[0m\n\u001b[0m\u001b[1;32m   1574\u001b[0m \u001b[0;34m\u001b[0m\u001b[0m\n\u001b[1;32m   1575\u001b[0m \u001b[0;34m\u001b[0m\u001b[0m\n",
            "\u001b[0;32m/usr/local/lib/python3.10/dist-packages/sklearn/model_selection/_search.py\u001b[0m in \u001b[0;36mevaluate_candidates\u001b[0;34m(candidate_params, cv, more_results)\u001b[0m\n\u001b[1;32m    963\u001b[0m                     )\n\u001b[1;32m    964\u001b[0m \u001b[0;34m\u001b[0m\u001b[0m\n\u001b[0;32m--> 965\u001b[0;31m                 out = parallel(\n\u001b[0m\u001b[1;32m    966\u001b[0m                     delayed(_fit_and_score)(\n\u001b[1;32m    967\u001b[0m                         \u001b[0mclone\u001b[0m\u001b[0;34m(\u001b[0m\u001b[0mbase_estimator\u001b[0m\u001b[0;34m)\u001b[0m\u001b[0;34m,\u001b[0m\u001b[0;34m\u001b[0m\u001b[0;34m\u001b[0m\u001b[0m\n",
            "\u001b[0;32m/usr/local/lib/python3.10/dist-packages/sklearn/utils/parallel.py\u001b[0m in \u001b[0;36m__call__\u001b[0;34m(self, iterable)\u001b[0m\n\u001b[1;32m     72\u001b[0m             \u001b[0;32mfor\u001b[0m \u001b[0mdelayed_func\u001b[0m\u001b[0;34m,\u001b[0m \u001b[0margs\u001b[0m\u001b[0;34m,\u001b[0m \u001b[0mkwargs\u001b[0m \u001b[0;32min\u001b[0m \u001b[0miterable\u001b[0m\u001b[0;34m\u001b[0m\u001b[0;34m\u001b[0m\u001b[0m\n\u001b[1;32m     73\u001b[0m         )\n\u001b[0;32m---> 74\u001b[0;31m         \u001b[0;32mreturn\u001b[0m \u001b[0msuper\u001b[0m\u001b[0;34m(\u001b[0m\u001b[0;34m)\u001b[0m\u001b[0;34m.\u001b[0m\u001b[0m__call__\u001b[0m\u001b[0;34m(\u001b[0m\u001b[0miterable_with_config\u001b[0m\u001b[0;34m)\u001b[0m\u001b[0;34m\u001b[0m\u001b[0;34m\u001b[0m\u001b[0m\n\u001b[0m\u001b[1;32m     75\u001b[0m \u001b[0;34m\u001b[0m\u001b[0m\n\u001b[1;32m     76\u001b[0m \u001b[0;34m\u001b[0m\u001b[0m\n",
            "\u001b[0;32m/usr/local/lib/python3.10/dist-packages/joblib/parallel.py\u001b[0m in \u001b[0;36m__call__\u001b[0;34m(self, iterable)\u001b[0m\n\u001b[1;32m   1916\u001b[0m             \u001b[0moutput\u001b[0m \u001b[0;34m=\u001b[0m \u001b[0mself\u001b[0m\u001b[0;34m.\u001b[0m\u001b[0m_get_sequential_output\u001b[0m\u001b[0;34m(\u001b[0m\u001b[0miterable\u001b[0m\u001b[0;34m)\u001b[0m\u001b[0;34m\u001b[0m\u001b[0;34m\u001b[0m\u001b[0m\n\u001b[1;32m   1917\u001b[0m             \u001b[0mnext\u001b[0m\u001b[0;34m(\u001b[0m\u001b[0moutput\u001b[0m\u001b[0;34m)\u001b[0m\u001b[0;34m\u001b[0m\u001b[0;34m\u001b[0m\u001b[0m\n\u001b[0;32m-> 1918\u001b[0;31m             \u001b[0;32mreturn\u001b[0m \u001b[0moutput\u001b[0m \u001b[0;32mif\u001b[0m \u001b[0mself\u001b[0m\u001b[0;34m.\u001b[0m\u001b[0mreturn_generator\u001b[0m \u001b[0;32melse\u001b[0m \u001b[0mlist\u001b[0m\u001b[0;34m(\u001b[0m\u001b[0moutput\u001b[0m\u001b[0;34m)\u001b[0m\u001b[0;34m\u001b[0m\u001b[0;34m\u001b[0m\u001b[0m\n\u001b[0m\u001b[1;32m   1919\u001b[0m \u001b[0;34m\u001b[0m\u001b[0m\n\u001b[1;32m   1920\u001b[0m         \u001b[0;31m# Let's create an ID that uniquely identifies the current call. If the\u001b[0m\u001b[0;34m\u001b[0m\u001b[0;34m\u001b[0m\u001b[0m\n",
            "\u001b[0;32m/usr/local/lib/python3.10/dist-packages/joblib/parallel.py\u001b[0m in \u001b[0;36m_get_sequential_output\u001b[0;34m(self, iterable)\u001b[0m\n\u001b[1;32m   1845\u001b[0m                 \u001b[0mself\u001b[0m\u001b[0;34m.\u001b[0m\u001b[0mn_dispatched_batches\u001b[0m \u001b[0;34m+=\u001b[0m \u001b[0;36m1\u001b[0m\u001b[0;34m\u001b[0m\u001b[0;34m\u001b[0m\u001b[0m\n\u001b[1;32m   1846\u001b[0m                 \u001b[0mself\u001b[0m\u001b[0;34m.\u001b[0m\u001b[0mn_dispatched_tasks\u001b[0m \u001b[0;34m+=\u001b[0m \u001b[0;36m1\u001b[0m\u001b[0;34m\u001b[0m\u001b[0;34m\u001b[0m\u001b[0m\n\u001b[0;32m-> 1847\u001b[0;31m                 \u001b[0mres\u001b[0m \u001b[0;34m=\u001b[0m \u001b[0mfunc\u001b[0m\u001b[0;34m(\u001b[0m\u001b[0;34m*\u001b[0m\u001b[0margs\u001b[0m\u001b[0;34m,\u001b[0m \u001b[0;34m**\u001b[0m\u001b[0mkwargs\u001b[0m\u001b[0;34m)\u001b[0m\u001b[0;34m\u001b[0m\u001b[0;34m\u001b[0m\u001b[0m\n\u001b[0m\u001b[1;32m   1848\u001b[0m                 \u001b[0mself\u001b[0m\u001b[0;34m.\u001b[0m\u001b[0mn_completed_tasks\u001b[0m \u001b[0;34m+=\u001b[0m \u001b[0;36m1\u001b[0m\u001b[0;34m\u001b[0m\u001b[0;34m\u001b[0m\u001b[0m\n\u001b[1;32m   1849\u001b[0m                 \u001b[0mself\u001b[0m\u001b[0;34m.\u001b[0m\u001b[0mprint_progress\u001b[0m\u001b[0;34m(\u001b[0m\u001b[0;34m)\u001b[0m\u001b[0;34m\u001b[0m\u001b[0;34m\u001b[0m\u001b[0m\n",
            "\u001b[0;32m/usr/local/lib/python3.10/dist-packages/sklearn/utils/parallel.py\u001b[0m in \u001b[0;36m__call__\u001b[0;34m(self, *args, **kwargs)\u001b[0m\n\u001b[1;32m    134\u001b[0m             \u001b[0mconfig\u001b[0m \u001b[0;34m=\u001b[0m \u001b[0;34m{\u001b[0m\u001b[0;34m}\u001b[0m\u001b[0;34m\u001b[0m\u001b[0;34m\u001b[0m\u001b[0m\n\u001b[1;32m    135\u001b[0m         \u001b[0;32mwith\u001b[0m \u001b[0mconfig_context\u001b[0m\u001b[0;34m(\u001b[0m\u001b[0;34m**\u001b[0m\u001b[0mconfig\u001b[0m\u001b[0;34m)\u001b[0m\u001b[0;34m:\u001b[0m\u001b[0;34m\u001b[0m\u001b[0;34m\u001b[0m\u001b[0m\n\u001b[0;32m--> 136\u001b[0;31m             \u001b[0;32mreturn\u001b[0m \u001b[0mself\u001b[0m\u001b[0;34m.\u001b[0m\u001b[0mfunction\u001b[0m\u001b[0;34m(\u001b[0m\u001b[0;34m*\u001b[0m\u001b[0margs\u001b[0m\u001b[0;34m,\u001b[0m \u001b[0;34m**\u001b[0m\u001b[0mkwargs\u001b[0m\u001b[0;34m)\u001b[0m\u001b[0;34m\u001b[0m\u001b[0;34m\u001b[0m\u001b[0m\n\u001b[0m\u001b[1;32m    137\u001b[0m \u001b[0;34m\u001b[0m\u001b[0m\n\u001b[1;32m    138\u001b[0m \u001b[0;34m\u001b[0m\u001b[0m\n",
            "\u001b[0;32m/usr/local/lib/python3.10/dist-packages/sklearn/model_selection/_validation.py\u001b[0m in \u001b[0;36m_fit_and_score\u001b[0;34m(estimator, X, y, scorer, train, test, verbose, parameters, fit_params, score_params, return_train_score, return_parameters, return_n_test_samples, return_times, return_estimator, split_progress, candidate_progress, error_score)\u001b[0m\n\u001b[1;32m    886\u001b[0m             \u001b[0mestimator\u001b[0m\u001b[0;34m.\u001b[0m\u001b[0mfit\u001b[0m\u001b[0;34m(\u001b[0m\u001b[0mX_train\u001b[0m\u001b[0;34m,\u001b[0m \u001b[0;34m**\u001b[0m\u001b[0mfit_params\u001b[0m\u001b[0;34m)\u001b[0m\u001b[0;34m\u001b[0m\u001b[0;34m\u001b[0m\u001b[0m\n\u001b[1;32m    887\u001b[0m         \u001b[0;32melse\u001b[0m\u001b[0;34m:\u001b[0m\u001b[0;34m\u001b[0m\u001b[0;34m\u001b[0m\u001b[0m\n\u001b[0;32m--> 888\u001b[0;31m             \u001b[0mestimator\u001b[0m\u001b[0;34m.\u001b[0m\u001b[0mfit\u001b[0m\u001b[0;34m(\u001b[0m\u001b[0mX_train\u001b[0m\u001b[0;34m,\u001b[0m \u001b[0my_train\u001b[0m\u001b[0;34m,\u001b[0m \u001b[0;34m**\u001b[0m\u001b[0mfit_params\u001b[0m\u001b[0;34m)\u001b[0m\u001b[0;34m\u001b[0m\u001b[0;34m\u001b[0m\u001b[0m\n\u001b[0m\u001b[1;32m    889\u001b[0m \u001b[0;34m\u001b[0m\u001b[0m\n\u001b[1;32m    890\u001b[0m     \u001b[0;32mexcept\u001b[0m \u001b[0mException\u001b[0m\u001b[0;34m:\u001b[0m\u001b[0;34m\u001b[0m\u001b[0;34m\u001b[0m\u001b[0m\n",
            "\u001b[0;32m/usr/local/lib/python3.10/dist-packages/lightgbm/sklearn.py\u001b[0m in \u001b[0;36mfit\u001b[0;34m(self, X, y, sample_weight, init_score, eval_set, eval_names, eval_sample_weight, eval_class_weight, eval_init_score, eval_metric, early_stopping_rounds, verbose, feature_name, categorical_feature, callbacks, init_model)\u001b[0m\n\u001b[1;32m    888\u001b[0m                     \u001b[0mvalid_sets\u001b[0m\u001b[0;34m[\u001b[0m\u001b[0mi\u001b[0m\u001b[0;34m]\u001b[0m \u001b[0;34m=\u001b[0m \u001b[0;34m(\u001b[0m\u001b[0mvalid_x\u001b[0m\u001b[0;34m,\u001b[0m \u001b[0mself\u001b[0m\u001b[0;34m.\u001b[0m\u001b[0m_le\u001b[0m\u001b[0;34m.\u001b[0m\u001b[0mtransform\u001b[0m\u001b[0;34m(\u001b[0m\u001b[0mvalid_y\u001b[0m\u001b[0;34m)\u001b[0m\u001b[0;34m)\u001b[0m\u001b[0;34m\u001b[0m\u001b[0;34m\u001b[0m\u001b[0m\n\u001b[1;32m    889\u001b[0m \u001b[0;34m\u001b[0m\u001b[0m\n\u001b[0;32m--> 890\u001b[0;31m         super().fit(X, _y, sample_weight=sample_weight, init_score=init_score, eval_set=valid_sets,\n\u001b[0m\u001b[1;32m    891\u001b[0m                     \u001b[0meval_names\u001b[0m\u001b[0;34m=\u001b[0m\u001b[0meval_names\u001b[0m\u001b[0;34m,\u001b[0m \u001b[0meval_sample_weight\u001b[0m\u001b[0;34m=\u001b[0m\u001b[0meval_sample_weight\u001b[0m\u001b[0;34m,\u001b[0m\u001b[0;34m\u001b[0m\u001b[0;34m\u001b[0m\u001b[0m\n\u001b[1;32m    892\u001b[0m                     \u001b[0meval_class_weight\u001b[0m\u001b[0;34m=\u001b[0m\u001b[0meval_class_weight\u001b[0m\u001b[0;34m,\u001b[0m \u001b[0meval_init_score\u001b[0m\u001b[0;34m=\u001b[0m\u001b[0meval_init_score\u001b[0m\u001b[0;34m,\u001b[0m\u001b[0;34m\u001b[0m\u001b[0;34m\u001b[0m\u001b[0m\n",
            "\u001b[0;32m/usr/local/lib/python3.10/dist-packages/lightgbm/sklearn.py\u001b[0m in \u001b[0;36mfit\u001b[0;34m(self, X, y, sample_weight, init_score, group, eval_set, eval_names, eval_sample_weight, eval_class_weight, eval_init_score, eval_group, eval_metric, early_stopping_rounds, verbose, feature_name, categorical_feature, callbacks, init_model)\u001b[0m\n\u001b[1;32m    681\u001b[0m             \u001b[0minit_model\u001b[0m \u001b[0;34m=\u001b[0m \u001b[0minit_model\u001b[0m\u001b[0;34m.\u001b[0m\u001b[0mbooster_\u001b[0m\u001b[0;34m\u001b[0m\u001b[0;34m\u001b[0m\u001b[0m\n\u001b[1;32m    682\u001b[0m \u001b[0;34m\u001b[0m\u001b[0m\n\u001b[0;32m--> 683\u001b[0;31m         self._Booster = train(params, train_set,\n\u001b[0m\u001b[1;32m    684\u001b[0m                               \u001b[0mself\u001b[0m\u001b[0;34m.\u001b[0m\u001b[0mn_estimators\u001b[0m\u001b[0;34m,\u001b[0m \u001b[0mvalid_sets\u001b[0m\u001b[0;34m=\u001b[0m\u001b[0mvalid_sets\u001b[0m\u001b[0;34m,\u001b[0m \u001b[0mvalid_names\u001b[0m\u001b[0;34m=\u001b[0m\u001b[0meval_names\u001b[0m\u001b[0;34m,\u001b[0m\u001b[0;34m\u001b[0m\u001b[0;34m\u001b[0m\u001b[0m\n\u001b[1;32m    685\u001b[0m                               \u001b[0mearly_stopping_rounds\u001b[0m\u001b[0;34m=\u001b[0m\u001b[0mearly_stopping_rounds\u001b[0m\u001b[0;34m,\u001b[0m\u001b[0;34m\u001b[0m\u001b[0;34m\u001b[0m\u001b[0m\n",
            "\u001b[0;32m/usr/local/lib/python3.10/dist-packages/lightgbm/engine.py\u001b[0m in \u001b[0;36mtrain\u001b[0;34m(params, train_set, num_boost_round, valid_sets, valid_names, fobj, feval, init_model, feature_name, categorical_feature, early_stopping_rounds, evals_result, verbose_eval, learning_rates, keep_training_booster, callbacks)\u001b[0m\n\u001b[1;32m    247\u001b[0m                                     evaluation_result_list=None))\n\u001b[1;32m    248\u001b[0m \u001b[0;34m\u001b[0m\u001b[0m\n\u001b[0;32m--> 249\u001b[0;31m         \u001b[0mbooster\u001b[0m\u001b[0;34m.\u001b[0m\u001b[0mupdate\u001b[0m\u001b[0;34m(\u001b[0m\u001b[0mfobj\u001b[0m\u001b[0;34m=\u001b[0m\u001b[0mfobj\u001b[0m\u001b[0;34m)\u001b[0m\u001b[0;34m\u001b[0m\u001b[0;34m\u001b[0m\u001b[0m\n\u001b[0m\u001b[1;32m    250\u001b[0m \u001b[0;34m\u001b[0m\u001b[0m\n\u001b[1;32m    251\u001b[0m         \u001b[0mevaluation_result_list\u001b[0m \u001b[0;34m=\u001b[0m \u001b[0;34m[\u001b[0m\u001b[0;34m]\u001b[0m\u001b[0;34m\u001b[0m\u001b[0;34m\u001b[0m\u001b[0m\n",
            "\u001b[0;32m/usr/local/lib/python3.10/dist-packages/lightgbm/basic.py\u001b[0m in \u001b[0;36mupdate\u001b[0;34m(self, train_set, fobj)\u001b[0m\n\u001b[1;32m   2641\u001b[0m             \u001b[0;32mif\u001b[0m \u001b[0mself\u001b[0m\u001b[0;34m.\u001b[0m\u001b[0m__set_objective_to_none\u001b[0m\u001b[0;34m:\u001b[0m\u001b[0;34m\u001b[0m\u001b[0;34m\u001b[0m\u001b[0m\n\u001b[1;32m   2642\u001b[0m                 \u001b[0;32mraise\u001b[0m \u001b[0mLightGBMError\u001b[0m\u001b[0;34m(\u001b[0m\u001b[0;34m'Cannot update due to null objective function.'\u001b[0m\u001b[0;34m)\u001b[0m\u001b[0;34m\u001b[0m\u001b[0;34m\u001b[0m\u001b[0m\n\u001b[0;32m-> 2643\u001b[0;31m             _safe_call(_LIB.LGBM_BoosterUpdateOneIter(\n\u001b[0m\u001b[1;32m   2644\u001b[0m                 \u001b[0mself\u001b[0m\u001b[0;34m.\u001b[0m\u001b[0mhandle\u001b[0m\u001b[0;34m,\u001b[0m\u001b[0;34m\u001b[0m\u001b[0;34m\u001b[0m\u001b[0m\n\u001b[1;32m   2645\u001b[0m                 ctypes.byref(is_finished)))\n",
            "\u001b[0;31mKeyboardInterrupt\u001b[0m: "
          ]
        }
      ]
    },
    {
      "cell_type": "code",
      "source": [
        "lgbm = lgb.LGBMClassifier(\n",
        "    objective=\"binary\",\n",
        "    min_data_in_leaf = 13,\n",
        "    max_depth = 3,\n",
        "    n_estimators = 250,\n",
        "\n",
        "    random_state=42\n",
        ").fit(X, y)\n",
        "\n",
        "\n",
        "pred_lgbm = lgbm.predict(X_test)\n",
        "submission = pd.read_csv('SampleSubmission.csv')\n",
        "submission['winnerSide'] = pred_lgbm # ваше предсказание\n",
        "submission.to_csv('submission_hw3_lgbm_av.csv', index=False)\n",
        "print(submission)\n",
        "\n",
        "sns.kdeplot(y)\n",
        "sns.kdeplot(pred_lgbm, color=\"r\")"
      ],
      "metadata": {
        "colab": {
          "base_uri": "https://localhost:8080/",
          "height": 727
        },
        "id": "c0ue6JhOZwc5",
        "outputId": "a62a598a-2714-4d7e-e830-58a9428ad722"
      },
      "execution_count": null,
      "outputs": [
        {
          "output_type": "stream",
          "name": "stdout",
          "text": [
            "[LightGBM] [Warning] min_data_in_leaf is set=13, min_child_samples=20 will be ignored. Current value: min_data_in_leaf=13\n",
            "      winnerSide\n",
            "0              1\n",
            "1              0\n",
            "2              0\n",
            "3              1\n",
            "4              0\n",
            "...          ...\n",
            "3745           1\n",
            "3746           0\n",
            "3747           1\n",
            "3748           1\n",
            "3749           0\n",
            "\n",
            "[3750 rows x 1 columns]\n"
          ]
        },
        {
          "output_type": "execute_result",
          "data": {
            "text/plain": [
              "<Axes: xlabel='winnerSide', ylabel='Density'>"
            ]
          },
          "metadata": {},
          "execution_count": 457
        },
        {
          "output_type": "display_data",
          "data": {
            "text/plain": [
              "<Figure size 640x480 with 1 Axes>"
            ],
            "image/png": "[encoded data removed]"
          },
          "metadata": {}
        }
      ]
    },
    {
      "cell_type": "code",
      "source": [],
      "metadata": {
        "id": "b8V1hRvqZwsW"
      },
      "execution_count": null,
      "outputs": []
    },
    {
      "cell_type": "markdown",
      "source": [
        "### CatBoost"
      ],
      "metadata": {
        "id": "M89ih9-0-gNA"
      }
    },
    {
      "cell_type": "code",
      "source": [
        "model = CatBoostClassifier(\n",
        "    iterations=12000,\n",
        "    learning_rate=0.05,\n",
        "    depth=5,\n",
        "    loss_function=\"Logloss\",\n",
        "    eval_metric=\"Accuracy\",\n",
        "    random_seed=42,\n",
        "    verbose=100,\n",
        "    cat_features=cat_features,\n",
        "    use_best_model=True\n",
        ")\n",
        "model_av = CatBoostClassifier(\n",
        "    iterations=12000,\n",
        "    learning_rate=0.05,\n",
        "    depth=5,\n",
        "    loss_function=\"Logloss\",\n",
        "    eval_metric=\"Accuracy\",\n",
        "    random_seed=42,\n",
        "    verbose=100,\n",
        "    cat_features=cat_features,\n",
        ")"
      ],
      "metadata": {
        "id": "THt2US2Oo9oN"
      },
      "execution_count": null,
      "outputs": []
    },
    {
      "cell_type": "code",
      "source": [
        "X_train, X_val, y_train, y_val = train_test_split(X_w_cat, y_w_cat, test_size=0.2, random_state=42)\n",
        "scaler = StandardScaler()\n",
        "X_train[continuos] = scaler.fit_transform(X_train[continuos])\n",
        "X_val[continuos] = scaler.transform(X_val[continuos])"
      ],
      "metadata": {
        "id": "RnM20D4igNph"
      },
      "execution_count": null,
      "outputs": []
    },
    {
      "cell_type": "code",
      "source": [
        "from sklearn.metrics import roc_auc_score\n",
        "#2\n",
        "X_av = X_w_cat.copy() #сохраним базовый train\n",
        "X_test_av = X_test_w_cat.copy() #сохраним базовый test\n",
        "\n",
        "X_av[\"is_test\"] = 0\n",
        "X_test_av[\"is_test\"]  = 1\n",
        "all = pd.concat([X_av, X_test_av], axis=0, ignore_index=True)\n",
        "\n",
        "#new train and target\n",
        "X_all = all.drop(['is_test'], axis=1)\n",
        "y_all = all['is_test']\n",
        "print(X_all.shape)\n",
        "\n",
        "#fitting\n",
        "model_av.fit(X_all, y_all, logging_level='Silent')\n",
        "\n",
        "\n",
        "auc_score = roc_auc_score(y_all, model_av.predict_proba(X_all)[:,1])\n",
        "print(auc_score, \"если больше 0.5, то шансы есть; вроде норм\")\n",
        "\n",
        "#predict proba\n",
        "X_new = X_all.copy()\n",
        "X_new['proba'] = model_av.predict_proba(X_all)[:,1]\n",
        "X_new['is_test'] = y_all\n",
        "\n",
        "# оставляем только обучающую\n",
        "X_new = X_new[X_new['is_test']==0]\n",
        "\n",
        "#sorting\n",
        "nrows = X_new.shape[0]\n",
        "\n",
        "sorted = X_new.sort_values(by='proba',ascending=False)\n",
        "\n",
        "#выделяем 10 % на валидацию\n",
        "ind = sorted[:int(nrows*.1)].index\n",
        "ind2 = sorted[int(nrows*.1):].index\n",
        "\n",
        "X_valid_av = X_w_cat.iloc[ind]\n",
        "y_valid_av = y_w_cat.iloc[ind]\n",
        "X_train_av = X_w_cat.iloc[ind2]\n",
        "y_train_av = y_w_cat.iloc[ind2]"
      ],
      "metadata": {
        "colab": {
          "base_uri": "https://localhost:8080/"
        },
        "id": "XWClz_yHefVM",
        "outputId": "81342d42-9a20-400a-94a9-308231908a2d"
      },
      "execution_count": null,
      "outputs": [
        {
          "output_type": "stream",
          "name": "stdout",
          "text": [
            "(12749, 12)\n",
            "0.3909128866170315 если больше 0.5, то шансы есть; вроде норм\n"
          ]
        }
      ]
    },
    {
      "cell_type": "code",
      "source": [
        "%%time\n",
        "cbc = CatBoostClassifier(\n",
        "    random_state = 42,\n",
        "    bootstrap_type = \"MVS\",\n",
        "    task_type=\"CPU\"\n",
        ")\n",
        "\n",
        "parameters = {\n",
        "    \"max_depth\": [4, 6],\n",
        "    'iterations': [1700, 2500],\n",
        "}\n",
        "\n",
        "search = GridSearchCV(model, parameters, cv=5, scoring=\"accuracy\").fit(X_train_av, y_train_av,\n",
        "                                                                     eval_set = (X_valid_av, y_valid_av),\n",
        "                                                                     logging_level='Silent')\n",
        "\n",
        "# Вывод результатов\n",
        "print(\"Лучшие параметры:\", search.best_params_)\n",
        "print(\"Лучшее значение точности:\", search.best_score_)\n",
        "\n",
        "# Оценка на валидационной выборке\n",
        "best_pipeline = search.best_estimator_\n",
        "val_accuracy = best_pipeline.score(X_val, y_val)\n",
        "print(\"Точность на валидационной выборке:\", val_accuracy)"
      ],
      "metadata": {
        "colab": {
          "base_uri": "https://localhost:8080/"
        },
        "id": "ZTehGjXC-eef",
        "outputId": "a98ee09f-69e7-4c79-b21f-f68cce1a299d"
      },
      "execution_count": null,
      "outputs": [
        {
          "output_type": "stream",
          "name": "stdout",
          "text": [
            "Лучшие параметры: {'iterations': 2500, 'max_depth': 4}\n",
            "Лучшее значение точности: 0.6480246913580248\n",
            "Точность на валидационной выборке: 0.5783333333333334\n",
            "CPU times: user 15min 31s, sys: 1min 17s, total: 16min 49s\n",
            "Wall time: 11min 32s\n"
          ]
        }
      ]
    },
    {
      "cell_type": "code",
      "source": [
        "cbc = CatBoostClassifier(\n",
        "    random_state = 42,\n",
        "    bootstrap_type = \"MVS\",\n",
        "    max_depth = 4,\n",
        "    subsample = 1,\n",
        "    iterations =2500,\n",
        "    min_data_in_leaf = 1,\n",
        "    task_type=\"CPU\"\n",
        ").fit(X_w_cat, y_w_cat, cat_features=cat_features, logging_level='Silent')\n",
        "\n",
        "\n",
        "pred_cbc = cbc.predict(X_test_w_cat)\n",
        "print(pred_cbc)\n",
        "submission = pd.read_csv('SampleSubmission.csv')\n",
        "submission['winnerSide'] = pred_cbc # ваше предсказание\n",
        "submission.to_csv('submission_CatBoost_av.csv', index=False)\n",
        "print(submission)\n",
        "\n",
        "sns.kdeplot(y)\n",
        "sns.kdeplot(pred_cbc, color=\"r\")"
      ],
      "metadata": {
        "colab": {
          "base_uri": "https://localhost:8080/",
          "height": 727
        },
        "id": "1yStBjIMBW8w",
        "outputId": "c28bc7a3-57bd-4e1c-e526-040a52775688"
      },
      "execution_count": null,
      "outputs": [
        {
          "output_type": "stream",
          "name": "stdout",
          "text": [
            "[1 0 0 ... 1 1 0]\n",
            "      winnerSide\n",
            "0              1\n",
            "1              0\n",
            "2              0\n",
            "3              1\n",
            "4              0\n",
            "...          ...\n",
            "3745           1\n",
            "3746           0\n",
            "3747           1\n",
            "3748           1\n",
            "3749           0\n",
            "\n",
            "[3750 rows x 1 columns]\n"
          ]
        },
        {
          "output_type": "execute_result",
          "data": {
            "text/plain": [
              "<Axes: xlabel='winnerSide', ylabel='Density'>"
            ]
          },
          "metadata": {},
          "execution_count": 507
        },
        {
          "output_type": "display_data",
          "data": {
            "text/plain": [
              "<Figure size 640x480 with 1 Axes>"
            ],
            "image/png": "[encoded data removed]"
          },
          "metadata": {}
        }
      ]
    },
    {
      "cell_type": "markdown",
      "source": [
        "стакаем катбусты\n"
      ],
      "metadata": {
        "id": "FclmD9RAYYMX"
      }
    },
    {
      "cell_type": "code",
      "source": [
        "cbc = CatBoostClassifier(\n",
        "    iterations=12000,\n",
        "    learning_rate=0.05,\n",
        "    depth=5,\n",
        "    loss_function=\"Logloss\",\n",
        "    eval_metric=\"Accuracy\",\n",
        "    random_seed=42,\n",
        "    verbose=100,\n",
        "    cat_features=cat_features\n",
        ")\n",
        "cbc2 = CatBoostClassifier(\n",
        "    iterations=12000,\n",
        "    learning_rate=0.05,\n",
        "    depth=5,\n",
        "    loss_function=\"Logloss\",\n",
        "    eval_metric=\"Accuracy\",\n",
        "    random_seed=42,\n",
        "    verbose=100,\n",
        ")\n",
        "\n",
        "estimators = [\n",
        "    ('CatBoost', cbc)\n",
        "]\n",
        "\n",
        "clf = StackingClassifier(\n",
        "    estimators=estimators, final_estimator=cbc2\n",
        ").fit(X_w_cat, y_w_cat)"
      ],
      "metadata": {
        "colab": {
          "base_uri": "https://localhost:8080/"
        },
        "id": "CrtMswo9C7Mb",
        "outputId": "5d838fbc-123a-4ee9-9c68-840a24e5d30c",
        "collapsed": true
      },
      "execution_count": null,
      "outputs": [
        {
          "metadata": {
            "tags": null
          },
          "name": "stdout",
          "output_type": "stream",
          "text": [
            "0:\tlearn: 0.6404045\ttotal: 73.3ms\tremaining: 14m 38s\n",
            "100:\tlearn: 0.6700745\ttotal: 1.8s\tremaining: 3m 32s\n",
            "200:\tlearn: 0.6871875\ttotal: 3.15s\tremaining: 3m 4s\n",
            "300:\tlearn: 0.7004112\ttotal: 4.52s\tremaining: 2m 55s\n",
            "400:\tlearn: 0.7227470\ttotal: 6.83s\tremaining: 3m 17s\n",
            "500:\tlearn: 0.7364152\ttotal: 9.31s\tremaining: 3m 33s\n",
            "600:\tlearn: 0.7489721\ttotal: 10.7s\tremaining: 3m 23s\n",
            "700:\tlearn: 0.7614179\ttotal: 12.2s\tremaining: 3m 16s\n",
            "800:\tlearn: 0.7754195\ttotal: 13.6s\tremaining: 3m 10s\n",
            "900:\tlearn: 0.7841982\ttotal: 15.1s\tremaining: 3m 5s\n",
            "1000:\tlearn: 0.8023114\ttotal: 16.6s\tremaining: 3m 2s\n",
            "1100:\tlearn: 0.8149794\ttotal: 18s\tremaining: 2m 58s\n",
            "1200:\tlearn: 0.8264252\ttotal: 20.1s\tremaining: 3m\n",
            "1300:\tlearn: 0.8330926\ttotal: 23s\tremaining: 3m 8s\n",
            "1400:\tlearn: 0.8426492\ttotal: 24.5s\tremaining: 3m 5s\n",
            "1500:\tlearn: 0.8480942\ttotal: 26s\tremaining: 3m 1s\n",
            "1600:\tlearn: 0.8535393\ttotal: 27.5s\tremaining: 2m 58s\n",
            "1700:\tlearn: 0.8584287\ttotal: 29s\tremaining: 2m 55s\n",
            "1800:\tlearn: 0.8627625\ttotal: 30.6s\tremaining: 2m 53s\n",
            "1900:\tlearn: 0.8690966\ttotal: 32s\tremaining: 2m 50s\n",
            "2000:\tlearn: 0.8719858\ttotal: 34.2s\tremaining: 2m 50s\n",
            "2100:\tlearn: 0.8776531\ttotal: 36.9s\tremaining: 2m 53s\n",
            "2200:\tlearn: 0.8812090\ttotal: 38.5s\tremaining: 2m 51s\n",
            "2300:\tlearn: 0.8844316\ttotal: 40.1s\tremaining: 2m 48s\n",
            "2400:\tlearn: 0.8916546\ttotal: 41.7s\tremaining: 2m 46s\n",
            "2500:\tlearn: 0.8943216\ttotal: 43.2s\tremaining: 2m 44s\n",
            "2600:\tlearn: 0.8985443\ttotal: 44.7s\tremaining: 2m 41s\n",
            "2700:\tlearn: 0.9038782\ttotal: 46.2s\tremaining: 2m 39s\n",
            "2800:\tlearn: 0.9068785\ttotal: 48.8s\tremaining: 2m 40s\n",
            "2900:\tlearn: 0.9116569\ttotal: 51.3s\tremaining: 2m 40s\n",
            "3000:\tlearn: 0.9152128\ttotal: 52.9s\tremaining: 2m 38s\n",
            "3100:\tlearn: 0.9189910\ttotal: 54.5s\tremaining: 2m 36s\n",
            "3200:\tlearn: 0.9213246\ttotal: 56s\tremaining: 2m 33s\n",
            "3300:\tlearn: 0.9256584\ttotal: 57.6s\tremaining: 2m 31s\n",
            "3400:\tlearn: 0.9283254\ttotal: 59.1s\tremaining: 2m 29s\n",
            "3500:\tlearn: 0.9316591\ttotal: 1m\tremaining: 2m 27s\n",
            "3600:\tlearn: 0.9343260\ttotal: 1m 3s\tremaining: 2m 28s\n",
            "3700:\tlearn: 0.9367708\ttotal: 1m 5s\tremaining: 2m 26s\n",
            "3800:\tlearn: 0.9399933\ttotal: 1m 6s\tremaining: 2m 24s\n",
            "3900:\tlearn: 0.9414379\ttotal: 1m 8s\tremaining: 2m 22s\n",
            "4000:\tlearn: 0.9445494\ttotal: 1m 9s\tremaining: 2m 19s\n",
            "4100:\tlearn: 0.9469941\ttotal: 1m 11s\tremaining: 2m 17s\n",
            "4200:\tlearn: 0.9495499\ttotal: 1m 13s\tremaining: 2m 15s\n",
            "4300:\tlearn: 0.9504389\ttotal: 1m 14s\tremaining: 2m 13s\n",
            "4400:\tlearn: 0.9524392\ttotal: 1m 17s\tremaining: 2m 14s\n",
            "4500:\tlearn: 0.9549950\ttotal: 1m 19s\tremaining: 2m 12s\n",
            "4600:\tlearn: 0.9567730\ttotal: 1m 20s\tremaining: 2m 10s\n",
            "4700:\tlearn: 0.9588843\ttotal: 1m 22s\tremaining: 2m 7s\n",
            "4800:\tlearn: 0.9605512\ttotal: 1m 23s\tremaining: 2m 5s\n",
            "4900:\tlearn: 0.9618847\ttotal: 1m 25s\tremaining: 2m 3s\n",
            "5000:\tlearn: 0.9636626\ttotal: 1m 27s\tremaining: 2m 1s\n",
            "5100:\tlearn: 0.9659962\ttotal: 1m 29s\tremaining: 2m\n",
            "5200:\tlearn: 0.9677742\ttotal: 1m 32s\tremaining: 2m\n",
            "5300:\tlearn: 0.9695522\ttotal: 1m 33s\tremaining: 1m 58s\n",
            "5400:\tlearn: 0.9708857\ttotal: 1m 35s\tremaining: 1m 56s\n",
            "5500:\tlearn: 0.9723303\ttotal: 1m 36s\tremaining: 1m 54s\n",
            "5600:\tlearn: 0.9737749\ttotal: 1m 38s\tremaining: 1m 52s\n",
            "5700:\tlearn: 0.9742194\ttotal: 1m 39s\tremaining: 1m 50s\n",
            "5800:\tlearn: 0.9757751\ttotal: 1m 41s\tremaining: 1m 48s\n",
            "5900:\tlearn: 0.9761085\ttotal: 1m 43s\tremaining: 1m 47s\n",
            "6000:\tlearn: 0.9781087\ttotal: 1m 46s\tremaining: 1m 46s\n",
            "6100:\tlearn: 0.9795533\ttotal: 1m 47s\tremaining: 1m 44s\n",
            "6200:\tlearn: 0.9803311\ttotal: 1m 49s\tremaining: 1m 42s\n",
            "6300:\tlearn: 0.9809979\ttotal: 1m 50s\tremaining: 1m 40s\n",
            "6400:\tlearn: 0.9816646\ttotal: 1m 52s\tremaining: 1m 38s\n",
            "6500:\tlearn: 0.9825536\ttotal: 1m 53s\tremaining: 1m 36s\n",
            "6600:\tlearn: 0.9832204\ttotal: 1m 55s\tremaining: 1m 34s\n",
            "6700:\tlearn: 0.9846650\ttotal: 1m 58s\tremaining: 1m 33s\n",
            "6800:\tlearn: 0.9855540\ttotal: 2m\tremaining: 1m 32s\n",
            "6900:\tlearn: 0.9857762\ttotal: 2m 1s\tremaining: 1m 30s\n",
            "7000:\tlearn: 0.9863318\ttotal: 2m 3s\tremaining: 1m 28s\n",
            "7100:\tlearn: 0.9873319\ttotal: 2m 5s\tremaining: 1m 26s\n",
            "7200:\tlearn: 0.9877764\ttotal: 2m 6s\tremaining: 1m 24s\n",
            "7300:\tlearn: 0.9888877\ttotal: 2m 8s\tremaining: 1m 22s\n",
            "7400:\tlearn: 0.9895544\ttotal: 2m 9s\tremaining: 1m 20s\n",
            "7500:\tlearn: 0.9901100\ttotal: 2m 12s\tremaining: 1m 19s\n",
            "7600:\tlearn: 0.9905545\ttotal: 2m 14s\tremaining: 1m 17s\n",
            "7700:\tlearn: 0.9911101\ttotal: 2m 16s\tremaining: 1m 15s\n",
            "7800:\tlearn: 0.9916657\ttotal: 2m 17s\tremaining: 1m 14s\n",
            "7900:\tlearn: 0.9921102\ttotal: 2m 19s\tremaining: 1m 12s\n",
            "8000:\tlearn: 0.9927770\ttotal: 2m 20s\tremaining: 1m 10s\n",
            "8100:\tlearn: 0.9931103\ttotal: 2m 22s\tremaining: 1m 8s\n",
            "8200:\tlearn: 0.9935548\ttotal: 2m 24s\tremaining: 1m 6s\n",
            "8300:\tlearn: 0.9943327\ttotal: 2m 27s\tremaining: 1m 5s\n",
            "8400:\tlearn: 0.9946661\ttotal: 2m 28s\tremaining: 1m 3s\n",
            "8500:\tlearn: 0.9944438\ttotal: 2m 30s\tremaining: 1m 1s\n",
            "8600:\tlearn: 0.9946661\ttotal: 2m 31s\tremaining: 60s\n",
            "8700:\tlearn: 0.9952217\ttotal: 2m 33s\tremaining: 58.1s\n",
            "8800:\tlearn: 0.9957773\ttotal: 2m 34s\tremaining: 56.3s\n",
            "8900:\tlearn: 0.9956662\ttotal: 2m 36s\tremaining: 54.4s\n",
            "9000:\tlearn: 0.9958884\ttotal: 2m 39s\tremaining: 53s\n",
            "9100:\tlearn: 0.9961107\ttotal: 2m 41s\tremaining: 51.4s\n",
            "9200:\tlearn: 0.9964440\ttotal: 2m 42s\tremaining: 49.5s\n",
            "9300:\tlearn: 0.9965552\ttotal: 2m 44s\tremaining: 47.7s\n",
            "9400:\tlearn: 0.9965552\ttotal: 2m 45s\tremaining: 45.8s\n",
            "9500:\tlearn: 0.9965552\ttotal: 2m 47s\tremaining: 44s\n",
            "9600:\tlearn: 0.9968885\ttotal: 2m 48s\tremaining: 42.2s\n",
            "9700:\tlearn: 0.9971108\ttotal: 2m 50s\tremaining: 40.4s\n",
            "9800:\tlearn: 0.9973330\ttotal: 2m 53s\tremaining: 39s\n",
            "9900:\tlearn: 0.9975553\ttotal: 2m 55s\tremaining: 37.2s\n",
            "10000:\tlearn: 0.9976664\ttotal: 2m 57s\tremaining: 35.4s\n",
            "10100:\tlearn: 0.9976664\ttotal: 2m 58s\tremaining: 33.6s\n",
            "10200:\tlearn: 0.9976664\ttotal: 3m\tremaining: 31.8s\n",
            "10300:\tlearn: 0.9977775\ttotal: 3m 1s\tremaining: 29.9s\n",
            "10400:\tlearn: 0.9978887\ttotal: 3m 3s\tremaining: 28.1s\n",
            "10500:\tlearn: 0.9978887\ttotal: 3m 4s\tremaining: 26.4s\n",
            "10600:\tlearn: 0.9981109\ttotal: 3m 7s\tremaining: 24.8s\n",
            "10700:\tlearn: 0.9981109\ttotal: 3m 9s\tremaining: 23s\n",
            "10800:\tlearn: 0.9979998\ttotal: 3m 11s\tremaining: 21.2s\n",
            "10900:\tlearn: 0.9981109\ttotal: 3m 12s\tremaining: 19.4s\n",
            "11000:\tlearn: 0.9982220\ttotal: 3m 14s\tremaining: 17.6s\n",
            "11100:\tlearn: 0.9982220\ttotal: 3m 15s\tremaining: 15.8s\n",
            "11200:\tlearn: 0.9987776\ttotal: 3m 17s\tremaining: 14.1s\n",
            "11300:\tlearn: 0.9988888\ttotal: 3m 19s\tremaining: 12.3s\n",
            "11400:\tlearn: 0.9986665\ttotal: 3m 22s\tremaining: 10.6s\n",
            "11500:\tlearn: 0.9988888\ttotal: 3m 23s\tremaining: 8.83s\n",
            "11600:\tlearn: 0.9989999\ttotal: 3m 25s\tremaining: 7.05s\n",
            "11700:\tlearn: 0.9988888\ttotal: 3m 26s\tremaining: 5.28s\n",
            "11800:\tlearn: 0.9991110\ttotal: 3m 28s\tremaining: 3.51s\n",
            "11900:\tlearn: 0.9991110\ttotal: 3m 29s\tremaining: 1.75s\n",
            "11999:\tlearn: 0.9992221\ttotal: 3m 31s\tremaining: 0us\n",
            "0:\tlearn: 0.6420336\ttotal: 17.2ms\tremaining: 3m 26s\n",
            "100:\tlearn: 0.6724545\ttotal: 2.43s\tremaining: 4m 46s\n",
            "200:\tlearn: 0.6896791\ttotal: 4.2s\tremaining: 4m 6s\n",
            "300:\tlearn: 0.7094041\ttotal: 5.41s\tremaining: 3m 30s\n",
            "400:\tlearn: 0.7266287\ttotal: 6.6s\tremaining: 3m 10s\n",
            "500:\tlearn: 0.7405195\ttotal: 7.84s\tremaining: 2m 59s\n",
            "600:\tlearn: 0.7539936\ttotal: 9.07s\tremaining: 2m 52s\n",
            "700:\tlearn: 0.7628837\ttotal: 10.3s\tremaining: 2m 45s\n",
            "800:\tlearn: 0.7717739\ttotal: 11.5s\tremaining: 2m 40s\n",
            "900:\tlearn: 0.7834421\ttotal: 12.7s\tremaining: 2m 36s\n",
            "1000:\tlearn: 0.7931657\ttotal: 14.4s\tremaining: 2m 38s\n",
            "1100:\tlearn: 0.8019169\ttotal: 16.9s\tremaining: 2m 46s\n",
            "1200:\tlearn: 0.8134463\ttotal: 18.3s\tremaining: 2m 44s\n",
            "1300:\tlearn: 0.8253924\ttotal: 19.6s\tremaining: 2m 41s\n",
            "1400:\tlearn: 0.8412279\ttotal: 20.9s\tremaining: 2m 37s\n",
            "1500:\tlearn: 0.8481734\ttotal: 22.1s\tremaining: 2m 34s\n",
            "1600:\tlearn: 0.8577580\ttotal: 23.4s\tremaining: 2m 31s\n",
            "1700:\tlearn: 0.8649812\ttotal: 24.6s\tremaining: 2m 29s\n",
            "1800:\tlearn: 0.8752605\ttotal: 25.9s\tremaining: 2m 26s\n",
            "1900:\tlearn: 0.8820670\ttotal: 27.1s\tremaining: 2m 24s\n",
            "2000:\tlearn: 0.8885956\ttotal: 29.5s\tremaining: 2m 27s\n",
            "2100:\tlearn: 0.8941520\ttotal: 31.5s\tremaining: 2m 28s\n",
            "2200:\tlearn: 0.8976247\ttotal: 32.8s\tremaining: 2m 26s\n",
            "2300:\tlearn: 0.9033199\ttotal: 34.1s\tremaining: 2m 23s\n",
            "2400:\tlearn: 0.9074872\ttotal: 35.3s\tremaining: 2m 21s\n",
            "2500:\tlearn: 0.9133213\ttotal: 36.5s\tremaining: 2m 18s\n",
            "2600:\tlearn: 0.9152660\ttotal: 37.8s\tremaining: 2m 16s\n",
            "2700:\tlearn: 0.9187387\ttotal: 39.1s\tremaining: 2m 14s\n",
            "2800:\tlearn: 0.9233227\ttotal: 40.4s\tremaining: 2m 12s\n",
            "2900:\tlearn: 0.9290179\ttotal: 42.4s\tremaining: 2m 13s\n",
            "3000:\tlearn: 0.9317961\ttotal: 44.7s\tremaining: 2m 14s\n",
            "3100:\tlearn: 0.9351299\ttotal: 46s\tremaining: 2m 12s\n",
            "3200:\tlearn: 0.9394360\ttotal: 47.3s\tremaining: 2m 9s\n",
            "3300:\tlearn: 0.9436033\ttotal: 48.6s\tremaining: 2m 7s\n",
            "3400:\tlearn: 0.9463814\ttotal: 49.9s\tremaining: 2m 6s\n",
            "3500:\tlearn: 0.9492985\ttotal: 51.2s\tremaining: 2m 4s\n",
            "3600:\tlearn: 0.9506876\ttotal: 52.4s\tremaining: 2m 2s\n",
            "3700:\tlearn: 0.9533269\ttotal: 53.7s\tremaining: 2m\n",
            "3800:\tlearn: 0.9561050\ttotal: 55.5s\tremaining: 1m 59s\n",
            "3900:\tlearn: 0.9579108\ttotal: 58.1s\tremaining: 2m\n",
            "4000:\tlearn: 0.9606890\ttotal: 59.4s\tremaining: 1m 58s\n",
            "4100:\tlearn: 0.9636061\ttotal: 1m\tremaining: 1m 56s\n",
            "4200:\tlearn: 0.9654119\ttotal: 1m 1s\tremaining: 1m 55s\n",
            "4300:\tlearn: 0.9676344\ttotal: 1m 3s\tremaining: 1m 53s\n",
            "4400:\tlearn: 0.9686068\ttotal: 1m 4s\tremaining: 1m 51s\n",
            "4500:\tlearn: 0.9701347\ttotal: 1m 5s\tremaining: 1m 49s\n",
            "4600:\tlearn: 0.9722184\ttotal: 1m 7s\tremaining: 1m 47s\n",
            "4700:\tlearn: 0.9747187\ttotal: 1m 8s\tremaining: 1m 46s\n",
            "4800:\tlearn: 0.9755522\ttotal: 1m 11s\tremaining: 1m 46s\n",
            "4900:\tlearn: 0.9765245\ttotal: 1m 12s\tremaining: 1m 45s\n",
            "5000:\tlearn: 0.9784692\ttotal: 1m 14s\tremaining: 1m 43s\n",
            "5100:\tlearn: 0.9801361\ttotal: 1m 15s\tremaining: 1m 41s\n",
            "5200:\tlearn: 0.9816641\ttotal: 1m 16s\tremaining: 1m 40s\n",
            "5300:\tlearn: 0.9827754\ttotal: 1m 17s\tremaining: 1m 38s\n",
            "5400:\tlearn: 0.9840256\ttotal: 1m 19s\tremaining: 1m 36s\n",
            "5500:\tlearn: 0.9845812\ttotal: 1m 20s\tremaining: 1m 35s\n",
            "5600:\tlearn: 0.9854146\ttotal: 1m 21s\tremaining: 1m 33s\n",
            "5700:\tlearn: 0.9865259\ttotal: 1m 24s\tremaining: 1m 32s\n",
            "5800:\tlearn: 0.9868037\ttotal: 1m 26s\tremaining: 1m 32s\n",
            "5900:\tlearn: 0.9879150\ttotal: 1m 27s\tremaining: 1m 30s\n",
            "6000:\tlearn: 0.9881928\ttotal: 1m 28s\tremaining: 1m 28s\n",
            "6100:\tlearn: 0.9883317\ttotal: 1m 29s\tremaining: 1m 26s\n",
            "6200:\tlearn: 0.9888873\ttotal: 1m 31s\tremaining: 1m 25s\n",
            "6300:\tlearn: 0.9898597\ttotal: 1m 32s\tremaining: 1m 23s\n",
            "6400:\tlearn: 0.9905542\ttotal: 1m 33s\tremaining: 1m 22s\n",
            "6500:\tlearn: 0.9912488\ttotal: 1m 35s\tremaining: 1m 20s\n",
            "6600:\tlearn: 0.9913877\ttotal: 1m 37s\tremaining: 1m 19s\n",
            "6700:\tlearn: 0.9919433\ttotal: 1m 39s\tremaining: 1m 18s\n",
            "6800:\tlearn: 0.9930546\ttotal: 1m 40s\tremaining: 1m 17s\n",
            "6900:\tlearn: 0.9936102\ttotal: 1m 42s\tremaining: 1m 15s\n",
            "7000:\tlearn: 0.9940269\ttotal: 1m 43s\tremaining: 1m 13s\n",
            "7100:\tlearn: 0.9945826\ttotal: 1m 44s\tremaining: 1m 12s\n",
            "7200:\tlearn: 0.9949993\ttotal: 1m 45s\tremaining: 1m 10s\n",
            "7300:\tlearn: 0.9952771\ttotal: 1m 47s\tremaining: 1m 8s\n",
            "7400:\tlearn: 0.9956938\ttotal: 1m 48s\tremaining: 1m 7s\n",
            "7500:\tlearn: 0.9958328\ttotal: 1m 50s\tremaining: 1m 6s\n",
            "7600:\tlearn: 0.9961106\ttotal: 1m 52s\tremaining: 1m 5s\n",
            "7700:\tlearn: 0.9962495\ttotal: 1m 54s\tremaining: 1m 3s\n",
            "7800:\tlearn: 0.9965273\ttotal: 1m 55s\tremaining: 1m 2s\n",
            "7900:\tlearn: 0.9969440\ttotal: 1m 56s\tremaining: 1m\n",
            "8000:\tlearn: 0.9968051\ttotal: 1m 58s\tremaining: 59.1s\n",
            "8100:\tlearn: 0.9970829\ttotal: 1m 59s\tremaining: 57.5s\n",
            "8200:\tlearn: 0.9973607\ttotal: 2m\tremaining: 56s\n",
            "8300:\tlearn: 0.9976386\ttotal: 2m 2s\tremaining: 54.4s\n",
            "8400:\tlearn: 0.9979164\ttotal: 2m 3s\tremaining: 53s\n",
            "8500:\tlearn: 0.9981942\ttotal: 2m 6s\tremaining: 52s\n",
            "8600:\tlearn: 0.9981942\ttotal: 2m 7s\tremaining: 50.5s\n",
            "8700:\tlearn: 0.9983331\ttotal: 2m 9s\tremaining: 49s\n",
            "8800:\tlearn: 0.9984720\ttotal: 2m 10s\tremaining: 47.4s\n",
            "8900:\tlearn: 0.9987498\ttotal: 2m 11s\tremaining: 45.9s\n",
            "9000:\tlearn: 0.9988887\ttotal: 2m 12s\tremaining: 44.3s\n",
            "9100:\tlearn: 0.9990276\ttotal: 2m 14s\tremaining: 42.8s\n",
            "9200:\tlearn: 0.9993055\ttotal: 2m 15s\tremaining: 41.2s\n",
            "9300:\tlearn: 0.9993055\ttotal: 2m 16s\tremaining: 39.7s\n",
            "9400:\tlearn: 0.9993055\ttotal: 2m 19s\tremaining: 38.6s\n",
            "9500:\tlearn: 0.9993055\ttotal: 2m 21s\tremaining: 37.2s\n",
            "9600:\tlearn: 0.9993055\ttotal: 2m 22s\tremaining: 35.6s\n",
            "9700:\tlearn: 0.9993055\ttotal: 2m 23s\tremaining: 34.1s\n",
            "9800:\tlearn: 0.9994444\ttotal: 2m 25s\tremaining: 32.6s\n",
            "9900:\tlearn: 0.9994444\ttotal: 2m 26s\tremaining: 31.1s\n",
            "10000:\tlearn: 0.9994444\ttotal: 2m 27s\tremaining: 29.5s\n",
            "10100:\tlearn: 0.9994444\ttotal: 2m 29s\tremaining: 28s\n",
            "10200:\tlearn: 0.9994444\ttotal: 2m 30s\tremaining: 26.5s\n",
            "10300:\tlearn: 0.9995833\ttotal: 2m 32s\tremaining: 25.2s\n",
            "10400:\tlearn: 0.9995833\ttotal: 2m 34s\tremaining: 23.8s\n",
            "10500:\tlearn: 0.9995833\ttotal: 2m 35s\tremaining: 22.3s\n",
            "10600:\tlearn: 0.9995833\ttotal: 2m 37s\tremaining: 20.7s\n",
            "10700:\tlearn: 0.9997222\ttotal: 2m 38s\tremaining: 19.2s\n",
            "10800:\tlearn: 0.9997222\ttotal: 2m 39s\tremaining: 17.7s\n",
            "10900:\tlearn: 0.9997222\ttotal: 2m 41s\tremaining: 16.2s\n",
            "11000:\tlearn: 0.9997222\ttotal: 2m 42s\tremaining: 14.7s\n",
            "11100:\tlearn: 0.9997222\ttotal: 2m 43s\tremaining: 13.3s\n",
            "11200:\tlearn: 0.9997222\ttotal: 2m 45s\tremaining: 11.8s\n",
            "11300:\tlearn: 0.9997222\ttotal: 2m 48s\tremaining: 10.4s\n",
            "11400:\tlearn: 0.9997222\ttotal: 2m 49s\tremaining: 8.9s\n",
            "11500:\tlearn: 0.9997222\ttotal: 2m 50s\tremaining: 7.4s\n",
            "11600:\tlearn: 0.9997222\ttotal: 2m 51s\tremaining: 5.91s\n",
            "11700:\tlearn: 0.9997222\ttotal: 2m 53s\tremaining: 4.42s\n",
            "11800:\tlearn: 0.9997222\ttotal: 2m 54s\tremaining: 2.94s\n",
            "11900:\tlearn: 0.9998611\ttotal: 2m 55s\tremaining: 1.46s\n",
            "11999:\tlearn: 1.0000000\ttotal: 2m 56s\tremaining: 0us\n",
            "0:\tlearn: 0.6453674\ttotal: 14.2ms\tremaining: 2m 50s\n",
            "100:\tlearn: 0.6778719\ttotal: 2.22s\tremaining: 4m 21s\n",
            "200:\tlearn: 0.6942631\ttotal: 4.33s\tremaining: 4m 14s\n",
            "300:\tlearn: 0.7194055\ttotal: 5.55s\tremaining: 3m 35s\n",
            "400:\tlearn: 0.7362134\ttotal: 6.76s\tremaining: 3m 15s\n",
            "500:\tlearn: 0.7519100\ttotal: 7.98s\tremaining: 3m 3s\n",
            "600:\tlearn: 0.7660786\ttotal: 9.22s\tremaining: 2m 54s\n",
            "700:\tlearn: 0.7776080\ttotal: 10.5s\tremaining: 2m 48s\n",
            "800:\tlearn: 0.7901097\ttotal: 11.7s\tremaining: 2m 43s\n",
            "900:\tlearn: 0.7966384\ttotal: 13s\tremaining: 2m 39s\n",
            "1000:\tlearn: 0.8065009\ttotal: 14.4s\tremaining: 2m 38s\n",
            "1100:\tlearn: 0.8171968\ttotal: 16.8s\tremaining: 2m 45s\n",
            "1200:\tlearn: 0.8242812\ttotal: 18.6s\tremaining: 2m 46s\n",
            "1300:\tlearn: 0.8328935\ttotal: 19.8s\tremaining: 2m 43s\n",
            "1400:\tlearn: 0.8383109\ttotal: 21.1s\tremaining: 2m 39s\n",
            "1500:\tlearn: 0.8444228\ttotal: 22.4s\tremaining: 2m 36s\n",
            "1600:\tlearn: 0.8549799\ttotal: 23.7s\tremaining: 2m 33s\n",
            "1700:\tlearn: 0.8669260\ttotal: 24.9s\tremaining: 2m 31s\n",
            "1800:\tlearn: 0.8752605\ttotal: 26.3s\tremaining: 2m 28s\n",
            "1900:\tlearn: 0.8829004\ttotal: 27.5s\tremaining: 2m 26s\n",
            "2000:\tlearn: 0.8895680\ttotal: 29.8s\tremaining: 2m 29s\n",
            "2100:\tlearn: 0.8934574\ttotal: 32.2s\tremaining: 2m 31s\n",
            "2200:\tlearn: 0.8984581\ttotal: 34.9s\tremaining: 2m 35s\n",
            "2300:\tlearn: 0.9041534\ttotal: 37.3s\tremaining: 2m 37s\n",
            "2400:\tlearn: 0.9090151\ttotal: 39.8s\tremaining: 2m 38s\n",
            "2500:\tlearn: 0.9152660\ttotal: 41.2s\tremaining: 2m 36s\n",
            "2600:\tlearn: 0.9192943\ttotal: 43.6s\tremaining: 2m 37s\n",
            "2700:\tlearn: 0.9226281\ttotal: 45.7s\tremaining: 2m 37s\n",
            "2800:\tlearn: 0.9269343\ttotal: 47s\tremaining: 2m 34s\n",
            "2900:\tlearn: 0.9309626\ttotal: 48.3s\tremaining: 2m 31s\n",
            "3000:\tlearn: 0.9340186\ttotal: 49.6s\tremaining: 2m 28s\n",
            "3100:\tlearn: 0.9372135\ttotal: 50.9s\tremaining: 2m 26s\n",
            "3200:\tlearn: 0.9384637\ttotal: 52.2s\tremaining: 2m 23s\n",
            "3300:\tlearn: 0.9423531\ttotal: 53.5s\tremaining: 2m 20s\n",
            "3400:\tlearn: 0.9459647\ttotal: 54.8s\tremaining: 2m 18s\n",
            "3500:\tlearn: 0.9494374\ttotal: 56.9s\tremaining: 2m 18s\n",
            "3600:\tlearn: 0.9523545\ttotal: 59.1s\tremaining: 2m 17s\n",
            "3700:\tlearn: 0.9559661\ttotal: 1m\tremaining: 2m 15s\n",
            "3800:\tlearn: 0.9590221\ttotal: 1m 1s\tremaining: 2m 12s\n",
            "3900:\tlearn: 0.9609668\ttotal: 1m 2s\tremaining: 2m 10s\n",
            "4000:\tlearn: 0.9631893\ttotal: 1m 4s\tremaining: 2m 8s\n",
            "4100:\tlearn: 0.9651340\ttotal: 1m 5s\tremaining: 2m 6s\n",
            "4200:\tlearn: 0.9673566\ttotal: 1m 6s\tremaining: 2m 3s\n",
            "4300:\tlearn: 0.9694402\ttotal: 1m 8s\tremaining: 2m 1s\n",
            "4400:\tlearn: 0.9709682\ttotal: 1m 10s\tremaining: 2m 1s\n",
            "4500:\tlearn: 0.9731907\ttotal: 1m 12s\tremaining: 2m\n",
            "4600:\tlearn: 0.9749965\ttotal: 1m 13s\tremaining: 1m 58s\n",
            "4700:\tlearn: 0.9751354\ttotal: 1m 15s\tremaining: 1m 56s\n",
            "4800:\tlearn: 0.9772191\ttotal: 1m 16s\tremaining: 1m 54s\n",
            "4900:\tlearn: 0.9780525\ttotal: 1m 17s\tremaining: 1m 52s\n",
            "5000:\tlearn: 0.9793027\ttotal: 1m 18s\tremaining: 1m 50s\n",
            "5100:\tlearn: 0.9799972\ttotal: 1m 20s\tremaining: 1m 48s\n",
            "5200:\tlearn: 0.9813863\ttotal: 1m 21s\tremaining: 1m 46s\n",
            "5300:\tlearn: 0.9826365\ttotal: 1m 23s\tremaining: 1m 45s\n",
            "5400:\tlearn: 0.9836088\ttotal: 1m 26s\tremaining: 1m 45s\n",
            "5500:\tlearn: 0.9844423\ttotal: 1m 27s\tremaining: 1m 43s\n",
            "5600:\tlearn: 0.9847201\ttotal: 1m 28s\tremaining: 1m 41s\n",
            "5700:\tlearn: 0.9863870\ttotal: 1m 29s\tremaining: 1m 39s\n",
            "5800:\tlearn: 0.9869426\ttotal: 1m 31s\tremaining: 1m 37s\n",
            "5900:\tlearn: 0.9877761\ttotal: 1m 32s\tremaining: 1m 35s\n",
            "6000:\tlearn: 0.9883317\ttotal: 1m 33s\tremaining: 1m 33s\n",
            "6100:\tlearn: 0.9893041\ttotal: 1m 34s\tremaining: 1m 31s\n",
            "6200:\tlearn: 0.9904153\ttotal: 1m 36s\tremaining: 1m 30s\n",
            "6300:\tlearn: 0.9911099\ttotal: 1m 39s\tremaining: 1m 29s\n",
            "6400:\tlearn: 0.9912488\ttotal: 1m 40s\tremaining: 1m 28s\n",
            "6500:\tlearn: 0.9923601\ttotal: 1m 41s\tremaining: 1m 26s\n",
            "6600:\tlearn: 0.9929157\ttotal: 1m 43s\tremaining: 1m 24s\n",
            "6700:\tlearn: 0.9929157\ttotal: 1m 44s\tremaining: 1m 22s\n",
            "6800:\tlearn: 0.9930546\ttotal: 1m 45s\tremaining: 1m 20s\n",
            "6900:\tlearn: 0.9938880\ttotal: 1m 47s\tremaining: 1m 19s\n",
            "7000:\tlearn: 0.9937491\ttotal: 1m 48s\tremaining: 1m 17s\n",
            "7100:\tlearn: 0.9948604\ttotal: 1m 49s\tremaining: 1m 15s\n",
            "7200:\tlearn: 0.9952771\ttotal: 1m 52s\tremaining: 1m 14s\n",
            "7300:\tlearn: 0.9952771\ttotal: 1m 54s\tremaining: 1m 13s\n",
            "7400:\tlearn: 0.9954160\ttotal: 1m 55s\tremaining: 1m 11s\n",
            "7500:\tlearn: 0.9958328\ttotal: 1m 56s\tremaining: 1m 10s\n",
            "7600:\tlearn: 0.9962495\ttotal: 1m 58s\tremaining: 1m 8s\n",
            "7700:\tlearn: 0.9966662\ttotal: 1m 59s\tremaining: 1m 6s\n",
            "7800:\tlearn: 0.9969440\ttotal: 2m\tremaining: 1m 5s\n",
            "7900:\tlearn: 0.9973607\ttotal: 2m 2s\tremaining: 1m 3s\n",
            "8000:\tlearn: 0.9973607\ttotal: 2m 3s\tremaining: 1m 1s\n",
            "8100:\tlearn: 0.9974997\ttotal: 2m 5s\tremaining: 1m\n",
            "8200:\tlearn: 0.9979164\ttotal: 2m 7s\tremaining: 59.3s\n",
            "8300:\tlearn: 0.9977775\ttotal: 2m 9s\tremaining: 57.6s\n",
            "8400:\tlearn: 0.9977775\ttotal: 2m 10s\tremaining: 55.9s\n",
            "8500:\tlearn: 0.9977775\ttotal: 2m 11s\tremaining: 54.3s\n",
            "8600:\tlearn: 0.9979164\ttotal: 2m 13s\tremaining: 52.6s\n",
            "8700:\tlearn: 0.9980553\ttotal: 2m 14s\tremaining: 51s\n",
            "8800:\tlearn: 0.9983331\ttotal: 2m 15s\tremaining: 49.3s\n",
            "8900:\tlearn: 0.9984720\ttotal: 2m 17s\tremaining: 47.7s\n",
            "9000:\tlearn: 0.9987498\ttotal: 2m 19s\tremaining: 46.4s\n",
            "9100:\tlearn: 0.9987498\ttotal: 2m 21s\tremaining: 45s\n",
            "9200:\tlearn: 0.9987498\ttotal: 2m 22s\tremaining: 43.4s\n",
            "9300:\tlearn: 0.9987498\ttotal: 2m 23s\tremaining: 41.8s\n",
            "9400:\tlearn: 0.9988887\ttotal: 2m 25s\tremaining: 40.2s\n",
            "9500:\tlearn: 0.9990276\ttotal: 2m 26s\tremaining: 38.5s\n",
            "9600:\tlearn: 0.9993055\ttotal: 2m 27s\tremaining: 36.9s\n",
            "9700:\tlearn: 0.9993055\ttotal: 2m 29s\tremaining: 35.3s\n",
            "9800:\tlearn: 0.9993055\ttotal: 2m 30s\tremaining: 33.8s\n",
            "9900:\tlearn: 0.9994444\ttotal: 2m 32s\tremaining: 32.4s\n",
            "10000:\tlearn: 0.9994444\ttotal: 2m 34s\tremaining: 30.9s\n",
            "10100:\tlearn: 0.9994444\ttotal: 2m 35s\tremaining: 29.3s\n",
            "10200:\tlearn: 0.9995833\ttotal: 2m 37s\tremaining: 27.7s\n",
            "10300:\tlearn: 0.9997222\ttotal: 2m 38s\tremaining: 26.2s\n",
            "10400:\tlearn: 0.9997222\ttotal: 2m 39s\tremaining: 24.6s\n",
            "10500:\tlearn: 0.9997222\ttotal: 2m 41s\tremaining: 23s\n",
            "10600:\tlearn: 0.9997222\ttotal: 2m 42s\tremaining: 21.5s\n",
            "10700:\tlearn: 0.9998611\ttotal: 2m 43s\tremaining: 19.9s\n",
            "10800:\tlearn: 0.9998611\ttotal: 2m 46s\tremaining: 18.5s\n",
            "10900:\tlearn: 0.9998611\ttotal: 2m 48s\tremaining: 17s\n",
            "11000:\tlearn: 0.9998611\ttotal: 2m 49s\tremaining: 15.4s\n",
            "11100:\tlearn: 0.9998611\ttotal: 2m 50s\tremaining: 13.8s\n",
            "11200:\tlearn: 0.9998611\ttotal: 2m 52s\tremaining: 12.3s\n",
            "11300:\tlearn: 0.9998611\ttotal: 2m 53s\tremaining: 10.7s\n",
            "11400:\tlearn: 0.9998611\ttotal: 2m 54s\tremaining: 9.18s\n",
            "11500:\tlearn: 0.9998611\ttotal: 2m 56s\tremaining: 7.64s\n",
            "11600:\tlearn: 0.9998611\ttotal: 2m 57s\tremaining: 6.11s\n",
            "11700:\tlearn: 0.9998611\ttotal: 3m\tremaining: 4.61s\n",
            "11800:\tlearn: 0.9998611\ttotal: 3m 2s\tremaining: 3.07s\n",
            "11900:\tlearn: 0.9998611\ttotal: 3m 3s\tremaining: 1.53s\n",
            "11999:\tlearn: 0.9998611\ttotal: 3m 4s\tremaining: 0us\n",
            "0:\tlearn: 0.6263370\ttotal: 14.2ms\tremaining: 2m 50s\n",
            "100:\tlearn: 0.6699542\ttotal: 1.22s\tremaining: 2m 23s\n",
            "200:\tlearn: 0.6857897\ttotal: 2.4s\tremaining: 2m 20s\n",
            "300:\tlearn: 0.7017641\ttotal: 3.62s\tremaining: 2m 20s\n",
            "400:\tlearn: 0.7210724\ttotal: 4.9s\tremaining: 2m 21s\n",
            "500:\tlearn: 0.7388526\ttotal: 6.32s\tremaining: 2m 25s\n",
            "600:\tlearn: 0.7512154\ttotal: 8.81s\tremaining: 2m 47s\n",
            "700:\tlearn: 0.7609390\ttotal: 10.4s\tremaining: 2m 47s\n",
            "800:\tlearn: 0.7702459\ttotal: 11.6s\tremaining: 2m 42s\n",
            "900:\tlearn: 0.7834421\ttotal: 12.9s\tremaining: 2m 38s\n",
            "1000:\tlearn: 0.8023337\ttotal: 14.2s\tremaining: 2m 35s\n",
            "1100:\tlearn: 0.8112238\ttotal: 15.5s\tremaining: 2m 33s\n",
            "1200:\tlearn: 0.8199750\ttotal: 16.8s\tremaining: 2m 30s\n",
            "1300:\tlearn: 0.8308098\ttotal: 18s\tremaining: 2m 28s\n",
            "1400:\tlearn: 0.8367829\ttotal: 19.3s\tremaining: 2m 25s\n",
            "1500:\tlearn: 0.8438672\ttotal: 21.7s\tremaining: 2m 31s\n",
            "1600:\tlearn: 0.8481734\ttotal: 23.6s\tremaining: 2m 33s\n",
            "1700:\tlearn: 0.8560911\ttotal: 24.8s\tremaining: 2m 30s\n",
            "1800:\tlearn: 0.8619253\ttotal: 26.1s\tremaining: 2m 27s\n",
            "1900:\tlearn: 0.8670649\ttotal: 27.4s\tremaining: 2m 25s\n",
            "2000:\tlearn: 0.8742881\ttotal: 28.7s\tremaining: 2m 23s\n",
            "2100:\tlearn: 0.8795666\ttotal: 29.9s\tremaining: 2m 21s\n",
            "2200:\tlearn: 0.8848451\ttotal: 31.2s\tremaining: 2m 19s\n",
            "2300:\tlearn: 0.8909571\ttotal: 32.5s\tremaining: 2m 16s\n",
            "2400:\tlearn: 0.8983192\ttotal: 34.8s\tremaining: 2m 19s\n",
            "2500:\tlearn: 0.9031810\ttotal: 36.9s\tremaining: 2m 19s\n",
            "2600:\tlearn: 0.9063759\ttotal: 38.1s\tremaining: 2m 17s\n",
            "2700:\tlearn: 0.9119322\ttotal: 39.4s\tremaining: 2m 15s\n",
            "2800:\tlearn: 0.9159606\ttotal: 40.7s\tremaining: 2m 13s\n",
            "2900:\tlearn: 0.9206834\ttotal: 42s\tremaining: 2m 11s\n",
            "3000:\tlearn: 0.9244339\ttotal: 43.3s\tremaining: 2m 9s\n",
            "3100:\tlearn: 0.9284623\ttotal: 44.6s\tremaining: 2m 8s\n",
            "3200:\tlearn: 0.9311015\ttotal: 45.9s\tremaining: 2m 6s\n",
            "3300:\tlearn: 0.9341575\ttotal: 48.1s\tremaining: 2m 6s\n",
            "3400:\tlearn: 0.9367968\ttotal: 50.4s\tremaining: 2m 7s\n",
            "3500:\tlearn: 0.9411029\ttotal: 51.7s\tremaining: 2m 5s\n",
            "3600:\tlearn: 0.9448535\ttotal: 53s\tremaining: 2m 3s\n",
            "3700:\tlearn: 0.9477705\ttotal: 54.3s\tremaining: 2m 1s\n",
            "3800:\tlearn: 0.9511043\ttotal: 55.6s\tremaining: 1m 59s\n",
            "3900:\tlearn: 0.9526323\ttotal: 56.9s\tremaining: 1m 58s\n",
            "4000:\tlearn: 0.9556883\ttotal: 58.3s\tremaining: 1m 56s\n",
            "4100:\tlearn: 0.9576330\ttotal: 59.6s\tremaining: 1m 54s\n",
            "4200:\tlearn: 0.9602723\ttotal: 1m 1s\tremaining: 1m 54s\n",
            "4300:\tlearn: 0.9618003\ttotal: 1m 3s\tremaining: 1m 54s\n",
            "4400:\tlearn: 0.9630504\ttotal: 1m 5s\tremaining: 1m 52s\n",
            "4500:\tlearn: 0.9645784\ttotal: 1m 6s\tremaining: 1m 50s\n",
            "4600:\tlearn: 0.9674955\ttotal: 1m 7s\tremaining: 1m 49s\n",
            "4700:\tlearn: 0.9695791\ttotal: 1m 9s\tremaining: 1m 47s\n",
            "4800:\tlearn: 0.9711071\ttotal: 1m 10s\tremaining: 1m 45s\n",
            "4900:\tlearn: 0.9734685\ttotal: 1m 11s\tremaining: 1m 43s\n",
            "5000:\tlearn: 0.9756911\ttotal: 1m 13s\tremaining: 1m 42s\n",
            "5100:\tlearn: 0.9770802\ttotal: 1m 15s\tremaining: 1m 41s\n",
            "5200:\tlearn: 0.9779136\ttotal: 1m 17s\tremaining: 1m 41s\n",
            "5300:\tlearn: 0.9780525\ttotal: 1m 19s\tremaining: 1m 40s\n",
            "5400:\tlearn: 0.9797194\ttotal: 1m 20s\tremaining: 1m 38s\n",
            "5500:\tlearn: 0.9808307\ttotal: 1m 21s\tremaining: 1m 36s\n",
            "5600:\tlearn: 0.9808307\ttotal: 1m 22s\tremaining: 1m 34s\n",
            "5700:\tlearn: 0.9834699\ttotal: 1m 24s\tremaining: 1m 33s\n",
            "5800:\tlearn: 0.9834699\ttotal: 1m 25s\tremaining: 1m 31s\n",
            "5900:\tlearn: 0.9848590\ttotal: 1m 26s\tremaining: 1m 29s\n",
            "6000:\tlearn: 0.9854146\ttotal: 1m 28s\tremaining: 1m 28s\n",
            "6100:\tlearn: 0.9866648\ttotal: 1m 31s\tremaining: 1m 28s\n",
            "6200:\tlearn: 0.9869426\ttotal: 1m 32s\tremaining: 1m 26s\n",
            "6300:\tlearn: 0.9877761\ttotal: 1m 33s\tremaining: 1m 25s\n",
            "6400:\tlearn: 0.9887484\ttotal: 1m 35s\tremaining: 1m 23s\n",
            "6500:\tlearn: 0.9894430\ttotal: 1m 36s\tremaining: 1m 21s\n",
            "6600:\tlearn: 0.9893041\ttotal: 1m 37s\tremaining: 1m 20s\n",
            "6700:\tlearn: 0.9906932\ttotal: 1m 39s\tremaining: 1m 18s\n",
            "6800:\tlearn: 0.9906932\ttotal: 1m 40s\tremaining: 1m 16s\n",
            "6900:\tlearn: 0.9913877\ttotal: 1m 41s\tremaining: 1m 15s\n",
            "7000:\tlearn: 0.9918044\ttotal: 1m 44s\tremaining: 1m 14s\n",
            "7100:\tlearn: 0.9919433\ttotal: 1m 46s\tremaining: 1m 13s\n",
            "7200:\tlearn: 0.9926379\ttotal: 1m 47s\tremaining: 1m 11s\n",
            "7300:\tlearn: 0.9929157\ttotal: 1m 48s\tremaining: 1m 10s\n",
            "7400:\tlearn: 0.9931935\ttotal: 1m 50s\tremaining: 1m 8s\n",
            "7500:\tlearn: 0.9936102\ttotal: 1m 51s\tremaining: 1m 6s\n",
            "7600:\tlearn: 0.9940269\ttotal: 1m 52s\tremaining: 1m 5s\n",
            "7700:\tlearn: 0.9947215\ttotal: 1m 54s\tremaining: 1m 3s\n",
            "7800:\tlearn: 0.9949993\ttotal: 1m 55s\tremaining: 1m 2s\n",
            "7900:\tlearn: 0.9951382\ttotal: 1m 58s\tremaining: 1m 1s\n",
            "8000:\tlearn: 0.9958328\ttotal: 1m 59s\tremaining: 59.9s\n",
            "8100:\tlearn: 0.9959717\ttotal: 2m 1s\tremaining: 58.3s\n",
            "8200:\tlearn: 0.9961106\ttotal: 2m 2s\tremaining: 56.7s\n",
            "8300:\tlearn: 0.9965273\ttotal: 2m 3s\tremaining: 55.2s\n",
            "8400:\tlearn: 0.9963884\ttotal: 2m 5s\tremaining: 53.6s\n",
            "8500:\tlearn: 0.9969440\ttotal: 2m 6s\tremaining: 52.1s\n",
            "8600:\tlearn: 0.9970829\ttotal: 2m 7s\tremaining: 50.5s\n",
            "8700:\tlearn: 0.9974997\ttotal: 2m 9s\tremaining: 49.1s\n",
            "8800:\tlearn: 0.9974997\ttotal: 2m 12s\tremaining: 48s\n",
            "8900:\tlearn: 0.9974997\ttotal: 2m 13s\tremaining: 46.5s\n",
            "9000:\tlearn: 0.9976386\ttotal: 2m 14s\tremaining: 45s\n",
            "9100:\tlearn: 0.9979164\ttotal: 2m 16s\tremaining: 43.4s\n",
            "9200:\tlearn: 0.9979164\ttotal: 2m 17s\tremaining: 41.8s\n",
            "9300:\tlearn: 0.9980553\ttotal: 2m 18s\tremaining: 40.3s\n",
            "9400:\tlearn: 0.9980553\ttotal: 2m 20s\tremaining: 38.7s\n",
            "9500:\tlearn: 0.9979164\ttotal: 2m 21s\tremaining: 37.2s\n",
            "9600:\tlearn: 0.9983331\ttotal: 2m 23s\tremaining: 35.7s\n",
            "9700:\tlearn: 0.9983331\ttotal: 2m 25s\tremaining: 34.5s\n",
            "9800:\tlearn: 0.9983331\ttotal: 2m 27s\tremaining: 33s\n",
            "9900:\tlearn: 0.9986109\ttotal: 2m 28s\tremaining: 31.5s\n",
            "10000:\tlearn: 0.9987498\ttotal: 2m 29s\tremaining: 29.9s\n",
            "10100:\tlearn: 0.9990276\ttotal: 2m 30s\tremaining: 28.4s\n",
            "10200:\tlearn: 0.9988887\ttotal: 2m 32s\tremaining: 26.9s\n",
            "10300:\tlearn: 0.9990276\ttotal: 2m 33s\tremaining: 25.3s\n",
            "10400:\tlearn: 0.9991666\ttotal: 2m 34s\tremaining: 23.8s\n",
            "10500:\tlearn: 0.9993055\ttotal: 2m 36s\tremaining: 22.3s\n",
            "10600:\tlearn: 0.9993055\ttotal: 2m 38s\tremaining: 20.9s\n",
            "10700:\tlearn: 0.9994444\ttotal: 2m 40s\tremaining: 19.5s\n",
            "10800:\tlearn: 0.9994444\ttotal: 2m 41s\tremaining: 18s\n",
            "10900:\tlearn: 0.9994444\ttotal: 2m 43s\tremaining: 16.5s\n",
            "11000:\tlearn: 0.9995833\ttotal: 2m 44s\tremaining: 14.9s\n",
            "11100:\tlearn: 0.9997222\ttotal: 2m 45s\tremaining: 13.4s\n",
            "11200:\tlearn: 0.9997222\ttotal: 2m 47s\tremaining: 11.9s\n",
            "11300:\tlearn: 0.9997222\ttotal: 2m 48s\tremaining: 10.4s\n",
            "11400:\tlearn: 0.9997222\ttotal: 2m 49s\tremaining: 8.92s\n",
            "11500:\tlearn: 0.9997222\ttotal: 2m 52s\tremaining: 7.47s\n",
            "11600:\tlearn: 0.9997222\ttotal: 2m 54s\tremaining: 6s\n",
            "11700:\tlearn: 0.9997222\ttotal: 2m 55s\tremaining: 4.49s\n",
            "11800:\tlearn: 0.9997222\ttotal: 2m 56s\tremaining: 2.98s\n",
            "11900:\tlearn: 0.9997222\ttotal: 2m 58s\tremaining: 1.48s\n",
            "11999:\tlearn: 0.9997222\ttotal: 2m 59s\tremaining: 0us\n",
            "0:\tlearn: 0.6246701\ttotal: 14.6ms\tremaining: 2m 54s\n",
            "100:\tlearn: 0.6706487\ttotal: 1.2s\tremaining: 2m 21s\n",
            "200:\tlearn: 0.6881511\ttotal: 2.35s\tremaining: 2m 17s\n",
            "300:\tlearn: 0.7081539\ttotal: 3.61s\tremaining: 2m 20s\n",
            "400:\tlearn: 0.7270454\ttotal: 5.95s\tremaining: 2m 52s\n",
            "500:\tlearn: 0.7464926\ttotal: 7.91s\tremaining: 3m 1s\n",
            "600:\tlearn: 0.7609390\ttotal: 9.15s\tremaining: 2m 53s\n",
            "700:\tlearn: 0.7709404\ttotal: 10.4s\tremaining: 2m 47s\n",
            "800:\tlearn: 0.7796916\ttotal: 11.6s\tremaining: 2m 42s\n",
            "900:\tlearn: 0.7931657\ttotal: 12.8s\tremaining: 2m 38s\n",
            "1000:\tlearn: 0.8056675\ttotal: 14.2s\tremaining: 2m 35s\n",
            "1100:\tlearn: 0.8170579\ttotal: 15.4s\tremaining: 2m 32s\n",
            "1200:\tlearn: 0.8306709\ttotal: 16.7s\tremaining: 2m 30s\n",
            "1300:\tlearn: 0.8399778\ttotal: 18.6s\tremaining: 2m 32s\n",
            "1400:\tlearn: 0.8509515\ttotal: 21.2s\tremaining: 2m 40s\n",
            "1500:\tlearn: 0.8595638\ttotal: 22.4s\tremaining: 2m 36s\n",
            "1600:\tlearn: 0.8662314\ttotal: 23.7s\tremaining: 2m 34s\n",
            "1700:\tlearn: 0.8740103\ttotal: 25s\tremaining: 2m 31s\n",
            "1800:\tlearn: 0.8804001\ttotal: 26.2s\tremaining: 2m 28s\n",
            "1900:\tlearn: 0.8848451\ttotal: 27.5s\tremaining: 2m 25s\n",
            "2000:\tlearn: 0.8877622\ttotal: 28.8s\tremaining: 2m 23s\n",
            "2100:\tlearn: 0.8931796\ttotal: 30s\tremaining: 2m 21s\n",
            "2200:\tlearn: 0.8977636\ttotal: 31.5s\tremaining: 2m 20s\n",
            "2300:\tlearn: 0.9034588\ttotal: 34.1s\tremaining: 2m 23s\n",
            "2400:\tlearn: 0.9084595\ttotal: 35.6s\tremaining: 2m 22s\n",
            "2500:\tlearn: 0.9127657\ttotal: 36.9s\tremaining: 2m 20s\n",
            "2600:\tlearn: 0.9160995\ttotal: 38.2s\tremaining: 2m 18s\n",
            "2700:\tlearn: 0.9216558\ttotal: 39.5s\tremaining: 2m 16s\n",
            "2800:\tlearn: 0.9252674\ttotal: 40.8s\tremaining: 2m 13s\n",
            "2900:\tlearn: 0.9283234\ttotal: 42.1s\tremaining: 2m 11s\n",
            "3000:\tlearn: 0.9313794\ttotal: 43.4s\tremaining: 2m 10s\n",
            "3100:\tlearn: 0.9356855\ttotal: 44.8s\tremaining: 2m 8s\n",
            "3200:\tlearn: 0.9377691\ttotal: 47.4s\tremaining: 2m 10s\n",
            "3300:\tlearn: 0.9405473\ttotal: 49s\tremaining: 2m 9s\n",
            "3400:\tlearn: 0.9433255\ttotal: 50.3s\tremaining: 2m 7s\n",
            "3500:\tlearn: 0.9473538\ttotal: 51.6s\tremaining: 2m 5s\n",
            "3600:\tlearn: 0.9516600\ttotal: 52.9s\tremaining: 2m 3s\n",
            "3700:\tlearn: 0.9541603\ttotal: 54.2s\tremaining: 2m 1s\n",
            "3800:\tlearn: 0.9573552\ttotal: 55.5s\tremaining: 1m 59s\n",
            "3900:\tlearn: 0.9601334\ttotal: 56.8s\tremaining: 1m 57s\n",
            "4000:\tlearn: 0.9620781\ttotal: 58.2s\tremaining: 1m 56s\n",
            "4100:\tlearn: 0.9636061\ttotal: 1m\tremaining: 1m 57s\n",
            "4200:\tlearn: 0.9648562\ttotal: 1m 2s\tremaining: 1m 56s\n",
            "4300:\tlearn: 0.9665231\ttotal: 1m 3s\tremaining: 1m 54s\n",
            "4400:\tlearn: 0.9684678\ttotal: 1m 5s\tremaining: 1m 52s\n",
            "4500:\tlearn: 0.9712460\ttotal: 1m 6s\tremaining: 1m 50s\n",
            "4600:\tlearn: 0.9726351\ttotal: 1m 7s\tremaining: 1m 48s\n",
            "4700:\tlearn: 0.9738853\ttotal: 1m 9s\tremaining: 1m 47s\n",
            "4800:\tlearn: 0.9755522\ttotal: 1m 10s\tremaining: 1m 45s\n",
            "4900:\tlearn: 0.9769412\ttotal: 1m 11s\tremaining: 1m 43s\n",
            "5000:\tlearn: 0.9784692\ttotal: 1m 13s\tremaining: 1m 43s\n",
            "5100:\tlearn: 0.9788860\ttotal: 1m 16s\tremaining: 1m 42s\n",
            "5200:\tlearn: 0.9809696\ttotal: 1m 17s\tremaining: 1m 41s\n",
            "5300:\tlearn: 0.9822198\ttotal: 1m 18s\tremaining: 1m 39s\n",
            "5400:\tlearn: 0.9827754\ttotal: 1m 20s\tremaining: 1m 37s\n",
            "5500:\tlearn: 0.9837477\ttotal: 1m 21s\tremaining: 1m 36s\n",
            "5600:\tlearn: 0.9837477\ttotal: 1m 22s\tremaining: 1m 34s\n",
            "5700:\tlearn: 0.9848590\ttotal: 1m 23s\tremaining: 1m 32s\n",
            "5800:\tlearn: 0.9862481\ttotal: 1m 25s\tremaining: 1m 31s\n",
            "5900:\tlearn: 0.9870815\ttotal: 1m 27s\tremaining: 1m 30s\n",
            "6000:\tlearn: 0.9880539\ttotal: 1m 29s\tremaining: 1m 29s\n",
            "6100:\tlearn: 0.9890263\ttotal: 1m 31s\tremaining: 1m 28s\n",
            "6200:\tlearn: 0.9898597\ttotal: 1m 32s\tremaining: 1m 26s\n",
            "6300:\tlearn: 0.9902764\ttotal: 1m 33s\tremaining: 1m 24s\n",
            "6400:\tlearn: 0.9913877\ttotal: 1m 34s\tremaining: 1m 23s\n",
            "6500:\tlearn: 0.9922211\ttotal: 1m 36s\tremaining: 1m 21s\n",
            "6600:\tlearn: 0.9927768\ttotal: 1m 37s\tremaining: 1m 19s\n",
            "6700:\tlearn: 0.9936102\ttotal: 1m 38s\tremaining: 1m 18s\n",
            "6800:\tlearn: 0.9940269\ttotal: 1m 40s\tremaining: 1m 16s\n",
            "6900:\tlearn: 0.9944437\ttotal: 1m 43s\tremaining: 1m 16s\n",
            "7000:\tlearn: 0.9949993\ttotal: 1m 44s\tremaining: 1m 14s\n",
            "7100:\tlearn: 0.9949993\ttotal: 1m 45s\tremaining: 1m 13s\n",
            "7200:\tlearn: 0.9956938\ttotal: 1m 47s\tremaining: 1m 11s\n",
            "7300:\tlearn: 0.9958328\ttotal: 1m 48s\tremaining: 1m 9s\n",
            "7400:\tlearn: 0.9961106\ttotal: 1m 49s\tremaining: 1m 8s\n",
            "7500:\tlearn: 0.9965273\ttotal: 1m 51s\tremaining: 1m 6s\n",
            "7600:\tlearn: 0.9966662\ttotal: 1m 52s\tremaining: 1m 5s\n",
            "7700:\tlearn: 0.9966662\ttotal: 1m 54s\tremaining: 1m 3s\n",
            "7800:\tlearn: 0.9969440\ttotal: 1m 56s\tremaining: 1m 2s\n",
            "7900:\tlearn: 0.9969440\ttotal: 1m 58s\tremaining: 1m 1s\n",
            "8000:\tlearn: 0.9972218\ttotal: 1m 59s\tremaining: 59.7s\n",
            "8100:\tlearn: 0.9973607\ttotal: 2m\tremaining: 58.1s\n",
            "8200:\tlearn: 0.9976386\ttotal: 2m 1s\tremaining: 56.5s\n",
            "8300:\tlearn: 0.9980553\ttotal: 2m 3s\tremaining: 54.9s\n",
            "8400:\tlearn: 0.9983331\ttotal: 2m 4s\tremaining: 53.3s\n",
            "8500:\tlearn: 0.9983331\ttotal: 2m 5s\tremaining: 51.8s\n",
            "8600:\tlearn: 0.9984720\ttotal: 2m 7s\tremaining: 50.4s\n",
            "8700:\tlearn: 0.9984720\ttotal: 2m 10s\tremaining: 49.3s\n",
            "8800:\tlearn: 0.9984720\ttotal: 2m 11s\tremaining: 47.8s\n",
            "8900:\tlearn: 0.9988887\ttotal: 2m 12s\tremaining: 46.3s\n",
            "9000:\tlearn: 0.9988887\ttotal: 2m 14s\tremaining: 44.7s\n",
            "9100:\tlearn: 0.9990276\ttotal: 2m 15s\tremaining: 43.2s\n",
            "9200:\tlearn: 0.9991666\ttotal: 2m 16s\tremaining: 41.6s\n",
            "9300:\tlearn: 0.9990276\ttotal: 2m 18s\tremaining: 40.1s\n",
            "9400:\tlearn: 0.9994444\ttotal: 2m 19s\tremaining: 38.5s\n",
            "9500:\tlearn: 0.9994444\ttotal: 2m 21s\tremaining: 37.1s\n",
            "9600:\tlearn: 0.9994444\ttotal: 2m 23s\tremaining: 35.9s\n",
            "9700:\tlearn: 0.9995833\ttotal: 2m 25s\tremaining: 34.4s\n",
            "9800:\tlearn: 0.9995833\ttotal: 2m 26s\tremaining: 32.9s\n",
            "9900:\tlearn: 0.9997222\ttotal: 2m 27s\tremaining: 31.3s\n",
            "10000:\tlearn: 0.9997222\ttotal: 2m 29s\tremaining: 29.8s\n",
            "10100:\tlearn: 0.9997222\ttotal: 2m 30s\tremaining: 28.3s\n",
            "10200:\tlearn: 0.9998611\ttotal: 2m 31s\tremaining: 26.7s\n",
            "10300:\tlearn: 0.9998611\ttotal: 2m 32s\tremaining: 25.2s\n",
            "10400:\tlearn: 0.9998611\ttotal: 2m 34s\tremaining: 23.7s\n",
            "10500:\tlearn: 0.9998611\ttotal: 2m 36s\tremaining: 22.4s\n",
            "10600:\tlearn: 0.9998611\ttotal: 2m 38s\tremaining: 20.9s\n",
            "10700:\tlearn: 0.9998611\ttotal: 2m 40s\tremaining: 19.4s\n",
            "10800:\tlearn: 0.9998611\ttotal: 2m 41s\tremaining: 17.9s\n",
            "10900:\tlearn: 0.9998611\ttotal: 2m 42s\tremaining: 16.4s\n",
            "11000:\tlearn: 1.0000000\ttotal: 2m 43s\tremaining: 14.9s\n",
            "11100:\tlearn: 1.0000000\ttotal: 2m 45s\tremaining: 13.4s\n",
            "11200:\tlearn: 1.0000000\ttotal: 2m 46s\tremaining: 11.9s\n",
            "11300:\tlearn: 1.0000000\ttotal: 2m 47s\tremaining: 10.4s\n",
            "11400:\tlearn: 1.0000000\ttotal: 2m 50s\tremaining: 8.97s\n",
            "11500:\tlearn: 1.0000000\ttotal: 2m 52s\tremaining: 7.48s\n",
            "11600:\tlearn: 1.0000000\ttotal: 2m 53s\tremaining: 5.97s\n",
            "11700:\tlearn: 1.0000000\ttotal: 2m 54s\tremaining: 4.47s\n",
            "11800:\tlearn: 1.0000000\ttotal: 2m 56s\tremaining: 2.97s\n",
            "11900:\tlearn: 1.0000000\ttotal: 2m 57s\tremaining: 1.48s\n",
            "11999:\tlearn: 1.0000000\ttotal: 2m 58s\tremaining: 0us\n",
            "0:\tlearn: 0.6388889\ttotal: 14.5ms\tremaining: 2m 54s\n",
            "100:\tlearn: 0.6675000\ttotal: 1.2s\tremaining: 2m 21s\n",
            "200:\tlearn: 0.6887500\ttotal: 2.9s\tremaining: 2m 49s\n",
            "300:\tlearn: 0.7111111\ttotal: 5.42s\tremaining: 3m 30s\n",
            "400:\tlearn: 0.7305556\ttotal: 6.78s\tremaining: 3m 16s\n",
            "500:\tlearn: 0.7445833\ttotal: 8.01s\tremaining: 3m 3s\n",
            "600:\tlearn: 0.7595833\ttotal: 9.3s\tremaining: 2m 56s\n",
            "700:\tlearn: 0.7733333\ttotal: 10.5s\tremaining: 2m 50s\n",
            "800:\tlearn: 0.7847222\ttotal: 11.8s\tremaining: 2m 44s\n",
            "900:\tlearn: 0.7976389\ttotal: 13.1s\tremaining: 2m 40s\n",
            "1000:\tlearn: 0.8081944\ttotal: 14.4s\tremaining: 2m 38s\n",
            "1100:\tlearn: 0.8180556\ttotal: 15.7s\tremaining: 2m 35s\n",
            "1200:\tlearn: 0.8258333\ttotal: 18.2s\tremaining: 2m 43s\n",
            "1300:\tlearn: 0.8334722\ttotal: 20s\tremaining: 2m 44s\n",
            "1400:\tlearn: 0.8429167\ttotal: 21.3s\tremaining: 2m 41s\n",
            "1500:\tlearn: 0.8519444\ttotal: 22.5s\tremaining: 2m 37s\n",
            "1600:\tlearn: 0.8594444\ttotal: 23.8s\tremaining: 2m 34s\n",
            "1700:\tlearn: 0.8641667\ttotal: 25s\tremaining: 2m 31s\n",
            "1800:\tlearn: 0.8716667\ttotal: 26.3s\tremaining: 2m 28s\n",
            "1900:\tlearn: 0.8788889\ttotal: 27.6s\tremaining: 2m 26s\n",
            "2000:\tlearn: 0.8840278\ttotal: 28.8s\tremaining: 2m 24s\n",
            "2100:\tlearn: 0.8908333\ttotal: 30.9s\tremaining: 2m 25s\n",
            "2200:\tlearn: 0.8977778\ttotal: 33.4s\tremaining: 2m 28s\n",
            "2300:\tlearn: 0.9044444\ttotal: 34.7s\tremaining: 2m 26s\n",
            "2400:\tlearn: 0.9102778\ttotal: 36s\tremaining: 2m 24s\n",
            "2500:\tlearn: 0.9147222\ttotal: 37.3s\tremaining: 2m 21s\n",
            "2600:\tlearn: 0.9208333\ttotal: 38.6s\tremaining: 2m 19s\n",
            "2700:\tlearn: 0.9238889\ttotal: 39.9s\tremaining: 2m 17s\n",
            "2800:\tlearn: 0.9270833\ttotal: 41.2s\tremaining: 2m 15s\n",
            "2900:\tlearn: 0.9295833\ttotal: 42.5s\tremaining: 2m 13s\n",
            "3000:\tlearn: 0.9331944\ttotal: 44.3s\tremaining: 2m 12s\n",
            "3100:\tlearn: 0.9368056\ttotal: 46.8s\tremaining: 2m 14s\n",
            "3200:\tlearn: 0.9386111\ttotal: 48.2s\tremaining: 2m 12s\n",
            "3300:\tlearn: 0.9415278\ttotal: 49.5s\tremaining: 2m 10s\n",
            "3400:\tlearn: 0.9454167\ttotal: 50.7s\tremaining: 2m 8s\n",
            "3500:\tlearn: 0.9469444\ttotal: 52s\tremaining: 2m 6s\n",
            "3600:\tlearn: 0.9505556\ttotal: 53.3s\tremaining: 2m 4s\n",
            "3700:\tlearn: 0.9537500\ttotal: 54.6s\tremaining: 2m 2s\n",
            "3800:\tlearn: 0.9550000\ttotal: 55.8s\tremaining: 2m\n",
            "3900:\tlearn: 0.9565278\ttotal: 57.4s\tremaining: 1m 59s\n",
            "4000:\tlearn: 0.9593056\ttotal: 60s\tremaining: 1m 59s\n",
            "4100:\tlearn: 0.9619444\ttotal: 1m 1s\tremaining: 1m 58s\n",
            "4200:\tlearn: 0.9634722\ttotal: 1m 2s\tremaining: 1m 56s\n",
            "4300:\tlearn: 0.9656944\ttotal: 1m 3s\tremaining: 1m 54s\n",
            "4400:\tlearn: 0.9681944\ttotal: 1m 5s\tremaining: 1m 52s\n",
            "4500:\tlearn: 0.9700000\ttotal: 1m 6s\tremaining: 1m 50s\n",
            "4600:\tlearn: 0.9719444\ttotal: 1m 7s\tremaining: 1m 49s\n",
            "4700:\tlearn: 0.9731944\ttotal: 1m 9s\tremaining: 1m 47s\n",
            "4800:\tlearn: 0.9740278\ttotal: 1m 10s\tremaining: 1m 45s\n",
            "4900:\tlearn: 0.9758333\ttotal: 1m 13s\tremaining: 1m 45s\n",
            "5000:\tlearn: 0.9768056\ttotal: 1m 14s\tremaining: 1m 44s\n",
            "5100:\tlearn: 0.9781944\ttotal: 1m 16s\tremaining: 1m 43s\n",
            "5200:\tlearn: 0.9790278\ttotal: 1m 17s\tremaining: 1m 41s\n",
            "5300:\tlearn: 0.9800000\ttotal: 1m 18s\tremaining: 1m 39s\n",
            "5400:\tlearn: 0.9812500\ttotal: 1m 20s\tremaining: 1m 37s\n",
            "5500:\tlearn: 0.9826389\ttotal: 1m 21s\tremaining: 1m 36s\n",
            "5600:\tlearn: 0.9833333\ttotal: 1m 22s\tremaining: 1m 34s\n",
            "5700:\tlearn: 0.9847222\ttotal: 1m 24s\tremaining: 1m 32s\n",
            "5800:\tlearn: 0.9852778\ttotal: 1m 26s\tremaining: 1m 32s\n",
            "5900:\tlearn: 0.9866667\ttotal: 1m 28s\tremaining: 1m 31s\n",
            "6000:\tlearn: 0.9883333\ttotal: 1m 29s\tremaining: 1m 29s\n",
            "6100:\tlearn: 0.9887500\ttotal: 1m 31s\tremaining: 1m 28s\n",
            "6200:\tlearn: 0.9890278\ttotal: 1m 32s\tremaining: 1m 26s\n",
            "6300:\tlearn: 0.9906944\ttotal: 1m 33s\tremaining: 1m 24s\n",
            "6400:\tlearn: 0.9911111\ttotal: 1m 35s\tremaining: 1m 23s\n",
            "6500:\tlearn: 0.9915278\ttotal: 1m 36s\tremaining: 1m 21s\n",
            "6600:\tlearn: 0.9925000\ttotal: 1m 37s\tremaining: 1m 20s\n",
            "6700:\tlearn: 0.9926389\ttotal: 1m 40s\tremaining: 1m 19s\n",
            "6800:\tlearn: 0.9925000\ttotal: 1m 42s\tremaining: 1m 18s\n",
            "6900:\tlearn: 0.9931944\ttotal: 1m 43s\tremaining: 1m 16s\n",
            "7000:\tlearn: 0.9933333\ttotal: 1m 44s\tremaining: 1m 14s\n",
            "7100:\tlearn: 0.9943056\ttotal: 1m 46s\tremaining: 1m 13s\n",
            "7200:\tlearn: 0.9947222\ttotal: 1m 47s\tremaining: 1m 11s\n",
            "7300:\tlearn: 0.9950000\ttotal: 1m 48s\tremaining: 1m 10s\n",
            "7400:\tlearn: 0.9954167\ttotal: 1m 50s\tremaining: 1m 8s\n",
            "7500:\tlearn: 0.9955556\ttotal: 1m 51s\tremaining: 1m 6s\n",
            "7600:\tlearn: 0.9958333\ttotal: 1m 53s\tremaining: 1m 5s\n",
            "7700:\tlearn: 0.9958333\ttotal: 1m 55s\tremaining: 1m 4s\n",
            "7800:\tlearn: 0.9962500\ttotal: 1m 57s\tremaining: 1m 3s\n",
            "7900:\tlearn: 0.9966667\ttotal: 1m 58s\tremaining: 1m 1s\n",
            "8000:\tlearn: 0.9965278\ttotal: 1m 59s\tremaining: 59.9s\n",
            "8100:\tlearn: 0.9966667\ttotal: 2m 1s\tremaining: 58.3s\n",
            "8200:\tlearn: 0.9968056\ttotal: 2m 2s\tremaining: 56.7s\n",
            "8300:\tlearn: 0.9968056\ttotal: 2m 3s\tremaining: 55.2s\n",
            "8400:\tlearn: 0.9968056\ttotal: 2m 5s\tremaining: 53.6s\n",
            "8500:\tlearn: 0.9969444\ttotal: 2m 7s\tremaining: 52.5s\n",
            "8600:\tlearn: 0.9972222\ttotal: 2m 9s\tremaining: 51.2s\n",
            "8700:\tlearn: 0.9970833\ttotal: 2m 10s\tremaining: 49.6s\n",
            "8800:\tlearn: 0.9976389\ttotal: 2m 12s\tremaining: 48.1s\n",
            "8900:\tlearn: 0.9977778\ttotal: 2m 13s\tremaining: 46.5s\n",
            "9000:\tlearn: 0.9979167\ttotal: 2m 14s\tremaining: 44.9s\n",
            "9100:\tlearn: 0.9981944\ttotal: 2m 16s\tremaining: 43.3s\n",
            "9200:\tlearn: 0.9983333\ttotal: 2m 17s\tremaining: 41.8s\n",
            "9300:\tlearn: 0.9983333\ttotal: 2m 18s\tremaining: 40.2s\n",
            "9400:\tlearn: 0.9983333\ttotal: 2m 20s\tremaining: 39s\n",
            "9500:\tlearn: 0.9986111\ttotal: 2m 23s\tremaining: 37.6s\n",
            "9600:\tlearn: 0.9988889\ttotal: 2m 24s\tremaining: 36.1s\n",
            "9700:\tlearn: 0.9988889\ttotal: 2m 25s\tremaining: 34.5s\n",
            "9800:\tlearn: 0.9993056\ttotal: 2m 26s\tremaining: 33s\n",
            "9900:\tlearn: 0.9994444\ttotal: 2m 28s\tremaining: 31.4s\n",
            "10000:\tlearn: 0.9994444\ttotal: 2m 29s\tremaining: 29.9s\n",
            "10100:\tlearn: 0.9994444\ttotal: 2m 30s\tremaining: 28.3s\n",
            "10200:\tlearn: 0.9995833\ttotal: 2m 32s\tremaining: 26.8s\n",
            "10300:\tlearn: 0.9995833\ttotal: 2m 33s\tremaining: 25.4s\n",
            "10400:\tlearn: 0.9997222\ttotal: 2m 36s\tremaining: 24.1s\n",
            "10500:\tlearn: 0.9997222\ttotal: 2m 37s\tremaining: 22.5s\n",
            "10600:\tlearn: 0.9997222\ttotal: 2m 39s\tremaining: 21s\n",
            "10700:\tlearn: 0.9998611\ttotal: 2m 40s\tremaining: 19.5s\n",
            "10800:\tlearn: 0.9998611\ttotal: 2m 41s\tremaining: 17.9s\n",
            "10900:\tlearn: 0.9998611\ttotal: 2m 42s\tremaining: 16.4s\n",
            "11000:\tlearn: 0.9998611\ttotal: 2m 44s\tremaining: 14.9s\n",
            "11100:\tlearn: 0.9998611\ttotal: 2m 45s\tremaining: 13.4s\n",
            "11200:\tlearn: 0.9998611\ttotal: 2m 47s\tremaining: 11.9s\n",
            "11300:\tlearn: 1.0000000\ttotal: 2m 49s\tremaining: 10.5s\n",
            "11400:\tlearn: 1.0000000\ttotal: 2m 51s\tremaining: 9s\n",
            "11500:\tlearn: 1.0000000\ttotal: 2m 52s\tremaining: 7.48s\n",
            "11600:\tlearn: 1.0000000\ttotal: 2m 53s\tremaining: 5.98s\n",
            "11700:\tlearn: 1.0000000\ttotal: 2m 55s\tremaining: 4.47s\n",
            "11800:\tlearn: 1.0000000\ttotal: 2m 56s\tremaining: 2.97s\n",
            "11900:\tlearn: 1.0000000\ttotal: 2m 57s\tremaining: 1.48s\n",
            "11999:\tlearn: 1.0000000\ttotal: 2m 58s\tremaining: 0us\n",
            "0:\tlearn: 0.6911879\ttotal: 3.4ms\tremaining: 40.9s\n",
            "100:\tlearn: 0.6947439\ttotal: 311ms\tremaining: 36.7s\n",
            "200:\tlearn: 0.6967441\ttotal: 677ms\tremaining: 39.7s\n",
            "300:\tlearn: 0.6992999\ttotal: 1.27s\tremaining: 49.2s\n",
            "400:\tlearn: 0.6996333\ttotal: 1.89s\tremaining: 54.7s\n",
            "500:\tlearn: 0.6996333\ttotal: 2.54s\tremaining: 58.2s\n",
            "600:\tlearn: 0.7004112\ttotal: 3.1s\tremaining: 58.7s\n",
            "700:\tlearn: 0.7013001\ttotal: 3.82s\tremaining: 1m 1s\n",
            "800:\tlearn: 0.7026336\ttotal: 4.39s\tremaining: 1m 1s\n",
            "900:\tlearn: 0.7026336\ttotal: 4.7s\tremaining: 57.8s\n",
            "1000:\tlearn: 0.7026336\ttotal: 5.02s\tremaining: 55.2s\n",
            "1100:\tlearn: 0.7034115\ttotal: 5.33s\tremaining: 52.7s\n",
            "1200:\tlearn: 0.7037449\ttotal: 5.63s\tremaining: 50.6s\n",
            "1300:\tlearn: 0.7037449\ttotal: 5.95s\tremaining: 48.9s\n",
            "1400:\tlearn: 0.7037449\ttotal: 6.24s\tremaining: 47.2s\n",
            "1500:\tlearn: 0.7037449\ttotal: 6.53s\tremaining: 45.7s\n",
            "1600:\tlearn: 0.7037449\ttotal: 6.83s\tremaining: 44.4s\n",
            "1700:\tlearn: 0.7037449\ttotal: 7.12s\tremaining: 43.1s\n",
            "1800:\tlearn: 0.7037449\ttotal: 7.41s\tremaining: 42s\n",
            "1900:\tlearn: 0.7037449\ttotal: 7.69s\tremaining: 40.9s\n",
            "2000:\tlearn: 0.7037449\ttotal: 7.99s\tremaining: 39.9s\n",
            "2100:\tlearn: 0.7037449\ttotal: 8.29s\tremaining: 39.1s\n",
            "2200:\tlearn: 0.7037449\ttotal: 8.57s\tremaining: 38.2s\n",
            "2300:\tlearn: 0.7037449\ttotal: 8.88s\tremaining: 37.4s\n",
            "2400:\tlearn: 0.7037449\ttotal: 9.15s\tremaining: 36.6s\n",
            "2500:\tlearn: 0.7037449\ttotal: 9.44s\tremaining: 35.9s\n",
            "2600:\tlearn: 0.7037449\ttotal: 9.72s\tremaining: 35.1s\n",
            "2700:\tlearn: 0.7037449\ttotal: 10s\tremaining: 34.5s\n",
            "2800:\tlearn: 0.7037449\ttotal: 10.3s\tremaining: 33.8s\n",
            "2900:\tlearn: 0.7041894\ttotal: 10.6s\tremaining: 33.2s\n",
            "3000:\tlearn: 0.7041894\ttotal: 10.9s\tremaining: 32.7s\n",
            "3100:\tlearn: 0.7041894\ttotal: 11.2s\tremaining: 32.1s\n",
            "3200:\tlearn: 0.7041894\ttotal: 11.5s\tremaining: 31.5s\n",
            "3300:\tlearn: 0.7041894\ttotal: 11.7s\tremaining: 30.9s\n",
            "3400:\tlearn: 0.7041894\ttotal: 12s\tremaining: 30.4s\n",
            "3500:\tlearn: 0.7041894\ttotal: 12.3s\tremaining: 29.8s\n",
            "3600:\tlearn: 0.7041894\ttotal: 12.6s\tremaining: 29.3s\n",
            "3700:\tlearn: 0.7041894\ttotal: 12.9s\tremaining: 28.8s\n",
            "3800:\tlearn: 0.7041894\ttotal: 13.1s\tremaining: 28.3s\n",
            "3900:\tlearn: 0.7041894\ttotal: 13.4s\tremaining: 27.9s\n",
            "4000:\tlearn: 0.7041894\ttotal: 13.7s\tremaining: 27.4s\n",
            "4100:\tlearn: 0.7041894\ttotal: 14s\tremaining: 27s\n",
            "4200:\tlearn: 0.7041894\ttotal: 14.5s\tremaining: 26.9s\n",
            "4300:\tlearn: 0.7041894\ttotal: 15.1s\tremaining: 27s\n",
            "4400:\tlearn: 0.7041894\ttotal: 15.6s\tremaining: 26.9s\n",
            "4500:\tlearn: 0.7041894\ttotal: 16.1s\tremaining: 26.8s\n",
            "4600:\tlearn: 0.7041894\ttotal: 16.7s\tremaining: 26.8s\n",
            "4700:\tlearn: 0.7041894\ttotal: 17.2s\tremaining: 26.7s\n",
            "4800:\tlearn: 0.7041894\ttotal: 17.7s\tremaining: 26.5s\n",
            "4900:\tlearn: 0.7041894\ttotal: 18s\tremaining: 26.1s\n",
            "5000:\tlearn: 0.7041894\ttotal: 18.3s\tremaining: 25.6s\n",
            "5100:\tlearn: 0.7041894\ttotal: 18.5s\tremaining: 25.1s\n",
            "5200:\tlearn: 0.7041894\ttotal: 18.8s\tremaining: 24.6s\n",
            "5300:\tlearn: 0.7041894\ttotal: 19.1s\tremaining: 24.2s\n",
            "5400:\tlearn: 0.7041894\ttotal: 19.4s\tremaining: 23.7s\n",
            "5500:\tlearn: 0.7041894\ttotal: 19.7s\tremaining: 23.2s\n",
            "5600:\tlearn: 0.7041894\ttotal: 20s\tremaining: 22.8s\n",
            "5700:\tlearn: 0.7041894\ttotal: 20.2s\tremaining: 22.4s\n",
            "5800:\tlearn: 0.7041894\ttotal: 20.5s\tremaining: 21.9s\n",
            "5900:\tlearn: 0.7041894\ttotal: 20.8s\tremaining: 21.5s\n",
            "6000:\tlearn: 0.7041894\ttotal: 21.1s\tremaining: 21.1s\n",
            "6100:\tlearn: 0.7041894\ttotal: 21.4s\tremaining: 20.7s\n",
            "6200:\tlearn: 0.7041894\ttotal: 21.6s\tremaining: 20.2s\n",
            "6300:\tlearn: 0.7041894\ttotal: 21.9s\tremaining: 19.8s\n",
            "6400:\tlearn: 0.7041894\ttotal: 22.2s\tremaining: 19.4s\n",
            "6500:\tlearn: 0.7041894\ttotal: 22.5s\tremaining: 19s\n",
            "6600:\tlearn: 0.7041894\ttotal: 22.8s\tremaining: 18.6s\n",
            "6700:\tlearn: 0.7041894\ttotal: 23s\tremaining: 18.2s\n",
            "6800:\tlearn: 0.7041894\ttotal: 23.3s\tremaining: 17.8s\n",
            "6900:\tlearn: 0.7041894\ttotal: 23.6s\tremaining: 17.4s\n",
            "7000:\tlearn: 0.7041894\ttotal: 23.9s\tremaining: 17s\n",
            "7100:\tlearn: 0.7041894\ttotal: 24.1s\tremaining: 16.7s\n",
            "7200:\tlearn: 0.7041894\ttotal: 24.4s\tremaining: 16.3s\n",
            "7300:\tlearn: 0.7041894\ttotal: 24.7s\tremaining: 15.9s\n",
            "7400:\tlearn: 0.7041894\ttotal: 25s\tremaining: 15.5s\n",
            "7500:\tlearn: 0.7041894\ttotal: 25.3s\tremaining: 15.1s\n",
            "7600:\tlearn: 0.7041894\ttotal: 25.5s\tremaining: 14.8s\n",
            "7700:\tlearn: 0.7041894\ttotal: 25.8s\tremaining: 14.4s\n",
            "7800:\tlearn: 0.7041894\ttotal: 26.1s\tremaining: 14s\n",
            "7900:\tlearn: 0.7041894\ttotal: 26.4s\tremaining: 13.7s\n",
            "8000:\tlearn: 0.7041894\ttotal: 26.6s\tremaining: 13.3s\n",
            "8100:\tlearn: 0.7041894\ttotal: 26.9s\tremaining: 12.9s\n",
            "8200:\tlearn: 0.7045227\ttotal: 27.2s\tremaining: 12.6s\n",
            "8300:\tlearn: 0.7045227\ttotal: 27.6s\tremaining: 12.3s\n",
            "8400:\tlearn: 0.7045227\ttotal: 28.2s\tremaining: 12.1s\n",
            "8500:\tlearn: 0.7045227\ttotal: 28.8s\tremaining: 11.9s\n",
            "8600:\tlearn: 0.7045227\ttotal: 29.4s\tremaining: 11.6s\n",
            "8700:\tlearn: 0.7045227\ttotal: 29.9s\tremaining: 11.4s\n",
            "8800:\tlearn: 0.7046338\ttotal: 30.5s\tremaining: 11.1s\n",
            "8900:\tlearn: 0.7046338\ttotal: 31s\tremaining: 10.8s\n",
            "9000:\tlearn: 0.7046338\ttotal: 31.3s\tremaining: 10.4s\n",
            "9100:\tlearn: 0.7046338\ttotal: 31.5s\tremaining: 10s\n",
            "9200:\tlearn: 0.7046338\ttotal: 31.8s\tremaining: 9.68s\n",
            "9300:\tlearn: 0.7046338\ttotal: 32.1s\tremaining: 9.32s\n",
            "9400:\tlearn: 0.7046338\ttotal: 32.4s\tremaining: 8.95s\n",
            "9500:\tlearn: 0.7046338\ttotal: 32.7s\tremaining: 8.59s\n",
            "9600:\tlearn: 0.7046338\ttotal: 32.9s\tremaining: 8.23s\n",
            "9700:\tlearn: 0.7046338\ttotal: 33.2s\tremaining: 7.88s\n",
            "9800:\tlearn: 0.7046338\ttotal: 33.5s\tremaining: 7.52s\n",
            "9900:\tlearn: 0.7046338\ttotal: 33.8s\tremaining: 7.16s\n",
            "10000:\tlearn: 0.7046338\ttotal: 34.1s\tremaining: 6.81s\n",
            "10100:\tlearn: 0.7046338\ttotal: 34.4s\tremaining: 6.46s\n",
            "10200:\tlearn: 0.7046338\ttotal: 34.6s\tremaining: 6.11s\n",
            "10300:\tlearn: 0.7046338\ttotal: 34.9s\tremaining: 5.76s\n",
            "10400:\tlearn: 0.7046338\ttotal: 35.2s\tremaining: 5.41s\n",
            "10500:\tlearn: 0.7046338\ttotal: 35.5s\tremaining: 5.07s\n",
            "10600:\tlearn: 0.7046338\ttotal: 35.8s\tremaining: 4.72s\n",
            "10700:\tlearn: 0.7046338\ttotal: 36.1s\tremaining: 4.38s\n",
            "10800:\tlearn: 0.7046338\ttotal: 36.3s\tremaining: 4.03s\n",
            "10900:\tlearn: 0.7046338\ttotal: 36.6s\tremaining: 3.69s\n",
            "11000:\tlearn: 0.7046338\ttotal: 36.9s\tremaining: 3.35s\n",
            "11100:\tlearn: 0.7046338\ttotal: 37.2s\tremaining: 3.01s\n",
            "11200:\tlearn: 0.7046338\ttotal: 37.4s\tremaining: 2.67s\n",
            "11300:\tlearn: 0.7046338\ttotal: 37.7s\tremaining: 2.33s\n",
            "11400:\tlearn: 0.7046338\ttotal: 38s\tremaining: 2s\n",
            "11500:\tlearn: 0.7046338\ttotal: 38.3s\tremaining: 1.66s\n",
            "11600:\tlearn: 0.7046338\ttotal: 38.5s\tremaining: 1.32s\n",
            "11700:\tlearn: 0.7046338\ttotal: 38.8s\tremaining: 992ms\n",
            "11800:\tlearn: 0.7046338\ttotal: 39.1s\tremaining: 660ms\n",
            "11900:\tlearn: 0.7046338\ttotal: 39.4s\tremaining: 328ms\n",
            "11999:\tlearn: 0.7046338\ttotal: 39.7s\tremaining: 0us\n"
          ]
        }
      ]
    },
    {
      "cell_type": "code",
      "source": [
        "pred_cbc = clf.predict(X_test_w_cat)\n",
        "print(pred_cbc)\n",
        "submission = pd.read_csv('SampleSubmission.csv')\n",
        "submission['winnerSide'] = pred_cbc # ваше предсказание\n",
        "submission.to_csv('submission_CatBoost_av.csv', index=False)\n",
        "print(submission)\n",
        "\n",
        "sns.kdeplot(y)\n",
        "sns.kdeplot(pred_cbc, color=\"r\")"
      ],
      "metadata": {
        "colab": {
          "base_uri": "https://localhost:8080/",
          "height": 727
        },
        "id": "g7lIn5mDn5Aj",
        "outputId": "b77c0fc1-64ca-4f5e-deec-b01d1eeeeb1f"
      },
      "execution_count": null,
      "outputs": [
        {
          "output_type": "stream",
          "name": "stdout",
          "text": [
            "[1 0 0 ... 1 1 0]\n",
            "      winnerSide\n",
            "0              1\n",
            "1              0\n",
            "2              0\n",
            "3              1\n",
            "4              0\n",
            "...          ...\n",
            "3745           1\n",
            "3746           0\n",
            "3747           1\n",
            "3748           1\n",
            "3749           0\n",
            "\n",
            "[3750 rows x 1 columns]\n"
          ]
        },
        {
          "output_type": "execute_result",
          "data": {
            "text/plain": [
              "<Axes: xlabel='winnerSide', ylabel='Density'>"
            ]
          },
          "metadata": {},
          "execution_count": 529
        },
        {
          "output_type": "display_data",
          "data": {
            "text/plain": [
              "<Figure size 640x480 with 1 Axes>"
            ],
            "image/png": "[encoded data removed]"
          },
          "metadata": {}
        }
      ]
    },
    {
      "cell_type": "code",
      "source": [],
      "metadata": {
        "id": "AAGVS0prlaFP"
      },
      "execution_count": null,
      "outputs": []
    }
  ]
}