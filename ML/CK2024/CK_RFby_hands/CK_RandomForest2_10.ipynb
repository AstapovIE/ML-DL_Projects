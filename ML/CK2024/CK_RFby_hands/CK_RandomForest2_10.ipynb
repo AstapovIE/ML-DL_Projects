{
  "nbformat": 4,
  "nbformat_minor": 0,
  "metadata": {
    "colab": {
      "provenance": []
    },
    "kernelspec": {
      "name": "python3",
      "display_name": "Python 3"
    },
    "language_info": {
      "name": "python"
    }
  },
  "cells": [
    {
      "cell_type": "code",
      "execution_count": 30,
      "metadata": {
        "id": "4rRsFucunvh-"
      },
      "outputs": [],
      "source": [
        "import numpy as np\n",
        "import pandas as pd\n",
        "import matplotlib.pyplot as plt\n",
        "from tqdm import tqdm\n",
        "from sklearn.ensemble import RandomForestRegressor, RandomForestClassifier\n",
        "from sklearn.tree import DecisionTreeRegressor, DecisionTreeClassifier\n",
        "from sklearn.model_selection import train_test_split\n",
        "from sklearn.preprocessing import OrdinalEncoder\n",
        "from sklearn.metrics import mean_squared_error, accuracy_score"
      ]
    },
    {
      "cell_type": "markdown",
      "source": [
        "## Вопрос 1-8"
      ],
      "metadata": {
        "id": "7u6TlgdxrAJ7"
      }
    },
    {
      "cell_type": "code",
      "source": [
        "df = pd.read_csv('music_prepared.csv')\n",
        "df.sample(n=5)"
      ],
      "metadata": {
        "colab": {
          "base_uri": "https://localhost:8080/",
          "height": 226
        },
        "id": "GizOGrUbn2P6",
        "outputId": "2ea627d0-4849-4b9b-ee2a-ffff14f91892"
      },
      "execution_count": 122,
      "outputs": [
        {
          "output_type": "execute_result",
          "data": {
            "text/plain": [
              "      popularity  duration_ms  explicit  danceability  energy  key  loudness  \\\n",
              "4858          56       203583     False         0.753   0.529    5    -8.515   \n",
              "2090           9       231124     False         0.632   0.773    6    -4.856   \n",
              "4423          30       309320     False         0.514   0.605    9    -6.754   \n",
              "2007          75       131077     False         0.847   0.558    8    -5.855   \n",
              "448            0       168280     False         0.671   0.689    9    -7.755   \n",
              "\n",
              "      mode  speechiness  acousticness  instrumentalness  liveness  valence  \\\n",
              "4858     0       0.2080        0.5510          0.000082    0.1150    0.381   \n",
              "2090     1       0.0346        0.0623          0.000000    0.0885    0.474   \n",
              "4423     1       0.0369        0.6360          0.000003    0.4180    0.204   \n",
              "2007     0       0.0663        0.3250          0.000000    0.1350    0.495   \n",
              "448      1       0.0932        0.3280          0.000003    0.3520    0.811   \n",
              "\n",
              "        tempo  time_signature  track_genre  \n",
              "4858   86.017               4          4.0  \n",
              "2090  130.033               4          2.0  \n",
              "4423  133.269               4          4.0  \n",
              "2007   98.062               4          2.0  \n",
              "448   138.306               4          0.0  "
            ],
            "text/html": [
              "\n",
              "  <div id=\"df-8830eda0-fa76-4083-aa9d-f88c8dc4a4fa\" class=\"colab-df-container\">\n",
              "    <div>\n",
              "<style scoped>\n",
              "    .dataframe tbody tr th:only-of-type {\n",
              "        vertical-align: middle;\n",
              "    }\n",
              "\n",
              "    .dataframe tbody tr th {\n",
              "        vertical-align: top;\n",
              "    }\n",
              "\n",
              "    .dataframe thead th {\n",
              "        text-align: right;\n",
              "    }\n",
              "</style>\n",
              "<table border=\"1\" class=\"dataframe\">\n",
              "  <thead>\n",
              "    <tr style=\"text-align: right;\">\n",
              "      <th></th>\n",
              "      <th>popularity</th>\n",
              "      <th>duration_ms</th>\n",
              "      <th>explicit</th>\n",
              "      <th>danceability</th>\n",
              "      <th>energy</th>\n",
              "      <th>key</th>\n",
              "      <th>loudness</th>\n",
              "      <th>mode</th>\n",
              "      <th>speechiness</th>\n",
              "      <th>acousticness</th>\n",
              "      <th>instrumentalness</th>\n",
              "      <th>liveness</th>\n",
              "      <th>valence</th>\n",
              "      <th>tempo</th>\n",
              "      <th>time_signature</th>\n",
              "      <th>track_genre</th>\n",
              "    </tr>\n",
              "  </thead>\n",
              "  <tbody>\n",
              "    <tr>\n",
              "      <th>4858</th>\n",
              "      <td>56</td>\n",
              "      <td>203583</td>\n",
              "      <td>False</td>\n",
              "      <td>0.753</td>\n",
              "      <td>0.529</td>\n",
              "      <td>5</td>\n",
              "      <td>-8.515</td>\n",
              "      <td>0</td>\n",
              "      <td>0.2080</td>\n",
              "      <td>0.5510</td>\n",
              "      <td>0.000082</td>\n",
              "      <td>0.1150</td>\n",
              "      <td>0.381</td>\n",
              "      <td>86.017</td>\n",
              "      <td>4</td>\n",
              "      <td>4.0</td>\n",
              "    </tr>\n",
              "    <tr>\n",
              "      <th>2090</th>\n",
              "      <td>9</td>\n",
              "      <td>231124</td>\n",
              "      <td>False</td>\n",
              "      <td>0.632</td>\n",
              "      <td>0.773</td>\n",
              "      <td>6</td>\n",
              "      <td>-4.856</td>\n",
              "      <td>1</td>\n",
              "      <td>0.0346</td>\n",
              "      <td>0.0623</td>\n",
              "      <td>0.000000</td>\n",
              "      <td>0.0885</td>\n",
              "      <td>0.474</td>\n",
              "      <td>130.033</td>\n",
              "      <td>4</td>\n",
              "      <td>2.0</td>\n",
              "    </tr>\n",
              "    <tr>\n",
              "      <th>4423</th>\n",
              "      <td>30</td>\n",
              "      <td>309320</td>\n",
              "      <td>False</td>\n",
              "      <td>0.514</td>\n",
              "      <td>0.605</td>\n",
              "      <td>9</td>\n",
              "      <td>-6.754</td>\n",
              "      <td>1</td>\n",
              "      <td>0.0369</td>\n",
              "      <td>0.6360</td>\n",
              "      <td>0.000003</td>\n",
              "      <td>0.4180</td>\n",
              "      <td>0.204</td>\n",
              "      <td>133.269</td>\n",
              "      <td>4</td>\n",
              "      <td>4.0</td>\n",
              "    </tr>\n",
              "    <tr>\n",
              "      <th>2007</th>\n",
              "      <td>75</td>\n",
              "      <td>131077</td>\n",
              "      <td>False</td>\n",
              "      <td>0.847</td>\n",
              "      <td>0.558</td>\n",
              "      <td>8</td>\n",
              "      <td>-5.855</td>\n",
              "      <td>0</td>\n",
              "      <td>0.0663</td>\n",
              "      <td>0.3250</td>\n",
              "      <td>0.000000</td>\n",
              "      <td>0.1350</td>\n",
              "      <td>0.495</td>\n",
              "      <td>98.062</td>\n",
              "      <td>4</td>\n",
              "      <td>2.0</td>\n",
              "    </tr>\n",
              "    <tr>\n",
              "      <th>448</th>\n",
              "      <td>0</td>\n",
              "      <td>168280</td>\n",
              "      <td>False</td>\n",
              "      <td>0.671</td>\n",
              "      <td>0.689</td>\n",
              "      <td>9</td>\n",
              "      <td>-7.755</td>\n",
              "      <td>1</td>\n",
              "      <td>0.0932</td>\n",
              "      <td>0.3280</td>\n",
              "      <td>0.000003</td>\n",
              "      <td>0.3520</td>\n",
              "      <td>0.811</td>\n",
              "      <td>138.306</td>\n",
              "      <td>4</td>\n",
              "      <td>0.0</td>\n",
              "    </tr>\n",
              "  </tbody>\n",
              "</table>\n",
              "</div>\n",
              "    <div class=\"colab-df-buttons\">\n",
              "\n",
              "  <div class=\"colab-df-container\">\n",
              "    <button class=\"colab-df-convert\" onclick=\"convertToInteractive('df-8830eda0-fa76-4083-aa9d-f88c8dc4a4fa')\"\n",
              "            title=\"Convert this dataframe to an interactive table.\"\n",
              "            style=\"display:none;\">\n",
              "\n",
              "  <svg xmlns=\"http://www.w3.org/2000/svg\" height=\"24px\" viewBox=\"0 -960 960 960\">\n",
              "    <path d=\"M120-120v-720h720v720H120Zm60-500h600v-160H180v160Zm220 220h160v-160H400v160Zm0 220h160v-160H400v160ZM180-400h160v-160H180v160Zm440 0h160v-160H620v160ZM180-180h160v-160H180v160Zm440 0h160v-160H620v160Z\"/>\n",
              "  </svg>\n",
              "    </button>\n",
              "\n",
              "  <style>\n",
              "    .colab-df-container {\n",
              "      display:flex;\n",
              "      gap: 12px;\n",
              "    }\n",
              "\n",
              "    .colab-df-convert {\n",
              "      background-color: #E8F0FE;\n",
              "      border: none;\n",
              "      border-radius: 50%;\n",
              "      cursor: pointer;\n",
              "      display: none;\n",
              "      fill: #1967D2;\n",
              "      height: 32px;\n",
              "      padding: 0 0 0 0;\n",
              "      width: 32px;\n",
              "    }\n",
              "\n",
              "    .colab-df-convert:hover {\n",
              "      background-color: #E2EBFA;\n",
              "      box-shadow: 0px 1px 2px rgba(60, 64, 67, 0.3), 0px 1px 3px 1px rgba(60, 64, 67, 0.15);\n",
              "      fill: #174EA6;\n",
              "    }\n",
              "\n",
              "    .colab-df-buttons div {\n",
              "      margin-bottom: 4px;\n",
              "    }\n",
              "\n",
              "    [theme=dark] .colab-df-convert {\n",
              "      background-color: #3B4455;\n",
              "      fill: #D2E3FC;\n",
              "    }\n",
              "\n",
              "    [theme=dark] .colab-df-convert:hover {\n",
              "      background-color: #434B5C;\n",
              "      box-shadow: 0px 1px 3px 1px rgba(0, 0, 0, 0.15);\n",
              "      filter: drop-shadow(0px 1px 2px rgba(0, 0, 0, 0.3));\n",
              "      fill: #FFFFFF;\n",
              "    }\n",
              "  </style>\n",
              "\n",
              "    <script>\n",
              "      const buttonEl =\n",
              "        document.querySelector('#df-8830eda0-fa76-4083-aa9d-f88c8dc4a4fa button.colab-df-convert');\n",
              "      buttonEl.style.display =\n",
              "        google.colab.kernel.accessAllowed ? 'block' : 'none';\n",
              "\n",
              "      async function convertToInteractive(key) {\n",
              "        const element = document.querySelector('#df-8830eda0-fa76-4083-aa9d-f88c8dc4a4fa');\n",
              "        const dataTable =\n",
              "          await google.colab.kernel.invokeFunction('convertToInteractive',\n",
              "                                                    [key], {});\n",
              "        if (!dataTable) return;\n",
              "\n",
              "        const docLinkHtml = 'Like what you see? Visit the ' +\n",
              "          '<a target=\"_blank\" href=https://colab.research.google.com/notebooks/data_table.ipynb>data table notebook</a>'\n",
              "          + ' to learn more about interactive tables.';\n",
              "        element.innerHTML = '';\n",
              "        dataTable['output_type'] = 'display_data';\n",
              "        await google.colab.output.renderOutput(dataTable, element);\n",
              "        const docLink = document.createElement('div');\n",
              "        docLink.innerHTML = docLinkHtml;\n",
              "        element.appendChild(docLink);\n",
              "      }\n",
              "    </script>\n",
              "  </div>\n",
              "\n",
              "\n",
              "<div id=\"df-ebf917e1-3cb3-4ab9-bf2d-1bc09e013b81\">\n",
              "  <button class=\"colab-df-quickchart\" onclick=\"quickchart('df-ebf917e1-3cb3-4ab9-bf2d-1bc09e013b81')\"\n",
              "            title=\"Suggest charts\"\n",
              "            style=\"display:none;\">\n",
              "\n",
              "<svg xmlns=\"http://www.w3.org/2000/svg\" height=\"24px\"viewBox=\"0 0 24 24\"\n",
              "     width=\"24px\">\n",
              "    <g>\n",
              "        <path d=\"M19 3H5c-1.1 0-2 .9-2 2v14c0 1.1.9 2 2 2h14c1.1 0 2-.9 2-2V5c0-1.1-.9-2-2-2zM9 17H7v-7h2v7zm4 0h-2V7h2v10zm4 0h-2v-4h2v4z\"/>\n",
              "    </g>\n",
              "</svg>\n",
              "  </button>\n",
              "\n",
              "<style>\n",
              "  .colab-df-quickchart {\n",
              "      --bg-color: #E8F0FE;\n",
              "      --fill-color: #1967D2;\n",
              "      --hover-bg-color: #E2EBFA;\n",
              "      --hover-fill-color: #174EA6;\n",
              "      --disabled-fill-color: #AAA;\n",
              "      --disabled-bg-color: #DDD;\n",
              "  }\n",
              "\n",
              "  [theme=dark] .colab-df-quickchart {\n",
              "      --bg-color: #3B4455;\n",
              "      --fill-color: #D2E3FC;\n",
              "      --hover-bg-color: #434B5C;\n",
              "      --hover-fill-color: #FFFFFF;\n",
              "      --disabled-bg-color: #3B4455;\n",
              "      --disabled-fill-color: #666;\n",
              "  }\n",
              "\n",
              "  .colab-df-quickchart {\n",
              "    background-color: var(--bg-color);\n",
              "    border: none;\n",
              "    border-radius: 50%;\n",
              "    cursor: pointer;\n",
              "    display: none;\n",
              "    fill: var(--fill-color);\n",
              "    height: 32px;\n",
              "    padding: 0;\n",
              "    width: 32px;\n",
              "  }\n",
              "\n",
              "  .colab-df-quickchart:hover {\n",
              "    background-color: var(--hover-bg-color);\n",
              "    box-shadow: 0 1px 2px rgba(60, 64, 67, 0.3), 0 1px 3px 1px rgba(60, 64, 67, 0.15);\n",
              "    fill: var(--button-hover-fill-color);\n",
              "  }\n",
              "\n",
              "  .colab-df-quickchart-complete:disabled,\n",
              "  .colab-df-quickchart-complete:disabled:hover {\n",
              "    background-color: var(--disabled-bg-color);\n",
              "    fill: var(--disabled-fill-color);\n",
              "    box-shadow: none;\n",
              "  }\n",
              "\n",
              "  .colab-df-spinner {\n",
              "    border: 2px solid var(--fill-color);\n",
              "    border-color: transparent;\n",
              "    border-bottom-color: var(--fill-color);\n",
              "    animation:\n",
              "      spin 1s steps(1) infinite;\n",
              "  }\n",
              "\n",
              "  @keyframes spin {\n",
              "    0% {\n",
              "      border-color: transparent;\n",
              "      border-bottom-color: var(--fill-color);\n",
              "      border-left-color: var(--fill-color);\n",
              "    }\n",
              "    20% {\n",
              "      border-color: transparent;\n",
              "      border-left-color: var(--fill-color);\n",
              "      border-top-color: var(--fill-color);\n",
              "    }\n",
              "    30% {\n",
              "      border-color: transparent;\n",
              "      border-left-color: var(--fill-color);\n",
              "      border-top-color: var(--fill-color);\n",
              "      border-right-color: var(--fill-color);\n",
              "    }\n",
              "    40% {\n",
              "      border-color: transparent;\n",
              "      border-right-color: var(--fill-color);\n",
              "      border-top-color: var(--fill-color);\n",
              "    }\n",
              "    60% {\n",
              "      border-color: transparent;\n",
              "      border-right-color: var(--fill-color);\n",
              "    }\n",
              "    80% {\n",
              "      border-color: transparent;\n",
              "      border-right-color: var(--fill-color);\n",
              "      border-bottom-color: var(--fill-color);\n",
              "    }\n",
              "    90% {\n",
              "      border-color: transparent;\n",
              "      border-bottom-color: var(--fill-color);\n",
              "    }\n",
              "  }\n",
              "</style>\n",
              "\n",
              "  <script>\n",
              "    async function quickchart(key) {\n",
              "      const quickchartButtonEl =\n",
              "        document.querySelector('#' + key + ' button');\n",
              "      quickchartButtonEl.disabled = true;  // To prevent multiple clicks.\n",
              "      quickchartButtonEl.classList.add('colab-df-spinner');\n",
              "      try {\n",
              "        const charts = await google.colab.kernel.invokeFunction(\n",
              "            'suggestCharts', [key], {});\n",
              "      } catch (error) {\n",
              "        console.error('Error during call to suggestCharts:', error);\n",
              "      }\n",
              "      quickchartButtonEl.classList.remove('colab-df-spinner');\n",
              "      quickchartButtonEl.classList.add('colab-df-quickchart-complete');\n",
              "    }\n",
              "    (() => {\n",
              "      let quickchartButtonEl =\n",
              "        document.querySelector('#df-ebf917e1-3cb3-4ab9-bf2d-1bc09e013b81 button');\n",
              "      quickchartButtonEl.style.display =\n",
              "        google.colab.kernel.accessAllowed ? 'block' : 'none';\n",
              "    })();\n",
              "  </script>\n",
              "</div>\n",
              "    </div>\n",
              "  </div>\n"
            ],
            "application/vnd.google.colaboratory.intrinsic+json": {
              "type": "dataframe",
              "summary": "{\n  \"name\": \"df\",\n  \"rows\": 5,\n  \"fields\": [\n    {\n      \"column\": \"popularity\",\n      \"properties\": {\n        \"dtype\": \"number\",\n        \"std\": 31,\n        \"min\": 0,\n        \"max\": 75,\n        \"num_unique_values\": 5,\n        \"samples\": [\n          9,\n          0,\n          30\n        ],\n        \"semantic_type\": \"\",\n        \"description\": \"\"\n      }\n    },\n    {\n      \"column\": \"duration_ms\",\n      \"properties\": {\n        \"dtype\": \"number\",\n        \"std\": 67661,\n        \"min\": 131077,\n        \"max\": 309320,\n        \"num_unique_values\": 5,\n        \"samples\": [\n          231124,\n          168280,\n          309320\n        ],\n        \"semantic_type\": \"\",\n        \"description\": \"\"\n      }\n    },\n    {\n      \"column\": \"explicit\",\n      \"properties\": {\n        \"dtype\": \"boolean\",\n        \"num_unique_values\": 1,\n        \"samples\": [\n          false\n        ],\n        \"semantic_type\": \"\",\n        \"description\": \"\"\n      }\n    },\n    {\n      \"column\": \"danceability\",\n      \"properties\": {\n        \"dtype\": \"number\",\n        \"std\": 0.1255997611462697,\n        \"min\": 0.514,\n        \"max\": 0.847,\n        \"num_unique_values\": 5,\n        \"samples\": [\n          0.632\n        ],\n        \"semantic_type\": \"\",\n        \"description\": \"\"\n      }\n    },\n    {\n      \"column\": \"energy\",\n      \"properties\": {\n        \"dtype\": \"number\",\n        \"std\": 0.09992096877032366,\n        \"min\": 0.529,\n        \"max\": 0.773,\n        \"num_unique_values\": 5,\n        \"samples\": [\n          0.773\n        ],\n        \"semantic_type\": \"\",\n        \"description\": \"\"\n      }\n    },\n    {\n      \"column\": \"key\",\n      \"properties\": {\n        \"dtype\": \"number\",\n        \"std\": 1,\n        \"min\": 5,\n        \"max\": 9,\n        \"num_unique_values\": 4,\n        \"samples\": [\n          6\n        ],\n        \"semantic_type\": \"\",\n        \"description\": \"\"\n      }\n    },\n    {\n      \"column\": \"loudness\",\n      \"properties\": {\n        \"dtype\": \"number\",\n        \"std\": 1.458893587620427,\n        \"min\": -8.515,\n        \"max\": -4.856,\n        \"num_unique_values\": 5,\n        \"samples\": [\n          -4.856\n        ],\n        \"semantic_type\": \"\",\n        \"description\": \"\"\n      }\n    },\n    {\n      \"column\": \"mode\",\n      \"properties\": {\n        \"dtype\": \"number\",\n        \"std\": 0,\n        \"min\": 0,\n        \"max\": 1,\n        \"num_unique_values\": 2,\n        \"samples\": [\n          1\n        ],\n        \"semantic_type\": \"\",\n        \"description\": \"\"\n      }\n    },\n    {\n      \"column\": \"speechiness\",\n      \"properties\": {\n        \"dtype\": \"number\",\n        \"std\": 0.07134511195590065,\n        \"min\": 0.0346,\n        \"max\": 0.208,\n        \"num_unique_values\": 5,\n        \"samples\": [\n          0.0346\n        ],\n        \"semantic_type\": \"\",\n        \"description\": \"\"\n      }\n    },\n    {\n      \"column\": \"acousticness\",\n      \"properties\": {\n        \"dtype\": \"number\",\n        \"std\": 0.2244093536374988,\n        \"min\": 0.0623,\n        \"max\": 0.636,\n        \"num_unique_values\": 5,\n        \"samples\": [\n          0.0623\n        ],\n        \"semantic_type\": \"\",\n        \"description\": \"\"\n      }\n    },\n    {\n      \"column\": \"instrumentalness\",\n      \"properties\": {\n        \"dtype\": \"number\",\n        \"std\": 3.5829838403208016e-05,\n        \"min\": 0.0,\n        \"max\": 8.15e-05,\n        \"num_unique_values\": 4,\n        \"samples\": [\n          0.0\n        ],\n        \"semantic_type\": \"\",\n        \"description\": \"\"\n      }\n    },\n    {\n      \"column\": \"liveness\",\n      \"properties\": {\n        \"dtype\": \"number\",\n        \"std\": 0.15178586890748424,\n        \"min\": 0.0885,\n        \"max\": 0.418,\n        \"num_unique_values\": 5,\n        \"samples\": [\n          0.0885\n        ],\n        \"semantic_type\": \"\",\n        \"description\": \"\"\n      }\n    },\n    {\n      \"column\": \"valence\",\n      \"properties\": {\n        \"dtype\": \"number\",\n        \"std\": 0.2211074399471895,\n        \"min\": 0.204,\n        \"max\": 0.811,\n        \"num_unique_values\": 5,\n        \"samples\": [\n          0.474\n        ],\n        \"semantic_type\": \"\",\n        \"description\": \"\"\n      }\n    },\n    {\n      \"column\": \"tempo\",\n      \"properties\": {\n        \"dtype\": \"number\",\n        \"std\": 23.489278539367703,\n        \"min\": 86.017,\n        \"max\": 138.306,\n        \"num_unique_values\": 5,\n        \"samples\": [\n          130.033\n        ],\n        \"semantic_type\": \"\",\n        \"description\": \"\"\n      }\n    },\n    {\n      \"column\": \"time_signature\",\n      \"properties\": {\n        \"dtype\": \"number\",\n        \"std\": 0,\n        \"min\": 4,\n        \"max\": 4,\n        \"num_unique_values\": 1,\n        \"samples\": [\n          4\n        ],\n        \"semantic_type\": \"\",\n        \"description\": \"\"\n      }\n    },\n    {\n      \"column\": \"track_genre\",\n      \"properties\": {\n        \"dtype\": \"number\",\n        \"std\": 1.6733200530681511,\n        \"min\": 0.0,\n        \"max\": 4.0,\n        \"num_unique_values\": 3,\n        \"samples\": [\n          4.0\n        ],\n        \"semantic_type\": \"\",\n        \"description\": \"\"\n      }\n    }\n  ]\n}"
            }
          },
          "metadata": {},
          "execution_count": 122
        }
      ]
    },
    {
      "cell_type": "code",
      "source": [
        "X = df[df.columns[1:]]\n",
        "y = np.array(df[\"popularity\"]).reshape(-1,1)\n",
        "\n",
        "X_train, X_test, y_train, y_test = train_test_split(X, y,\n",
        "                                                    train_size=0.8,\n",
        "                                                    random_state=1)\n",
        "\n",
        "print(X_train.shape, X_test.shape, y_train.shape)\n",
        "\n",
        "d3 = DecisionTreeRegressor(random_state=1)\n",
        "d3.fit(X_train, y_train.ravel())\n",
        "y_train_pred = d3.predict(X_train)\n",
        "print(\"RMSE =\", mean_squared_error(y_train, y_train_pred, squared=True))\n",
        "y_test_pred = d3.predict(X_test)\n",
        "rmse_d3 = mean_squared_error(y_test, y_test_pred, squared=True)\n",
        "print(\"RMSE =\", rmse_d3)"
      ],
      "metadata": {
        "colab": {
          "base_uri": "https://localhost:8080/"
        },
        "id": "5smKf29hoARm",
        "outputId": "d89e7ff1-0ae3-424d-e63f-48204c75029d"
      },
      "execution_count": 125,
      "outputs": [
        {
          "output_type": "stream",
          "name": "stdout",
          "text": [
            "(4000, 15) (1000, 15) (4000, 1)\n",
            "RMSE = 20.26219201619459\n",
            "RMSE = 882.1089755234448\n"
          ]
        }
      ]
    },
    {
      "cell_type": "code",
      "source": [
        "rf = RandomForestRegressor(random_state=1)\n",
        "rf.fit(X_train, y_train.ravel())\n",
        "y_train_pred = rf.predict(X_train)\n",
        "print(\"RMSE =\", mean_squared_error(y_train, y_train_pred, squared=True))\n",
        "y_test_pred = rf.predict(X_test)\n",
        "rmse_rf = mean_squared_error(y_test, y_test_pred, squared=True)\n",
        "print(\"RMSE =\", rmse_rf)\n",
        "print(\"diff between RMSE of d3 and rf =\", round(rmse_d3-rmse_rf, 2))"
      ],
      "metadata": {
        "colab": {
          "base_uri": "https://localhost:8080/"
        },
        "id": "RG_9kMFsoWqQ",
        "outputId": "7da26fa8-8445-4490-cd6b-614199a28c23"
      },
      "execution_count": 126,
      "outputs": [
        {
          "output_type": "stream",
          "name": "stdout",
          "text": [
            "RMSE = 84.03540976776642\n",
            "RMSE = 514.92633631183\n",
            "diff between RMSE of d3 and rf = 367.18\n"
          ]
        }
      ]
    },
    {
      "cell_type": "code",
      "source": [
        "rmse_train, rmse_test = [], []\n",
        "x_axis = np.arange(1, 50, 3)\n",
        "print(x_axis)\n",
        "for i in tqdm(range(1, 50, 3)):\n",
        "    rf = RandomForestRegressor(random_state=1, max_depth=i)\n",
        "    rf.fit(X_train, y_train.ravel())\n",
        "    y_train_pred = rf.predict(X_train)\n",
        "    rmse_train.append(mean_squared_error(y_train, y_train_pred, squared=True))\n",
        "    #print(\"RMSE =\", mean_squared_error(y_train, y_train_pred, squared=True))\n",
        "    y_test_pred = rf.predict(X_test)\n",
        "    rmse_test.append(mean_squared_error(y_test, y_test_pred, squared=True))\n",
        "    #print(\"RMSE =\", rmse_rf)\n",
        "\n",
        "plt.plot(x_axis, rmse_train, color = \"b\")\n",
        "plt.plot(x_axis, rmse_test, color = \"r\")\n",
        "plt.grid()"
      ],
      "metadata": {
        "colab": {
          "base_uri": "https://localhost:8080/",
          "height": 482
        },
        "id": "SFT1pEGrqjC7",
        "outputId": "a304178e-5dcc-4c4b-a88e-4388a9bc2bb8"
      },
      "execution_count": 108,
      "outputs": [
        {
          "output_type": "stream",
          "name": "stdout",
          "text": [
            "[ 1  4  7 10 13 16 19 22 25 28 31 34 37 40 43 46 49]\n"
          ]
        },
        {
          "output_type": "stream",
          "name": "stderr",
          "text": [
            "100%|██████████| 17/17 [01:13<00:00,  4.35s/it]\n"
          ]
        },
        {
          "output_type": "execute_result",
          "data": {
            "text/plain": [
              "[<matplotlib.lines.Line2D at 0x7a50becb5660>]"
            ]
          },
          "metadata": {},
          "execution_count": 108
        },
        {
          "output_type": "display_data",
          "data": {
            "text/plain": [
              "<Figure size 640x480 with 1 Axes>"
            ],
            "image/png": "[encoded data removed]"
          },
          "metadata": {}
        }
      ]
    },
    {
      "cell_type": "code",
      "source": [
        "y_train_bin = np.array([[1 if x>50 else 0 for x in y_train]]).reshape(-1,1)\n",
        "y_test_bin = np.array([[1 if x>50 else 0 for x in y_test]]).reshape(-1,1)"
      ],
      "metadata": {
        "id": "9nC1W21XsnEJ"
      },
      "execution_count": 128,
      "outputs": []
    },
    {
      "cell_type": "code",
      "source": [
        "d3_clf = DecisionTreeClassifier(random_state=1, max_depth = 17)\n",
        "d3_clf.fit(X_train, y_train_bin)\n",
        "d3_clf_test_accuracy = d3_clf.score(X_test, y_test_bin)\n",
        "print(f\"accuracy on TRAIN = {d3_clf.score(X_train, y_train_bin)}, on TEST =  {d3_clf_test_accuracy}\")\n",
        "\n",
        "rf = RandomForestClassifier(random_state=1)\n",
        "rf.fit(X_train, y_train_bin.ravel())\n",
        "y_train_pred = rf.predict(X_train)\n",
        "y_test_pred = rf.predict(X_test)\n",
        "rf_test_accuracy = accuracy_score(y_test_bin, y_test_pred)\n",
        "print(\"rf accuracy TRAIN =\", accuracy_score(y_train_bin, y_train_pred),\"TEST =\", rf_test_accuracy)\n",
        "print(\"diff between accuracy of d3 and rf =\", round(rf_test_accuracy-d3_clf_test_accuracy, 2))"
      ],
      "metadata": {
        "colab": {
          "base_uri": "https://localhost:8080/"
        },
        "id": "dX-5N00puM9N",
        "outputId": "43c7f098-b377-4235-a23a-51470f437e71"
      },
      "execution_count": 129,
      "outputs": [
        {
          "output_type": "stream",
          "name": "stdout",
          "text": [
            "accuracy on TRAIN = 0.9805, on TEST =  0.698\n",
            "rf accuracy TRAIN = 0.9935 TEST = 0.777\n",
            "diff between accuracy of d3 and rf = 0.08\n"
          ]
        }
      ]
    },
    {
      "cell_type": "code",
      "source": [
        "accuracy_train, accuracy_test = [], []\n",
        "x_axis = np.arange(1, 150, 10)\n",
        "for i in tqdm(range(1, 150, 10)):\n",
        "    rf = RandomForestClassifier(random_state=1, n_estimators=i)\n",
        "    rf.fit(X_train, y_train_bin.ravel())\n",
        "    y_train_pred = rf.predict(X_train)\n",
        "    y_test_pred = rf.predict(X_test)\n",
        "    accuracy_train.append(accuracy_score(y_train_bin, y_train_pred))\n",
        "    accuracy_test.append(accuracy_score(y_test_bin, y_test_pred))\n",
        "\n",
        "plt.plot(x_axis, accuracy_train, color = \"b\")\n",
        "plt.plot(x_axis, accuracy_test, color = \"r\")\n",
        "plt.grid()"
      ],
      "metadata": {
        "colab": {
          "base_uri": "https://localhost:8080/",
          "height": 447
        },
        "id": "pDbu78AsucP_",
        "outputId": "a22fa1dd-f9d0-4599-8b77-56e502b25d64"
      },
      "execution_count": 130,
      "outputs": [
        {
          "output_type": "stream",
          "name": "stderr",
          "text": [
            "100%|██████████| 15/15 [00:15<00:00,  1.01s/it]\n"
          ]
        },
        {
          "output_type": "display_data",
          "data": {
            "text/plain": [
              "<Figure size 640x480 with 1 Axes>"
            ],
            "image/png": "[encoded data removed]"
          },
          "metadata": {}
        }
      ]
    },
    {
      "cell_type": "markdown",
      "source": [
        "## Making RandomForest by hands"
      ],
      "metadata": {
        "id": "6l9v7khvx7wN"
      }
    },
    {
      "cell_type": "code",
      "source": [
        "np.random.seed(42)  # для фиксации случайности\n",
        "\n",
        "def get_bootstrap(data, labels, n=100, max_samples=1.0):\n",
        "    if isinstance(data, pd.DataFrame):\n",
        "        data = data.copy().values  # перевод таблицы в numpy array\n",
        "\n",
        "    if isinstance(labels, pd.DataFrame) or isinstance(labels, pd.Series):\n",
        "        labels = labels.copy().values  # перевод целевого признака в numpy array\n",
        "\n",
        "    n_samples = int(data.shape[0]*max_samples)  # подсчет кол-ва объектов в подвыборках\n",
        "    bootstrap = []  # список для будущих подвыборок\n",
        "\n",
        "    for i in range(n):\n",
        "\n",
        "        sample_index = np.random.randint(0, data.shape[0], size = n_samples) # взятие случайных индексов в кол-ве n_samples\n",
        "        b_data = np.array([data[i] for i in sample_index])  # взятие объектов по выбранным индексам\n",
        "        b_labels = np.array([labels[i] for i in sample_index])  # взятие целевых значений по выбранным индексам\n",
        "\n",
        "        bootstrap.append((b_data, b_labels))  # добавление в список подвыборок\n",
        "\n",
        "    return bootstrap\n",
        "\n",
        "data = get_bootstrap(X_train, y_train_bin.ravel(), n=3, max_samples=0.01)\n",
        "print(sum(data[0][1]))"
      ],
      "metadata": {
        "colab": {
          "base_uri": "https://localhost:8080/"
        },
        "id": "ijof5v_NxTKG",
        "outputId": "3501b235-af5d-406e-b68b-5b0921ad4e6c"
      },
      "execution_count": 137,
      "outputs": [
        {
          "output_type": "stream",
          "name": "stdout",
          "text": [
            "12\n"
          ]
        }
      ]
    },
    {
      "cell_type": "code",
      "source": [
        "np.random.seed(42)  # для фиксации случайности\n",
        "\n",
        "def get_subsample(features, max_features=1.0):\n",
        "    if not isinstance(features, np.ndarray):\n",
        "        features = np.array(features.copy())  # перевод признаков в numpy array\n",
        "\n",
        "    len_features = int(len(features)*max_features)  # подсчет кол-ва признаков в подвыборках\n",
        "    sample_indexes = list(range(len(features)))  # получение списка индексов признаков\n",
        "\n",
        "    subsample = np.random.choice(  # взятие случайных индексов признаков\n",
        "        sample_indexes,\n",
        "        size=len_features,  # в кол-ве len_features\n",
        "        replace=False  # без повторений\n",
        "    )\n",
        "\n",
        "    return features[subsample]  # на список выходе признаки\n",
        "\n",
        "sample_features = df.columns[1:]\n",
        "print(get_subsample(sample_features, max_features=0.1))\n"
      ],
      "metadata": {
        "colab": {
          "base_uri": "https://localhost:8080/"
        },
        "id": "dzuX_T3CzrvG",
        "outputId": "e753f0f8-584a-4b1a-fe40-49343cef403c"
      },
      "execution_count": 138,
      "outputs": [
        {
          "output_type": "stream",
          "name": "stdout",
          "text": [
            "['instrumentalness']\n"
          ]
        }
      ]
    },
    {
      "cell_type": "code",
      "source": [
        "np.random.seed(42)  # для фиксации случайности\n",
        "\n",
        "forest = []\n",
        "bootstrap = get_bootstrap(X_train, y_train_bin.ravel(), n=100, max_samples=0.5)  # получаем подвыборки\n",
        "\n",
        "for b_data, b_labels in bootstrap:\n",
        "    b_data = pd.DataFrame(b_data, columns=X_train.columns)\n",
        "    features = get_subsample(sample_features, max_features=0.5)  # получаем признаки\n",
        "\n",
        "    dt = DecisionTreeClassifier(random_state=1).fit(b_data[features], b_labels)\n",
        "    forest.append(dt)\n",
        "\n",
        "print(len(forest))\n",
        "forest[0].get_depth()"
      ],
      "metadata": {
        "colab": {
          "base_uri": "https://localhost:8080/"
        },
        "id": "zEp3iCmC3Y1A",
        "outputId": "19d266b1-cb8b-481d-d796-a2dc2163f914"
      },
      "execution_count": 144,
      "outputs": [
        {
          "output_type": "stream",
          "name": "stdout",
          "text": [
            "100\n"
          ]
        },
        {
          "output_type": "execute_result",
          "data": {
            "text/plain": [
              "23"
            ]
          },
          "metadata": {},
          "execution_count": 144
        }
      ]
    },
    {
      "cell_type": "code",
      "source": [
        "# добавим предсказания всех деревьев в список\n",
        "predictions = []\n",
        "for tree in forest:\n",
        "    predictions.append(tree.predict(X_test[tree.feature_names_in_]))\n",
        "\n",
        "# сформируем список с предсказаниями для каждого объекта\n",
        "predictions_per_object = list(zip(*predictions))\n",
        "\n",
        "\n",
        "# выберем в качестве итогового предсказания для каждого объекта тот класс,\n",
        "# за который проголосовало большинство деревьев\n",
        "voted_predictions = []\n",
        "for obj in predictions_per_object:\n",
        "    voted_predictions.append(round(sum(obj)/len(obj)))\n",
        "\n",
        "print(round( accuracy_score(y_test_bin, voted_predictions), 2))\n",
        ""
      ],
      "metadata": {
        "colab": {
          "base_uri": "https://localhost:8080/"
        },
        "id": "ivr8rzIG-ZLf",
        "outputId": "b58f2631-353c-4920-d419-3f94e178b7e0"
      },
      "execution_count": 146,
      "outputs": [
        {
          "output_type": "stream",
          "name": "stdout",
          "text": [
            "0.76\n"
          ]
        }
      ]
    },
    {
      "cell_type": "code",
      "source": [],
      "metadata": {
        "id": "ZRfKERJLIjuZ"
      },
      "execution_count": null,
      "outputs": []
    }
  ]
}