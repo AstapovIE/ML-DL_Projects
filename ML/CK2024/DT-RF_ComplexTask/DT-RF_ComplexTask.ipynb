{
  "cells": [
    {
      "cell_type": "markdown",
      "metadata": {
        "id": "-rX8cvHCzany"
      },
      "source": [
        "# Задача\n",
        "В этой работе вам предлагается решить задачу бинарной классификации, а именно построить алгоритм, определяющий превысит ли средний заработок человека порог $50k. Каждый объект выборки — человек, для которого известны следующие признаки:\n",
        " - age\n",
        " - workclass\n",
        " - fnlwgt\n",
        " - education\n",
        " - education-num\n",
        " - marital-status\n",
        " - occupation\n",
        " - relationship\n",
        " - race\n",
        " - sex\n",
        " - capital-gain\n",
        " - capital-loss\n",
        " - hours-per-week\n",
        "\n",
        "Более подробно про признаки можно почитать [здесь](http://archive.ics.uci.edu/ml/machine-learning-databases/adult/adult.names). Целевой признак записан в переменной *>50K,<=50K*.\n",
        "\n",
        "В этой задаче для обучения будут использовать 2 алгоритма:\n",
        " - [DecisonTree](http://scikit-learn.org/stable/modules/generated/sklearn.tree.DecisionTreeClassifier.html#sklearn.tree.DecisionTreeClassifier)\n",
        " - [RandomForest](http://scikit-learn.org/stable/modules/generated/sklearn.ensemble.RandomForestClassifier.html)"
      ]
    },
    {
      "cell_type": "markdown",
      "metadata": {
        "id": "yKvOO2LGzan3"
      },
      "source": [
        "# Решение"
      ]
    },
    {
      "cell_type": "markdown",
      "metadata": {
        "id": "MrewBnQJibsR"
      },
      "source": [
        "Загрузите набор данных *data.adult.csv* с помощью `pandas` (скачать можно [здесь](https://drive.google.com/file/d/1Lo47fXx1RrJG3v9E-Gck1T45n5bJ_SJf/view?usp=sharing), или с помощью скрипта ниже). Чтобы лучше понимать, с чем вы работаете/корректно ли вы загрузили данные можно вывести несколько первых строк на экран."
      ]
    },
    {
      "cell_type": "code",
      "execution_count": null,
      "metadata": {
        "colab": {
          "base_uri": "https://localhost:8080/"
        },
        "id": "So-LVYjsibsU",
        "outputId": "192a0e3c-7ad2-4db4-9179-7db6ffe3f6cc"
      },
      "outputs": [
        {
          "output_type": "stream",
          "name": "stdout",
          "text": [
            "Downloading...\n",
            "From: https://drive.google.com/uc?id=1Lo47fXx1RrJG3v9E-Gck1T45n5bJ_SJf\n",
            "To: /content/data.adult.csv\n",
            "\r  0% 0.00/1.54M [00:00<?, ?B/s]\r100% 1.54M/1.54M [00:00<00:00, 141MB/s]\n"
          ]
        }
      ],
      "source": [
        "!gdown 1Lo47fXx1RrJG3v9E-Gck1T45n5bJ_SJf"
      ]
    },
    {
      "cell_type": "code",
      "source": [
        "import numpy as np\n",
        "import pandas as pd\n",
        "import matplotlib.pyplot as plt\n",
        "\n",
        "from tqdm import tqdm\n",
        "from sklearn.ensemble import RandomForestRegressor, RandomForestClassifier\n",
        "from sklearn.tree import DecisionTreeRegressor, DecisionTreeClassifier\n",
        "from sklearn.model_selection import train_test_split\n",
        "\n",
        "from sklearn.metrics import mean_squared_error, accuracy_score, f1_score\n",
        "from sklearn.preprocessing import OneHotEncoder\n",
        "\n",
        "from sklearn.model_selection import cross_val_score\n",
        "from sklearn.ensemble import RandomForestClassifier\n",
        "from sklearn.tree import DecisionTreeClassifier"
      ],
      "metadata": {
        "id": "rfuL1gaQKKHH"
      },
      "execution_count": 17,
      "outputs": []
    },
    {
      "cell_type": "code",
      "execution_count": 2,
      "metadata": {
        "id": "mpDKy6jCzan6",
        "colab": {
          "base_uri": "https://localhost:8080/",
          "height": 726
        },
        "outputId": "9f57a243-5820-4bf1-eb40-852cf131cc56"
      },
      "outputs": [
        {
          "output_type": "stream",
          "name": "stdout",
          "text": [
            "<class 'pandas.core.frame.DataFrame'>\n",
            "RangeIndex: 16280 entries, 0 to 16279\n",
            "Data columns (total 14 columns):\n",
            " #   Column          Non-Null Count  Dtype \n",
            "---  ------          --------------  ----- \n",
            " 0   age             16280 non-null  int64 \n",
            " 1   workclass       16280 non-null  object\n",
            " 2   fnlwgt          16280 non-null  int64 \n",
            " 3   education       16280 non-null  object\n",
            " 4   education-num   16280 non-null  int64 \n",
            " 5   marital-status  16280 non-null  object\n",
            " 6   occupation      16280 non-null  object\n",
            " 7   relationship    16280 non-null  object\n",
            " 8   race            16280 non-null  object\n",
            " 9   sex             16280 non-null  object\n",
            " 10  capital-gain    16280 non-null  int64 \n",
            " 11  capital-loss    16280 non-null  int64 \n",
            " 12  hours-per-week  16280 non-null  int64 \n",
            " 13  >50K,<=50K      16280 non-null  object\n",
            "dtypes: int64(6), object(8)\n",
            "memory usage: 1.7+ MB\n",
            "None\n"
          ]
        },
        {
          "output_type": "execute_result",
          "data": {
            "text/plain": [
              "       age         workclass  fnlwgt     education  education-num  \\\n",
              "14208   23           Private  197207     Bachelors             13   \n",
              "791     45           Private  248993       HS-grad              9   \n",
              "335     30  Self-emp-not-inc  226535       7th-8th              4   \n",
              "1983    18           Private  434268          11th              7   \n",
              "9687    22           Private  341368  Some-college             10   \n",
              "\n",
              "              marital-status       occupation    relationship   race     sex  \\\n",
              "14208          Never-married   Prof-specialty   Not-in-family  White  Female   \n",
              "791    Married-spouse-absent  Farming-fishing  Other-relative  Black    Male   \n",
              "335       Married-civ-spouse  Farming-fishing         Husband  White    Male   \n",
              "1983           Never-married     Adm-clerical       Own-child  White  Female   \n",
              "9687           Never-married    Other-service   Not-in-family  White    Male   \n",
              "\n",
              "       capital-gain  capital-loss  hours-per-week >50K,<=50K  \n",
              "14208             0             0              40      <=50K  \n",
              "791               0             0              40      <=50K  \n",
              "335               0             0              40      <=50K  \n",
              "1983              0             0              15      <=50K  \n",
              "9687              0             0              50      <=50K  "
            ],
            "text/html": [
              "\n",
              "  <div id=\"df-0cd3d2ce-5dba-4979-b132-d21a37b68b56\" class=\"colab-df-container\">\n",
              "    <div>\n",
              "<style scoped>\n",
              "    .dataframe tbody tr th:only-of-type {\n",
              "        vertical-align: middle;\n",
              "    }\n",
              "\n",
              "    .dataframe tbody tr th {\n",
              "        vertical-align: top;\n",
              "    }\n",
              "\n",
              "    .dataframe thead th {\n",
              "        text-align: right;\n",
              "    }\n",
              "</style>\n",
              "<table border=\"1\" class=\"dataframe\">\n",
              "  <thead>\n",
              "    <tr style=\"text-align: right;\">\n",
              "      <th></th>\n",
              "      <th>age</th>\n",
              "      <th>workclass</th>\n",
              "      <th>fnlwgt</th>\n",
              "      <th>education</th>\n",
              "      <th>education-num</th>\n",
              "      <th>marital-status</th>\n",
              "      <th>occupation</th>\n",
              "      <th>relationship</th>\n",
              "      <th>race</th>\n",
              "      <th>sex</th>\n",
              "      <th>capital-gain</th>\n",
              "      <th>capital-loss</th>\n",
              "      <th>hours-per-week</th>\n",
              "      <th>&gt;50K,&lt;=50K</th>\n",
              "    </tr>\n",
              "  </thead>\n",
              "  <tbody>\n",
              "    <tr>\n",
              "      <th>14208</th>\n",
              "      <td>23</td>\n",
              "      <td>Private</td>\n",
              "      <td>197207</td>\n",
              "      <td>Bachelors</td>\n",
              "      <td>13</td>\n",
              "      <td>Never-married</td>\n",
              "      <td>Prof-specialty</td>\n",
              "      <td>Not-in-family</td>\n",
              "      <td>White</td>\n",
              "      <td>Female</td>\n",
              "      <td>0</td>\n",
              "      <td>0</td>\n",
              "      <td>40</td>\n",
              "      <td>&lt;=50K</td>\n",
              "    </tr>\n",
              "    <tr>\n",
              "      <th>791</th>\n",
              "      <td>45</td>\n",
              "      <td>Private</td>\n",
              "      <td>248993</td>\n",
              "      <td>HS-grad</td>\n",
              "      <td>9</td>\n",
              "      <td>Married-spouse-absent</td>\n",
              "      <td>Farming-fishing</td>\n",
              "      <td>Other-relative</td>\n",
              "      <td>Black</td>\n",
              "      <td>Male</td>\n",
              "      <td>0</td>\n",
              "      <td>0</td>\n",
              "      <td>40</td>\n",
              "      <td>&lt;=50K</td>\n",
              "    </tr>\n",
              "    <tr>\n",
              "      <th>335</th>\n",
              "      <td>30</td>\n",
              "      <td>Self-emp-not-inc</td>\n",
              "      <td>226535</td>\n",
              "      <td>7th-8th</td>\n",
              "      <td>4</td>\n",
              "      <td>Married-civ-spouse</td>\n",
              "      <td>Farming-fishing</td>\n",
              "      <td>Husband</td>\n",
              "      <td>White</td>\n",
              "      <td>Male</td>\n",
              "      <td>0</td>\n",
              "      <td>0</td>\n",
              "      <td>40</td>\n",
              "      <td>&lt;=50K</td>\n",
              "    </tr>\n",
              "    <tr>\n",
              "      <th>1983</th>\n",
              "      <td>18</td>\n",
              "      <td>Private</td>\n",
              "      <td>434268</td>\n",
              "      <td>11th</td>\n",
              "      <td>7</td>\n",
              "      <td>Never-married</td>\n",
              "      <td>Adm-clerical</td>\n",
              "      <td>Own-child</td>\n",
              "      <td>White</td>\n",
              "      <td>Female</td>\n",
              "      <td>0</td>\n",
              "      <td>0</td>\n",
              "      <td>15</td>\n",
              "      <td>&lt;=50K</td>\n",
              "    </tr>\n",
              "    <tr>\n",
              "      <th>9687</th>\n",
              "      <td>22</td>\n",
              "      <td>Private</td>\n",
              "      <td>341368</td>\n",
              "      <td>Some-college</td>\n",
              "      <td>10</td>\n",
              "      <td>Never-married</td>\n",
              "      <td>Other-service</td>\n",
              "      <td>Not-in-family</td>\n",
              "      <td>White</td>\n",
              "      <td>Male</td>\n",
              "      <td>0</td>\n",
              "      <td>0</td>\n",
              "      <td>50</td>\n",
              "      <td>&lt;=50K</td>\n",
              "    </tr>\n",
              "  </tbody>\n",
              "</table>\n",
              "</div>\n",
              "    <div class=\"colab-df-buttons\">\n",
              "\n",
              "  <div class=\"colab-df-container\">\n",
              "    <button class=\"colab-df-convert\" onclick=\"convertToInteractive('df-0cd3d2ce-5dba-4979-b132-d21a37b68b56')\"\n",
              "            title=\"Convert this dataframe to an interactive table.\"\n",
              "            style=\"display:none;\">\n",
              "\n",
              "  <svg xmlns=\"http://www.w3.org/2000/svg\" height=\"24px\" viewBox=\"0 -960 960 960\">\n",
              "    <path d=\"M120-120v-720h720v720H120Zm60-500h600v-160H180v160Zm220 220h160v-160H400v160Zm0 220h160v-160H400v160ZM180-400h160v-160H180v160Zm440 0h160v-160H620v160ZM180-180h160v-160H180v160Zm440 0h160v-160H620v160Z\"/>\n",
              "  </svg>\n",
              "    </button>\n",
              "\n",
              "  <style>\n",
              "    .colab-df-container {\n",
              "      display:flex;\n",
              "      gap: 12px;\n",
              "    }\n",
              "\n",
              "    .colab-df-convert {\n",
              "      background-color: #E8F0FE;\n",
              "      border: none;\n",
              "      border-radius: 50%;\n",
              "      cursor: pointer;\n",
              "      display: none;\n",
              "      fill: #1967D2;\n",
              "      height: 32px;\n",
              "      padding: 0 0 0 0;\n",
              "      width: 32px;\n",
              "    }\n",
              "\n",
              "    .colab-df-convert:hover {\n",
              "      background-color: #E2EBFA;\n",
              "      box-shadow: 0px 1px 2px rgba(60, 64, 67, 0.3), 0px 1px 3px 1px rgba(60, 64, 67, 0.15);\n",
              "      fill: #174EA6;\n",
              "    }\n",
              "\n",
              "    .colab-df-buttons div {\n",
              "      margin-bottom: 4px;\n",
              "    }\n",
              "\n",
              "    [theme=dark] .colab-df-convert {\n",
              "      background-color: #3B4455;\n",
              "      fill: #D2E3FC;\n",
              "    }\n",
              "\n",
              "    [theme=dark] .colab-df-convert:hover {\n",
              "      background-color: #434B5C;\n",
              "      box-shadow: 0px 1px 3px 1px rgba(0, 0, 0, 0.15);\n",
              "      filter: drop-shadow(0px 1px 2px rgba(0, 0, 0, 0.3));\n",
              "      fill: #FFFFFF;\n",
              "    }\n",
              "  </style>\n",
              "\n",
              "    <script>\n",
              "      const buttonEl =\n",
              "        document.querySelector('#df-0cd3d2ce-5dba-4979-b132-d21a37b68b56 button.colab-df-convert');\n",
              "      buttonEl.style.display =\n",
              "        google.colab.kernel.accessAllowed ? 'block' : 'none';\n",
              "\n",
              "      async function convertToInteractive(key) {\n",
              "        const element = document.querySelector('#df-0cd3d2ce-5dba-4979-b132-d21a37b68b56');\n",
              "        const dataTable =\n",
              "          await google.colab.kernel.invokeFunction('convertToInteractive',\n",
              "                                                    [key], {});\n",
              "        if (!dataTable) return;\n",
              "\n",
              "        const docLinkHtml = 'Like what you see? Visit the ' +\n",
              "          '<a target=\"_blank\" href=https://colab.research.google.com/notebooks/data_table.ipynb>data table notebook</a>'\n",
              "          + ' to learn more about interactive tables.';\n",
              "        element.innerHTML = '';\n",
              "        dataTable['output_type'] = 'display_data';\n",
              "        await google.colab.output.renderOutput(dataTable, element);\n",
              "        const docLink = document.createElement('div');\n",
              "        docLink.innerHTML = docLinkHtml;\n",
              "        element.appendChild(docLink);\n",
              "      }\n",
              "    </script>\n",
              "  </div>\n",
              "\n",
              "\n",
              "<div id=\"df-a1f36615-02c2-4381-ac52-e115098f9af2\">\n",
              "  <button class=\"colab-df-quickchart\" onclick=\"quickchart('df-a1f36615-02c2-4381-ac52-e115098f9af2')\"\n",
              "            title=\"Suggest charts\"\n",
              "            style=\"display:none;\">\n",
              "\n",
              "<svg xmlns=\"http://www.w3.org/2000/svg\" height=\"24px\"viewBox=\"0 0 24 24\"\n",
              "     width=\"24px\">\n",
              "    <g>\n",
              "        <path d=\"M19 3H5c-1.1 0-2 .9-2 2v14c0 1.1.9 2 2 2h14c1.1 0 2-.9 2-2V5c0-1.1-.9-2-2-2zM9 17H7v-7h2v7zm4 0h-2V7h2v10zm4 0h-2v-4h2v4z\"/>\n",
              "    </g>\n",
              "</svg>\n",
              "  </button>\n",
              "\n",
              "<style>\n",
              "  .colab-df-quickchart {\n",
              "      --bg-color: #E8F0FE;\n",
              "      --fill-color: #1967D2;\n",
              "      --hover-bg-color: #E2EBFA;\n",
              "      --hover-fill-color: #174EA6;\n",
              "      --disabled-fill-color: #AAA;\n",
              "      --disabled-bg-color: #DDD;\n",
              "  }\n",
              "\n",
              "  [theme=dark] .colab-df-quickchart {\n",
              "      --bg-color: #3B4455;\n",
              "      --fill-color: #D2E3FC;\n",
              "      --hover-bg-color: #434B5C;\n",
              "      --hover-fill-color: #FFFFFF;\n",
              "      --disabled-bg-color: #3B4455;\n",
              "      --disabled-fill-color: #666;\n",
              "  }\n",
              "\n",
              "  .colab-df-quickchart {\n",
              "    background-color: var(--bg-color);\n",
              "    border: none;\n",
              "    border-radius: 50%;\n",
              "    cursor: pointer;\n",
              "    display: none;\n",
              "    fill: var(--fill-color);\n",
              "    height: 32px;\n",
              "    padding: 0;\n",
              "    width: 32px;\n",
              "  }\n",
              "\n",
              "  .colab-df-quickchart:hover {\n",
              "    background-color: var(--hover-bg-color);\n",
              "    box-shadow: 0 1px 2px rgba(60, 64, 67, 0.3), 0 1px 3px 1px rgba(60, 64, 67, 0.15);\n",
              "    fill: var(--button-hover-fill-color);\n",
              "  }\n",
              "\n",
              "  .colab-df-quickchart-complete:disabled,\n",
              "  .colab-df-quickchart-complete:disabled:hover {\n",
              "    background-color: var(--disabled-bg-color);\n",
              "    fill: var(--disabled-fill-color);\n",
              "    box-shadow: none;\n",
              "  }\n",
              "\n",
              "  .colab-df-spinner {\n",
              "    border: 2px solid var(--fill-color);\n",
              "    border-color: transparent;\n",
              "    border-bottom-color: var(--fill-color);\n",
              "    animation:\n",
              "      spin 1s steps(1) infinite;\n",
              "  }\n",
              "\n",
              "  @keyframes spin {\n",
              "    0% {\n",
              "      border-color: transparent;\n",
              "      border-bottom-color: var(--fill-color);\n",
              "      border-left-color: var(--fill-color);\n",
              "    }\n",
              "    20% {\n",
              "      border-color: transparent;\n",
              "      border-left-color: var(--fill-color);\n",
              "      border-top-color: var(--fill-color);\n",
              "    }\n",
              "    30% {\n",
              "      border-color: transparent;\n",
              "      border-left-color: var(--fill-color);\n",
              "      border-top-color: var(--fill-color);\n",
              "      border-right-color: var(--fill-color);\n",
              "    }\n",
              "    40% {\n",
              "      border-color: transparent;\n",
              "      border-right-color: var(--fill-color);\n",
              "      border-top-color: var(--fill-color);\n",
              "    }\n",
              "    60% {\n",
              "      border-color: transparent;\n",
              "      border-right-color: var(--fill-color);\n",
              "    }\n",
              "    80% {\n",
              "      border-color: transparent;\n",
              "      border-right-color: var(--fill-color);\n",
              "      border-bottom-color: var(--fill-color);\n",
              "    }\n",
              "    90% {\n",
              "      border-color: transparent;\n",
              "      border-bottom-color: var(--fill-color);\n",
              "    }\n",
              "  }\n",
              "</style>\n",
              "\n",
              "  <script>\n",
              "    async function quickchart(key) {\n",
              "      const quickchartButtonEl =\n",
              "        document.querySelector('#' + key + ' button');\n",
              "      quickchartButtonEl.disabled = true;  // To prevent multiple clicks.\n",
              "      quickchartButtonEl.classList.add('colab-df-spinner');\n",
              "      try {\n",
              "        const charts = await google.colab.kernel.invokeFunction(\n",
              "            'suggestCharts', [key], {});\n",
              "      } catch (error) {\n",
              "        console.error('Error during call to suggestCharts:', error);\n",
              "      }\n",
              "      quickchartButtonEl.classList.remove('colab-df-spinner');\n",
              "      quickchartButtonEl.classList.add('colab-df-quickchart-complete');\n",
              "    }\n",
              "    (() => {\n",
              "      let quickchartButtonEl =\n",
              "        document.querySelector('#df-a1f36615-02c2-4381-ac52-e115098f9af2 button');\n",
              "      quickchartButtonEl.style.display =\n",
              "        google.colab.kernel.accessAllowed ? 'block' : 'none';\n",
              "    })();\n",
              "  </script>\n",
              "</div>\n",
              "    </div>\n",
              "  </div>\n"
            ],
            "application/vnd.google.colaboratory.intrinsic+json": {
              "type": "dataframe",
              "summary": "{\n  \"name\": \"df\",\n  \"rows\": 5,\n  \"fields\": [\n    {\n      \"column\": \"age\",\n      \"properties\": {\n        \"dtype\": \"number\",\n        \"std\": 10,\n        \"min\": 18,\n        \"max\": 45,\n        \"num_unique_values\": 5,\n        \"samples\": [\n          45,\n          22,\n          30\n        ],\n        \"semantic_type\": \"\",\n        \"description\": \"\"\n      }\n    },\n    {\n      \"column\": \"workclass\",\n      \"properties\": {\n        \"dtype\": \"category\",\n        \"num_unique_values\": 2,\n        \"samples\": [\n          \"Self-emp-not-inc\",\n          \"Private\"\n        ],\n        \"semantic_type\": \"\",\n        \"description\": \"\"\n      }\n    },\n    {\n      \"column\": \"fnlwgt\",\n      \"properties\": {\n        \"dtype\": \"number\",\n        \"std\": 97174,\n        \"min\": 197207,\n        \"max\": 434268,\n        \"num_unique_values\": 5,\n        \"samples\": [\n          248993,\n          341368\n        ],\n        \"semantic_type\": \"\",\n        \"description\": \"\"\n      }\n    },\n    {\n      \"column\": \"education\",\n      \"properties\": {\n        \"dtype\": \"string\",\n        \"num_unique_values\": 5,\n        \"samples\": [\n          \"HS-grad\",\n          \"Some-college\"\n        ],\n        \"semantic_type\": \"\",\n        \"description\": \"\"\n      }\n    },\n    {\n      \"column\": \"education-num\",\n      \"properties\": {\n        \"dtype\": \"number\",\n        \"std\": 3,\n        \"min\": 4,\n        \"max\": 13,\n        \"num_unique_values\": 5,\n        \"samples\": [\n          9,\n          10\n        ],\n        \"semantic_type\": \"\",\n        \"description\": \"\"\n      }\n    },\n    {\n      \"column\": \"marital-status\",\n      \"properties\": {\n        \"dtype\": \"string\",\n        \"num_unique_values\": 3,\n        \"samples\": [\n          \"Never-married\",\n          \"Married-spouse-absent\"\n        ],\n        \"semantic_type\": \"\",\n        \"description\": \"\"\n      }\n    },\n    {\n      \"column\": \"occupation\",\n      \"properties\": {\n        \"dtype\": \"string\",\n        \"num_unique_values\": 4,\n        \"samples\": [\n          \"Farming-fishing\",\n          \"Other-service\"\n        ],\n        \"semantic_type\": \"\",\n        \"description\": \"\"\n      }\n    },\n    {\n      \"column\": \"relationship\",\n      \"properties\": {\n        \"dtype\": \"string\",\n        \"num_unique_values\": 4,\n        \"samples\": [\n          \"Other-relative\",\n          \"Own-child\"\n        ],\n        \"semantic_type\": \"\",\n        \"description\": \"\"\n      }\n    },\n    {\n      \"column\": \"race\",\n      \"properties\": {\n        \"dtype\": \"category\",\n        \"num_unique_values\": 2,\n        \"samples\": [\n          \"Black\",\n          \"White\"\n        ],\n        \"semantic_type\": \"\",\n        \"description\": \"\"\n      }\n    },\n    {\n      \"column\": \"sex\",\n      \"properties\": {\n        \"dtype\": \"category\",\n        \"num_unique_values\": 2,\n        \"samples\": [\n          \"Male\",\n          \"Female\"\n        ],\n        \"semantic_type\": \"\",\n        \"description\": \"\"\n      }\n    },\n    {\n      \"column\": \"capital-gain\",\n      \"properties\": {\n        \"dtype\": \"number\",\n        \"std\": 0,\n        \"min\": 0,\n        \"max\": 0,\n        \"num_unique_values\": 1,\n        \"samples\": [\n          0\n        ],\n        \"semantic_type\": \"\",\n        \"description\": \"\"\n      }\n    },\n    {\n      \"column\": \"capital-loss\",\n      \"properties\": {\n        \"dtype\": \"number\",\n        \"std\": 0,\n        \"min\": 0,\n        \"max\": 0,\n        \"num_unique_values\": 1,\n        \"samples\": [\n          0\n        ],\n        \"semantic_type\": \"\",\n        \"description\": \"\"\n      }\n    },\n    {\n      \"column\": \"hours-per-week\",\n      \"properties\": {\n        \"dtype\": \"number\",\n        \"std\": 13,\n        \"min\": 15,\n        \"max\": 50,\n        \"num_unique_values\": 3,\n        \"samples\": [\n          40\n        ],\n        \"semantic_type\": \"\",\n        \"description\": \"\"\n      }\n    },\n    {\n      \"column\": \">50K,<=50K\",\n      \"properties\": {\n        \"dtype\": \"category\",\n        \"num_unique_values\": 1,\n        \"samples\": [\n          \"<=50K\"\n        ],\n        \"semantic_type\": \"\",\n        \"description\": \"\"\n      }\n    }\n  ]\n}"
            }
          },
          "metadata": {},
          "execution_count": 2
        }
      ],
      "source": [
        "df = pd.read_csv(\"data.adult.csv\")\n",
        "print(df.info())\n",
        "df.sample(n = 5)"
      ]
    },
    {
      "cell_type": "markdown",
      "metadata": {
        "id": "WTJwqn6Xzan6"
      },
      "source": [
        "## Анализ и предобработка данных\n",
        "\n",
        "Обычно после загрузки датасета всегда необходима его некоторая предобработка. В данном случае она будет заключаться в следующем:\n",
        "1. Проверьте есть ли в данных пропущенные значения (здесь они обозначены как \"?\"). Удалите из выборки все объекты с пропусками.\n",
        "2. Выделите 60% выборки для обучения и дальнейшего анализа.\n",
        "3. Обратите внимание, что не все признаки являются вещественными (числовыми). Сначала их необходимо проанализировать и по необходимости предобработать. Все шаги предобработки поясните текстом.\n",
        "4. Целевую переменную (ту, которую мы хотим предсказывать) можно выделить в отдельную переменную и преобразуйте к бинарному формату (НЕ забудьте удалить ее из датасета, когда будете обучать модель).\n"
      ]
    },
    {
      "cell_type": "code",
      "execution_count": 4,
      "metadata": {
        "id": "3LCu1pI4zan6"
      },
      "outputs": [],
      "source": [
        "#1\n",
        "# print(df.isin([\"?\"]).sum())\n",
        "df = df[~(df ==\"?\").any(axis=1)]\n",
        "# df.isin([\"?\"]).sum()"
      ]
    },
    {
      "cell_type": "markdown",
      "source": [
        "❔❓❔ я же правильно понимаю, что если все преобразования, которые я делаю с выборкой, это просто OneHotEncoding/get_dummies и выбрасывание лишних строк, то смысла делать их по отдельности с test и train нет (ну если только в какой-то из частей вдруг не окажется одного из новых получившихся бинарных признаков.. Но в таком случае вообще надо отдельно думать)"
      ],
      "metadata": {
        "id": "6HBlOyXGtOrA"
      }
    },
    {
      "cell_type": "code",
      "source": [
        "X = df[df.columns[:-1]]\n",
        "X = pd.get_dummies(X, columns = ['workclass', 'education', \"marital-status\",\"occupation\", \"relationship\", \"race\", \"sex\"], dtype=int)\n",
        "y = np.array(df[df.columns[-1]]).reshape(-1,1)\n",
        "y = np.array([[1 if x=='>50K' else 0 for x in y]]).reshape(-1,1)\n",
        "print(X.shape, y.shape)\n"
      ],
      "metadata": {
        "colab": {
          "base_uri": "https://localhost:8080/"
        },
        "id": "7gpp8AVEpVq_",
        "outputId": "24fd049b-d69e-4999-a964-c9a9c1ceee53"
      },
      "execution_count": 6,
      "outputs": [
        {
          "output_type": "stream",
          "name": "stdout",
          "text": [
            "(15347, 63) (15347, 1)\n"
          ]
        }
      ]
    },
    {
      "cell_type": "code",
      "source": [
        "X_train, X_test, y_train, y_test = train_test_split(X, y,\n",
        "                                                    train_size=0.6,\n",
        "                                                    random_state=1)\n",
        "print(X_train.shape, y_train.shape)"
      ],
      "metadata": {
        "colab": {
          "base_uri": "https://localhost:8080/"
        },
        "id": "roUffPh5uU7q",
        "outputId": "c6d9d5ea-a5f5-4eff-c3d4-1931f1d95f00"
      },
      "execution_count": 7,
      "outputs": [
        {
          "output_type": "stream",
          "name": "stdout",
          "text": [
            "(9208, 63) (9208, 1)\n"
          ]
        }
      ]
    },
    {
      "cell_type": "markdown",
      "metadata": {
        "id": "A58Y5VpIzan_"
      },
      "source": [
        "При обучении алгоритмов стоит обращать внимание не только на их качество, но и каким образом они работают с данными. Давайте посмотрим на значения самих признаков.\n",
        "\n",
        "Что можете сказать о разбросе данных и сбалансированности выборки? В каком диапазоне лежат исследуемые признаки?"
      ]
    },
    {
      "cell_type": "code",
      "source": [
        "df.describe()"
      ],
      "metadata": {
        "id": "BIDIZhG_k6bx",
        "colab": {
          "base_uri": "https://localhost:8080/",
          "height": 300
        },
        "outputId": "969f4ea5-7b65-48d6-c684-1f102d843070"
      },
      "execution_count": null,
      "outputs": [
        {
          "output_type": "execute_result",
          "data": {
            "text/plain": [
              "                age        fnlwgt  education-num  capital-gain  capital-loss  \\\n",
              "count  15347.000000  1.534700e+04   15347.000000  15347.000000  15347.000000   \n",
              "mean      38.495537  1.891545e+05      10.150844   1053.294129     88.667492   \n",
              "std       13.110063  1.062935e+05       2.553045   7001.715695    405.368093   \n",
              "min       17.000000  1.930200e+04       1.000000      0.000000      0.000000   \n",
              "25%       28.000000  1.168125e+05       9.000000      0.000000      0.000000   \n",
              "50%       37.000000  1.779370e+05      10.000000      0.000000      0.000000   \n",
              "75%       47.000000  2.368550e+05      13.000000      0.000000      0.000000   \n",
              "max       90.000000  1.484705e+06      16.000000  99999.000000   3900.000000   \n",
              "\n",
              "       hours-per-week  \n",
              "count    15347.000000  \n",
              "mean        40.892422  \n",
              "std         12.031182  \n",
              "min          1.000000  \n",
              "25%         40.000000  \n",
              "50%         40.000000  \n",
              "75%         45.000000  \n",
              "max         99.000000  "
            ],
            "text/html": [
              "\n",
              "  <div id=\"df-52b8184c-5847-41ed-b909-fb7631c52c40\" class=\"colab-df-container\">\n",
              "    <div>\n",
              "<style scoped>\n",
              "    .dataframe tbody tr th:only-of-type {\n",
              "        vertical-align: middle;\n",
              "    }\n",
              "\n",
              "    .dataframe tbody tr th {\n",
              "        vertical-align: top;\n",
              "    }\n",
              "\n",
              "    .dataframe thead th {\n",
              "        text-align: right;\n",
              "    }\n",
              "</style>\n",
              "<table border=\"1\" class=\"dataframe\">\n",
              "  <thead>\n",
              "    <tr style=\"text-align: right;\">\n",
              "      <th></th>\n",
              "      <th>age</th>\n",
              "      <th>fnlwgt</th>\n",
              "      <th>education-num</th>\n",
              "      <th>capital-gain</th>\n",
              "      <th>capital-loss</th>\n",
              "      <th>hours-per-week</th>\n",
              "    </tr>\n",
              "  </thead>\n",
              "  <tbody>\n",
              "    <tr>\n",
              "      <th>count</th>\n",
              "      <td>15347.000000</td>\n",
              "      <td>1.534700e+04</td>\n",
              "      <td>15347.000000</td>\n",
              "      <td>15347.000000</td>\n",
              "      <td>15347.000000</td>\n",
              "      <td>15347.000000</td>\n",
              "    </tr>\n",
              "    <tr>\n",
              "      <th>mean</th>\n",
              "      <td>38.495537</td>\n",
              "      <td>1.891545e+05</td>\n",
              "      <td>10.150844</td>\n",
              "      <td>1053.294129</td>\n",
              "      <td>88.667492</td>\n",
              "      <td>40.892422</td>\n",
              "    </tr>\n",
              "    <tr>\n",
              "      <th>std</th>\n",
              "      <td>13.110063</td>\n",
              "      <td>1.062935e+05</td>\n",
              "      <td>2.553045</td>\n",
              "      <td>7001.715695</td>\n",
              "      <td>405.368093</td>\n",
              "      <td>12.031182</td>\n",
              "    </tr>\n",
              "    <tr>\n",
              "      <th>min</th>\n",
              "      <td>17.000000</td>\n",
              "      <td>1.930200e+04</td>\n",
              "      <td>1.000000</td>\n",
              "      <td>0.000000</td>\n",
              "      <td>0.000000</td>\n",
              "      <td>1.000000</td>\n",
              "    </tr>\n",
              "    <tr>\n",
              "      <th>25%</th>\n",
              "      <td>28.000000</td>\n",
              "      <td>1.168125e+05</td>\n",
              "      <td>9.000000</td>\n",
              "      <td>0.000000</td>\n",
              "      <td>0.000000</td>\n",
              "      <td>40.000000</td>\n",
              "    </tr>\n",
              "    <tr>\n",
              "      <th>50%</th>\n",
              "      <td>37.000000</td>\n",
              "      <td>1.779370e+05</td>\n",
              "      <td>10.000000</td>\n",
              "      <td>0.000000</td>\n",
              "      <td>0.000000</td>\n",
              "      <td>40.000000</td>\n",
              "    </tr>\n",
              "    <tr>\n",
              "      <th>75%</th>\n",
              "      <td>47.000000</td>\n",
              "      <td>2.368550e+05</td>\n",
              "      <td>13.000000</td>\n",
              "      <td>0.000000</td>\n",
              "      <td>0.000000</td>\n",
              "      <td>45.000000</td>\n",
              "    </tr>\n",
              "    <tr>\n",
              "      <th>max</th>\n",
              "      <td>90.000000</td>\n",
              "      <td>1.484705e+06</td>\n",
              "      <td>16.000000</td>\n",
              "      <td>99999.000000</td>\n",
              "      <td>3900.000000</td>\n",
              "      <td>99.000000</td>\n",
              "    </tr>\n",
              "  </tbody>\n",
              "</table>\n",
              "</div>\n",
              "    <div class=\"colab-df-buttons\">\n",
              "\n",
              "  <div class=\"colab-df-container\">\n",
              "    <button class=\"colab-df-convert\" onclick=\"convertToInteractive('df-52b8184c-5847-41ed-b909-fb7631c52c40')\"\n",
              "            title=\"Convert this dataframe to an interactive table.\"\n",
              "            style=\"display:none;\">\n",
              "\n",
              "  <svg xmlns=\"http://www.w3.org/2000/svg\" height=\"24px\" viewBox=\"0 -960 960 960\">\n",
              "    <path d=\"M120-120v-720h720v720H120Zm60-500h600v-160H180v160Zm220 220h160v-160H400v160Zm0 220h160v-160H400v160ZM180-400h160v-160H180v160Zm440 0h160v-160H620v160ZM180-180h160v-160H180v160Zm440 0h160v-160H620v160Z\"/>\n",
              "  </svg>\n",
              "    </button>\n",
              "\n",
              "  <style>\n",
              "    .colab-df-container {\n",
              "      display:flex;\n",
              "      gap: 12px;\n",
              "    }\n",
              "\n",
              "    .colab-df-convert {\n",
              "      background-color: #E8F0FE;\n",
              "      border: none;\n",
              "      border-radius: 50%;\n",
              "      cursor: pointer;\n",
              "      display: none;\n",
              "      fill: #1967D2;\n",
              "      height: 32px;\n",
              "      padding: 0 0 0 0;\n",
              "      width: 32px;\n",
              "    }\n",
              "\n",
              "    .colab-df-convert:hover {\n",
              "      background-color: #E2EBFA;\n",
              "      box-shadow: 0px 1px 2px rgba(60, 64, 67, 0.3), 0px 1px 3px 1px rgba(60, 64, 67, 0.15);\n",
              "      fill: #174EA6;\n",
              "    }\n",
              "\n",
              "    .colab-df-buttons div {\n",
              "      margin-bottom: 4px;\n",
              "    }\n",
              "\n",
              "    [theme=dark] .colab-df-convert {\n",
              "      background-color: #3B4455;\n",
              "      fill: #D2E3FC;\n",
              "    }\n",
              "\n",
              "    [theme=dark] .colab-df-convert:hover {\n",
              "      background-color: #434B5C;\n",
              "      box-shadow: 0px 1px 3px 1px rgba(0, 0, 0, 0.15);\n",
              "      filter: drop-shadow(0px 1px 2px rgba(0, 0, 0, 0.3));\n",
              "      fill: #FFFFFF;\n",
              "    }\n",
              "  </style>\n",
              "\n",
              "    <script>\n",
              "      const buttonEl =\n",
              "        document.querySelector('#df-52b8184c-5847-41ed-b909-fb7631c52c40 button.colab-df-convert');\n",
              "      buttonEl.style.display =\n",
              "        google.colab.kernel.accessAllowed ? 'block' : 'none';\n",
              "\n",
              "      async function convertToInteractive(key) {\n",
              "        const element = document.querySelector('#df-52b8184c-5847-41ed-b909-fb7631c52c40');\n",
              "        const dataTable =\n",
              "          await google.colab.kernel.invokeFunction('convertToInteractive',\n",
              "                                                    [key], {});\n",
              "        if (!dataTable) return;\n",
              "\n",
              "        const docLinkHtml = 'Like what you see? Visit the ' +\n",
              "          '<a target=\"_blank\" href=https://colab.research.google.com/notebooks/data_table.ipynb>data table notebook</a>'\n",
              "          + ' to learn more about interactive tables.';\n",
              "        element.innerHTML = '';\n",
              "        dataTable['output_type'] = 'display_data';\n",
              "        await google.colab.output.renderOutput(dataTable, element);\n",
              "        const docLink = document.createElement('div');\n",
              "        docLink.innerHTML = docLinkHtml;\n",
              "        element.appendChild(docLink);\n",
              "      }\n",
              "    </script>\n",
              "  </div>\n",
              "\n",
              "\n",
              "<div id=\"df-74ce73b3-afb6-47b8-89bc-76b56411ae26\">\n",
              "  <button class=\"colab-df-quickchart\" onclick=\"quickchart('df-74ce73b3-afb6-47b8-89bc-76b56411ae26')\"\n",
              "            title=\"Suggest charts\"\n",
              "            style=\"display:none;\">\n",
              "\n",
              "<svg xmlns=\"http://www.w3.org/2000/svg\" height=\"24px\"viewBox=\"0 0 24 24\"\n",
              "     width=\"24px\">\n",
              "    <g>\n",
              "        <path d=\"M19 3H5c-1.1 0-2 .9-2 2v14c0 1.1.9 2 2 2h14c1.1 0 2-.9 2-2V5c0-1.1-.9-2-2-2zM9 17H7v-7h2v7zm4 0h-2V7h2v10zm4 0h-2v-4h2v4z\"/>\n",
              "    </g>\n",
              "</svg>\n",
              "  </button>\n",
              "\n",
              "<style>\n",
              "  .colab-df-quickchart {\n",
              "      --bg-color: #E8F0FE;\n",
              "      --fill-color: #1967D2;\n",
              "      --hover-bg-color: #E2EBFA;\n",
              "      --hover-fill-color: #174EA6;\n",
              "      --disabled-fill-color: #AAA;\n",
              "      --disabled-bg-color: #DDD;\n",
              "  }\n",
              "\n",
              "  [theme=dark] .colab-df-quickchart {\n",
              "      --bg-color: #3B4455;\n",
              "      --fill-color: #D2E3FC;\n",
              "      --hover-bg-color: #434B5C;\n",
              "      --hover-fill-color: #FFFFFF;\n",
              "      --disabled-bg-color: #3B4455;\n",
              "      --disabled-fill-color: #666;\n",
              "  }\n",
              "\n",
              "  .colab-df-quickchart {\n",
              "    background-color: var(--bg-color);\n",
              "    border: none;\n",
              "    border-radius: 50%;\n",
              "    cursor: pointer;\n",
              "    display: none;\n",
              "    fill: var(--fill-color);\n",
              "    height: 32px;\n",
              "    padding: 0;\n",
              "    width: 32px;\n",
              "  }\n",
              "\n",
              "  .colab-df-quickchart:hover {\n",
              "    background-color: var(--hover-bg-color);\n",
              "    box-shadow: 0 1px 2px rgba(60, 64, 67, 0.3), 0 1px 3px 1px rgba(60, 64, 67, 0.15);\n",
              "    fill: var(--button-hover-fill-color);\n",
              "  }\n",
              "\n",
              "  .colab-df-quickchart-complete:disabled,\n",
              "  .colab-df-quickchart-complete:disabled:hover {\n",
              "    background-color: var(--disabled-bg-color);\n",
              "    fill: var(--disabled-fill-color);\n",
              "    box-shadow: none;\n",
              "  }\n",
              "\n",
              "  .colab-df-spinner {\n",
              "    border: 2px solid var(--fill-color);\n",
              "    border-color: transparent;\n",
              "    border-bottom-color: var(--fill-color);\n",
              "    animation:\n",
              "      spin 1s steps(1) infinite;\n",
              "  }\n",
              "\n",
              "  @keyframes spin {\n",
              "    0% {\n",
              "      border-color: transparent;\n",
              "      border-bottom-color: var(--fill-color);\n",
              "      border-left-color: var(--fill-color);\n",
              "    }\n",
              "    20% {\n",
              "      border-color: transparent;\n",
              "      border-left-color: var(--fill-color);\n",
              "      border-top-color: var(--fill-color);\n",
              "    }\n",
              "    30% {\n",
              "      border-color: transparent;\n",
              "      border-left-color: var(--fill-color);\n",
              "      border-top-color: var(--fill-color);\n",
              "      border-right-color: var(--fill-color);\n",
              "    }\n",
              "    40% {\n",
              "      border-color: transparent;\n",
              "      border-right-color: var(--fill-color);\n",
              "      border-top-color: var(--fill-color);\n",
              "    }\n",
              "    60% {\n",
              "      border-color: transparent;\n",
              "      border-right-color: var(--fill-color);\n",
              "    }\n",
              "    80% {\n",
              "      border-color: transparent;\n",
              "      border-right-color: var(--fill-color);\n",
              "      border-bottom-color: var(--fill-color);\n",
              "    }\n",
              "    90% {\n",
              "      border-color: transparent;\n",
              "      border-bottom-color: var(--fill-color);\n",
              "    }\n",
              "  }\n",
              "</style>\n",
              "\n",
              "  <script>\n",
              "    async function quickchart(key) {\n",
              "      const quickchartButtonEl =\n",
              "        document.querySelector('#' + key + ' button');\n",
              "      quickchartButtonEl.disabled = true;  // To prevent multiple clicks.\n",
              "      quickchartButtonEl.classList.add('colab-df-spinner');\n",
              "      try {\n",
              "        const charts = await google.colab.kernel.invokeFunction(\n",
              "            'suggestCharts', [key], {});\n",
              "      } catch (error) {\n",
              "        console.error('Error during call to suggestCharts:', error);\n",
              "      }\n",
              "      quickchartButtonEl.classList.remove('colab-df-spinner');\n",
              "      quickchartButtonEl.classList.add('colab-df-quickchart-complete');\n",
              "    }\n",
              "    (() => {\n",
              "      let quickchartButtonEl =\n",
              "        document.querySelector('#df-74ce73b3-afb6-47b8-89bc-76b56411ae26 button');\n",
              "      quickchartButtonEl.style.display =\n",
              "        google.colab.kernel.accessAllowed ? 'block' : 'none';\n",
              "    })();\n",
              "  </script>\n",
              "</div>\n",
              "    </div>\n",
              "  </div>\n"
            ],
            "application/vnd.google.colaboratory.intrinsic+json": {
              "type": "dataframe",
              "summary": "{\n  \"name\": \"df\",\n  \"rows\": 8,\n  \"fields\": [\n    {\n      \"column\": \"age\",\n      \"properties\": {\n        \"dtype\": \"number\",\n        \"std\": 5412.368285411813,\n        \"min\": 13.110062622619147,\n        \"max\": 15347.0,\n        \"num_unique_values\": 8,\n        \"samples\": [\n          38.495536586955104,\n          37.0,\n          15347.0\n        ],\n        \"semantic_type\": \"\",\n        \"description\": \"\"\n      }\n    },\n    {\n      \"column\": \"fnlwgt\",\n      \"properties\": {\n        \"dtype\": \"number\",\n        \"std\": 487740.9809685833,\n        \"min\": 15347.0,\n        \"max\": 1484705.0,\n        \"num_unique_values\": 8,\n        \"samples\": [\n          189154.5339154232,\n          177937.0,\n          15347.0\n        ],\n        \"semantic_type\": \"\",\n        \"description\": \"\"\n      }\n    },\n    {\n      \"column\": \"education-num\",\n      \"properties\": {\n        \"dtype\": \"number\",\n        \"std\": 5422.869642506441,\n        \"min\": 1.0,\n        \"max\": 15347.0,\n        \"num_unique_values\": 8,\n        \"samples\": [\n          10.150843813123085,\n          10.0,\n          15347.0\n        ],\n        \"semantic_type\": \"\",\n        \"description\": \"\"\n      }\n    },\n    {\n      \"column\": \"capital-gain\",\n      \"properties\": {\n        \"dtype\": \"number\",\n        \"std\": 34603.85549945935,\n        \"min\": 0.0,\n        \"max\": 99999.0,\n        \"num_unique_values\": 5,\n        \"samples\": [\n          1053.2941291457614,\n          99999.0,\n          7001.715695088845\n        ],\n        \"semantic_type\": \"\",\n        \"description\": \"\"\n      }\n    },\n    {\n      \"column\": \"capital-loss\",\n      \"properties\": {\n        \"dtype\": \"number\",\n        \"std\": 5374.530324574956,\n        \"min\": 0.0,\n        \"max\": 15347.0,\n        \"num_unique_values\": 5,\n        \"samples\": [\n          88.66749201798397,\n          3900.0,\n          405.3680931004977\n        ],\n        \"semantic_type\": \"\",\n        \"description\": \"\"\n      }\n    },\n    {\n      \"column\": \"hours-per-week\",\n      \"properties\": {\n        \"dtype\": \"number\",\n        \"std\": 5412.02329785455,\n        \"min\": 1.0,\n        \"max\": 15347.0,\n        \"num_unique_values\": 7,\n        \"samples\": [\n          15347.0,\n          40.89242197172086,\n          45.0\n        ],\n        \"semantic_type\": \"\",\n        \"description\": \"\"\n      }\n    }\n  ]\n}"
            }
          },
          "metadata": {},
          "execution_count": 75
        }
      ]
    },
    {
      "cell_type": "markdown",
      "source": [
        "## Добавление категориальных признаков\n",
        "\n",
        "Добавим к предобработанным вещественным признакам категориальные. Но для начала их тоже необходимо предобработать.\n",
        "\n",
        "Преобразуйте все категориальные признаки с помощью метода one-hot-encoding (например, это можно сделать с помощью функции [pandas.get_dummies](http://pandas.pydata.org/pandas-docs/stable/generated/pandas.get_dummies.html) или [DictVectorizer](http://scikit-learn.org/stable/modules/generated/sklearn.feature_extraction.DictVectorizer.html) / [OneHotEncoder](http://scikit-learn.org/stable/modules/generated/sklearn.preprocessing.OneHotEncoder.html) из sklearn).\n",
        "\n",
        "После преобразования категориальных признаков, добавьте их к вещественным предобработанным данным для обучения.\n",
        "\n",
        ">PS Напоминаю, что важно удалить колонку с целевым значением"
      ],
      "metadata": {
        "id": "NkRMwGjTydZg"
      }
    },
    {
      "cell_type": "code",
      "source": [
        "# your code here"
      ],
      "metadata": {
        "id": "gMRvsV-xaJ0j"
      },
      "execution_count": null,
      "outputs": []
    },
    {
      "cell_type": "markdown",
      "metadata": {
        "id": "kpAcHTeHzan7"
      },
      "source": [
        "## Обучение классификаторов\n",
        "\n",
        "В начале посмотрим, как работает подбор параметров по сетке и как влияет на качество разбиение выборки. Сейчас и далее будем рассматривать 2 алгоритма:\n",
        " - [DecisonTree](http://scikit-learn.org/stable/modules/generated/sklearn.tree.DecisionTreeClassifier.html#sklearn.tree.DecisionTreeClassifier)\n",
        " - [RandomForest](http://scikit-learn.org/stable/modules/generated/sklearn.ensemble.RandomForestClassifier.html)"
      ]
    },
    {
      "cell_type": "markdown",
      "source": [
        "Для начала обучим  выберем один гиперпараметр, который будем оптимизировать, — глубина дерева (*max_depth*).\n",
        "\n",
        "Остальные параметры оставляйте в значениях по умолчанию.\n",
        "\n",
        "Для каждого алгоритма подберите оптимальные значения указанных гиперпараметров. Постройте график среднего значения качества по кросс-валидации алгоритма при заданном значении гиперпараметра, на котором также отобразите доверительный интервал.\n",
        "\n",
        "Что вы можете сказать о получившихся графиках? Какой алгоритм справился лучше? Какой быстрее? Почему?"
      ],
      "metadata": {
        "id": "tbD3Q4fpsKn1"
      }
    },
    {
      "cell_type": "markdown",
      "source": [
        "# Насчет доверительного интервала :\n",
        "❔❔❔    Честно, не помню, чтобы в лекциях говорилось что-то про доверительные интервалы.. Из курса мат.статистики мне известно, что это интервал, который содержит внутри себя параметр с какой-либо вероятностью( 0.9 0.95 0.99 ..) Получается тут мне нужно построить интервал для гиперпараметра (глубина дерева, max_depth)? Но ведь мы его подбираем просто перебором, без каких-либо статистических оценок и тут для меня теряется смысл этого доверительного интервала. Ведь ,насколько я понимаю, он должен строиться на основании какой-либо оценки (ОММ/ ОМП/ байес..)\n",
        "Хочется понять что тут от меня хотят)\n"
      ],
      "metadata": {
        "id": "82cL9Xn_wKtj"
      }
    },
    {
      "cell_type": "code",
      "execution_count": 8,
      "metadata": {
        "collapsed": true,
        "id": "8DLchYEQzan-",
        "colab": {
          "base_uri": "https://localhost:8080/",
          "height": 519
        },
        "outputId": "9bc95f5a-2c67-40db-b472-4cafe29dcec4"
      },
      "outputs": [
        {
          "output_type": "stream",
          "name": "stderr",
          "text": [
            "100%|██████████| 20/20 [00:06<00:00,  3.13it/s]\n"
          ]
        },
        {
          "output_type": "stream",
          "name": "stdout",
          "text": [
            "{DecisionTree}: best depth = 6 with best cvs core = 0.8413332224555766\n"
          ]
        },
        {
          "output_type": "stream",
          "name": "stderr",
          "text": [
            "100%|██████████| 20/20 [01:11<00:00,  3.58s/it]\n"
          ]
        },
        {
          "output_type": "stream",
          "name": "stdout",
          "text": [
            "{RandomForest}: best depth = 13 with best cvs core = 0.8494768398187975\n"
          ]
        },
        {
          "output_type": "display_data",
          "data": {
            "text/plain": [
              "<Figure size 640x480 with 1 Axes>"
            ],
            "image/png": "[encoded data removed]"
          },
          "metadata": {}
        }
      ],
      "source": [
        "start = 2\n",
        "n = 22\n",
        "cv_scores=[]\n",
        "best_depth = 1\n",
        "best_cv_score = 0\n",
        "\n",
        "for i in tqdm(range(start, n)):\n",
        "    d3 = DecisionTreeClassifier(max_depth=i, random_state=1)\n",
        "    cv_score = np.mean(cross_val_score(d3, X_train, y_train.ravel()))\n",
        "    cv_scores.append(cv_score)\n",
        "    if cv_score > best_cv_score:\n",
        "        best_cv_score = cv_score\n",
        "        best_depth = i\n",
        "\n",
        "plt.plot(np.linspace(start, n, n-start), cv_scores, label=\"DecisionTree\")\n",
        "plt.xlabel(\"max_depth\")\n",
        "plt.ylabel(\"mean_cv_score\")\n",
        "\n",
        "\n",
        "print(\"{DecisionTree}: best depth =\", best_depth, \"with best cvs core =\", best_cv_score)\n",
        "d3_depth = best_depth\n",
        "\n",
        "start = 2\n",
        "n = 22\n",
        "cv_scores=[]\n",
        "best_depth = 1\n",
        "best_cv_score = 0\n",
        "\n",
        "for i in tqdm(range(start, n)):\n",
        "    rf = RandomForestClassifier(max_depth=i, random_state=1)\n",
        "    cv_score = np.mean(cross_val_score(rf, X_train, y_train.ravel()))\n",
        "    cv_scores.append(cv_score)\n",
        "    if cv_score > best_cv_score:\n",
        "        best_cv_score = cv_score\n",
        "        best_depth = i\n",
        "\n",
        "plt.plot(np.linspace(start, n, n-start), cv_scores, label=\"RandomForest\")\n",
        "plt.legend()\n",
        "plt.grid()\n",
        "\n",
        "\n",
        "print(\"{RandomForest}: best depth =\", best_depth, \"with best cvs core =\", best_cv_score)\n",
        "rf_depth = best_depth"
      ]
    },
    {
      "cell_type": "markdown",
      "metadata": {
        "id": "ri4UoyZBzan8"
      },
      "source": [
        "Далее произведем подбор других гиперпараметров алгоритмов. Начнет со случайного леса. Для начала подберём число деревьев (*n_estimators*) в алгоритме RandomForest. Как известно, в общем случае Random Forest не переобучается с увеличением количества деревьев. Подберите количество деревьев, начиная с которого качество на кросс-валидации стабилизируется. Обратите внимание, что для проведения этого эксперимента не нужно с нуля обучать много случайных лесов с различными количествами деревьев. Обучите один случайный лес с максимальным интересным количеством деревьев, а затем рассмотрите подмножества деревьев разных размеров, состоящих из деревьев построенного леса (поле [*estimators_*](http://scikit-learn.org/stable/modules/generated/sklearn.ensemble.RandomForestClassifier.html)). В дальнейших экспериментах используйте подобранное количество деревьев."
      ]
    },
    {
      "cell_type": "markdown",
      "source": [
        "❔❓❔  \"Подберите количество деревьев, начиная с которого ***качество на кросс-валидации стабилизируется***.  ... стоящих из деревьев построенного леса\"\n",
        "\n",
        "•\tНе понимаю, как иначе я могу сразу выбрать “ лес с ***максимальным интересным количеством*** ”, если не перебором, ведь “интересность” оценивается стабилизацией кросс-валидации (вдруг я возьму значение на котором cv_score всё ещё не стабилизировался). А для того чтобы понять это, я должен последовательно на графике наблюдать эту стабилизацию (в моём понимании), т.е. мне так или иначе надо посмотреть все деревья до этого максимально интересного числа..\n",
        "\n",
        "•\tcv_score ведь каждый раз заново обучает модели на k-1 фолдах (если это не так, то я дико извиняюсь и дальше читать мой вопрос наверное нет смысла).\n",
        "*sklearn.model_selection.cross_val_score(model,X,y,..)*\n",
        "\n",
        "А если это так, то мы в любом случае обучим каждое подмножество леса..\n",
        "В общем я опять не понимаю, что тут имеют в виду, если мы оцениваем качество по cv_score, который и так каждый раз обучает модель..\n"
      ],
      "metadata": {
        "id": "XiS7GrdDw0lY"
      }
    },
    {
      "cell_type": "code",
      "source": [
        "# найти случайный лес с максимальным интересным количеством деревьев не легче вроде.."
      ],
      "metadata": {
        "id": "M6E0h_rrI9Us"
      },
      "execution_count": null,
      "outputs": []
    },
    {
      "cell_type": "code",
      "source": [
        "%%time\n",
        "start = 10\n",
        "n = 90\n",
        "cv_scores=[]\n",
        "best_n_est = 1\n",
        "best_cv_score = 0\n",
        "\n",
        "for i in tqdm(range(start, n)):\n",
        "    rf = RandomForestClassifier(max_depth=rf_depth, n_estimators=i, random_state=1)\n",
        "    cv_score = np.mean(cross_val_score(rf, X_train, y_train.ravel()))\n",
        "    cv_scores.append(cv_score)\n",
        "    if cv_score > best_cv_score:\n",
        "        best_cv_score = cv_score\n",
        "        best_n_est = i\n",
        "\n",
        "plt.plot(np.linspace(start, n, n-start), cv_scores, label=\"RandomForest\")\n",
        "plt.legend()\n",
        "plt.grid()\n",
        "\n",
        "print(\"{RandomForest}: best n_estimators =\", best_n_est, \"with best cvs core =\", best_cv_score)\n",
        "print(\"берем n_estimators=85\")\n",
        "rf_n_est=60"
      ],
      "metadata": {
        "id": "jF8BDQtiHxi_",
        "colab": {
          "base_uri": "https://localhost:8080/",
          "height": 517
        },
        "outputId": "a4ae906a-30d6-406a-bea0-bcb521686279"
      },
      "execution_count": 10,
      "outputs": [
        {
          "output_type": "stream",
          "name": "stderr",
          "text": [
            "100%|██████████| 80/80 [02:44<00:00,  2.05s/it]\n"
          ]
        },
        {
          "output_type": "stream",
          "name": "stdout",
          "text": [
            "{RandomForest}: best n_estimators = 65 with best cvs core = 0.8482822499455931\n",
            "берем n_estimators=85\n",
            "CPU times: user 2min 42s, sys: 482 ms, total: 2min 43s\n",
            "Wall time: 2min 44s\n"
          ]
        },
        {
          "output_type": "display_data",
          "data": {
            "text/plain": [
              "<Figure size 640x480 with 1 Axes>"
            ],
            "image/png": "[encoded data removed]"
          },
          "metadata": {}
        }
      ]
    },
    {
      "cell_type": "markdown",
      "source": [
        "Теперь подберите следующие оптимальные параметры:\n",
        "- максимальная глубина решающего дерева (*max_depth*)\n",
        "- функция оценки качества разбиения (*criterion*)\n",
        "- максимальное количесво учитываемых признаков при разбиении (*max_features*)\n",
        "\n",
        "Остальные параметры оставляйте по умолчанию, за исключением парамтра `n_estimators` для случайного леса, выбранного на предыдущем шаге.\n",
        "\n",
        "Оцените скорость обучения каждого из алгоритмов. Для этого воспользуйтесь графиком вида \"ящик с усами\", который отражает среднее время обучения алгоритма при фиксированном значении гиперпараметров. Что вы можете сказать о скорости работы алгоритмов? Почему наблюдаются такие результаты? Можно ли ускорить? Если да, то каким образом?"
      ],
      "metadata": {
        "id": "oRzLNbl1vnIF"
      }
    },
    {
      "cell_type": "code",
      "source": [
        "#finding criterion\n",
        "print(d3_depth)\n",
        "d3 = DecisionTreeClassifier(max_depth=d3_depth, criterion='gini', random_state=1)\n",
        "cv_score = np.mean(cross_val_score(d3, X_train, y_train.ravel()))\n",
        "print(\"{d3 gini}\", cv_score)\n",
        "d3 = DecisionTreeClassifier(max_depth=d3_depth, criterion='entropy', random_state=1)\n",
        "cv_score = np.mean(cross_val_score(d3, X_train, y_train.ravel()))\n",
        "print(\"{d3 entropy}\", cv_score)\n",
        "d3 = DecisionTreeClassifier(max_depth=d3_depth, criterion='log_loss', random_state=1)\n",
        "cv_score = np.mean(cross_val_score(d3, X_train, y_train.ravel()))\n",
        "print(\"{d3 log_loss}\", cv_score)\n",
        "\n",
        "print(rf_depth)\n",
        "rf = RandomForestClassifier(max_depth=rf_depth, n_estimators=rf_n_est, criterion='gini', random_state=1)\n",
        "cv_score = np.mean(cross_val_score(rf, X_train, y_train.ravel()))\n",
        "print(\"{rf gini}\", cv_score)\n",
        "rf = RandomForestClassifier(max_depth=rf_depth, n_estimators=rf_n_est, criterion='entropy', random_state=1)\n",
        "cv_score = np.mean(cross_val_score(rf, X_train, y_train.ravel()))\n",
        "print(\"{rf entropy}\", cv_score)\n",
        "frd3 = RandomForestClassifier(max_depth=rf_depth, n_estimators=rf_n_est, criterion='log_loss', random_state=1)\n",
        "cv_score = np.mean(cross_val_score(rf, X_train, y_train.ravel()))\n",
        "print(\"{rf log_loss}\", cv_score)"
      ],
      "metadata": {
        "colab": {
          "base_uri": "https://localhost:8080/"
        },
        "id": "L4dGwO0rJtqi",
        "outputId": "0e526a36-5055-4bd2-b5ae-7396f0025171"
      },
      "execution_count": 11,
      "outputs": [
        {
          "output_type": "stream",
          "name": "stdout",
          "text": [
            "6\n",
            "{d3 gini} 0.8413332224555766\n",
            "{d3 entropy} 0.8399215952714176\n",
            "{d3 log_loss} 0.8399215952714176\n",
            "13\n",
            "{rf gini} 0.8473049922709948\n",
            "{rf entropy} 0.8483910634887215\n",
            "{rf log_loss} 0.8483910634887215\n"
          ]
        }
      ]
    },
    {
      "cell_type": "markdown",
      "source": [
        ">нет особого смысла брать что-то отличное от gini"
      ],
      "metadata": {
        "id": "YM-VRUAWyUYl"
      }
    },
    {
      "cell_type": "code",
      "source": [
        "%%time\n",
        "start = 2\n",
        "n = X_train.shape[1]\n",
        "cv_scores=[]\n",
        "best_n_fea = 1\n",
        "best_cv_score = 0\n",
        "\n",
        "for i in tqdm(range(start, n)):\n",
        "    d3 = DecisionTreeClassifier(max_features=i, max_depth=d3_depth, random_state=1)\n",
        "    cv_score = np.mean(cross_val_score(d3, X_train, y_train.ravel()))\n",
        "    cv_scores.append(cv_score)\n",
        "    if cv_score > best_cv_score:\n",
        "        best_cv_score = cv_score\n",
        "        best_n_fea = i\n",
        "\n",
        "plt.plot(np.linspace(start, n, n-start), cv_scores, label=\"DecisionTree\")\n",
        "plt.xlabel(\"max_features\")\n",
        "plt.ylabel(\"mean_cv_score\")\n",
        "\n",
        "\n",
        "print(\"{DecisionTree}: best n =\", best_n_fea, \"with best cvs core =\", best_cv_score)\n",
        "d3_n_fea = best_n_fea\n",
        "print(\"для дерева, вероятно, достаточно будет и 40 фичей, т.к. там cv_score уже начинает стабилизироваться\")\n",
        "\n",
        "start = 2\n",
        "n = 33\n",
        "cv_scores=[]\n",
        "best_n_fea = 1\n",
        "best_cv_score = 0\n",
        "\n",
        "for i in tqdm(range(start, n)):\n",
        "    rf = RandomForestClassifier(max_features=i, max_depth=rf_depth, n_estimators = rf_n_est, random_state=1)\n",
        "    cv_score = np.mean(cross_val_score(rf, X_train, y_train.ravel()))\n",
        "    cv_scores.append(cv_score)\n",
        "    if cv_score > best_cv_score:\n",
        "        best_cv_score = cv_score\n",
        "        best_n_fea = i\n",
        "\n",
        "plt.plot(np.linspace(start, n, n-start), cv_scores, label=\"RandomForest\")\n",
        "plt.legend()\n",
        "plt.grid()\n",
        "\n",
        "\n",
        "print(\"{RandomForest}: best n =\", best_n_fea, \"with best cvs core =\", best_cv_score)\n",
        "rf_n_fea = best_n_fea\n",
        "print(\"для леса, вероятно, достаточно будет и 7-8 фичей, т.к. там cv_score уже начинает стабилизироваться\")"
      ],
      "metadata": {
        "id": "QZH-77A-NJ6X",
        "colab": {
          "base_uri": "https://localhost:8080/",
          "height": 589
        },
        "outputId": "4999c5ba-d365-4f70-a76f-99d06778fecd"
      },
      "execution_count": 15,
      "outputs": [
        {
          "output_type": "stream",
          "name": "stderr",
          "text": [
            "100%|██████████| 61/61 [00:08<00:00,  6.79it/s]\n"
          ]
        },
        {
          "output_type": "stream",
          "name": "stdout",
          "text": [
            "{DecisionTree}: best n = 55 with best cvs core = 0.8427450265723262\n",
            "для дерева, вероятно, достаточно будет и 40 фичей, т.к. там cv_score уже начинает стабилизироваться\n"
          ]
        },
        {
          "output_type": "stream",
          "name": "stderr",
          "text": [
            "100%|██████████| 31/31 [02:51<00:00,  5.52s/it]\n"
          ]
        },
        {
          "output_type": "stream",
          "name": "stdout",
          "text": [
            "{RandomForest}: best n = 14 with best cvs core = 0.8492602743280837\n",
            "для леса, вероятно, достаточно будет и 7-8 фичей, т.к. там cv_score уже начинает стабилизироваться\n",
            "CPU times: user 2min 58s, sys: 430 ms, total: 2min 59s\n",
            "Wall time: 3min\n"
          ]
        },
        {
          "output_type": "display_data",
          "data": {
            "text/plain": [
              "<Figure size 640x480 with 1 Axes>"
            ],
            "image/png": "[encoded data removed]"
          },
          "metadata": {}
        }
      ]
    },
    {
      "cell_type": "markdown",
      "source": [
        "По итогу берем:\n",
        ">для дерева (max_features=40, max_depth=6, criterion='gini')\n",
        "\n",
        ">для случайного леса (max_features=8,  max_depth=13, criterion='gini', n_estimators = 60)"
      ],
      "metadata": {
        "id": "H1GlE7hkPnum"
      }
    },
    {
      "cell_type": "markdown",
      "source": [
        "## Сравнение результатов\n",
        "\n",
        "Сравните результаты алгоритмво. Для этого воспользуйтесь \"ящиком с усами\" (boxplot).\n",
        "\n",
        "Сделайте общие итоговые выводы о классификаторах с точки зрения их работы с признаками и сложности самой модели (какие гиперпараметры есть у модели, сильно ли изменение значения гиперпараметра влияет на качество модели)."
      ],
      "metadata": {
        "id": "V6SPsE847Ejl"
      }
    },
    {
      "cell_type": "code",
      "source": [],
      "metadata": {
        "id": "_LZUUCg-PaZU"
      },
      "execution_count": null,
      "outputs": []
    },
    {
      "cell_type": "markdown",
      "source": [
        "❔❓❔    Не помню в лекциях упоминания графика вида \"ящик с усами\" в разрезе понятия скорости обучения в зависимости от гиперпараметров(не укладывается в голове как он тут поможет, обычно мы строили его по выборке, выискивая выбросы и т.д…).\n",
        " Да и так понятно ведь, что чем больше гиперпарметры( глубина, количество деревьев, фичей), тем дольше будет обучаться модель, разве это не так (по крайней мере подбирая эти параметра последовательным перебором, я заметил данную закономерность)?"
      ],
      "metadata": {
        "id": "QSNnQ75-yvdt"
      }
    },
    {
      "cell_type": "code",
      "source": [
        "# your code here"
      ],
      "metadata": {
        "id": "0lxeK9x4qzbp"
      },
      "execution_count": null,
      "outputs": []
    },
    {
      "cell_type": "markdown",
      "source": [
        "## Тестирование всех модели\n",
        "\n",
        "Протестируйте последние построенные модели (наилучшее решающее дерево и наилучший случайный лес) на данных, которые были отложены для теста (их должно было остаться 40%). Не забудьте про все необходимые преобразования."
      ],
      "metadata": {
        "id": "zUwFUddE9hGS"
      }
    },
    {
      "cell_type": "code",
      "source": [
        "# your code here"
      ],
      "metadata": {
        "id": "aClWETCs9wgS"
      },
      "execution_count": null,
      "outputs": []
    },
    {
      "cell_type": "code",
      "source": [
        "d3 = DecisionTreeClassifier(max_features=40, max_depth=6, criterion='gini').fit(X_test, y_test.ravel())\n",
        "y_pred = d3.predict(X_test)\n",
        "print(f\"[d3] accuracy: {accuracy_score(y_pred, y_test)}, f1: {f1_score(y_pred, y_test)}, cv score: {np.mean(cross_val_score(d3, X_test, y_test.ravel()))}\")\n",
        "\n",
        "\n",
        "rf = RandomForestClassifier(max_features=8, max_depth=13, criterion='gini', n_estimators = 60).fit(X_test, y_test.ravel())\n",
        "y_pred = rf.predict(X_test)\n",
        "print(f\"[rf] accuracy: {accuracy_score(y_pred, y_test)}, f1: {f1_score(y_pred, y_test)}, cv score: {np.mean(cross_val_score(rf, X_test, y_test.ravel()))}\")"
      ],
      "metadata": {
        "id": "iNYBxYIo_NqR",
        "colab": {
          "base_uri": "https://localhost:8080/"
        },
        "outputId": "2a3920dd-4fe3-4fe3-97d2-e4cb9b15d95f"
      },
      "execution_count": 23,
      "outputs": [
        {
          "output_type": "stream",
          "name": "stdout",
          "text": [
            "[d3] accuracy: 0.8561654992669816, f1: 0.6615561517822921, cv score: 0.8416697859507446\n",
            "[rf] accuracy: 0.9097572894608242, f1: 0.8027065527065527, cv score: 0.8550264276365915\n"
          ]
        }
      ]
    },
    {
      "cell_type": "markdown",
      "source": [
        "##👑RandomForest👑 is a CHAMPION🏆🏆🏆🥇"
      ],
      "metadata": {
        "id": "TwGS-FIz1zr-"
      }
    },
    {
      "cell_type": "code",
      "source": [],
      "metadata": {
        "id": "NSBnzzS21aES"
      },
      "execution_count": null,
      "outputs": []
    }
  ],
  "metadata": {
    "anaconda-cloud": {},
    "kernelspec": {
      "display_name": "Python [conda env:py27]",
      "language": "python",
      "name": "conda-env-py27-py"
    },
    "language_info": {
      "codemirror_mode": {
        "name": "ipython",
        "version": 2
      },
      "file_extension": ".py",
      "mimetype": "text/x-python",
      "name": "python",
      "nbconvert_exporter": "python",
      "pygments_lexer": "ipython2",
      "version": "2.7.12"
    },
    "colab": {
      "provenance": [],
      "collapsed_sections": [
        "-rX8cvHCzany"
      ]
    }
  },
  "nbformat": 4,
  "nbformat_minor": 0
}