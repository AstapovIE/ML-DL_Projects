{
  "cells": [
    {
      "cell_type": "markdown",
      "metadata": {
        "id": "1s2GHGJ1K1uh"
      },
      "source": [
        "## Лабораторная работа \"Линейные модели\""
      ]
    },
    {
      "cell_type": "markdown",
      "metadata": {
        "id": "Wy-GsKMLK1uk"
      },
      "source": [
        "Некоторые задачи в этом ноутбуке надо будет сдавать в [контест](https://new.contest.yandex.ru/60377/start). Когда сдаете туда код, не забудьте сверху прописать все нужные импорты."
      ]
    },
    {
      "cell_type": "markdown",
      "metadata": {
        "id": "Tjm0ejHfK1ul"
      },
      "source": [
        "Мы рассчитываем, что перед тем, как садиться за этот ноутбук, вы прочитали часть про регрессию главы \"Линейные модели\" хендбука по ML."
      ]
    },
    {
      "cell_type": "markdown",
      "metadata": {
        "id": "XeK9RFdNK1ul"
      },
      "source": [
        "Начнём с загрузки необходимых библиотек и функций.\n",
        "\n",
        "Параметр `seed` будет использоваться далее для инициализации генератора случайных чисел из библиотеки `numpy`."
      ]
    },
    {
      "cell_type": "code",
      "execution_count": 118,
      "metadata": {
        "pycharm": {
          "name": "#%%\n"
        },
        "id": "ckp6TITPK1ul"
      },
      "outputs": [],
      "source": [
        "import numpy as np\n",
        "import pandas as pd\n",
        "from typing import Optional, List\n",
        "\n",
        "import sklearn.base\n",
        "\n",
        "seed = 24"
      ]
    },
    {
      "cell_type": "markdown",
      "metadata": {
        "id": "gUoWdYEMK1um"
      },
      "source": [
        "В этом ноутбуке мы будем практиковаться на датасете [\"The Ames Iowa Housing Data\"](https://www.openml.org/d/41211). Здесь собраны описания и цены жилья в городе Эймс, штат Айова. Мы будем решать задачу предсказания цены (`Sale_Price`) по всем остальным признакам.\n",
        "\n",
        "И начнём мы, конечно, с того, что внимательно посмотрим на датасет: какие там есть объекты и какие признаки."
      ]
    },
    {
      "cell_type": "code",
      "execution_count": 119,
      "metadata": {
        "pycharm": {
          "name": "#%%\n"
        },
        "id": "wB9CDwb6K1un",
        "colab": {
          "base_uri": "https://localhost:8080/"
        },
        "outputId": "10c612b9-c647-4926-e044-b347d75e5aaa"
      },
      "outputs": [
        {
          "output_type": "stream",
          "name": "stdout",
          "text": [
            "  % Total    % Received % Xferd  Average Speed   Time    Time     Time  Current\n",
            "                                 Dload  Upload   Total   Spent    Left  Speed\n",
            "100 1646k    0 1646k    0     0   609k      0 --:--:--  0:00:02 --:--:--  609k\n"
          ]
        }
      ],
      "source": [
        "## Uncomment the line below to download data and install necessary packages\n",
        "## Maybe won't work on Windows :(\n",
        "\n",
        "# !pip install numpy pandas sklearn matplotlib\n",
        "!curl https://api.openml.org/data/get_csv/20649135/file2ed11cebe25.arff > data.csv"
      ]
    },
    {
      "cell_type": "code",
      "execution_count": 120,
      "metadata": {
        "pycharm": {
          "name": "#%%\n"
        },
        "id": "-hZmDQonK1un",
        "colab": {
          "base_uri": "https://localhost:8080/",
          "height": 412
        },
        "outputId": "56257ec2-b013-4585-c924-428b909d1469"
      },
      "outputs": [
        {
          "output_type": "execute_result",
          "data": {
            "text/plain": [
              "                               MS_SubClass                     MS_Zoning  \\\n",
              "1135   One_Story_1946_and_Newer_All_Styles       Residential_Low_Density   \n",
              "936                    Split_or_Multilevel       Residential_Low_Density   \n",
              "1353  One_and_Half_Story_Finished_All_Ages       Residential_Low_Density   \n",
              "2787   One_Story_1946_and_Newer_All_Styles       Residential_Low_Density   \n",
              "2509          Two_Story_PUD_1946_and_Newer  Floating_Village_Residential   \n",
              "691   One_and_Half_Story_Finished_All_Ages    Residential_Medium_Density   \n",
              "2092              Two_Story_1946_and_Newer       Residential_Low_Density   \n",
              "2187              One_Story_1945_and_Older      Residential_High_Density   \n",
              "2541   One_Story_1946_and_Newer_All_Styles       Residential_Low_Density   \n",
              "1277            Duplex_All_Styles_and_Ages       Residential_Low_Density   \n",
              "\n",
              "      Lot_Frontage  Lot_Area Street            Alley           Lot_Shape  \\\n",
              "1135            66     13695   Pave  No_Alley_Access             Regular   \n",
              "936              0     13607   Pave  No_Alley_Access  Slightly_Irregular   \n",
              "1353            60      9144   Pave            Paved             Regular   \n",
              "2787            60      7200   Pave  No_Alley_Access             Regular   \n",
              "2509            30      3180   Pave            Paved             Regular   \n",
              "691              0      3950   Pave           Gravel             Regular   \n",
              "2092            86     10380   Pave  No_Alley_Access  Slightly_Irregular   \n",
              "2187            70      4270   Pave  No_Alley_Access             Regular   \n",
              "2541             0     10659   Pave  No_Alley_Access  Slightly_Irregular   \n",
              "1277           113      8513   Pave  No_Alley_Access             Regular   \n",
              "\n",
              "     Land_Contour Utilities Lot_Config  ...            Fence Misc_Feature  \\\n",
              "1135          Lvl    AllPub     Inside  ...         No_Fence          NaN   \n",
              "936           Lvl    AllPub     Inside  ...         No_Fence         Shed   \n",
              "1353          Lvl    AllPub     Inside  ...         No_Fence          NaN   \n",
              "2787          Low    AllPub     Inside  ...  Minimum_Privacy          NaN   \n",
              "2509          Lvl    AllPub     Inside  ...         No_Fence          NaN   \n",
              "691           Bnk    AllPub     Inside  ...         No_Fence          NaN   \n",
              "2092          Lvl    AllPub     Inside  ...  Minimum_Privacy          NaN   \n",
              "2187          Bnk    AllPub     Inside  ...         No_Fence          NaN   \n",
              "2541          Lvl    AllPub     Inside  ...         No_Fence          NaN   \n",
              "1277          Lvl    AllPub     Corner  ...         No_Fence          NaN   \n",
              "\n",
              "     Misc_Val Mo_Sold Year_Sold Sale_Type Sale_Condition Sale_Price  \\\n",
              "1135        0       6      2008       WD          Normal     159000   \n",
              "936      1500       4      2009       WD          Normal     208000   \n",
              "1353        0       3      2008       WD          Normal     162500   \n",
              "2787        0       3      2006       WD          Normal     119900   \n",
              "2509        0       4      2006       WD         Abnorml     144152   \n",
              "691         0      12      2009       WD          Normal     115000   \n",
              "2092        0       8      2007       WD          Normal     301000   \n",
              "2187        0       5      2007       WD          Normal      79000   \n",
              "2541        0       1      2006       COD         Normal     136500   \n",
              "1277        0      11      2008       WD         Abnorml     130000   \n",
              "\n",
              "      Longitude   Latitude  \n",
              "1135 -93.690761  42.037806  \n",
              "936  -93.644864  42.010636  \n",
              "1353 -93.625539  42.028274  \n",
              "2787 -93.682979  42.020998  \n",
              "2509 -93.644891  42.047595  \n",
              "691  -93.617974  42.034222  \n",
              "2092 -93.683470  42.031546  \n",
              "2187 -93.661542  42.022655  \n",
              "2541 -93.623414  42.043214  \n",
              "1277 -93.607107  42.034730  \n",
              "\n",
              "[10 rows x 81 columns]"
            ],
            "text/html": [
              "\n",
              "  <div id=\"df-e43882bf-5322-406f-bfe2-93f9139dcaa1\" class=\"colab-df-container\">\n",
              "    <div>\n",
              "<style scoped>\n",
              "    .dataframe tbody tr th:only-of-type {\n",
              "        vertical-align: middle;\n",
              "    }\n",
              "\n",
              "    .dataframe tbody tr th {\n",
              "        vertical-align: top;\n",
              "    }\n",
              "\n",
              "    .dataframe thead th {\n",
              "        text-align: right;\n",
              "    }\n",
              "</style>\n",
              "<table border=\"1\" class=\"dataframe\">\n",
              "  <thead>\n",
              "    <tr style=\"text-align: right;\">\n",
              "      <th></th>\n",
              "      <th>MS_SubClass</th>\n",
              "      <th>MS_Zoning</th>\n",
              "      <th>Lot_Frontage</th>\n",
              "      <th>Lot_Area</th>\n",
              "      <th>Street</th>\n",
              "      <th>Alley</th>\n",
              "      <th>Lot_Shape</th>\n",
              "      <th>Land_Contour</th>\n",
              "      <th>Utilities</th>\n",
              "      <th>Lot_Config</th>\n",
              "      <th>...</th>\n",
              "      <th>Fence</th>\n",
              "      <th>Misc_Feature</th>\n",
              "      <th>Misc_Val</th>\n",
              "      <th>Mo_Sold</th>\n",
              "      <th>Year_Sold</th>\n",
              "      <th>Sale_Type</th>\n",
              "      <th>Sale_Condition</th>\n",
              "      <th>Sale_Price</th>\n",
              "      <th>Longitude</th>\n",
              "      <th>Latitude</th>\n",
              "    </tr>\n",
              "  </thead>\n",
              "  <tbody>\n",
              "    <tr>\n",
              "      <th>1135</th>\n",
              "      <td>One_Story_1946_and_Newer_All_Styles</td>\n",
              "      <td>Residential_Low_Density</td>\n",
              "      <td>66</td>\n",
              "      <td>13695</td>\n",
              "      <td>Pave</td>\n",
              "      <td>No_Alley_Access</td>\n",
              "      <td>Regular</td>\n",
              "      <td>Lvl</td>\n",
              "      <td>AllPub</td>\n",
              "      <td>Inside</td>\n",
              "      <td>...</td>\n",
              "      <td>No_Fence</td>\n",
              "      <td>NaN</td>\n",
              "      <td>0</td>\n",
              "      <td>6</td>\n",
              "      <td>2008</td>\n",
              "      <td>WD</td>\n",
              "      <td>Normal</td>\n",
              "      <td>159000</td>\n",
              "      <td>-93.690761</td>\n",
              "      <td>42.037806</td>\n",
              "    </tr>\n",
              "    <tr>\n",
              "      <th>936</th>\n",
              "      <td>Split_or_Multilevel</td>\n",
              "      <td>Residential_Low_Density</td>\n",
              "      <td>0</td>\n",
              "      <td>13607</td>\n",
              "      <td>Pave</td>\n",
              "      <td>No_Alley_Access</td>\n",
              "      <td>Slightly_Irregular</td>\n",
              "      <td>Lvl</td>\n",
              "      <td>AllPub</td>\n",
              "      <td>Inside</td>\n",
              "      <td>...</td>\n",
              "      <td>No_Fence</td>\n",
              "      <td>Shed</td>\n",
              "      <td>1500</td>\n",
              "      <td>4</td>\n",
              "      <td>2009</td>\n",
              "      <td>WD</td>\n",
              "      <td>Normal</td>\n",
              "      <td>208000</td>\n",
              "      <td>-93.644864</td>\n",
              "      <td>42.010636</td>\n",
              "    </tr>\n",
              "    <tr>\n",
              "      <th>1353</th>\n",
              "      <td>One_and_Half_Story_Finished_All_Ages</td>\n",
              "      <td>Residential_Low_Density</td>\n",
              "      <td>60</td>\n",
              "      <td>9144</td>\n",
              "      <td>Pave</td>\n",
              "      <td>Paved</td>\n",
              "      <td>Regular</td>\n",
              "      <td>Lvl</td>\n",
              "      <td>AllPub</td>\n",
              "      <td>Inside</td>\n",
              "      <td>...</td>\n",
              "      <td>No_Fence</td>\n",
              "      <td>NaN</td>\n",
              "      <td>0</td>\n",
              "      <td>3</td>\n",
              "      <td>2008</td>\n",
              "      <td>WD</td>\n",
              "      <td>Normal</td>\n",
              "      <td>162500</td>\n",
              "      <td>-93.625539</td>\n",
              "      <td>42.028274</td>\n",
              "    </tr>\n",
              "    <tr>\n",
              "      <th>2787</th>\n",
              "      <td>One_Story_1946_and_Newer_All_Styles</td>\n",
              "      <td>Residential_Low_Density</td>\n",
              "      <td>60</td>\n",
              "      <td>7200</td>\n",
              "      <td>Pave</td>\n",
              "      <td>No_Alley_Access</td>\n",
              "      <td>Regular</td>\n",
              "      <td>Low</td>\n",
              "      <td>AllPub</td>\n",
              "      <td>Inside</td>\n",
              "      <td>...</td>\n",
              "      <td>Minimum_Privacy</td>\n",
              "      <td>NaN</td>\n",
              "      <td>0</td>\n",
              "      <td>3</td>\n",
              "      <td>2006</td>\n",
              "      <td>WD</td>\n",
              "      <td>Normal</td>\n",
              "      <td>119900</td>\n",
              "      <td>-93.682979</td>\n",
              "      <td>42.020998</td>\n",
              "    </tr>\n",
              "    <tr>\n",
              "      <th>2509</th>\n",
              "      <td>Two_Story_PUD_1946_and_Newer</td>\n",
              "      <td>Floating_Village_Residential</td>\n",
              "      <td>30</td>\n",
              "      <td>3180</td>\n",
              "      <td>Pave</td>\n",
              "      <td>Paved</td>\n",
              "      <td>Regular</td>\n",
              "      <td>Lvl</td>\n",
              "      <td>AllPub</td>\n",
              "      <td>Inside</td>\n",
              "      <td>...</td>\n",
              "      <td>No_Fence</td>\n",
              "      <td>NaN</td>\n",
              "      <td>0</td>\n",
              "      <td>4</td>\n",
              "      <td>2006</td>\n",
              "      <td>WD</td>\n",
              "      <td>Abnorml</td>\n",
              "      <td>144152</td>\n",
              "      <td>-93.644891</td>\n",
              "      <td>42.047595</td>\n",
              "    </tr>\n",
              "    <tr>\n",
              "      <th>691</th>\n",
              "      <td>One_and_Half_Story_Finished_All_Ages</td>\n",
              "      <td>Residential_Medium_Density</td>\n",
              "      <td>0</td>\n",
              "      <td>3950</td>\n",
              "      <td>Pave</td>\n",
              "      <td>Gravel</td>\n",
              "      <td>Regular</td>\n",
              "      <td>Bnk</td>\n",
              "      <td>AllPub</td>\n",
              "      <td>Inside</td>\n",
              "      <td>...</td>\n",
              "      <td>No_Fence</td>\n",
              "      <td>NaN</td>\n",
              "      <td>0</td>\n",
              "      <td>12</td>\n",
              "      <td>2009</td>\n",
              "      <td>WD</td>\n",
              "      <td>Normal</td>\n",
              "      <td>115000</td>\n",
              "      <td>-93.617974</td>\n",
              "      <td>42.034222</td>\n",
              "    </tr>\n",
              "    <tr>\n",
              "      <th>2092</th>\n",
              "      <td>Two_Story_1946_and_Newer</td>\n",
              "      <td>Residential_Low_Density</td>\n",
              "      <td>86</td>\n",
              "      <td>10380</td>\n",
              "      <td>Pave</td>\n",
              "      <td>No_Alley_Access</td>\n",
              "      <td>Slightly_Irregular</td>\n",
              "      <td>Lvl</td>\n",
              "      <td>AllPub</td>\n",
              "      <td>Inside</td>\n",
              "      <td>...</td>\n",
              "      <td>Minimum_Privacy</td>\n",
              "      <td>NaN</td>\n",
              "      <td>0</td>\n",
              "      <td>8</td>\n",
              "      <td>2007</td>\n",
              "      <td>WD</td>\n",
              "      <td>Normal</td>\n",
              "      <td>301000</td>\n",
              "      <td>-93.683470</td>\n",
              "      <td>42.031546</td>\n",
              "    </tr>\n",
              "    <tr>\n",
              "      <th>2187</th>\n",
              "      <td>One_Story_1945_and_Older</td>\n",
              "      <td>Residential_High_Density</td>\n",
              "      <td>70</td>\n",
              "      <td>4270</td>\n",
              "      <td>Pave</td>\n",
              "      <td>No_Alley_Access</td>\n",
              "      <td>Regular</td>\n",
              "      <td>Bnk</td>\n",
              "      <td>AllPub</td>\n",
              "      <td>Inside</td>\n",
              "      <td>...</td>\n",
              "      <td>No_Fence</td>\n",
              "      <td>NaN</td>\n",
              "      <td>0</td>\n",
              "      <td>5</td>\n",
              "      <td>2007</td>\n",
              "      <td>WD</td>\n",
              "      <td>Normal</td>\n",
              "      <td>79000</td>\n",
              "      <td>-93.661542</td>\n",
              "      <td>42.022655</td>\n",
              "    </tr>\n",
              "    <tr>\n",
              "      <th>2541</th>\n",
              "      <td>One_Story_1946_and_Newer_All_Styles</td>\n",
              "      <td>Residential_Low_Density</td>\n",
              "      <td>0</td>\n",
              "      <td>10659</td>\n",
              "      <td>Pave</td>\n",
              "      <td>No_Alley_Access</td>\n",
              "      <td>Slightly_Irregular</td>\n",
              "      <td>Lvl</td>\n",
              "      <td>AllPub</td>\n",
              "      <td>Inside</td>\n",
              "      <td>...</td>\n",
              "      <td>No_Fence</td>\n",
              "      <td>NaN</td>\n",
              "      <td>0</td>\n",
              "      <td>1</td>\n",
              "      <td>2006</td>\n",
              "      <td>COD</td>\n",
              "      <td>Normal</td>\n",
              "      <td>136500</td>\n",
              "      <td>-93.623414</td>\n",
              "      <td>42.043214</td>\n",
              "    </tr>\n",
              "    <tr>\n",
              "      <th>1277</th>\n",
              "      <td>Duplex_All_Styles_and_Ages</td>\n",
              "      <td>Residential_Low_Density</td>\n",
              "      <td>113</td>\n",
              "      <td>8513</td>\n",
              "      <td>Pave</td>\n",
              "      <td>No_Alley_Access</td>\n",
              "      <td>Regular</td>\n",
              "      <td>Lvl</td>\n",
              "      <td>AllPub</td>\n",
              "      <td>Corner</td>\n",
              "      <td>...</td>\n",
              "      <td>No_Fence</td>\n",
              "      <td>NaN</td>\n",
              "      <td>0</td>\n",
              "      <td>11</td>\n",
              "      <td>2008</td>\n",
              "      <td>WD</td>\n",
              "      <td>Abnorml</td>\n",
              "      <td>130000</td>\n",
              "      <td>-93.607107</td>\n",
              "      <td>42.034730</td>\n",
              "    </tr>\n",
              "  </tbody>\n",
              "</table>\n",
              "<p>10 rows × 81 columns</p>\n",
              "</div>\n",
              "    <div class=\"colab-df-buttons\">\n",
              "\n",
              "  <div class=\"colab-df-container\">\n",
              "    <button class=\"colab-df-convert\" onclick=\"convertToInteractive('df-e43882bf-5322-406f-bfe2-93f9139dcaa1')\"\n",
              "            title=\"Convert this dataframe to an interactive table.\"\n",
              "            style=\"display:none;\">\n",
              "\n",
              "  <svg xmlns=\"http://www.w3.org/2000/svg\" height=\"24px\" viewBox=\"0 -960 960 960\">\n",
              "    <path d=\"M120-120v-720h720v720H120Zm60-500h600v-160H180v160Zm220 220h160v-160H400v160Zm0 220h160v-160H400v160ZM180-400h160v-160H180v160Zm440 0h160v-160H620v160ZM180-180h160v-160H180v160Zm440 0h160v-160H620v160Z\"/>\n",
              "  </svg>\n",
              "    </button>\n",
              "\n",
              "  <style>\n",
              "    .colab-df-container {\n",
              "      display:flex;\n",
              "      gap: 12px;\n",
              "    }\n",
              "\n",
              "    .colab-df-convert {\n",
              "      background-color: #E8F0FE;\n",
              "      border: none;\n",
              "      border-radius: 50%;\n",
              "      cursor: pointer;\n",
              "      display: none;\n",
              "      fill: #1967D2;\n",
              "      height: 32px;\n",
              "      padding: 0 0 0 0;\n",
              "      width: 32px;\n",
              "    }\n",
              "\n",
              "    .colab-df-convert:hover {\n",
              "      background-color: #E2EBFA;\n",
              "      box-shadow: 0px 1px 2px rgba(60, 64, 67, 0.3), 0px 1px 3px 1px rgba(60, 64, 67, 0.15);\n",
              "      fill: #174EA6;\n",
              "    }\n",
              "\n",
              "    .colab-df-buttons div {\n",
              "      margin-bottom: 4px;\n",
              "    }\n",
              "\n",
              "    [theme=dark] .colab-df-convert {\n",
              "      background-color: #3B4455;\n",
              "      fill: #D2E3FC;\n",
              "    }\n",
              "\n",
              "    [theme=dark] .colab-df-convert:hover {\n",
              "      background-color: #434B5C;\n",
              "      box-shadow: 0px 1px 3px 1px rgba(0, 0, 0, 0.15);\n",
              "      filter: drop-shadow(0px 1px 2px rgba(0, 0, 0, 0.3));\n",
              "      fill: #FFFFFF;\n",
              "    }\n",
              "  </style>\n",
              "\n",
              "    <script>\n",
              "      const buttonEl =\n",
              "        document.querySelector('#df-e43882bf-5322-406f-bfe2-93f9139dcaa1 button.colab-df-convert');\n",
              "      buttonEl.style.display =\n",
              "        google.colab.kernel.accessAllowed ? 'block' : 'none';\n",
              "\n",
              "      async function convertToInteractive(key) {\n",
              "        const element = document.querySelector('#df-e43882bf-5322-406f-bfe2-93f9139dcaa1');\n",
              "        const dataTable =\n",
              "          await google.colab.kernel.invokeFunction('convertToInteractive',\n",
              "                                                    [key], {});\n",
              "        if (!dataTable) return;\n",
              "\n",
              "        const docLinkHtml = 'Like what you see? Visit the ' +\n",
              "          '<a target=\"_blank\" href=https://colab.research.google.com/notebooks/data_table.ipynb>data table notebook</a>'\n",
              "          + ' to learn more about interactive tables.';\n",
              "        element.innerHTML = '';\n",
              "        dataTable['output_type'] = 'display_data';\n",
              "        await google.colab.output.renderOutput(dataTable, element);\n",
              "        const docLink = document.createElement('div');\n",
              "        docLink.innerHTML = docLinkHtml;\n",
              "        element.appendChild(docLink);\n",
              "      }\n",
              "    </script>\n",
              "  </div>\n",
              "\n",
              "\n",
              "<div id=\"df-ed7d25eb-355b-4675-8ec3-e339d317ecbc\">\n",
              "  <button class=\"colab-df-quickchart\" onclick=\"quickchart('df-ed7d25eb-355b-4675-8ec3-e339d317ecbc')\"\n",
              "            title=\"Suggest charts\"\n",
              "            style=\"display:none;\">\n",
              "\n",
              "<svg xmlns=\"http://www.w3.org/2000/svg\" height=\"24px\"viewBox=\"0 0 24 24\"\n",
              "     width=\"24px\">\n",
              "    <g>\n",
              "        <path d=\"M19 3H5c-1.1 0-2 .9-2 2v14c0 1.1.9 2 2 2h14c1.1 0 2-.9 2-2V5c0-1.1-.9-2-2-2zM9 17H7v-7h2v7zm4 0h-2V7h2v10zm4 0h-2v-4h2v4z\"/>\n",
              "    </g>\n",
              "</svg>\n",
              "  </button>\n",
              "\n",
              "<style>\n",
              "  .colab-df-quickchart {\n",
              "      --bg-color: #E8F0FE;\n",
              "      --fill-color: #1967D2;\n",
              "      --hover-bg-color: #E2EBFA;\n",
              "      --hover-fill-color: #174EA6;\n",
              "      --disabled-fill-color: #AAA;\n",
              "      --disabled-bg-color: #DDD;\n",
              "  }\n",
              "\n",
              "  [theme=dark] .colab-df-quickchart {\n",
              "      --bg-color: #3B4455;\n",
              "      --fill-color: #D2E3FC;\n",
              "      --hover-bg-color: #434B5C;\n",
              "      --hover-fill-color: #FFFFFF;\n",
              "      --disabled-bg-color: #3B4455;\n",
              "      --disabled-fill-color: #666;\n",
              "  }\n",
              "\n",
              "  .colab-df-quickchart {\n",
              "    background-color: var(--bg-color);\n",
              "    border: none;\n",
              "    border-radius: 50%;\n",
              "    cursor: pointer;\n",
              "    display: none;\n",
              "    fill: var(--fill-color);\n",
              "    height: 32px;\n",
              "    padding: 0;\n",
              "    width: 32px;\n",
              "  }\n",
              "\n",
              "  .colab-df-quickchart:hover {\n",
              "    background-color: var(--hover-bg-color);\n",
              "    box-shadow: 0 1px 2px rgba(60, 64, 67, 0.3), 0 1px 3px 1px rgba(60, 64, 67, 0.15);\n",
              "    fill: var(--button-hover-fill-color);\n",
              "  }\n",
              "\n",
              "  .colab-df-quickchart-complete:disabled,\n",
              "  .colab-df-quickchart-complete:disabled:hover {\n",
              "    background-color: var(--disabled-bg-color);\n",
              "    fill: var(--disabled-fill-color);\n",
              "    box-shadow: none;\n",
              "  }\n",
              "\n",
              "  .colab-df-spinner {\n",
              "    border: 2px solid var(--fill-color);\n",
              "    border-color: transparent;\n",
              "    border-bottom-color: var(--fill-color);\n",
              "    animation:\n",
              "      spin 1s steps(1) infinite;\n",
              "  }\n",
              "\n",
              "  @keyframes spin {\n",
              "    0% {\n",
              "      border-color: transparent;\n",
              "      border-bottom-color: var(--fill-color);\n",
              "      border-left-color: var(--fill-color);\n",
              "    }\n",
              "    20% {\n",
              "      border-color: transparent;\n",
              "      border-left-color: var(--fill-color);\n",
              "      border-top-color: var(--fill-color);\n",
              "    }\n",
              "    30% {\n",
              "      border-color: transparent;\n",
              "      border-left-color: var(--fill-color);\n",
              "      border-top-color: var(--fill-color);\n",
              "      border-right-color: var(--fill-color);\n",
              "    }\n",
              "    40% {\n",
              "      border-color: transparent;\n",
              "      border-right-color: var(--fill-color);\n",
              "      border-top-color: var(--fill-color);\n",
              "    }\n",
              "    60% {\n",
              "      border-color: transparent;\n",
              "      border-right-color: var(--fill-color);\n",
              "    }\n",
              "    80% {\n",
              "      border-color: transparent;\n",
              "      border-right-color: var(--fill-color);\n",
              "      border-bottom-color: var(--fill-color);\n",
              "    }\n",
              "    90% {\n",
              "      border-color: transparent;\n",
              "      border-bottom-color: var(--fill-color);\n",
              "    }\n",
              "  }\n",
              "</style>\n",
              "\n",
              "  <script>\n",
              "    async function quickchart(key) {\n",
              "      const quickchartButtonEl =\n",
              "        document.querySelector('#' + key + ' button');\n",
              "      quickchartButtonEl.disabled = true;  // To prevent multiple clicks.\n",
              "      quickchartButtonEl.classList.add('colab-df-spinner');\n",
              "      try {\n",
              "        const charts = await google.colab.kernel.invokeFunction(\n",
              "            'suggestCharts', [key], {});\n",
              "      } catch (error) {\n",
              "        console.error('Error during call to suggestCharts:', error);\n",
              "      }\n",
              "      quickchartButtonEl.classList.remove('colab-df-spinner');\n",
              "      quickchartButtonEl.classList.add('colab-df-quickchart-complete');\n",
              "    }\n",
              "    (() => {\n",
              "      let quickchartButtonEl =\n",
              "        document.querySelector('#df-ed7d25eb-355b-4675-8ec3-e339d317ecbc button');\n",
              "      quickchartButtonEl.style.display =\n",
              "        google.colab.kernel.accessAllowed ? 'block' : 'none';\n",
              "    })();\n",
              "  </script>\n",
              "</div>\n",
              "    </div>\n",
              "  </div>\n"
            ],
            "application/vnd.google.colaboratory.intrinsic+json": {
              "type": "dataframe"
            }
          },
          "metadata": {},
          "execution_count": 120
        }
      ],
      "source": [
        "data = pd.read_csv('./data.csv')\n",
        "\n",
        "data.sample(10)"
      ]
    },
    {
      "cell_type": "code",
      "execution_count": 121,
      "metadata": {
        "pycharm": {
          "name": "#%%\n"
        },
        "id": "KP3ImCtGK1uo"
      },
      "outputs": [],
      "source": [
        "# data.info()"
      ]
    },
    {
      "cell_type": "markdown",
      "metadata": {
        "id": "BjxpXT4xK1uo"
      },
      "source": [
        "Разобьём данные на обучающую и тестовую выборки."
      ]
    },
    {
      "cell_type": "code",
      "execution_count": 122,
      "metadata": {
        "pycharm": {
          "name": "#%%\n"
        },
        "id": "aoC9zcGAK1uo",
        "colab": {
          "base_uri": "https://localhost:8080/"
        },
        "outputId": "10d96a4d-c6c1-4027-a6d0-80c2530300c6"
      },
      "outputs": [
        {
          "output_type": "stream",
          "name": "stdout",
          "text": [
            "Train : (2344, 80) (2344,)\n",
            "Test : (586, 80) (586,)\n"
          ]
        }
      ],
      "source": [
        "from sklearn.model_selection import train_test_split\n",
        "\n",
        "target_column = \"Sale_Price\"\n",
        "np.random.seed(seed)\n",
        "\n",
        "test_size = 0.2\n",
        "data_train, data_test, Y_train, Y_test = train_test_split(\n",
        "    data[data.columns.drop(\"Sale_Price\")],\n",
        "    np.array(data[\"Sale_Price\"]),\n",
        "    test_size=test_size,\n",
        "    random_state=seed)\n",
        "\n",
        "print(f\"Train : {data_train.shape} {Y_train.shape}\")\n",
        "print(f\"Test : {data_test.shape} {Y_test.shape}\")"
      ]
    },
    {
      "cell_type": "markdown",
      "metadata": {
        "id": "WNCvCJaAK1uo"
      },
      "source": [
        "Среди признаков нам встретятся как вещественные, так и категориальные. Пока что выделим в качестве категориальных те, значениями которых являются не числа, а какие-то другие сущности (но имейте в виду, что численные с виду признаки тоже могут быть категориальными)."
      ]
    },
    {
      "cell_type": "code",
      "execution_count": 123,
      "metadata": {
        "pycharm": {
          "name": "#%%\n"
        },
        "id": "QK9MTesIK1up",
        "colab": {
          "base_uri": "https://localhost:8080/"
        },
        "outputId": "36e5beee-a089-430a-b1aa-cc62f2e6ed9a"
      },
      "outputs": [
        {
          "output_type": "stream",
          "name": "stdout",
          "text": [
            "Continuous : 34, Categorical : 46\n"
          ]
        }
      ],
      "source": [
        "continuous_columns = [key for key in data.keys() if data[key].dtype in (\"int64\", \"float64\")]\n",
        "categorical_columns = [key for key in data.keys() if data[key].dtype == \"object\"]\n",
        "\n",
        "continuous_columns.remove(target_column)\n",
        "\n",
        "print(f\"Continuous : {len(continuous_columns)}, Categorical : {len(categorical_columns)}\")"
      ]
    },
    {
      "cell_type": "markdown",
      "metadata": {
        "id": "kEjtSzMcK1up"
      },
      "source": [
        "Посмотрим на заголовки признаков. В целом, многие названия вполне говорящие, и можно догадаться, что стоит за этими признаками."
      ]
    },
    {
      "cell_type": "code",
      "execution_count": 124,
      "metadata": {
        "pycharm": {
          "name": "#%%\n"
        },
        "id": "L_PprkEPK1up",
        "colab": {
          "base_uri": "https://localhost:8080/"
        },
        "outputId": "16dcc87c-f19d-4153-92bc-73cb072038d7"
      },
      "outputs": [
        {
          "output_type": "execute_result",
          "data": {
            "text/plain": [
              "['Lot_Frontage',\n",
              " 'Lot_Area',\n",
              " 'Year_Built',\n",
              " 'Year_Remod_Add',\n",
              " 'Mas_Vnr_Area',\n",
              " 'BsmtFin_SF_1',\n",
              " 'BsmtFin_SF_2',\n",
              " 'Bsmt_Unf_SF',\n",
              " 'Total_Bsmt_SF',\n",
              " 'First_Flr_SF',\n",
              " 'Second_Flr_SF',\n",
              " 'Low_Qual_Fin_SF',\n",
              " 'Gr_Liv_Area',\n",
              " 'Bsmt_Full_Bath',\n",
              " 'Bsmt_Half_Bath',\n",
              " 'Full_Bath',\n",
              " 'Half_Bath',\n",
              " 'Bedroom_AbvGr',\n",
              " 'Kitchen_AbvGr',\n",
              " 'TotRms_AbvGrd',\n",
              " 'Fireplaces',\n",
              " 'Garage_Cars',\n",
              " 'Garage_Area',\n",
              " 'Wood_Deck_SF',\n",
              " 'Open_Porch_SF',\n",
              " 'Enclosed_Porch',\n",
              " 'Three_season_porch',\n",
              " 'Screen_Porch',\n",
              " 'Pool_Area',\n",
              " 'Misc_Val',\n",
              " 'Mo_Sold',\n",
              " 'Year_Sold',\n",
              " 'Longitude',\n",
              " 'Latitude']"
            ]
          },
          "metadata": {},
          "execution_count": 124
        }
      ],
      "source": [
        "continuous_columns"
      ]
    },
    {
      "cell_type": "markdown",
      "metadata": {
        "id": "dSh9iDYUK1up"
      },
      "source": [
        "Одна из целей этого ноутбука — познакомить вас с fit-predict (fit-transform) интерфейсом, типичным для многих реализаций моделей машинного обучения и для различных инструментов работы с данными.\n",
        "\n",
        "Множество фреймворков машинного обучения (например, scikit-learn, CatBoost) содержат в себе модели и алгоритмы, которые описаны в виде классов, у которых есть два ключевых метода: fit и predict (transform). Давайте разберёмся, что делают эти методы.\n",
        "\n",
        "***fit*** — метод для обучения алгоритма. Он получает на входе данные и таргеты для обучения, после чего обновляет состояние класса. После использования метода fit считается, что объект класса готов к использованию. Внутри этого метода может быть что угодно: обучение модели, подбор гиперпараметров, подсчет статистик и т. д.\n",
        "\n",
        "***predict*** — метод для предсказания , обученного с помощью _fit_. В задаче регрессии это оценка параметра, в задаче классификации предсказанный класс.\n",
        "\n",
        "***transform*** — стилистический синоним _predict_, но используется в классах, которые реализуют преобразования данных, например, масштабирование признаков или кодирование категориальных фичей.\n",
        "\n",
        "***fit_transform*** — метод который учится на данных, а потом их же преобразовывает."
      ]
    },
    {
      "cell_type": "markdown",
      "metadata": {
        "id": "2QVOr2SrK1up"
      },
      "source": [
        "### 1. Базовая предобработка данных"
      ]
    },
    {
      "cell_type": "markdown",
      "metadata": {
        "id": "IWi5LNwHK1up"
      },
      "source": [
        "Отметим два важных свойства линейной регрессии:\n",
        "\n",
        "- строго говоря, она умеет работать только с вещественными признаками\n",
        "- если признаки имеют разный масштаб при сопоставимой важности, регрессия может проигнорировать те, что имеют меньший масштаб\n",
        "\n",
        "Первое соображение заставляет придумывать способы борьбы с категориальными признаками, и мы начнём с самого простого: проигнорируем их.\n",
        "\n",
        "Второе соображение приводит к необходимости приводить признаки к одному масштабу (\"нормализовать фичи\"). В `sklearn` для этого есть два основных класса:\n",
        "\n",
        "- [sklearn.preprocessing.StandardScaler](https://scikit-learn.org/stable/modules/generated/sklearn.preprocessing.StandardScaler.html) - в каждой колонке вычитает среднее и делит на стандартное отклонение.\n",
        "- [sklearn.preprocessing.MinMaxScaler](https://scikit-learn.org/stable/modules/generated/sklearn.preprocessing.MinMaxScaler.html) - в каждой колонке вычитает минимальное значение и делит на разницу между минимальным и максимальным.\n",
        "\n",
        "Применяются они в соответствии с описанной выше философией. Например:\n",
        "\n",
        "```\n",
        "scaler = StandardScaler()\n",
        "X_train = scaler.fit_transform(X_train)\n",
        "X_test = scaler.transform(X_test)\n",
        "```\n",
        "\n",
        "Обратите внимание, что scaler настраивается на обучающей выборке (именно по ней вычисляются среднее и стандартное отклонение), а к тестовой он применяется с уже подсчитанными статистиками.\n",
        "\n",
        "**Вопрос**. А зачем? Почему бы не нормировать отдельно обучающую и тестовую выборку? Почему бы не настроить наш scaler на объединении двух выборок? Ведь благодаря большему количеству данных мы бы настроили его точнее!\n",
        "<p>\n",
        "<details>\n",
        "  <summary>Кликните, чтобы узнать ответ</summary>\n",
        "\n",
        "Если мы по-разному отнормируем обучающую и тестовую выборки, то нам будет весьма сложно применять модель, обученную на одной из них, к другой. Это просто не будет иметь физического смысла.\n",
        "\n",
        "Настраивать что-либо на тестовой выборке — это очень плохая идея. Тестовая выборка должна быть неким независимым мерилом качества наших усилий по предсказанию, а если мы разрешим информации о распределении признаков в тестовой выборке \"протечь\" в процесс обучения, то мы эту независимость испортим.\n",
        "\n",
        "</details>"
      ]
    },
    {
      "cell_type": "markdown",
      "metadata": {
        "id": "refOuBa2K1up"
      },
      "source": [
        "Итак, мы решили делать преобразование данных, которое состоит в:\n",
        "\n",
        "- сохранении лишь непрерывных фичей;\n",
        "- нормализации этих фичей (давайте остановимся на [sklearn.preprocessing.StandardScaler](https://scikit-learn.org/stable/modules/generated/sklearn.preprocessing.StandardScaler.html))\n",
        "\n",
        "В этом пункте вам нужно будет сделать класс такой предобработки данных, причём оформим мы его в виде класса с интерфейсом fit-transform.\n",
        "\n",
        "Несколько важных соображений:\n",
        "\n",
        "1. В прошлой лабораторной метод fit у нас ничего не возвращал, но правильнее сделать так, чтобы метод fit возвращал сам класс. В частности, это позволит нам писать model = model.fit().\n",
        "\n",
        "2. Первоначальный анализ данных удобно делать, когда они лежат в pd.DataFrame, т к у этого класса много методов, которые малым количеством телодвижений позволяют считать статистики и строить графики. Модели же проще учить, когда данные лежат в np.array, потому большое количество библиотек, где реализованы алгоритмы машинного обучения совместимы именно с numpy. Поэтому сделайте так, чтобы метод transform получал на вход pd.Dataframe, а возвращал np.array.\n",
        "\n",
        "3. В sklearn есть классы, от которых можно отнаследоваться, чтобы сделать класс с [fit-predict](https://scikit-learn.org/stable/modules/generated/sklearn.base.RegressorMixin.html#sklearn.base.RegressorMixin) или [fit-transform](https://scikit-learn.org/stable/modules/generated/sklearn.base.TransformerMixin.html) интерфейсом. Это очень полезно, т к позволит вам в дальнейшем пользоваться методами [GridSearchCV](https://scikit-learn.org/stable/modules/generated/sklearn.model_selection.GridSearchCV.html) и подобными. В этом пункте отнаследуйтесь от второго.\n",
        "\n",
        "4. У метода __init__ должен быть параметр ```needed_columns=None```. Туда передается список колонок, которые нужно взять из датафрейме. Делать это надо в ```fit``` и ```transform```. В случае если если он равен None, то класс оставляет все колонки из исходного набора данных.\n",
        "\n",
        "5. Обратите внимание, что достаточно реализовать `fit` и `transform`, а метод `fit_transform` из них слепит родительский класс.\n",
        "\n",
        "**Готовый препроцессор вам нужно будет сдать в Контест**"
      ]
    },
    {
      "cell_type": "code",
      "source": [
        "data_train.shape"
      ],
      "metadata": {
        "colab": {
          "base_uri": "https://localhost:8080/"
        },
        "id": "_rv3p0RKTX7C",
        "outputId": "f1113bf1-520e-465a-86c3-c0e503af226f"
      },
      "execution_count": 125,
      "outputs": [
        {
          "output_type": "execute_result",
          "data": {
            "text/plain": [
              "(2344, 80)"
            ]
          },
          "metadata": {},
          "execution_count": 125
        }
      ]
    },
    {
      "cell_type": "code",
      "source": [
        "a = [np.mean(data_train[col]) for col in data_train[continuous_columns].columns]"
      ],
      "metadata": {
        "id": "wx4TBItpTaif"
      },
      "execution_count": 126,
      "outputs": []
    },
    {
      "cell_type": "code",
      "source": [
        "b = np.array(data_train[continuous_columns])"
      ],
      "metadata": {
        "id": "W8t_fnc1T-pr"
      },
      "execution_count": 127,
      "outputs": []
    },
    {
      "cell_type": "code",
      "source": [
        "b.shape"
      ],
      "metadata": {
        "colab": {
          "base_uri": "https://localhost:8080/"
        },
        "id": "OzGBNQFcU_np",
        "outputId": "09ef21b0-a990-40e0-847f-4442ecb4fc26"
      },
      "execution_count": 128,
      "outputs": [
        {
          "output_type": "execute_result",
          "data": {
            "text/plain": [
              "(2344, 34)"
            ]
          },
          "metadata": {},
          "execution_count": 128
        }
      ]
    },
    {
      "cell_type": "code",
      "execution_count": 129,
      "metadata": {
        "pycharm": {
          "name": "#%%\n"
        },
        "id": "deONxYcGK1uq"
      },
      "outputs": [],
      "source": [
        "from sklearn.base import TransformerMixin\n",
        "from sklearn.preprocessing import StandardScaler\n",
        "import pandas as pd\n",
        "import numpy as np\n",
        "from typing import Optional, List\n",
        "\n",
        "class BaseDataPreprocessor(TransformerMixin):\n",
        "    def __init__(self, needed_columns: Optional[List[str]]=None):\n",
        "        \"\"\"\n",
        "        :param needed_columns: if not None select these columns from the dataframe\n",
        "        \"\"\"\n",
        "        self.needed_columns = needed_columns\n",
        "        self.scaler = StandardScaler()\n",
        "\n",
        "\n",
        "    def fit(self, data, *args):\n",
        "        \"\"\"\n",
        "        Prepares the class for future transformations\n",
        "        :param data: pd.DataFrame with all available columns\n",
        "        :return: self\n",
        "        \"\"\"\n",
        "        if self.needed_columns:\n",
        "            data = data[self.needed_columns]\n",
        "\n",
        "        self.scaler.fit(data)\n",
        "        return self\n",
        "\n",
        "        # self.means = np.array([np.mean(data[col]) for col in data.columns])\n",
        "        # self.stds = np.array([np.std(data[col]) for col in data.columns])\n",
        "        # return self\n",
        "\n",
        "\n",
        "\n",
        "    def transform(self, data: pd.DataFrame) -> np.array:\n",
        "        \"\"\"\n",
        "        Transforms features so that they can be fed into the regressors\n",
        "        :param data: pd.DataFrame with all available columns\n",
        "        :return: np.array with preprocessed features\n",
        "        \"\"\"\n",
        "        if self.needed_columns:\n",
        "            data = data[self.needed_columns]\n",
        "        return self.scaler.transform(data)\n",
        "\n",
        "        # data -= self.means\n",
        "        # data /= self.stds\n",
        "        # return data\n",
        "\n",
        "    # def fit_transform(self, data: pd.DataFrame) -> np.array:\n",
        "    #     return self.fit(data).transform(data)"
      ]
    },
    {
      "cell_type": "code",
      "source": [],
      "metadata": {
        "id": "5m4WoNPjT9vK"
      },
      "execution_count": 129,
      "outputs": []
    },
    {
      "cell_type": "markdown",
      "metadata": {
        "id": "zKeWoQ1SK1uq"
      },
      "source": [
        "**1. Сдайте вашу реализацию в Контест, задача «Простая предобработка».**"
      ]
    },
    {
      "cell_type": "code",
      "execution_count": 130,
      "metadata": {
        "pycharm": {
          "name": "#%%\n"
        },
        "id": "-4LkDFASK1uq"
      },
      "outputs": [],
      "source": [
        "preprocessor = BaseDataPreprocessor(needed_columns=continuous_columns)\n",
        "\n",
        "X_train = preprocessor.fit_transform(data_train)\n",
        "X_test = preprocessor.transform(data_test)\n",
        "\n"
      ]
    },
    {
      "cell_type": "code",
      "source": [
        "print(type(X_train), type(X_test))\n",
        "X_train.shape, X_test.shape\n"
      ],
      "metadata": {
        "colab": {
          "base_uri": "https://localhost:8080/"
        },
        "id": "TH5yT459WQIA",
        "outputId": "92904baf-688f-488c-ac92-0791944a562e"
      },
      "execution_count": 131,
      "outputs": [
        {
          "output_type": "stream",
          "name": "stdout",
          "text": [
            "<class 'numpy.ndarray'> <class 'numpy.ndarray'>\n"
          ]
        },
        {
          "output_type": "execute_result",
          "data": {
            "text/plain": [
              "((2344, 34), (586, 34))"
            ]
          },
          "metadata": {},
          "execution_count": 131
        }
      ]
    },
    {
      "cell_type": "code",
      "source": [
        "a = np.random.randint(4, size = (13,4))\n",
        "print(a.shape)\n",
        "means = np.array([np.mean(a[:, i]) for i in range(len(a[0]))])\n",
        "print(means.shape)\n",
        "stds = np.array([np.std(a[:, i]) for i in range(len(a[0]))])\n",
        "print(stds.shape)"
      ],
      "metadata": {
        "colab": {
          "base_uri": "https://localhost:8080/"
        },
        "id": "agnMj-qkWwiP",
        "outputId": "2ef509dd-b541-4220-e81a-f04f1c9a2c22"
      },
      "execution_count": 132,
      "outputs": [
        {
          "output_type": "stream",
          "name": "stdout",
          "text": [
            "(13, 4)\n",
            "(4,)\n",
            "(4,)\n"
          ]
        }
      ]
    },
    {
      "cell_type": "code",
      "source": [
        "a/stds"
      ],
      "metadata": {
        "colab": {
          "base_uri": "https://localhost:8080/"
        },
        "id": "tz27UfODXUel",
        "outputId": "887f8206-fbff-4029-b301-94b3869fa50d"
      },
      "execution_count": 133,
      "outputs": [
        {
          "output_type": "execute_result",
          "data": {
            "text/plain": [
              "array([[1.75291964, 3.2728073 , 0.        , 2.36472234],\n",
              "       [0.87645982, 1.09093577, 0.92857143, 0.        ],\n",
              "       [2.62937946, 3.2728073 , 0.        , 2.36472234],\n",
              "       [2.62937946, 2.18187153, 2.78571429, 2.36472234],\n",
              "       [2.62937946, 3.2728073 , 2.78571429, 2.36472234],\n",
              "       [0.87645982, 2.18187153, 2.78571429, 2.36472234],\n",
              "       [0.87645982, 3.2728073 , 0.92857143, 2.36472234],\n",
              "       [0.        , 0.        , 1.85714286, 0.        ],\n",
              "       [2.62937946, 1.09093577, 0.92857143, 0.        ],\n",
              "       [2.62937946, 2.18187153, 0.92857143, 0.78824078],\n",
              "       [1.75291964, 2.18187153, 0.92857143, 1.57648156],\n",
              "       [2.62937946, 1.09093577, 1.85714286, 2.36472234],\n",
              "       [0.        , 2.18187153, 2.78571429, 0.78824078]])"
            ]
          },
          "metadata": {},
          "execution_count": 133
        }
      ]
    },
    {
      "cell_type": "markdown",
      "metadata": {
        "id": "p14ruXEjK1uq"
      },
      "source": [
        "### 1.2 Умная предобработка данных"
      ]
    },
    {
      "cell_type": "markdown",
      "metadata": {
        "id": "8erGdYK-K1uq"
      },
      "source": [
        "Теперь давайте попробуем сделать что-нибудь поинтереснее. Для того, чтобы будущие алгоритмы регрессии работали хорошо, они должны обучаться и предсказывать на информативных фичах. Зачастую оказывается гораздо продуктивнее потратить какое-то время на изучение предметной области и придумывание хороших фичей (feature engineering), нежели жадно перебирать все известные алгоритмы машинного обучения.\n",
        "В этом пункте попробуйте придумать новых фичей и написать новый класс предобработки данных, который их добавляет (а, возможно, и убирает ещё какие-то старые).\n",
        "\n",
        "В конце этого пункта в раскрывашке перечислены наши идеи относительно того, что можно было добавить."
      ]
    },
    {
      "cell_type": "code",
      "execution_count": 134,
      "metadata": {
        "pycharm": {
          "name": "#%%\n"
        },
        "id": "Ob8_T-DRK1uq"
      },
      "outputs": [],
      "source": [
        "# class SmartDataPreprocessor(TransformerMixin):\n",
        "#     # <Your ideas here>\n",
        "#     pass"
      ]
    },
    {
      "cell_type": "code",
      "execution_count": 135,
      "metadata": {
        "pycharm": {
          "name": "#%%\n"
        },
        "id": "ceqVElj8K1uq"
      },
      "outputs": [],
      "source": [
        "# preprocessor = SmartDataPreprocessor(needed_columns=continuous_columns)\n",
        "\n",
        "# X_train = preprocessor.fit_transform(data_train)\n",
        "# X_test = preprocessor.transform(data_test)"
      ]
    },
    {
      "cell_type": "markdown",
      "metadata": {
        "id": "dCZ-Ud9OK1ur"
      },
      "source": [
        "<details>\n",
        "  <summary>Пара простых идей. Кликните, когда будете готовы</summary>\n",
        "\n",
        "Например в датасете есть координаты квартиры, которые по идее сами по себе мало чего дают нашему регрессору. С другой стороны, по ним можно оценить центр города (или просто найти его на карте) и использовать в качестве фичи расстояние до центра города, которое может естественным образом влиять на цену жилья.\n",
        "\n",
        "Ещё может быть полезным почистить пропуски. И тут есть хитрость. Если вы просто вызовете data.info(), то вам покажется, что пропусков нет, но они могут приходить под разными обличьями. Например, у 490 объектов параметр Lot_Frontage (площадь фасада) равен нулю. Неожиданно, правда? Возможно, мы хотим эти нулевые значения заменить чем-нибудь, скажем, медианой.\n",
        "\n",
        "</details>\n"
      ]
    },
    {
      "cell_type": "markdown",
      "metadata": {
        "id": "aIt68R29K1ur"
      },
      "source": [
        "### 2. Линейная регрессия"
      ]
    },
    {
      "cell_type": "markdown",
      "metadata": {
        "id": "Ydi2yHwqK1ur"
      },
      "source": [
        "Давайте получим базовое решение (бейзлайн), чтобы потом с ним можно было сравниваться.\n",
        "\n",
        "Обучите линейную регрессию на обучающей выборке (которую мы подвергли преобразованию BaseDataPreprocessor). В библиотеке Sklearn есть релизация [без регуляризации](https://scikit-learn.org/stable/modules/generated/sklearn.linear_model.LinearRegression.html?highlight=linear%20regression), [с L2-регуляризацией](https://scikit-learn.org/stable/modules/generated/sklearn.linear_model.Ridge.html#sklearn.linear_model.Ridge) и [с L1-регуляризацией](https://scikit-learn.org/stable/modules/generated/sklearn.linear_model.Lasso).\n",
        "\n",
        "Начнём с обычной регрессии. Получите предсказания на тестовых данных и оцените на них качество модели. В качестве метрики оценки качества возьмите [средний модуль отклонения](https://scikit-learn.org/stable/modules/generated/sklearn.metrics.mean_absolute_error.html) (mean absolute error, MAE). Как вам кажется, насколько хорошей вышла модель?\n"
      ]
    },
    {
      "cell_type": "code",
      "execution_count": 136,
      "metadata": {
        "pycharm": {
          "name": "#%%\n"
        },
        "id": "d8AAt9_tK1ur",
        "colab": {
          "base_uri": "https://localhost:8080/"
        },
        "outputId": "dfedb0e5-6e59-4351-d8c9-80c0f27ad21b"
      },
      "outputs": [
        {
          "output_type": "execute_result",
          "data": {
            "text/plain": [
              "23819.063516137932"
            ]
          },
          "metadata": {},
          "execution_count": 136
        }
      ],
      "source": [
        "from sklearn.linear_model import LinearRegression\n",
        "from sklearn.metrics import mean_absolute_error\n",
        "\n",
        "model = LinearRegression()\n",
        "model.fit(X_train, Y_train)\n",
        "\n",
        "mean_absolute_error(Y_test, model.predict(X_test))"
      ]
    },
    {
      "cell_type": "markdown",
      "metadata": {
        "id": "js3L8W-AK1ur"
      },
      "source": [
        "Теперь попробуйте L2-регуляризованную модель Ridge(). Какие значения метрик она даёт?"
      ]
    },
    {
      "cell_type": "code",
      "execution_count": 137,
      "metadata": {
        "pycharm": {
          "name": "#%%\n"
        },
        "id": "XnMAW-74K1ur",
        "colab": {
          "base_uri": "https://localhost:8080/"
        },
        "outputId": "79bed413-beb8-43c3-cc54-42f361abcce6"
      },
      "outputs": [
        {
          "output_type": "execute_result",
          "data": {
            "text/plain": [
              "23821.97776100681"
            ]
          },
          "metadata": {},
          "execution_count": 137
        }
      ],
      "source": [
        "from sklearn.linear_model import Ridge\n",
        "from sklearn.metrics import mean_absolute_error\n",
        "\n",
        "model = Ridge()\n",
        "model.fit(X_train, Y_train)\n",
        "\n",
        "mean_absolute_error(Y_test, model.predict(X_test))"
      ]
    },
    {
      "cell_type": "markdown",
      "metadata": {
        "id": "s940mdAmK1ur"
      },
      "source": [
        "В целом, регуляризация редко портит модель, но важно правильно подобрать коэффициент регуляризации. Как именно — поговорим дальше."
      ]
    },
    {
      "cell_type": "markdown",
      "metadata": {
        "id": "5iTC8BpaK1ur"
      },
      "source": [
        "### 3. Выбор метрики"
      ]
    },
    {
      "cell_type": "markdown",
      "metadata": {
        "id": "vpjjz37cK1ur"
      },
      "source": [
        "Средний модуль ошибки (MAE) — в целом довольно хорошая метрика для задачи регрессии, потому что ее довольно легко проинтерпретировать. Но с ней есть одна проблема: ошибиться на $ 10 000 $ USD в предсказании цены квартиры стоимостью $ 100 000 $ USD страшнее чем допустить такую ошибку в предсказании цены жилья за $ 700 000 $ USD. Иными словами более показательной метрикой будет не абсолютная  ошибка $ error_i = |y_i - \\hat{y_i}|$, а логарифм относительной ошибки $error_i = log \\frac{y_i}{\\hat{y_i}} $. Также давайте обычное усреднение по всем примерам в тестовой выборке заменим на среднеквадратичное $ \\frac{1}{N} \\sum_i^{test} {error_i} \\longrightarrow \\sqrt{\\frac{1}{N} \\sum_i^{test}{(error_i)^2}}$. Итоговая метрика получается равной:\n",
        "\n",
        "$$\n",
        "Metric = \\sqrt{\\frac{1}{N} \\sum_{i=1}^{N} (log(y_i) - log(\\hat{y_i}))^2}\n",
        "$$\n",
        "\n",
        "Логично? Да. Но возникает еще одна проблема. Логарифм нельзя брать от отрицательного числа. Бороться с этим можно двумя способами.\n",
        "- Случай когда отрицательное число затисалось в target-ax не очень разумен, т. к. цена на дом не может быть отрицательной. В этом случае стоит кинуть ошибку, чтобы пользователь этой функции еще раз перепроверил правильные ли таргеты он подает.\n",
        "- В целом, у нас нет гарантий того, что наша модель (например линейная) предсказывает только положительные числа. Брать логарифм от отрицательного числа не получится, но качество такой модели все еще надо оценить. Давайте все предсказания, которые меньше некоторого порога $ a_{min} $, заменять этим порогом ($ \\hat{y_i} \\longleftarrow max(\\hat{y_i}, a_{min}) $), после чего подавать их в метрику. Для прохождения тестов возьмите $ a_{min} = 1 $.\n",
        "\n",
        "**2. Реализуйте эту метрику и сдайте в контест**."
      ]
    },
    {
      "cell_type": "code",
      "execution_count": 138,
      "metadata": {
        "pycharm": {
          "name": "#%%\n"
        },
        "id": "OAgpUi26K1ur"
      },
      "outputs": [],
      "source": [
        "import numpy as np\n",
        "\n",
        "def root_mean_squared_logarithmic_error(y_true, y_pred, a_min=1.):\n",
        "    return np.sqrt(np.mean([ (np.log(y_true[i]) - np.log(max(a_min, y_pred[i])))**2 for i in range(len(y_true))]))\n",
        "\n"
      ]
    },
    {
      "cell_type": "code",
      "source": [
        "model = Ridge()\n",
        "model.fit(X_train, Y_train)\n",
        "\n",
        "root_mean_squared_logarithmic_error(Y_test, model.predict(X_test))"
      ],
      "metadata": {
        "colab": {
          "base_uri": "https://localhost:8080/"
        },
        "id": "ngZfVeD0c1dP",
        "outputId": "d99782a0-60fd-443a-c4f8-c59f3427882f"
      },
      "execution_count": 139,
      "outputs": [
        {
          "output_type": "execute_result",
          "data": {
            "text/plain": [
              "0.19500621233281326"
            ]
          },
          "metadata": {},
          "execution_count": 139
        }
      ]
    },
    {
      "cell_type": "markdown",
      "metadata": {
        "id": "UABi31oTK1ur"
      },
      "source": [
        "### 4. Логарифмирование таргета."
      ]
    },
    {
      "cell_type": "markdown",
      "metadata": {
        "id": "yns3YwN-K1ur"
      },
      "source": [
        "Вообще идея с логарифмированием таргета довольно хороша для этой задачи. Давайте посмотрим на распределение обычных и логарифмированных таргетов."
      ]
    },
    {
      "cell_type": "code",
      "execution_count": 140,
      "metadata": {
        "pycharm": {
          "name": "#%%\n"
        },
        "id": "JWb77b3uK1us"
      },
      "outputs": [],
      "source": [
        "import matplotlib.pyplot as plt\n",
        "def plot_target_distribution(Y_train, Y_test, ax, n_bins=20):\n",
        "    ax.hist(Y_train, bins=n_bins, label=\"train\", color=\"red\", alpha=0.3, density=True)\n",
        "    ax.hist(Y_test, bins=n_bins, label=\"test\", color=\"blue\", alpha=0.3, density=True)\n",
        "\n",
        "    ax.legend()\n",
        "    ax.set_xlabel(\"Value\")\n",
        "    ax.set_ylabel(\"Probability\")\n",
        "\n",
        "\n",
        "def plot_both_distributions(Y_train, Y_test):\n",
        "    fig, (ax0, ax1) = plt.subplots(ncols=2, nrows=1, figsize=(15, 6))\n",
        "\n",
        "    plot_target_distribution(Y_train, Y_test, ax=ax0)\n",
        "    ax0.set_title(\"Standard\")\n",
        "\n",
        "    plot_target_distribution(np.log(Y_train), np.log(Y_test), ax=ax1)\n",
        "    ax1.set_title(\"Logarithmic\")"
      ]
    },
    {
      "cell_type": "code",
      "execution_count": 141,
      "metadata": {
        "pycharm": {
          "name": "#%%\n"
        },
        "id": "IOkOnHqKK1uv",
        "colab": {
          "base_uri": "https://localhost:8080/",
          "height": 515
        },
        "outputId": "79ee7b97-d47f-4c3d-b5cc-9e65c92cccda"
      },
      "outputs": [
        {
          "output_type": "display_data",
          "data": {
            "text/plain": [
              "<Figure size 1500x600 with 2 Axes>"
            ],
            "image/png": "[encoded data removed]"
          },
          "metadata": {}
        }
      ],
      "source": [
        "plot_both_distributions(Y_train, Y_test)"
      ]
    },
    {
      "cell_type": "markdown",
      "metadata": {
        "id": "8sdqyU7tK1uv"
      },
      "source": [
        "Как видите, если прологарифмировать таргеты, то их распределение станет более похоже на гауссовское. Интуиция подсказывает, что линейная регрессия с MSE loss-функцией должна лучше учиться на таких таргетах.\n",
        "\n",
        "Попробуйте написать класс, который во время обучения логарифмирует таргет, а во время предсказания — наоборот, экспоненциирует. После чего обучите оба метода на обучающих данных и сравните значения метрик MAE и MSLE на тесте."
      ]
    },
    {
      "cell_type": "markdown",
      "metadata": {
        "id": "1qyR7QyiK1uv"
      },
      "source": [
        "Что должно быть в этом классе:\n",
        "- Класс должен называться ```ExponentialLinearRegression```\n",
        "- Класс должен иметь такой же fit-predict интерфейс, как и было до этого. На вход он получает оригинальные X и Y, а уже внутри происходит логарифмирование или экспоненциирование.\n",
        "- Внутри этой модели будет работать [Ridge](https://scikit-learn.org/stable/modules/generated/sklearn.linear_model.Ridge.html). Хочется, чтобы этому классу можно было передавать аргументы инициализации с помощью *args и **kwargs\n",
        "- Чтобы потом этот класс можно было использовать в [GridSearchCV](https://scikit-learn.org/stable/modules/generated/sklearn.model_selection.GridSearchCV.html) в следующих пунктах, у него должны быть реализованы 5 методов\n",
        "    1. ```__init__(self, *args, **kwargs)``` - все полученные аргументы передаются дальше в Ridge.\n",
        "    2. ```fit(self, X, Y)``` - обучает класс, возвращает self.\n",
        "    3. ```predict(self, X)``` - делает предсказание.\n",
        "    4. ```get_params(deep=True)``` - возвращает dict с параметрами модели. Больще подробностей [здесь](https://scikit-learn.org/stable/modules/generated/sklearn.base.BaseEstimator.html)\n",
        "    5. ```set_params(**params)``` - передает нужные параметры в модель. Больше подробносте [здесь](https://scikit-learn.org/stable/modules/generated/sklearn.base.BaseEstimator.html)\n",
        "- Есть два подхода к тому как сделать все нужные методы:\n",
        "    - Отнаследоваться от класса Ridge и переопределить методы fit и predict, внутри вызывая super() от отцовского класса.\n",
        "    - Отнаследоваться от класса RegressorMixin и внутренним атрибутом класса сделать Ridge. Тогда все методы нужно будет писать руками."
      ]
    },
    {
      "cell_type": "code",
      "execution_count": 142,
      "metadata": {
        "pycharm": {
          "name": "#%%\n"
        },
        "id": "IOnOVLY_K1uv"
      },
      "outputs": [],
      "source": [
        "import numpy as np\n",
        "from sklearn.linear_model import Ridge\n",
        "from sklearn.metrics import mean_absolute_error\n",
        "from sklearn.base import BaseEstimator, RegressorMixin\n",
        "\n",
        "\n",
        "class ExponentialLinearRegression(RegressorMixin):\n",
        "    def __init__(self, *args, **kwargs):\n",
        "        self.model = Ridge(*args, **kwargs)\n",
        "\n",
        "    def fit(self, X, Y):\n",
        "        self.model.fit(X, np.log(Y))\n",
        "        return self\n",
        "\n",
        "    def predict(self, X):\n",
        "        return np.exp(self.model.predict(X))\n",
        "\n",
        "    def get_params(self, deep=True):\n",
        "        return self.model.get_params(deep)\n",
        "\n",
        "    def set_params(self, **params):\n",
        "        return self.model.set_params(**params)"
      ]
    },
    {
      "cell_type": "markdown",
      "metadata": {
        "id": "hfGTYwdMK1uv"
      },
      "source": [
        "**3. Реализуйте этот класс и сдайте в контест**."
      ]
    },
    {
      "cell_type": "code",
      "execution_count": 143,
      "metadata": {
        "id": "cBnuMKpTK1uv",
        "colab": {
          "base_uri": "https://localhost:8080/"
        },
        "outputId": "85bdf331-af72-4d28-9829-f26ed4310e10"
      },
      "outputs": [
        {
          "output_type": "stream",
          "name": "stdout",
          "text": [
            "MAE  : Classic : 23821.97776100681  Exponential : 26818.699786544406\n",
            "MSLE : Classic : 0.19500621233281326 Exponential : 0.21601027716185436\n"
          ]
        }
      ],
      "source": [
        "classic_regressor = Ridge()\n",
        "exponential_regressor = ExponentialLinearRegression()\n",
        "\n",
        "classic_regressor.fit(X_train, Y_train)\n",
        "exponential_regressor.fit(X_train, Y_train)\n",
        "\n",
        "classic_prediction = classic_regressor.predict(X_test)\n",
        "exponential_prediction = exponential_regressor.predict(X_test)\n",
        "\n",
        "print(f\"MAE  : Classic : {mean_absolute_error(Y_test, classic_prediction)}  Exponential : {mean_absolute_error(Y_test, exponential_prediction)}\")\n",
        "print(f\"MSLE : Classic : {root_mean_squared_logarithmic_error(Y_test, classic_prediction)} Exponential : {root_mean_squared_logarithmic_error(Y_test, exponential_prediction)}\")"
      ]
    },
    {
      "cell_type": "markdown",
      "metadata": {
        "id": "mL9H6Fe0K1uw"
      },
      "source": [
        "Иногда получается так, что разные обученные вами модели приводят к улучшению одних метрик и ухудшению других. Это абсолютно нормально и этому не надо удивляться.\n",
        "\n",
        "Также зачастую случается так, что прирост по метрике не очень большой. И вы можете захотеть убедиться, что это реальное улучшение, а не просто случайная флуктуация. Для этого можно использовать подсчёт метрики про кросс-валидации (подробнее о ней можно почитать в соответствующей главе учебника). Суть метода в следующем:\n",
        "\n",
        "- мы разбиваем (случайным образом!) доступную нам выборку на $K$ (часто $K=5$) частей, которые называются _фолдами_\n",
        "- мы обучаем нашу модель $K$ раз, уча на всех фолдах, кроме одного, а на этом одном тестируя\n",
        "- мы получаем $K$ значений метрики, которые вместе дают нам лучшее представление о том, как ведёт себя модель на разных разбиениях на трейн и тест. В качестве итоговой метрики можно, к примеру, взять среднее полученных значений\n",
        "\n",
        "Сделать всё это можно с помощью обёртки [cross_val_score](https://scikit-learn.org/stable/modules/generated/sklearn.model_selection.cross_val_score.html), в которую можно подать модель, датасет и интересующую вас метрику. При этом оценку по кросс-валидации можно делать на всей доступной у вас выборке (ибо кросс-валидация уже включает разбиение на трейн и тест).\n",
        "\n",
        "Вычислите оценки MAE по кросс-валидации обычной (не регуляризованной) линейной регрессии и ExponentialLinearRegression на объединении обучающей и тестовой выборок.\n",
        "\n",
        "**4. Посчитайте и сдайте две оценки по кросс-валидации в Контест**.\n",
        "\n",
        "По шагам вам нужно\n",
        "1. Применить BaseDataPreprocessor к исходным данным\n",
        "2. Объединить трейн и тест\n",
        "3. Для первого числа использовать LinearRegression()\n",
        "4. Для второго -ExponentialLinearRegression с Ridge()\n",
        "5. Разбиение на фолды сделать с помощью `cv=KFold(n_splits=5, shuffle=True, random_state=42)`\n",
        "\n",
        "Обратите внимание, что параметр scoring — это не совсем функция-метрика, а немного более сложный объект, который можно соорудить, например, с помощью обёртки [make_scorer](https://scikit-learn.org/stable/modules/generated/sklearn.metrics.make_scorer.html#sklearn.metrics.make_scorer).\n",
        "\n",
        "Также имейте в виду, что, вообще говоря, с дефолтным значением параметра `cv` кросс-валидация разбивает датасет на фолды детерминированным образом. Если вам нужно случайное разбиение, то в качестве cv стоит подать объект класса `sklearn.model_selection.KFold` или `sklearn.model_selection.StratifiedKFold`. Используйте\n",
        "\n",
        "```\n",
        "cv=KFold(n_splits=5, shuffle=True, random_state=42)\n",
        "```"
      ]
    },
    {
      "cell_type": "markdown",
      "metadata": {
        "pycharm": {
          "name": "#%% md\n"
        },
        "id": "VtgOlv6tK1uw"
      },
      "source": [
        "Также при написании кода для кросс-валидации вам может пригодиться знание о пайплайнах.\n",
        "\n",
        "Представьте ситуацию. Прошел месяц с того момента, как вы построили модель, а теперь вам надо дообучить её на новых данных и активно применять для предсказания. Если вы не позаботились об инфраструктуре, то вам придётся рыскать по всему ноутбуку в поисках того, как вы предобрабатывали данные, какую модель учили, обязательно что-нибудь забудете и будете очень страдать. Поэтому человечество придумало пайплайны, которые позволяют объединить предобработку данных и обучение модели в один класс - pipeline. Его можно писать самому, либо взять из sklearn ([link](https://scikit-learn.org/stable/modules/generated/sklearn.pipeline.Pipeline.html))"
      ]
    },
    {
      "cell_type": "code",
      "source": [
        "x_data = data[data.columns.drop(\"Sale_Price\")]\n",
        "y_data = np.array(data[\"Sale_Price\"])"
      ],
      "metadata": {
        "id": "01334GVoldP4"
      },
      "execution_count": 144,
      "outputs": []
    },
    {
      "cell_type": "code",
      "execution_count": 145,
      "metadata": {
        "pycharm": {
          "name": "#%%\n"
        },
        "id": "u3e3dNSaK1uw"
      },
      "outputs": [],
      "source": [
        "# from sklearn.pipeline import Pipeline\n",
        "# from sklearn.model_selection import cross_val_score, KFold\n",
        "\n",
        "# preprocessor = BaseDataPreprocessor(needed_columns=continuous_columns)\n",
        "\n",
        "# pipe1 = Pipeline([\n",
        "#     ('preprocessor', BaseDataPreprocessor(needed_columns=continuous_columns)),\n",
        "#     ('linear', LinearRegression())\n",
        "# ])\n",
        "\n",
        "# pipe2 = Pipeline([\n",
        "#     ('preprocessor', BaseDataPreprocessor(needed_columns=continuous_columns)),\n",
        "#     ('linear', ExponentialLinearRegression())\n",
        "# ])\n",
        "\n",
        "\n",
        "# print(cross_val_score(pipe1, x_data, y_data, cv=KFold(n_splits=5, shuffle=True, random_state=42), scoring='neg_mean_absolute_error'))\n",
        "# print(cross_val_score(pipe2, x_data, y_data, cv=KFold(n_splits=5, shuffle=True, random_state=42), scoring='neg_mean_absolute_error'))"
      ]
    },
    {
      "cell_type": "code",
      "source": [
        "import numpy as np\n",
        "import pandas as pd\n",
        "from sklearn.model_selection import KFold, cross_val_score\n",
        "from sklearn.linear_model import LinearRegression, Ridge\n",
        "from sklearn.metrics import mean_absolute_error, make_scorer\n",
        "\n",
        "# Объединение данных\n",
        "print(X_train.shape, X_test.shape)\n",
        "data_conc = np.concatenate([X_train, X_test])\n",
        "print(Y_train.shape, Y_test.shape)\n",
        "target = np.concatenate([Y_train, Y_test])\n",
        "\n",
        "# Настройка кросс-валидации\n",
        "cv = KFold(n_splits=5, shuffle=True, random_state=42)\n",
        "mae_scorer = make_scorer(mean_absolute_error, greater_is_better=False)\n",
        "\n",
        "# Linear Regression\n",
        "linear_model = LinearRegression()\n",
        "linear_scores = cross_val_score(linear_model, data_conc, target, scoring=mae_scorer, cv=cv)\n",
        "\n",
        "# Exponential Linear Regression\n",
        "ridge_model = Ridge()\n",
        "exp_model = ExponentialLinearRegression()\n",
        "exp_scores = cross_val_score(exp_model, data_conc, target, scoring=mae_scorer, cv=cv)\n",
        "\n",
        "# Результаты\n",
        "print(\"Linear Regression MAE:\", -np.mean(linear_scores))\n",
        "print(\"Exponential Linear Regression MAE:\", -np.mean(exp_scores))\n"
      ],
      "metadata": {
        "colab": {
          "base_uri": "https://localhost:8080/"
        },
        "id": "4Anv8Cc9tD3K",
        "outputId": "85324878-efda-4988-9ac1-8dec0bbdad62"
      },
      "execution_count": 146,
      "outputs": [
        {
          "output_type": "stream",
          "name": "stdout",
          "text": [
            "(2344, 34) (586, 34)\n",
            "(2344,) (586,)\n",
            "Linear Regression MAE: 23223.563996488974\n",
            "Exponential Linear Regression MAE: 21166.681537752727\n"
          ]
        }
      ]
    },
    {
      "cell_type": "markdown",
      "metadata": {
        "id": "rjFgAA4YK1uw"
      },
      "source": [
        "### 5. Подбор гиперпараметров"
      ]
    },
    {
      "cell_type": "markdown",
      "metadata": {
        "id": "siKQL7pIK1uw"
      },
      "source": [
        "Линейную регрессию почти всегда можно улучшить с помощью регуляризации. Но при этом у нас возникает **гиперпараметр** — коэффициент регуляризации, и подбирать его нужно правильно. Более подробно о подборе гиперпараметров вы можете прочитать в соответствующей главе учебника), а пока мы разберём самые базовые подходы.\n",
        "\n",
        "В этой лабораторной вы познакомитесь с самым тривиальным способом — подбором по сетке. В данном случае это значит, что мы фиксируем несколько значений коэффициента регуляризации ```alpha``` и просто для каждого из них смотрим, что получится. Но важно отметить, что коэффициенты регуляризации стоит перебирать по _логарифмической_ сетке, например: `1e-2, 1e-1, 1, 1e+1, 1e+2`.\n",
        "\n",
        "Разобравшись, что перебирать, перейдём к вопросу о том, как оценивать. Есть два основных подхода:\n",
        "\n",
        "*   Train-Val-Test split. Датасет делится на три части, на одной модели учатся, на другой подбираются гиперпараметры, на третьей считаются финальные метрики. Этот метод довольно шумный, зато быстрый.\n",
        "*   Кроссвалидация. Она значительно дольше, но надёжней. В этом пункте мы воспользуемся именно ей.\n",
        "\n",
        "\n",
        "Возьмите класс [GridSearchCV](https://scikit-learn.org/stable/modules/generated/sklearn.model_selection.GridSearchCV.html) из scikit-learn и с его помощью подберите гиперпараметр ```alpha``` для линейной регрессии с L2-регуляризацией (соответствующий класс зовут Ridge). Возможно, для минимизации разных метрик (_root_mean_squared_logarithmic_error_ и _mean_absolute_error_) понадобятся разные значения гиперпараметров. Выберите из сетки ```np.logspace(-3, 3, num=7, base=10.)``` значение, которое максимизирует _root_mean_squared_logarithmic_error_ для _ExponentialLinearRegression_ и\n",
        "\n",
        "**5. Загрузите оптимальное значение коэффициента регуляризации в Контест**.\n",
        "\n",
        "Параметр `cv` оставьте дефолтным или возьмите `cv=5` (результат не поменяется). Будьте внимательны: по умолчанию `best_score_` у `GridSearchCV` - это _самое большое значение_. Чтобы не попасться в эту ловушку, обратите внимание на параметр `greater_is_better` функции `make_scorer`."
      ]
    },
    {
      "cell_type": "code",
      "execution_count": 147,
      "metadata": {
        "pycharm": {
          "name": "#%%\n"
        },
        "id": "c_otnmqyK1uw",
        "colab": {
          "base_uri": "https://localhost:8080/"
        },
        "outputId": "86cf2efe-81b5-485f-c2bf-37bee414fdc9"
      },
      "outputs": [
        {
          "output_type": "stream",
          "name": "stdout",
          "text": [
            "1000.0 Но это неверный ответ(\n",
            "-0.18739094517632976\n"
          ]
        }
      ],
      "source": [
        "from sklearn.model_selection import GridSearchCV\n",
        "from sklearn.metrics import make_scorer\n",
        "from sklearn.pipeline import Pipeline\n",
        "\n",
        "rmsle_scorer = make_scorer(root_mean_squared_logarithmic_error, greater_is_better=False)\n",
        "linear = ExponentialLinearRegression()\n",
        "\n",
        "pipe = Pipeline([\n",
        "    ('preprocessor', BaseDataPreprocessor(needed_columns=continuous_columns)),\n",
        "    ('linear', ExponentialLinearRegression())\n",
        "])\n",
        "\n",
        "params = {\n",
        "    \"alpha\":np.logspace(-3, 3, num=7, base=10.)\n",
        "}\n",
        "\n",
        "search = GridSearchCV(linear, params, cv=5, scoring=rmsle_scorer)\n",
        "search.fit(data_conc, target)\n",
        "\n",
        "print(search.best_params_[\"alpha\"], \"Но это неверный ответ(\")\n",
        "print(search.best_score_)"
      ]
    },
    {
      "cell_type": "markdown",
      "metadata": {
        "id": "lUYa5U1gK1uw"
      },
      "source": [
        "### 6. Линейная модель своими руками\n",
        "\n",
        "В этом разделе вы напишете собственный класс линейной модели, чтобы лучше разобраться, как работает обучение с помощью SGD."
      ]
    },
    {
      "cell_type": "markdown",
      "metadata": {
        "id": "3-d2onzaK1uw"
      },
      "source": [
        "Линейная модель делает предсказание по такой формуле:\n",
        "$$\n",
        "\\hat{y_i} = \\langle \\vec{w}, \\vec{x_i} \\rangle + b\n",
        "$$\n",
        "Здесь $\\vec{w}$ и b - обучаемые параметры. $\\vec{x_i}$ - вектор фичей данного примера.\n",
        "$\\vec{w}$ и b находятся из задачи минимизации лосс функции:\n",
        "\n",
        "$$\n",
        "\\vec{w}, b = {argmin}_{\\vec{w}, b}(L) \\ ; \\ L = \\frac{1}{N} \\sum_{i=1}^{N} (y_i - \\hat{y_i})^2 + \\lambda \\vec{w}^T\\vec{w}\n",
        "$$"
      ]
    },
    {
      "cell_type": "markdown",
      "metadata": {
        "id": "SMisQdSGK1uw"
      },
      "source": [
        "Задачу минимизации лосс функции мы будем решать градиентным спуском. Для этого надо найти градиенты лосса по параметром модели."
      ]
    },
    {
      "cell_type": "markdown",
      "metadata": {
        "id": "RaB_KihjK1uw"
      },
      "source": [
        "$$\n",
        "\\nabla_b L = \\frac{2}{N} sum(X \\vec{w} + b - \\vec{y})\\\\\n",
        "\\nabla_{\\vec{w}} L = \\frac{2}{N} X^T(X \\vec{w} + b - \\vec{y}) + 2\\lambda \\vec{w}\n",
        "$$"
      ]
    },
    {
      "cell_type": "markdown",
      "metadata": {
        "id": "Ka0Q5OI6K1ux"
      },
      "source": [
        "Теперь давайте реализуем этот алгоритм ввиде класса с методами fit-predict.\n",
        "Что в нем должно быть:\n",
        "1. Класс должен называться ```SGDLinearRegressor```\n",
        "2. Класс должен быть отнаследован от sklearn-овского класса [RegressorMixin](https://scikit-learn.org/stable/modules/generated/sklearn.base.RegressorMixin.html)\n",
        "3. Класс должен инициализироваться со следующими гиперпараметрами:\n",
        "\n",
        "    a. ```lr``` — learning rate. Длина шага градиентного спуска\n",
        "\n",
        "    b. ```regularization``` — коэффициент λ из формулы выше\n",
        "    \n",
        "    c. ```delta_converged``` — устанавливает условие окончание обучение. В тот момент когда норма разности весов на соседних шагах градиентного спуска меньше чем ```delta_converged``` алгоритм перкращает обновлять веса\n",
        "    \n",
        "    d. ```max_steps``` — максимальное число шагов градиентного спуска\n",
        "    \n",
        "    e. ```batch_size``` — размер батча\n",
        "\n",
        "4. Реализуйте **стохастический** градиентный спуск. На каждом шагу градиентного спуска должен формироваться батч размера ```batch_size``` из матрицы признаков. Это нужно для того чтобы алгоритм быстрее сходился. Батч может выбираться случайно на каждом шаге градиентного спуска, либо каждую эпоху можно перемешивать трейн выборку и итерироваться батчами по ней."
      ]
    },
    {
      "cell_type": "markdown",
      "metadata": {
        "pycharm": {
          "name": "#%% md\n"
        },
        "id": "WFIb9mjWK1ux"
      },
      "source": [
        "Обратите внимание при реализации SGD на следующие моменты (частые ошибки):\n",
        "* не перепутайте, какие коэффициенты в SGD стоят при самой функции потерь, а какие — при регуляризационном члене. Правильный вариант: $\\frac{\\alpha}{batch\\_size}$ при градиенте MSE, $\\alpha\\lambda$ при градиенте регуляризатора.\n",
        "* для остановки нужно сравнивать норму, а не ее квадрат\n",
        "* для правильного решения нужно не итерироваться по батчу,  а перемножать матрицы (иначе не зайдет по TL)\n",
        "* метод `predict` должен возвращать одномерный numpy array (не двумерный вектор-столбец формы (X.shape[1], 1))"
      ]
    },
    {
      "cell_type": "code",
      "source": [
        "s = np.random.choice(np.arange(14), size=7, replace=False)"
      ],
      "metadata": {
        "id": "gdcOKBN5INtB"
      },
      "execution_count": 148,
      "outputs": []
    },
    {
      "cell_type": "code",
      "execution_count": 149,
      "metadata": {
        "pycharm": {
          "name": "#%%\n"
        },
        "id": "AYmQ4zSkK1ux"
      },
      "outputs": [],
      "source": [
        "class SGDLinearRegressor(RegressorMixin):\n",
        "    def __init__(self,\n",
        "                 lr=0.01, regularization=1., delta_converged=1e-3, max_steps=1000,\n",
        "                 batch_size=64):\n",
        "        self.lr = lr\n",
        "        self.regularization = regularization\n",
        "        self.max_steps = max_steps\n",
        "        self.delta_converged = delta_converged\n",
        "        self.batch_size = batch_size\n",
        "\n",
        "        self.W = None\n",
        "        self.b = None\n",
        "\n",
        "    def step(self, X_batch, Y_batch):\n",
        "        Y_pred = X_batch@self.W + self.b\n",
        "        self.b -= self.lr * 2/self.batch_size*np.sum(Y_pred - Y_batch)\n",
        "        self.W -= self.lr * (2/self.batch_size*(X_batch.T @ (Y_pred - Y_batch)) + 2*self.regularization*self.W)\n",
        "        return self\n",
        "\n",
        "    def gen_batch(self, X, Y):\n",
        "        sample = np.random.choice(self.N, size=self.batch_size, replace=False)\n",
        "        return  X[sample], Y[sample].reshape(-1, 1)\n",
        "\n",
        "\n",
        "\n",
        "    def fit(self, X, Y):\n",
        "        self.N, n_fea = X.shape\n",
        "        self.W = 5 * np.random.random_sample((n_fea, 1))\n",
        "        self.b = np.random.random_sample()\n",
        "\n",
        "        X_batch, Y_batch = self.gen_batch(X, Y)\n",
        "        self.step(X_batch, Y_batch)\n",
        "\n",
        "        old_W = np.copy(self.W)\n",
        "        for _ in range(self.max_steps):\n",
        "            X_batch, Y_batch = self.gen_batch(X, Y)\n",
        "            self.step(X_batch, Y_batch)\n",
        "\n",
        "            if np.linalg.norm(self.W - old_W) < self.delta_converged:\n",
        "                break\n",
        "            old_W = np.copy(self.W)\n",
        "\n",
        "        return self\n",
        "\n",
        "    def predict(self, X):\n",
        "        return np.array(X@self.W + self.b).ravel()"
      ]
    },
    {
      "cell_type": "code",
      "execution_count": 150,
      "metadata": {
        "pycharm": {
          "name": "#%%\n"
        },
        "id": "DanmLPpaK1ux",
        "colab": {
          "base_uri": "https://localhost:8080/"
        },
        "outputId": "fc88d565-a839-4ab5-b62a-e15254bfce96"
      },
      "outputs": [
        {
          "output_type": "stream",
          "name": "stdout",
          "text": [
            "(586,) (586,)\n",
            "MAE :  25628.60586778885\n",
            "Mean log :  0.18877366068798096\n"
          ]
        }
      ],
      "source": [
        "# Check yourself\n",
        "\n",
        "model = SGDLinearRegressor()\n",
        "model.fit(X_train, Y_train)\n",
        "\n",
        "prediction = model.predict(X_test)\n",
        "print(Y_test.shape, prediction.shape)\n",
        "print(\"MAE : \", mean_absolute_error(Y_test, prediction))\n",
        "print(\"Mean log : \", root_mean_squared_logarithmic_error(Y_test, prediction))"
      ]
    },
    {
      "cell_type": "code",
      "source": [
        "X_train.shape"
      ],
      "metadata": {
        "colab": {
          "base_uri": "https://localhost:8080/"
        },
        "id": "BjULjmYNHI6_",
        "outputId": "0aa6394f-9304-4567-cdfb-dff9a52174ea"
      },
      "execution_count": 151,
      "outputs": [
        {
          "output_type": "execute_result",
          "data": {
            "text/plain": [
              "(2344, 34)"
            ]
          },
          "metadata": {},
          "execution_count": 151
        }
      ]
    },
    {
      "cell_type": "markdown",
      "metadata": {
        "id": "gdVXFO2aK1ux"
      },
      "source": [
        "### 7. Категориальные признаки"
      ]
    },
    {
      "cell_type": "markdown",
      "metadata": {
        "id": "npUKbcsbK1ux"
      },
      "source": [
        "В самом начале ноутбука мы отбросили категориальные фичи, хотя они могут помочь нам сделать модель лучше. Давайте же научимся ими пользоваться.\n",
        "\n",
        "Самый простой подход — это закодировать значения категориального признака числами, скажем, от $0$ до $C-1$, где $C$ — количество значений категориального признака. Иногда это может сработать, но для этого нужно, чтобы между значениями признака были определены отношения больше/меньше (такие признаки называются _ординальными_), причём соотношения между значениями должны быть более-менее линейными. В целом, не очень частая ситуация, поэтому так мы делать не будем.\n",
        "\n",
        "Вместо этого мы будем использовать OneHotEncoding. Пусть некоторая категориальная фича имеет $C$ уникальных значений. Давайте эту фичу закодируем в виде $C$ столбцов, каждый из которых соответствует некоторому уникальному значению категориальной фичи. Для каждого элемента выборки будем класть единичку в столбец, соответствующий этой фиче, и нолики в остальные.\n",
        "\n",
        "У этого метода есть недостаток. Если категориальная фича принимает слишком много значений, то вы нагенерируете много новых столбцов, каждый из которых будет содержать мало информации. Из-за них моделька может переобучиться.\n",
        "\n",
        "Этот метод имплементирован [здесь](https://scikit-learn.org/stable/modules/generated/sklearn.preprocessing.OneHotEncoder.html). У него есть пара важных гиперпараметров, которые стоит упомянуть:\n",
        "- ```handle_unknown``` - управляет обработкой незнакомых категорий на этапе `transform`. Число уникальных значений (и число столбцов) настраивается на обучающей выборке, и при дальнейшем применении может появиться значение, которого ещё не было. Если указать ```handle_unknown=\"ignore\"```, все поля для такого объекта будут заполнены нулями.\n",
        "- ```drop``` - если делать one-hot-encoding так как это описано выше, то сумма всех столбцов, соответствующих значениям категориальной фичи, будет равна единичному вектору. А такой вектор уже есть (он соответствует свободному члену). То есть признаки становятся линейно зависимыми, и это сломает процесс обучения линейной модели. Поэтому есть смысл для каждой фичи отбрасывать одну из получившихся колонок (```drop=\"first\"```) или хотя бы делать это только для бинарных фичей (```drop=\"if_binary\"```)"
      ]
    },
    {
      "cell_type": "markdown",
      "metadata": {
        "id": "V0es5bKeK1ux"
      },
      "source": [
        "В этом пункте вам надо еще раз предобработать данные, добавив в них часть категориальных фичей, закодированных OneHotEncoding-ом. После этого обучите классификатор заново и выбейте лучшую метрику на тестовой выборке. А именно, мы добавим фичи \"Overall_Qual\", \"Garage_Qual\", \"Sale_Condition\", \"MS_Zoning\". Используйте значение параметра handle_unknown=\"ignore\".\n",
        "\n",
        "*На практике в некоторых версиях scikit-learn есть проблема с совместимостью `handle_unknown=\"ignore\"` и `drop=\"first\"` одновременно, поэтому вторым можно пожертвовать.\n",
        "\n",
        "Класс будет наследоваться от BaseDataPreprocessor, так что в него можно будет передавать нужные для BaseDataPreprocessor параметры. Также это позволит не переписывать заново то, что происходит в базовом классе, а просто взывать к ним с помощью конструкции `super`."
      ]
    },
    {
      "cell_type": "code",
      "source": [
        "# categorical_columns\n",
        "from sklearn.preprocessing import OneHotEncoder"
      ],
      "metadata": {
        "id": "kZlh8oxRV357"
      },
      "execution_count": 152,
      "outputs": []
    },
    {
      "cell_type": "code",
      "source": [
        "from sklearn.base import TransformerMixin\n",
        "from sklearn.preprocessing import StandardScaler\n",
        "import pandas as pd\n",
        "import numpy as np\n",
        "from typing import Optional, List\n",
        "\n",
        "class BaseDataPreprocessor(TransformerMixin):\n",
        "    def __init__(self, needed_columns: Optional[List[str]]=None):\n",
        "        \"\"\"\n",
        "        :param needed_columns: if not None select these columns from the dataframe\n",
        "        \"\"\"\n",
        "        self.needed_columns = needed_columns\n",
        "        self.scaler = StandardScaler()\n",
        "\n",
        "\n",
        "    def fit(self, data, *args):\n",
        "        \"\"\"\n",
        "        Prepares the class for future transformations\n",
        "        :param data: pd.DataFrame with all available columns\n",
        "        :return: self\n",
        "        \"\"\"\n",
        "        if self.needed_columns:\n",
        "            data = data[self.needed_columns]\n",
        "\n",
        "        self.scaler.fit(data)\n",
        "        return self\n",
        "\n",
        "        # self.means = np.array([np.mean(data[col]) for col in data.columns])\n",
        "        # self.stds = np.array([np.std(data[col]) for col in data.columns])\n",
        "        # return self\n",
        "\n",
        "\n",
        "    def transform(self, data: pd.DataFrame) -> np.array:\n",
        "        \"\"\"\n",
        "        Transforms features so that they can be fed into the regressors\n",
        "        :param data: pd.DataFrame with all available columns\n",
        "        :return: np.array with preprocessed features\n",
        "        \"\"\"\n",
        "        if self.needed_columns:\n",
        "            data = data[self.needed_columns]\n",
        "        return self.scaler.transform(data)\n",
        "\n",
        "        # data -= self.means\n",
        "        # data /= self.stds\n",
        "        # return data\n",
        "\n",
        "    # def fit_transform(self, data: pd.DataFrame) -> np.array:\n",
        "    #     return self.fit(data).transform(data)"
      ],
      "metadata": {
        "id": "gmaoWLYjV371"
      },
      "execution_count": 153,
      "outputs": []
    },
    {
      "cell_type": "code",
      "execution_count": 154,
      "metadata": {
        "pycharm": {
          "name": "#%%\n"
        },
        "id": "GLKyWMP1K1ux"
      },
      "outputs": [],
      "source": [
        "interesting_columns = [\"Overall_Qual\", \"Garage_Qual\", \"Sale_Condition\", \"MS_Zoning\"]\n",
        "\n",
        "class OneHotPreprocessor(BaseDataPreprocessor):\n",
        "    def __init__(self, **kwargs):\n",
        "        super(OneHotPreprocessor, self).__init__(**kwargs)\n",
        "        self.enc = OneHotEncoder(handle_unknown='ignore', sparse_output=False)\n",
        "\n",
        "    def fit(self, data, *args):\n",
        "        super().fit(data, *args)\n",
        "\n",
        "        self.enc.fit(data[interesting_columns])\n",
        "        return self\n",
        "\n",
        "    def transform(self, data):\n",
        "        encoded = self.enc.transform(data[interesting_columns])\n",
        "        scaled = super().transform(data)\n",
        "        return np.hstack([scaled, encoded])\n"
      ]
    },
    {
      "cell_type": "code",
      "source": [
        "preprocessor = OneHotPreprocessor(needed_columns=continuous_columns)\n",
        "\n",
        "X_train = preprocessor.fit_transform(data_train)\n",
        "X_test = preprocessor.transform(data_test)\n",
        "\n",
        "print(type(X_train), type(X_test))\n",
        "X_train.shape, X_test.shape"
      ],
      "metadata": {
        "colab": {
          "base_uri": "https://localhost:8080/"
        },
        "id": "_9Dc727zWrZc",
        "outputId": "aaa9eb4b-ea79-451a-c135-5331242d9633"
      },
      "execution_count": 155,
      "outputs": [
        {
          "output_type": "stream",
          "name": "stdout",
          "text": [
            "<class 'numpy.ndarray'> <class 'numpy.ndarray'>\n"
          ]
        },
        {
          "output_type": "execute_result",
          "data": {
            "text/plain": [
              "((2344, 63), (586, 63))"
            ]
          },
          "metadata": {},
          "execution_count": 155
        }
      ]
    },
    {
      "cell_type": "code",
      "source": [
        "# Check myself\n",
        "\n",
        "model = SGDLinearRegressor()\n",
        "model.fit(X_train, Y_train)\n",
        "\n",
        "prediction = model.predict(X_test)\n",
        "print(Y_test.shape, prediction.shape)\n",
        "print(\"MAE : \", mean_absolute_error(Y_test, prediction))\n",
        "print(\"Mean log : \", root_mean_squared_logarithmic_error(Y_test, prediction))"
      ],
      "metadata": {
        "colab": {
          "base_uri": "https://localhost:8080/"
        },
        "id": "HQJx2gTobFQq",
        "outputId": "43526907-9fac-4d01-8fa5-8b1c2a29fbe1"
      },
      "execution_count": 156,
      "outputs": [
        {
          "output_type": "stream",
          "name": "stdout",
          "text": [
            "(586,) (586,)\n",
            "MAE :  24928.99413645951\n",
            "Mean log :  0.1861591456733915\n"
          ]
        }
      ]
    },
    {
      "cell_type": "markdown",
      "metadata": {
        "id": "v80RppKdK1ux"
      },
      "source": [
        "Обучите модель с добавленными категориальными фичами. Получилось ли улучшить её качество?"
      ]
    },
    {
      "cell_type": "markdown",
      "metadata": {
        "id": "fWYh1NPbK1uy"
      },
      "source": [
        "### 8. Pipeline"
      ]
    },
    {
      "cell_type": "markdown",
      "metadata": {
        "id": "PlzhlXoLK1uy"
      },
      "source": [
        "Представьте ситуацию. Прошел месяц с того момента, как вы построили модель, а теперь вам надо дообучить её на новых данных и активно применять для предсказания. Если вы не позаботились об инфраструктуре, то вам придётся рыскать по всему ноутбуку в поисках того, как вы предобрабатывали данные, какую модель учили, обязательно что-нибудь забудете и будете очень страдать. Поэтому человечество придумало пайплайны, которые позволяют объединить предобработку данных и обучение модели в один класс — pipeline. Его можно писать самому, либо взять из sklearn ([link](https://scikit-learn.org/stable/modules/generated/sklearn.pipeline.Pipeline.html)).\n",
        "\n",
        "**7. Напишите пайплайн, объединяющий использованную нами базовую предобработку данных (BaseDataPreprocessor и OneHotPreprocessor), а также линейную регрессию с L2-регуляризацией, и сдайте его в Контест.**"
      ]
    },
    {
      "cell_type": "code",
      "execution_count": 157,
      "metadata": {
        "pycharm": {
          "name": "#%%\n"
        },
        "id": "a6udrWyYK1uy"
      },
      "outputs": [],
      "source": [
        "from sklearn.pipeline import Pipeline\n",
        "from sklearn.base import TransformerMixin\n",
        "from sklearn.preprocessing import StandardScaler\n",
        "import pandas as pd\n",
        "import numpy as np\n",
        "from typing import Optional, List\n",
        "from sklearn.linear_model import Ridge\n",
        "from sklearn.preprocessing import OneHotEncoder\n",
        "\n",
        "class BaseDataPreprocessor(TransformerMixin):\n",
        "    def __init__(self, needed_columns: Optional[List[str]]=None):\n",
        "        \"\"\"\n",
        "        :param needed_columns: if not None select these columns from the dataframe\n",
        "        \"\"\"\n",
        "        self.needed_columns = needed_columns\n",
        "        self.scaler = StandardScaler()\n",
        "\n",
        "\n",
        "    def fit(self, data, *args):\n",
        "        \"\"\"\n",
        "        Prepares the class for future transformations\n",
        "        :param data: pd.DataFrame with all available columns\n",
        "        :return: self\n",
        "        \"\"\"\n",
        "        if self.needed_columns:\n",
        "            data = data[self.needed_columns]\n",
        "\n",
        "        self.scaler.fit(data)\n",
        "        return self\n",
        "\n",
        "    def transform(self, data: pd.DataFrame) -> np.array:\n",
        "        \"\"\"\n",
        "        Transforms features so that they can be fed into the regressors\n",
        "        :param data: pd.DataFrame with all available columns\n",
        "        :return: np.array with preprocessed features\n",
        "        \"\"\"\n",
        "        if self.needed_columns:\n",
        "            data = data[self.needed_columns]\n",
        "        return self.scaler.transform(data)\n",
        "\n",
        "\n",
        "interesting_columns = [\"Overall_Qual\", \"Garage_Qual\", \"Sale_Condition\", \"MS_Zoning\"]\n",
        "class OneHotPreprocessor(BaseDataPreprocessor):\n",
        "    def __init__(self, **kwargs):\n",
        "        super(OneHotPreprocessor, self).__init__(**kwargs)\n",
        "        self.enc = OneHotEncoder(handle_unknown='ignore', sparse_output=False)\n",
        "\n",
        "    def fit(self, data, *args):\n",
        "        super().fit(data, *args)\n",
        "\n",
        "        self.enc.fit(data[interesting_columns])\n",
        "        return self\n",
        "\n",
        "    def transform(self, data):\n",
        "        encoded = self.enc.transform(data[interesting_columns])\n",
        "        scaled = super().transform(data)\n",
        "        return np.hstack([scaled, encoded])\n",
        "\n",
        "# def make_ultimate_pipeline(needed_columns):\n",
        "def make_ultimate_pipeline(**kwargs):\n",
        "    pipe = Pipeline([\n",
        "        ('preprocessor', OneHotPreprocessor(**kwargs)),\n",
        "        ('regr', Ridge())\n",
        "    ])\n",
        "\n",
        "    return pipe"
      ]
    },
    {
      "cell_type": "code",
      "source": [
        "# data_train, data_test, Y_train, Y_test"
      ],
      "metadata": {
        "id": "La5vSIbegoGQ"
      },
      "execution_count": 158,
      "outputs": []
    },
    {
      "cell_type": "code",
      "source": [
        "model = make_ultimate_pipeline(needed_columns=continuous_columns)\n",
        "\n",
        "# continuous_columns = [key for key in data.keys() if data[key].dtype in (\"int64\", \"float64\")]\n",
        "\n",
        "model.fit(data_train, Y_train)\n",
        "\n",
        "prediction = model.predict(data_test)\n",
        "print(Y_test.shape, prediction.shape)\n",
        "print(\"MAE : \", mean_absolute_error(Y_test, prediction))\n",
        "print(\"Mean log : \", root_mean_squared_logarithmic_error(Y_test, prediction))"
      ],
      "metadata": {
        "colab": {
          "base_uri": "https://localhost:8080/"
        },
        "id": "o0cv2xdkcHaK",
        "outputId": "6e494237-3b6f-4381-c100-fec3dc679431"
      },
      "execution_count": 159,
      "outputs": [
        {
          "output_type": "stream",
          "name": "stdout",
          "text": [
            "(586,) (586,)\n",
            "MAE :  18303.66640040049\n",
            "Mean log :  0.15713545940502052\n"
          ]
        }
      ]
    },
    {
      "cell_type": "markdown",
      "metadata": {
        "id": "XqmOG-epK1uz"
      },
      "source": [
        "В этом пункте вы попробуете сделать что-то поинтереснее и загрузите плоды ваших трудов в Контест.\n",
        "\n",
        "Попробуйте усовершенствовать предобработку данных, добавляя или выкидывая фичи, придумывая функции от признаков так, чтобы улучшить качество классификатора.\n",
        "\n",
        "Ещё несколько базовых идей о том, что можно было бы попробовать:\n",
        "\n",
        "- Постройте гистограммы значений признаков. Вы обнаружите, что некоторые из них почти всегда принимают одно и то же значение. Для начала их можно просто выкинуть.\n",
        "- Почистите выбросы. У некоторых объектов значения каких-то признаков могут сильно выбиваться, и это будет мешать регрессии обучиться. Вообще говоря, такие объекты можно выкидывать, но с текущей архитектурой пайплайна вам будет трудно это настроить. Так что вы можете пока заменять их на более разумные значения.\n",
        "- Мы добавили лишь несколько категориальных признаков, а на самом деле многие из них могут быть полезными.\n",
        "- Можно дискретизовать непрерывные фичи. Самый банальный пример: если непрерывная фича принимает всего несколько значений, её можно попробовать проинтерпретировать, как категориальную, и подать в one-hot энкодер. Но можно и как-то ещё разбивать по порогам.\n",
        "- Можно делать и более сложные преобразования. Например в датасете есть координаты квартиры, которые по идее сами по себе мало чего дают нашему регрессору. С другой стороны, по ним можно оценить центр города (или просто найти его на карте) и использовать в качестве фичи расстояние до центра города, которое может естественным образом влиять на цену жилья.\n",
        "- Не забывайте настраивать коэффициент регуляризации: для разных датасетов оптимальное значение будет разным.\n",
        "\n",
        "**В контест вам нужно будет сдать свой класс модели**. Он будет обучаться и тестироваться на новом и неизвестном вам разбиении датасета на трейн и тест по метрике `root_mean_squared_logarithmic_error`.\n",
        "В контесте будет специально проверено, что вы сдаёте именно `Pipeline`.\n",
        "\n",
        "Не забывайте, что вместе с пайплайном вам нужно отправить и все самописные классы, которые в нём участвуют.\n"
      ]
    },
    {
      "cell_type": "code",
      "source": [],
      "metadata": {
        "id": "skdjlKIWit8t"
      },
      "execution_count": null,
      "outputs": []
    }
  ],
  "metadata": {
    "kernelspec": {
      "display_name": "Python 3 (ipykernel)",
      "language": "python",
      "name": "python3"
    },
    "language_info": {
      "codemirror_mode": {
        "name": "ipython",
        "version": 3
      },
      "file_extension": ".py",
      "mimetype": "text/x-python",
      "name": "python",
      "nbconvert_exporter": "python",
      "pygments_lexer": "ipython3",
      "version": "3.8.10"
    },
    "colab": {
      "provenance": []
    }
  },
  "nbformat": 4,
  "nbformat_minor": 0
}