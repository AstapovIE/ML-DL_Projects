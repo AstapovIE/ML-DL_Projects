{
  "nbformat": 4,
  "nbformat_minor": 0,
  "metadata": {
    "colab": {
      "provenance": []
    },
    "kernelspec": {
      "name": "python3",
      "display_name": "Python 3"
    },
    "language_info": {
      "name": "python"
    }
  },
  "cells": [
    {
      "cell_type": "markdown",
      "source": [
        "# Imports"
      ],
      "metadata": {
        "id": "KQ9tSPfdgQhj"
      }
    },
    {
      "cell_type": "code",
      "source": [
        "import string\n",
        "import os\n",
        "import re\n",
        "\n",
        "import torch\n",
        "\n",
        "import torch, torch.nn as nn\n",
        "import torch.nn.functional as F\n",
        "from torch.autograd import Variable\n",
        "\n",
        "from IPython.display import clear_output\n",
        "from random import sample\n",
        "import numpy as np\n",
        "import matplotlib.pyplot as plt\n",
        "\n",
        "import pandas as pd\n",
        "import numpy as np\n",
        "from IPython.display import clear_output\n",
        "import matplotlib.pyplot as plt"
      ],
      "metadata": {
        "id": "MvKvLZfg89sZ"
      },
      "execution_count": 1,
      "outputs": []
    },
    {
      "cell_type": "code",
      "source": [
        "device = \"cuda\" if torch.cuda.is_available() else \"cpu\"\n",
        "print(device, \"never mind, cuz will use cpu\")"
      ],
      "metadata": {
        "colab": {
          "base_uri": "https://localhost:8080/"
        },
        "id": "qIf4YLrE8-IE",
        "outputId": "d30b2c1a-0a2a-478d-ac26-6cb3348d5ba0"
      },
      "execution_count": 2,
      "outputs": [
        {
          "output_type": "stream",
          "name": "stdout",
          "text": [
            "cpu\n"
          ]
        }
      ]
    },
    {
      "cell_type": "code",
      "source": [
        "with open(\"/content/sequences.fasta\", \"r\") as f:\n",
        "    text = f.readlines()\n",
        "\n",
        "print(f\"{len(text)} строк\")"
      ],
      "metadata": {
        "colab": {
          "base_uri": "https://localhost:8080/"
        },
        "id": "h1j40_6n8-KG",
        "outputId": "397882e8-1539-4ae0-fb00-1bb2c6993811"
      },
      "execution_count": 3,
      "outputs": [
        {
          "output_type": "execute_result",
          "data": {
            "text/plain": [
              "9605"
            ]
          },
          "metadata": {},
          "execution_count": 3
        }
      ]
    },
    {
      "cell_type": "markdown",
      "source": [
        "# DataPreparing"
      ],
      "metadata": {
        "id": "LlH4R6W1NIpo"
      }
    },
    {
      "cell_type": "code",
      "source": [
        "text[0]"
      ],
      "metadata": {
        "colab": {
          "base_uri": "https://localhost:8080/",
          "height": 36
        },
        "id": "CzecgjKDHs94",
        "outputId": "f3760f9e-6ba5-49eb-af6f-d656be3612c0"
      },
      "execution_count": 4,
      "outputs": [
        {
          "output_type": "execute_result",
          "data": {
            "text/plain": [
              "'>Caenorhabditis|NP_505463.1|H2A|cH2A organism=Caenorhabditis elegans phylum=Nematoda class=Chromadorea\\n'"
            ],
            "application/vnd.google.colaboratory.intrinsic+json": {
              "type": "string"
            }
          },
          "metadata": {},
          "execution_count": 4
        }
      ]
    },
    {
      "cell_type": "markdown",
      "source": [
        " > последовательность гистона состоит из 17-ти строк (включая строку с идентификатором)"
      ],
      "metadata": {
        "id": "-yg624WYcVGg"
      }
    },
    {
      "cell_type": "code",
      "source": [
        "text[:18]"
      ],
      "metadata": {
        "colab": {
          "base_uri": "https://localhost:8080/"
        },
        "id": "jQ1tGuuO8-MC",
        "outputId": "ce6a8159-64d0-428b-ebeb-f91df6eaf815"
      },
      "execution_count": 5,
      "outputs": [
        {
          "output_type": "execute_result",
          "data": {
            "text/plain": [
              "['>Caenorhabditis|NP_505463.1|H2A|cH2A organism=Caenorhabditis elegans phylum=Nematoda class=Chromadorea\\n',\n",
              " '------------------------------------------------------------\\n',\n",
              " '------------------------------------------------------------\\n',\n",
              " '------------------------------------------------------------\\n',\n",
              " '-MSGR-------------------------------------------------------\\n',\n",
              " '----------GKG-G-----------------------------------KAK-------\\n',\n",
              " '----TGG-KA---KS------------------R-SSR----AGLQFPVG----------\\n',\n",
              " '------------------------------------------------------------\\n',\n",
              " '-RLHRIL--RKGNYAQ--RV-----------GA-------------GAPVYL--A----A\\n',\n",
              " 'VLEYLAA----------EV----LELA----GN----------AA--R----D-N----K\\n',\n",
              " 'KT----------RI-------APRHL-QLA--------VRNDEELN-KLLA-G---VT--\\n',\n",
              " '-----------IAQG-----------GVLPNIQA----------VL--LPKKTAGDKE--\\n',\n",
              " '------------------------------------------------------------\\n',\n",
              " '------------------------------------------------------------\\n',\n",
              " '------------------------------------------------------------\\n',\n",
              " '------------------------------------------------------------\\n',\n",
              " '--------\\n',\n",
              " '>Ixodes|EEC09557.1|H2A|cH2A organism=Ixodes scapularis phylum=Arthropoda class=Arachnida\\n']"
            ]
          },
          "metadata": {},
          "execution_count": 5
        }
      ]
    },
    {
      "cell_type": "code",
      "source": [
        "histon_line_length = 17"
      ],
      "metadata": {
        "id": "eR7r07UNHFlR"
      },
      "execution_count": 6,
      "outputs": []
    },
    {
      "cell_type": "code",
      "source": [
        "histons_number = str(text).count(\">\")\n",
        "histons_number\n",
        "# столько гистонов"
      ],
      "metadata": {
        "colab": {
          "base_uri": "https://localhost:8080/"
        },
        "id": "c-Hkiq5uAXbb",
        "outputId": "a3f85374-0b39-4069-e4f3-c511890a9360"
      },
      "execution_count": 7,
      "outputs": [
        {
          "output_type": "execute_result",
          "data": {
            "text/plain": [
              "565"
            ]
          },
          "metadata": {},
          "execution_count": 7
        }
      ]
    },
    {
      "cell_type": "code",
      "source": [
        "unique_chars = set()\n",
        "histone_types = set()\n",
        "\n",
        "for line in text:\n",
        "    if line.startswith('>'):\n",
        "        # тип гистона\n",
        "        histone_type = line.split('|')[2]\n",
        "        histone_types.add(histone_type)\n",
        "    else:\n",
        "        # Символы из последовательности гистона\n",
        "        unique_chars.update(line.strip())\n",
        "\n",
        "# Объединяем множества\n",
        "vocab = unique_chars | histone_types\n",
        "\n",
        "vocab_size = len(vocab)\n",
        "print(f\"Количество элементов в словаре vocab: {vocab_size}\")\n"
      ],
      "metadata": {
        "colab": {
          "base_uri": "https://localhost:8080/"
        },
        "id": "yxg-OisxA8Qn",
        "outputId": "644bbb02-90c4-4574-e46f-3bacf7554819"
      },
      "execution_count": 8,
      "outputs": [
        {
          "output_type": "stream",
          "name": "stdout",
          "text": [
            "Количество элементов в словаре vocab: 28\n"
          ]
        }
      ]
    },
    {
      "cell_type": "code",
      "source": [
        "token2idx = {c: i for i, c in enumerate(vocab)}\n",
        "idx2token = {i: c for i, c in enumerate(vocab)}"
      ],
      "metadata": {
        "id": "72zgCXoxEbk5"
      },
      "execution_count": 9,
      "outputs": []
    },
    {
      "cell_type": "code",
      "source": [
        "id = token2idx[\"D\"]\n",
        "id"
      ],
      "metadata": {
        "colab": {
          "base_uri": "https://localhost:8080/"
        },
        "id": "z44cphdqEbmw",
        "outputId": "8ba0cb89-c7e9-4fb9-a029-cc1b99e7bf81"
      },
      "execution_count": 10,
      "outputs": [
        {
          "output_type": "execute_result",
          "data": {
            "text/plain": [
              "27"
            ]
          },
          "metadata": {},
          "execution_count": 10
        }
      ]
    },
    {
      "cell_type": "code",
      "source": [
        "idx2token[id]"
      ],
      "metadata": {
        "colab": {
          "base_uri": "https://localhost:8080/",
          "height": 36
        },
        "id": "ccdMNMyoE4Vd",
        "outputId": "4e9ea62f-13d8-4b61-8bf7-d55da23a640a"
      },
      "execution_count": 11,
      "outputs": [
        {
          "output_type": "execute_result",
          "data": {
            "text/plain": [
              "'H3'"
            ],
            "application/vnd.google.colaboratory.intrinsic+json": {
              "type": "string"
            }
          },
          "metadata": {},
          "execution_count": 11
        }
      ]
    },
    {
      "cell_type": "markdown",
      "source": [
        "> делаем обучающую выборку:\n",
        " * Х - послед. гистона\n",
        " * у - тип гистона"
      ],
      "metadata": {
        "id": "TE4n-c9KcxUV"
      }
    },
    {
      "cell_type": "code",
      "source": [
        "histon_types = []\n",
        "histons = []\n",
        "\n",
        "for i in range(histons_number):\n",
        "    histon_type_i = i * histon_line_length\n",
        "    histon_start = histon_type_i + 1\n",
        "    histon_end = (i+1) * histon_line_length\n",
        "\n",
        "    histon_types.append(text[histon_type_i].split('|')[2])\n",
        "    histons.append(str(\"\".join(text[histon_start:histon_end])).replace('\\n', ''))\n",
        "\n",
        "histons = np.array(histons)\n",
        "histon_types = np.array(histon_types)"
      ],
      "metadata": {
        "id": "wMhgP_j0E9el"
      },
      "execution_count": 13,
      "outputs": []
    },
    {
      "cell_type": "code",
      "source": [
        "histons.shape, histon_types.shape"
      ],
      "metadata": {
        "colab": {
          "base_uri": "https://localhost:8080/"
        },
        "id": "o8y1hoBsE9iR",
        "outputId": "5b1f8ec2-24b4-4f2d-c804-319bb5a2726f"
      },
      "execution_count": 14,
      "outputs": [
        {
          "output_type": "execute_result",
          "data": {
            "text/plain": [
              "((565,), (565,))"
            ]
          },
          "metadata": {},
          "execution_count": 14
        }
      ]
    },
    {
      "cell_type": "code",
      "source": [
        "histons_tensor = torch.tensor([[ token2idx[char] for char in token ] for token in histons], dtype=int)\n",
        "histon_types_tensor = torch.tensor([ token2idx[token] for token in histon_types], dtype=int)\n",
        "histons_tensor.shape, histon_types_tensor.shape"
      ],
      "metadata": {
        "colab": {
          "base_uri": "https://localhost:8080/"
        },
        "id": "g6SXIY9OE9kI",
        "outputId": "10ce61ee-6478-451b-8036-1f73cf8877ab"
      },
      "execution_count": 15,
      "outputs": [
        {
          "output_type": "execute_result",
          "data": {
            "text/plain": [
              "(torch.Size([565, 908]), torch.Size([565]))"
            ]
          },
          "metadata": {},
          "execution_count": 15
        }
      ]
    },
    {
      "cell_type": "markdown",
      "source": [
        "#Model"
      ],
      "metadata": {
        "id": "dYioGPqCNBop"
      }
    },
    {
      "cell_type": "code",
      "execution_count": 49,
      "metadata": {
        "id": "jqIMz1Cg8ntT"
      },
      "outputs": [],
      "source": [
        "class RNNWithAttentionModel(nn.Module):\n",
        "   def __init__(self, vocab_size, embedding_dim, hidden_dim, random_seed=5):\n",
        "       super(RNNWithAttentionModel, self).__init__()\n",
        "       torch.manual_seed(random_seed)\n",
        "       torch.cuda.manual_seed(random_seed)\n",
        "       torch.backends.cudnn.deterministic = True\n",
        "       torch.backends.cudnn.benchmark = False\n",
        "       # Create an embedding layer for the vocabulary\n",
        "       self.embeddings = nn.Embedding(vocab_size, embedding_dim)\n",
        "       # Create an RNN layer\n",
        "       self.rnn = nn.RNN(embedding_dim, hidden_dim, batch_first=True)\n",
        "       # Apply a linear transformation to get the attention scores\n",
        "       self.attention = nn.Linear(hidden_dim, 1)\n",
        "\n",
        "       self.fc = nn.Linear(hidden_dim, vocab_size)\n",
        "   def forward(self, x):\n",
        "       x = self.embeddings(x)\n",
        "       out, _ = self.rnn(x)\n",
        "       attention_out = self.attention(out).squeeze(2)\n",
        "       #  Get the attention weights\n",
        "       attention_weights = nn.functional.softmax(attention_out, dim=1)\n",
        "       # Compute the context vector\n",
        "       context = torch.bmm(attention_weights.unsqueeze(1), out).squeeze(1)\n",
        "\n",
        "       out = self.fc(context)\n",
        "       return out\n"
      ]
    },
    {
      "cell_type": "code",
      "source": [
        "embedding_dim = 5\n",
        "hidden_dim = 9\n",
        "sequence_length = histons_tensor.shape[1]\n",
        "batch_size = 64\n",
        "\n",
        "train = torch.utils.data.TensorDataset(histons_tensor, histon_types_tensor)\n",
        "train_loader = torch.utils.data.DataLoader(train, batch_size=batch_size, shuffle=True)\n",
        "\n",
        "model = RNNWithAttentionModel(vocab_size, embedding_dim, hidden_dim)\n",
        "\n",
        "criterion = nn.CrossEntropyLoss()\n",
        "optimizer = torch.optim.Adam(model.parameters(), lr=0.01)\n",
        "\n",
        "print(histons_tensor.shape, histon_types_tensor.shape)\n",
        "\n",
        "# Training loop\n",
        "num_epochs = 100\n",
        "for epoch in range(num_epochs+1):\n",
        "    for X, y in train_loader:\n",
        "        outputs = model(X)\n",
        "        loss = criterion(outputs, y)\n",
        "\n",
        "        optimizer.zero_grad()\n",
        "        loss.backward()\n",
        "        optimizer.step()\n",
        "\n",
        "        # Accuracy calculation\n",
        "        _, predicted = torch.max(outputs, 1)\n",
        "        accuracy = (predicted == y).float().mean().item()\n",
        "\n",
        "    if epoch % 10 == 0:\n",
        "        print(f\"Epoch [{epoch}/{num_epochs}], Loss: {loss.item():.4f}, Accuracy: {accuracy:.4f}\")"
      ],
      "metadata": {
        "colab": {
          "base_uri": "https://localhost:8080/"
        },
        "id": "Te2anWgbNjSv",
        "outputId": "248dd157-23d9-4518-e1d3-0d3ffd6020a5"
      },
      "execution_count": 61,
      "outputs": [
        {
          "output_type": "stream",
          "name": "stdout",
          "text": [
            "torch.Size([565, 908]) torch.Size([565])\n",
            "Epoch [0/100], Loss: 2.8008, Accuracy: 0.1132\n",
            "Epoch [10/100], Loss: 1.3954, Accuracy: 0.3962\n",
            "Epoch [20/100], Loss: 1.3226, Accuracy: 0.3962\n",
            "Epoch [30/100], Loss: 1.3561, Accuracy: 0.3019\n",
            "Epoch [40/100], Loss: 1.0882, Accuracy: 0.6415\n",
            "Epoch [50/100], Loss: 0.8370, Accuracy: 0.6792\n",
            "Epoch [60/100], Loss: 0.4452, Accuracy: 0.8113\n",
            "Epoch [70/100], Loss: 0.3807, Accuracy: 0.9245\n",
            "Epoch [80/100], Loss: 0.2323, Accuracy: 0.9434\n",
            "Epoch [90/100], Loss: 0.2198, Accuracy: 0.9623\n",
            "Epoch [100/100], Loss: 0.1198, Accuracy: 0.9811\n"
          ]
        }
      ]
    },
    {
      "cell_type": "markdown",
      "source": [
        "# Final Predict (to complete task)"
      ],
      "metadata": {
        "id": "941MOK0YdMw7"
      }
    },
    {
      "cell_type": "code",
      "source": [
        "seq_fasta = '''MSGRGKQGGKARTKAKTRSSRAGLQFPVGRVHRLLRKGNYAERVGAGAPVYLAAVLEYLTAEILELAGNAARDNKKTRIIPRHLQLAIRNDEELNKLLGKVTIAQGGVLPNIQAVLLPKKTESHHKAKGK'''"
      ],
      "metadata": {
        "id": "-4YUMc4oaBX7"
      },
      "execution_count": 51,
      "outputs": []
    },
    {
      "cell_type": "code",
      "source": [
        "test_seq = torch.tensor([[ token2idx[char] for char in token ] for token in seq_fasta], dtype=int).T\n",
        "test_seq[0].shape"
      ],
      "metadata": {
        "colab": {
          "base_uri": "https://localhost:8080/"
        },
        "id": "bXsZf0uiaS5l",
        "outputId": "cbba5024-5f89-419f-85b6-d2e0c8a78309"
      },
      "execution_count": 52,
      "outputs": [
        {
          "output_type": "execute_result",
          "data": {
            "text/plain": [
              "torch.Size([130])"
            ]
          },
          "metadata": {},
          "execution_count": 52
        }
      ]
    },
    {
      "cell_type": "code",
      "source": [
        "histons_tensor[0].shape"
      ],
      "metadata": {
        "colab": {
          "base_uri": "https://localhost:8080/"
        },
        "id": "ueR64AXAaqPo",
        "outputId": "c2b2f575-eef3-40c7-dcb7-25331e62069b"
      },
      "execution_count": 53,
      "outputs": [
        {
          "output_type": "execute_result",
          "data": {
            "text/plain": [
              "torch.Size([908])"
            ]
          },
          "metadata": {},
          "execution_count": 53
        }
      ]
    },
    {
      "cell_type": "code",
      "source": [
        "model.eval()\n",
        "test_predict = model(test_seq)"
      ],
      "metadata": {
        "id": "toMdguryUNrM"
      },
      "execution_count": 54,
      "outputs": []
    },
    {
      "cell_type": "code",
      "source": [
        "_, predicted = torch.max(test_predict, 1)"
      ],
      "metadata": {
        "id": "WZkKsLVmaLzb"
      },
      "execution_count": 55,
      "outputs": []
    },
    {
      "cell_type": "code",
      "source": [
        "idx2token[predicted.item()]"
      ],
      "metadata": {
        "colab": {
          "base_uri": "https://localhost:8080/",
          "height": 36
        },
        "id": "-9dYR_pcboIn",
        "outputId": "5d807aa5-c286-46c9-d131-48a92c132b19"
      },
      "execution_count": 56,
      "outputs": [
        {
          "output_type": "execute_result",
          "data": {
            "text/plain": [
              "'H2A'"
            ],
            "application/vnd.google.colaboratory.intrinsic+json": {
              "type": "string"
            }
          },
          "metadata": {},
          "execution_count": 56
        }
      ]
    },
    {
      "cell_type": "code",
      "source": [],
      "metadata": {
        "id": "tG0Dv_KBbs-8"
      },
      "execution_count": null,
      "outputs": []
    }
  ]
}