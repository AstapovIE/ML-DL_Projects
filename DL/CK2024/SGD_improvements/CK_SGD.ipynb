{
 "nbformat": 4,
 "nbformat_minor": 0,
 "metadata": {
  "colab": {
   "provenance": []
  },
  "kernelspec": {
   "name": "python3",
   "display_name": "Python 3 (ipykernel)",
   "language": "python"
  },
  "language_info": {
   "name": "python"
  }
 },
 "cells": [
  {
   "cell_type": "markdown",
   "source": [
    "# Imports\n"
   ],
   "metadata": {
    "id": "HynAH6DsTH4q"
   }
  },
  {
   "cell_type": "code",
   "metadata": {
    "id": "AGSxnfqPR7l7",
    "ExecuteTime": {
     "end_time": "2024-11-06T20:15:14.595533Z",
     "start_time": "2024-11-06T20:15:14.587538Z"
    }
   },
   "source": "# !pip install torchvision",
   "outputs": [],
   "execution_count": 1
  },
  {
   "cell_type": "code",
   "source": [
    "import pandas as pd\n",
    "import numpy as np\n",
    "import matplotlib.pyplot as plt\n",
    "\n",
    "from sklearn.model_selection import train_test_split\n",
    "from sklearn.preprocessing import StandardScaler\n",
    "from sklearn.metrics import accuracy_score\n",
    "\n",
    "from tqdm import tqdm\n",
    "import warnings\n",
    "# warnings.simplefilter('ignore')\n",
    "\n",
    "import torch\n",
    "import torchvision\n",
    "from torchvision import transforms\n",
    "from torch.utils.data import DataLoader, Dataset, Subset\n",
    "\n",
    "import os\n",
    "import torch.nn as nn\n",
    "print(torch.__version__)"
   ],
   "metadata": {
    "colab": {
     "base_uri": "https://localhost:8080/"
    },
    "id": "156_Rfw0TFhX",
    "outputId": "a207606f-27f1-4be1-f78d-f97369032920",
    "ExecuteTime": {
     "end_time": "2024-11-14T15:13:19.629459Z",
     "start_time": "2024-11-14T15:13:07.626200Z"
    }
   },
   "outputs": [
    {
     "name": "stdout",
     "output_type": "stream",
     "text": [
      "2.5.1+cpu\n"
     ]
    }
   ],
   "execution_count": 1
  },
  {
   "metadata": {},
   "cell_type": "code",
   "outputs": [],
   "execution_count": null,
   "source": ""
  },
  {
   "metadata": {
    "ExecuteTime": {
     "end_time": "2024-11-06T20:16:15.547652Z",
     "start_time": "2024-11-06T20:16:15.524422Z"
    }
   },
   "cell_type": "code",
   "source": "os.getcwd()\n",
   "outputs": [
    {
     "data": {
      "text/plain": [
       "'D:\\\\NN\\\\CK_SGD(FirstNN)'"
      ]
     },
     "execution_count": 3,
     "metadata": {},
     "output_type": "execute_result"
    }
   ],
   "execution_count": 3
  },
  {
   "metadata": {},
   "cell_type": "markdown",
   "source": "1  ----------------------------MUSIC--------------------------------"
  },
  {
   "cell_type": "code",
   "source": [
    "data = pd.read_csv(\"./music_prepared.csv\")\n",
    "\n",
    "X = data.drop(\"popularity\", axis = 1)\n",
    "y = data[\"popularity\"]"
   ],
   "metadata": {
    "id": "IQOICZMlTxIa",
    "ExecuteTime": {
     "end_time": "2024-11-06T22:04:37.261391Z",
     "start_time": "2024-11-06T22:04:37.238384Z"
    }
   },
   "outputs": [],
   "execution_count": 126
  },
  {
   "cell_type": "code",
   "source": "",
   "metadata": {
    "id": "vE84Vu7WT7wV",
    "ExecuteTime": {
     "end_time": "2024-11-06T22:04:38.038638Z",
     "start_time": "2024-11-06T22:04:38.029535Z"
    }
   },
   "outputs": [],
   "execution_count": null
  },
  {
   "cell_type": "code",
   "source": [
    "# Преобразуйте признак explicit в бинарный вид\n",
    "def binary(x):\n",
    "    return 1 if x==True else 0\n",
    "\n",
    "data[\"explicit\"] = data[\"explicit\"].apply(binary)"
   ],
   "metadata": {
    "id": "fr8xYvEVUQdE",
    "ExecuteTime": {
     "end_time": "2024-11-06T22:04:38.362426Z",
     "start_time": "2024-11-06T22:04:38.343347Z"
    }
   },
   "outputs": [],
   "execution_count": 127
  },
  {
   "cell_type": "code",
   "source": [
    "# Сделайте разбиение на обучение и тест с соотношением 80/20 и random_state=1.\n",
    "X_train, X_test, y_train, y_test = train_test_split(X, y, test_size = 0.2, random_state=1)\n",
    "print(X_train.shape, y_train.shape)\n",
    "print(X_test.shape, y_test.shape)"
   ],
   "metadata": {
    "colab": {
     "base_uri": "https://localhost:8080/"
    },
    "id": "t-xUfWO-UKcF",
    "outputId": "a17b7f20-0316-4f44-ba70-6d68b7f19479",
    "ExecuteTime": {
     "end_time": "2024-11-06T22:04:38.764495Z",
     "start_time": "2024-11-06T22:04:38.734537Z"
    }
   },
   "outputs": [
    {
     "name": "stdout",
     "output_type": "stream",
     "text": [
      "(4000, 15) (4000,)\n",
      "(1000, 15) (1000,)\n"
     ]
    }
   ],
   "execution_count": 128
  },
  {
   "cell_type": "code",
   "source": [
    "# Масштабируйте данные через стандартизацию\n",
    "scaler = StandardScaler()\n",
    "X_train_scaled = scaler.fit_transform(X_train)\n",
    "X_test_scaled = scaler.transform(X_test)"
   ],
   "metadata": {
    "id": "2p72DIv7VQD6",
    "ExecuteTime": {
     "end_time": "2024-11-06T22:04:39.165751Z",
     "start_time": "2024-11-06T22:04:39.139767Z"
    }
   },
   "outputs": [],
   "execution_count": 129
  },
  {
   "cell_type": "code",
   "source": [
    "# Переведите признаки и целевые значения в тензоры.\n",
    "X_train = torch.FloatTensor(X_train_scaled)\n",
    "X_test = torch.FloatTensor(X_test_scaled)\n",
    "y_train = torch.FloatTensor(np.array(y_train)).view(-1, 1)\n",
    "y_test = torch.FloatTensor(np.array(y_test)).view(-1, 1)"
   ],
   "metadata": {
    "colab": {
     "base_uri": "https://localhost:8080/"
    },
    "id": "sbWDUwhrV72r",
    "outputId": "028828d9-f2e7-4900-bac3-deb68976edb9",
    "ExecuteTime": {
     "end_time": "2024-11-06T22:04:39.531964Z",
     "start_time": "2024-11-06T22:04:39.514002Z"
    }
   },
   "outputs": [],
   "execution_count": 130
  },
  {
   "cell_type": "code",
   "source": [
    "# Реализуйте функцию create_model(hid_size, num_features, n_out), в которой создаётся нейросеть через модуль nn.Sequental:\n",
    "# с тремя линейными слоями\n",
    "# с функцией активации ReLU на промежуточных слоях\n",
    "# с размером скрытого представления на первом слое 50, на втором слое 25\n",
    "# с фиксированной случайностью torch.manual_seed(1).\n",
    "D_in = X_train_scaled.shape[1]\n",
    "D_out = y_train.shape[1]\n",
    "\n",
    "def create_model(hid_size, num_features, n_out):\n",
    "    torch.manual_seed(1)\n",
    "    model = torch.nn.Sequential(\n",
    "        torch.nn.Linear(num_features, 50),\n",
    "        torch.nn.ReLU(),\n",
    "        torch.nn.Linear(50, 25),\n",
    "        torch.nn.ReLU(),\n",
    "        torch.nn.Linear(25, n_out)\n",
    "    )\n",
    "    return model\n"
   ],
   "metadata": {
    "id": "zfQLOQSIZm8k",
    "ExecuteTime": {
     "end_time": "2024-11-06T22:04:39.903678Z",
     "start_time": "2024-11-06T22:04:39.882690Z"
    }
   },
   "outputs": [],
   "execution_count": 131
  },
  {
   "cell_type": "code",
   "source": [
    "model = create_model(3, D_in, D_out)\n",
    "# for f in model.parameters():\n",
    "    # print(f)"
   ],
   "metadata": {
    "collapsed": true,
    "id": "PRCL0JOYb15w",
    "ExecuteTime": {
     "end_time": "2024-11-06T22:04:40.277601Z",
     "start_time": "2024-11-06T22:04:40.254016Z"
    }
   },
   "outputs": [],
   "execution_count": 132
  },
  {
   "cell_type": "code",
   "source": [
    "def train_model(model, opt, X_train, y_train, X_test, y_test, n_epoch=100):\n",
    "    loss_fn = nn.MSELoss()\n",
    "    loss_train, loss_test = [], []\n",
    "\n",
    "\n",
    "    for epoch_num in range(n_epoch):\n",
    "        opt.zero_grad()  # обнуление градиентов\n",
    "        y_predicted = model(X_train)  # получение предсказаний\n",
    "        loss = loss_fn(y_predicted, y_train)  # подсчет функции потерь\n",
    "\n",
    "        loss.backward()  # обратный проход\n",
    "        opt.step()  # шаг оптимизации\n",
    "        loss_train.append(np.sqrt(loss.item()))\n",
    "\n",
    "        y_pred = model(X_test)  # получение предсказаний на тесте\n",
    "        mse = loss_fn(y_pred, y_test) # подсчет функции потерь на тесте\n",
    "        loss_test.append(np.sqrt(mse.item()))\n",
    "\n",
    "    return model, loss_train, loss_test"
   ],
   "metadata": {
    "id": "tyUGMNZ3b2L-",
    "ExecuteTime": {
     "end_time": "2024-11-06T22:04:40.652560Z",
     "start_time": "2024-11-06T22:04:40.632020Z"
    }
   },
   "outputs": [],
   "execution_count": 133
  },
  {
   "cell_type": "code",
   "source": [
    "def vizual_learning(train_loss, test_loss):\n",
    "    plt.plot(np.arange(0, len(train_loss)), train_loss, label = 'train')\n",
    "    plt.plot(np.arange(0, len(test_loss)), test_loss,  label = 'test')\n",
    "    plt.legend()"
   ],
   "metadata": {
    "id": "_T5qNxCHf3g9",
    "ExecuteTime": {
     "end_time": "2024-11-06T22:04:41.071292Z",
     "start_time": "2024-11-06T22:04:41.057301Z"
    }
   },
   "outputs": [],
   "execution_count": 134
  },
  {
   "cell_type": "code",
   "source": [
    "model = create_model(3, D_in, D_out)\n",
    "optSGD = torch.optim.SGD(model.parameters(), lr = 0.01)\n",
    "modelSGD, train_loss, test_loss = train_model(model, optSGD, X_train, y_train, X_test, y_test)\n",
    "vizual_learning(train_loss, test_loss)\n",
    "test_loss[-1]"
   ],
   "metadata": {
    "colab": {
     "base_uri": "https://localhost:8080/",
     "height": 447
    },
    "id": "t203kcCPb2Pi",
    "outputId": "282a2362-bb7d-4cd0-dcd1-e904ed4a50b6",
    "ExecuteTime": {
     "end_time": "2024-11-06T22:04:42.003489Z",
     "start_time": "2024-11-06T22:04:41.538954Z"
    }
   },
   "outputs": [
    {
     "data": {
      "text/plain": [
       "27.998669183984777"
      ]
     },
     "execution_count": 135,
     "metadata": {},
     "output_type": "execute_result"
    },
    {
     "data": {
      "text/plain": [
       "<Figure size 432x288 with 1 Axes>"
      ],
      "image/png": "[encoded data removed]"
     },
     "metadata": {
      "needs_background": "light"
     },
     "output_type": "display_data"
    }
   ],
   "execution_count": 135
  },
  {
   "cell_type": "code",
   "source": [
    "model = create_model(3, D_in, D_out)\n",
    "optAdagrad = torch.optim.Adagrad(model.parameters(), lr = 0.01)\n",
    "modelAdagrad, train_loss, test_loss = train_model(model, optAdagrad, X_train, y_train, X_test, y_test)\n",
    "vizual_learning(train_loss, test_loss)\n",
    "test_loss[-1]"
   ],
   "metadata": {
    "colab": {
     "base_uri": "https://localhost:8080/",
     "height": 447
    },
    "id": "NePrm1FNhN7O",
    "outputId": "92625fbc-155a-4bfb-ba5a-fff17f6302da",
    "ExecuteTime": {
     "end_time": "2024-11-06T22:04:42.489030Z",
     "start_time": "2024-11-06T22:04:42.058279Z"
    }
   },
   "outputs": [
    {
     "data": {
      "text/plain": [
       "29.32207666055561"
      ]
     },
     "execution_count": 136,
     "metadata": {},
     "output_type": "execute_result"
    },
    {
     "data": {
      "text/plain": [
       "<Figure size 432x288 with 1 Axes>"
      ],
      "image/png": "[encoded data removed]"
     },
     "metadata": {
      "needs_background": "light"
     },
     "output_type": "display_data"
    }
   ],
   "execution_count": 136
  },
  {
   "cell_type": "code",
   "source": [
    "model = create_model(3, D_in, D_out)\n",
    "optAdam  = torch.optim.Adam(model.parameters(), lr = 0.01)\n",
    "modelAdam, train_loss, test_loss = train_model(model, optAdam, X_train, y_train, X_test, y_test)\n",
    "vizual_learning(train_loss, test_loss)\n",
    "test_loss[-1]"
   ],
   "metadata": {
    "colab": {
     "base_uri": "https://localhost:8080/",
     "height": 447
    },
    "id": "SvhD0s2ihSEb",
    "outputId": "fe88a7fa-2489-4bc9-f4fd-aef918befcb6",
    "ExecuteTime": {
     "end_time": "2024-11-06T22:04:43.561241Z",
     "start_time": "2024-11-06T22:04:43.115466Z"
    }
   },
   "outputs": [
    {
     "data": {
      "text/plain": [
       "27.612853266682595"
      ]
     },
     "execution_count": 137,
     "metadata": {},
     "output_type": "execute_result"
    },
    {
     "data": {
      "text/plain": [
       "<Figure size 432x288 with 1 Axes>"
      ],
      "image/png": "[encoded data removed]"
     },
     "metadata": {
      "needs_background": "light"
     },
     "output_type": "display_data"
    }
   ],
   "execution_count": 137
  },
  {
   "cell_type": "code",
   "source": [
    "# Перейдем к задаче бинарной классификации (популярная песня/не популярная песня),\n",
    "# для этого нужно перевести целевой признак popularity в бинарный вид:"
   ],
   "metadata": {
    "id": "YgSQoqTSjMCG",
    "ExecuteTime": {
     "end_time": "2024-11-06T22:04:43.750343Z",
     "start_time": "2024-11-06T22:04:43.738350Z"
    }
   },
   "outputs": [],
   "execution_count": 138
  },
  {
   "cell_type": "code",
   "source": [
    "def bin_popul(x):\n",
    "    return 1 if x>50 else 0"
   ],
   "metadata": {
    "id": "G1MDol8ririE",
    "ExecuteTime": {
     "end_time": "2024-11-06T22:04:44.410422Z",
     "start_time": "2024-11-06T22:04:44.398428Z"
    }
   },
   "outputs": [],
   "execution_count": 139
  },
  {
   "cell_type": "code",
   "source": [
    "y = data[\"popularity\"].apply(bin_popul)"
   ],
   "metadata": {
    "id": "vvELQFYSizn7",
    "ExecuteTime": {
     "end_time": "2024-11-06T22:04:45.236070Z",
     "start_time": "2024-11-06T22:04:45.221349Z"
    }
   },
   "outputs": [],
   "execution_count": 140
  },
  {
   "cell_type": "code",
   "source": [
    "X_train, X_test, y_train, y_test = train_test_split(X, y, test_size = 0.2, random_state=1)\n",
    "print(X_train.shape, y_train.shape)\n",
    "print(X_test.shape, y_test.shape)\n",
    "scaler = StandardScaler()\n",
    "X_train_scaled = scaler.fit_transform(X_train)\n",
    "X_test_scaled = scaler.transform(X_test)\n",
    "X_train = torch.FloatTensor(X_train_scaled)\n",
    "X_test = torch.FloatTensor(X_test_scaled)\n",
    "y_train = torch.FloatTensor(np.array(y_train)).view(-1, 1)\n",
    "y_test = torch.FloatTensor(np.array(y_test)).view(-1, 1)"
   ],
   "metadata": {
    "colab": {
     "base_uri": "https://localhost:8080/"
    },
    "id": "4yxjaPzIirkA",
    "outputId": "5e8b396a-cd44-4986-b48b-1fa356c1e0bf",
    "ExecuteTime": {
     "end_time": "2024-11-06T22:04:45.972773Z",
     "start_time": "2024-11-06T22:04:45.931793Z"
    }
   },
   "outputs": [
    {
     "name": "stdout",
     "output_type": "stream",
     "text": [
      "(4000, 15) (4000,)\n",
      "(1000, 15) (1000,)\n"
     ]
    }
   ],
   "execution_count": 141
  },
  {
   "cell_type": "code",
   "source": [
    "def create_model(hid_size, num_features, n_out):\n",
    "    torch.manual_seed(1)\n",
    "    model = torch.nn.Sequential(\n",
    "        torch.nn.Linear(num_features, 50),\n",
    "        torch.nn.ReLU(),\n",
    "        torch.nn.Linear(50, 50),\n",
    "        torch.nn.ReLU(),\n",
    "        torch.nn.Linear(50, n_out),\n",
    "        torch.nn.Sigmoid()\n",
    "    )\n",
    "    return model"
   ],
   "metadata": {
    "id": "p0trBKMiirl9",
    "ExecuteTime": {
     "end_time": "2024-11-06T22:04:46.688732Z",
     "start_time": "2024-11-06T22:04:46.669744Z"
    }
   },
   "outputs": [],
   "execution_count": 142
  },
  {
   "cell_type": "code",
   "source": [
    "model = create_model(3, D_in, D_out)\n",
    "predictions = model(X_test).tolist()\n",
    "# predictions = np.array([int(x[0] > 0.5) for x in predictions])\n",
    "predictions[0]"
   ],
   "metadata": {
    "colab": {
     "base_uri": "https://localhost:8080/"
    },
    "id": "g2XSlXIfiroL",
    "outputId": "b6c242a4-5e81-4132-eac8-44f35acae83b",
    "ExecuteTime": {
     "end_time": "2024-11-06T22:04:52.442191Z",
     "start_time": "2024-11-06T22:04:52.419229Z"
    }
   },
   "outputs": [
    {
     "data": {
      "text/plain": [
       "[0.4744380712509155]"
      ]
     },
     "execution_count": 143,
     "metadata": {},
     "output_type": "execute_result"
    }
   ],
   "execution_count": 143
  },
  {
   "cell_type": "code",
   "source": [
    "def train_model(model, opt, X_train, y_train, X_test, y_test, n_epoch=100, log_period=10):\n",
    "    loss_fn = torch.nn.BCELoss()\n",
    "    loss_train, loss_test = [], []\n",
    "    acc_train, acc_test = [], []\n",
    "\n",
    "    for epoch_num in range(n_epoch):\n",
    "        opt.zero_grad()  # обнуление градиентов\n",
    "        y_predicted = model(X_train)  # получение предсказаний\n",
    "        loss = loss_fn(y_predicted, y_train)  # подсчет функции потерь\n",
    "\n",
    "        loss.backward()  # обратный проход\n",
    "        opt.step()  # шаг оптимизации\n",
    "\n",
    "        if epoch_num % log_period == 0:\n",
    "            loss_train.append(loss.item())\n",
    "\n",
    "            predictions = y_predicted.tolist()\n",
    "            predictions = np.array([int(x[0] > 0.5) for x in predictions])\n",
    "            acc = accuracy_score(predictions, y_train)  # подсчет метрики на обучении\n",
    "            acc_train.append(acc)\n",
    "\n",
    "            y_pred = model(X_test)  # получение предсказаний на тесте\n",
    "            bce = loss_fn(y_pred, y_test)  # подсчет функции потерь на тесте\n",
    "            loss_test.append(bce.item())\n",
    "\n",
    "            predictions = y_pred.tolist()\n",
    "            predictions = np.array([int(x[0] > 0.5) for x in predictions])\n",
    "            acc = accuracy_score(predictions, y_test)  # подсчет метрики на тесте\n",
    "            acc_test.append(acc)\n",
    "\n",
    "    return model, loss_train, loss_test, acc_train, acc_test"
   ],
   "metadata": {
    "id": "0iO5zlCcirpj",
    "ExecuteTime": {
     "end_time": "2024-11-06T22:06:49.526546Z",
     "start_time": "2024-11-06T22:06:49.503560Z"
    }
   },
   "outputs": [],
   "execution_count": 144
  },
  {
   "cell_type": "code",
   "source": [
    "model = create_model(3, D_in, D_out)\n",
    "optAdam  = torch.optim.Adam(model.parameters(), lr = 0.01)\n",
    "modelAdam, train_loss, test_loss, acc_train, acc_test  = train_model(model, optAdam, X_train, y_train, X_test, y_test, n_epoch=200)\n",
    "print(acc_train[-1]-acc_test[-1])\n",
    "vizual_learning(acc_train, acc_test)"
   ],
   "metadata": {
    "colab": {
     "base_uri": "https://localhost:8080/",
     "height": 447
    },
    "id": "BgBQt4-7kQxu",
    "outputId": "f8c44f66-b1b0-4912-ae4a-2188068c6ee0",
    "ExecuteTime": {
     "end_time": "2024-11-06T22:06:50.813801Z",
     "start_time": "2024-11-06T22:06:49.870337Z"
    }
   },
   "outputs": [
    {
     "name": "stdout",
     "output_type": "stream",
     "text": [
      "0.18100000000000005\n"
     ]
    },
    {
     "data": {
      "text/plain": [
       "<Figure size 432x288 with 1 Axes>"
      ],
      "image/png": "[encoded data removed]"
     },
     "metadata": {
      "needs_background": "light"
     },
     "output_type": "display_data"
    }
   ],
   "execution_count": 145
  },
  {
   "cell_type": "code",
   "source": [
    "def create_model(hid_size, num_features, n_out):\n",
    "    torch.manual_seed(1)\n",
    "    model = torch.nn.Sequential(\n",
    "        torch.nn.Linear(num_features, 50),\n",
    "        torch.nn.BatchNorm1d(50),\n",
    "        torch.nn.ReLU(),\n",
    "        torch.nn.Dropout(),\n",
    "        torch.nn.Linear(50, 50),\n",
    "        torch.nn.BatchNorm1d(50),\n",
    "        torch.nn.ReLU(),\n",
    "        torch.nn.Dropout(),\n",
    "        torch.nn.Linear(50, n_out),\n",
    "        torch.nn.Sigmoid()\n",
    "    )\n",
    "    return model"
   ],
   "metadata": {
    "id": "Czvcn4DSTNGZ",
    "ExecuteTime": {
     "end_time": "2024-11-06T22:06:50.984072Z",
     "start_time": "2024-11-06T22:06:50.967030Z"
    }
   },
   "outputs": [],
   "execution_count": 146
  },
  {
   "cell_type": "code",
   "source": [
    "model = create_model(3, D_in, D_out)\n",
    "optAdam  = torch.optim.Adam(model.parameters(), lr = 0.01)\n",
    "modelAdam, train_loss, test_loss, acc_train, acc_test  = train_model(model, optAdam, X_train, y_train, X_test, y_test, n_epoch=200)\n",
    "print(acc_train[-1]-acc_test[-1])\n",
    "vizual_learning(acc_train, acc_test)"
   ],
   "metadata": {
    "colab": {
     "base_uri": "https://localhost:8080/",
     "height": 447
    },
    "id": "zbA7kwrKiEby",
    "outputId": "735be78c-63fb-475b-c854-5856f5d1f28e",
    "ExecuteTime": {
     "end_time": "2024-11-06T22:07:15.005699Z",
     "start_time": "2024-11-06T22:07:12.983017Z"
    }
   },
   "outputs": [
    {
     "name": "stdout",
     "output_type": "stream",
     "text": [
      "0.015750000000000042\n"
     ]
    },
    {
     "data": {
      "text/plain": [
       "<Figure size 432x288 with 1 Axes>"
      ],
      "image/png": "[encoded data removed]"
     },
     "metadata": {
      "needs_background": "light"
     },
     "output_type": "display_data"
    }
   ],
   "execution_count": 149
  },
  {
   "cell_type": "code",
   "source": [],
   "metadata": {
    "id": "AaMgmw64paPh"
   },
   "execution_count": null,
   "outputs": []
  },
  {
   "metadata": {},
   "cell_type": "markdown",
   "source": "2  ----------------------------FRUITS--------------------------------"
  },
  {
   "metadata": {},
   "cell_type": "code",
   "outputs": [],
   "execution_count": null,
   "source": ""
  },
  {
   "metadata": {
    "ExecuteTime": {
     "end_time": "2024-11-14T15:13:27.958510Z",
     "start_time": "2024-11-14T15:13:27.872513Z"
    }
   },
   "cell_type": "code",
   "source": [
    "from torchvision.transforms import v2\n",
    "\n",
    "# transforms = v2.Compose([\n",
    "#     v2.ToDtype(torch.float32, scale=True)\n",
    "# ])\n",
    "\n",
    "classes = [\"Apple Granny Smith\",\n",
    "           \"Avocado\",\n",
    "           \"Banana\",\n",
    "           \"Cherry\",\n",
    "           \"Corn\",\n",
    "           \"Kiwi\",\n",
    "           \"Lemon\",\n",
    "           \"Orange\",\n",
    "           \"Peach\",\n",
    "           \"Pepper Red\",\n",
    "           \"Pineapple\",\n",
    "           \"Plum\",\n",
    "           \"Pomegranate\",\n",
    "           \"Strawberry\",\n",
    "           \"Watermelon\"]"
   ],
   "outputs": [],
   "execution_count": 2
  },
  {
   "metadata": {
    "ExecuteTime": {
     "end_time": "2024-11-14T15:13:30.281520Z",
     "start_time": "2024-11-14T15:13:28.286733Z"
    }
   },
   "cell_type": "code",
   "source": [
    "from torchvision import datasets, transforms\n",
    "from torch.utils.data import random_split\n",
    "\n",
    "# Путь к директории с данными\n",
    "data_dir = './Fruits'  # Убедитесь, что здесь указан правильный путь к вашим данным\n",
    "\n",
    "from torchvision.transforms import v2\n",
    "\n",
    "# Трансформации для предобработки изображений\n",
    "transform = transforms.Compose([\n",
    "    transforms.ToTensor()           # Преобразование в тензор\n",
    "])\n",
    "\n",
    "# Загрузка датасета с помощью ImageFolder\n",
    "dataset = datasets.ImageFolder(root=data_dir, transform=transform)\n",
    "\n",
    "#train/test split\n",
    "generator2 = torch.Generator().manual_seed(2)\n",
    "train_size = int(0.8 * len(dataset))\n",
    "test_size = len(dataset) - train_size\n",
    "train, test = random_split(dataset, [train_size, test_size], generator=generator2)\n",
    "print(test.dataset)\n",
    "print(len(test))\n",
    "# Создаем DataLoader\n",
    "torch.manual_seed(1)\n",
    "train_loader = DataLoader(train, batch_size=64, shuffle=True)\n",
    "test_loader = DataLoader(test, batch_size=64, shuffle=True)\n",
    "\n",
    "# torch.manual_seed(1)\n",
    "# # Пример итерации по DataLoader\n",
    "# for images, labels in train_loader:\n",
    "#     print(images.shape)  # Размер батча изображений\n",
    "#     print(labels)        # Метки классов\n",
    "#     break  # Удалите этот break, чтобы пройти по всему датасету\n",
    "    \n",
    "torch.manual_seed(1)\n",
    "data_iter = iter(train_loader)\n",
    "images, labels = next(data_iter)\n",
    "\n",
    "# Visualize the first image in the batch and print its class label\n",
    "plt.imshow(images[0].permute(1, 2, 0))  # Convert from CxHxW to HxWxC format for display\n",
    "plt.title(f\"Class: {classes[labels[0]]}\")\n",
    "plt.axis('off')\n",
    "plt.show()\n",
    "\n",
    "# Output class name of the first image\n",
    "classes[labels[0].item()]"
   ],
   "outputs": [
    {
     "name": "stdout",
     "output_type": "stream",
     "text": [
      "Dataset ImageFolder\n",
      "    Number of datapoints: 7342\n",
      "    Root location: ./Fruits\n",
      "    StandardTransform\n",
      "Transform: Compose(\n",
      "               ToTensor()\n",
      "           )\n",
      "1469\n"
     ]
    },
    {
     "data": {
      "text/plain": [
       "<Figure size 432x288 with 1 Axes>"
      ],
      "image/png": "[encoded data removed]"
     },
     "metadata": {
      "needs_background": "light"
     },
     "output_type": "display_data"
    },
    {
     "data": {
      "text/plain": [
       "'Cherry'"
      ]
     },
     "execution_count": 3,
     "metadata": {},
     "output_type": "execute_result"
    }
   ],
   "execution_count": 3
  },
  {
   "metadata": {
    "ExecuteTime": {
     "end_time": "2024-11-14T15:13:30.452497Z",
     "start_time": "2024-11-14T15:13:30.435433Z"
    }
   },
   "cell_type": "code",
   "source": [
    "D_in = 3*100*100\n",
    "D_out = len(dataset.classes)"
   ],
   "outputs": [],
   "execution_count": 4
  },
  {
   "metadata": {
    "ExecuteTime": {
     "end_time": "2024-11-14T15:13:30.531723Z",
     "start_time": "2024-11-14T15:13:30.517761Z"
    }
   },
   "cell_type": "code",
   "source": [
    "def create_model(hid_size, num_features, n_out):\n",
    "    torch.manual_seed(1)\n",
    "    model = torch.nn.Sequential(\n",
    "        torch.nn.Flatten(),\n",
    "        torch.nn.Linear(num_features, 50),\n",
    "        torch.nn.ReLU(),\n",
    "        torch.nn.Linear(50, 50),\n",
    "        torch.nn.ReLU(),\n",
    "        torch.nn.Linear(50, n_out),\n",
    "        # torch.nn.Softmax(dim=1)\n",
    "    )\n",
    "    return model"
   ],
   "outputs": [],
   "execution_count": 5
  },
  {
   "metadata": {
    "ExecuteTime": {
     "end_time": "2024-11-14T15:13:31.196655Z",
     "start_time": "2024-11-14T15:13:31.158692Z"
    }
   },
   "cell_type": "code",
   "source": [
    "model = create_model(3, D_in, D_out)\n",
    "model"
   ],
   "outputs": [
    {
     "data": {
      "text/plain": [
       "Sequential(\n",
       "  (0): Flatten(start_dim=1, end_dim=-1)\n",
       "  (1): Linear(in_features=30000, out_features=50, bias=True)\n",
       "  (2): ReLU()\n",
       "  (3): Linear(in_features=50, out_features=50, bias=True)\n",
       "  (4): ReLU()\n",
       "  (5): Linear(in_features=50, out_features=15, bias=True)\n",
       ")"
      ]
     },
     "execution_count": 6,
     "metadata": {},
     "output_type": "execute_result"
    }
   ],
   "execution_count": 6
  },
  {
   "metadata": {
    "ExecuteTime": {
     "end_time": "2024-11-14T15:13:34.143433Z",
     "start_time": "2024-11-14T15:13:32.803745Z"
    }
   },
   "cell_type": "code",
   "source": [
    "torch.manual_seed(1)\n",
    "data_iter = iter(test_loader)\n",
    "images, labels = next(data_iter)\n",
    "model(images)[0]"
   ],
   "outputs": [
    {
     "data": {
      "text/plain": [
       "tensor([ 0.0455,  0.1415,  0.0801, -0.1036, -0.0967, -0.0425, -0.0080, -0.0114,\n",
       "        -0.1266, -0.0767, -0.0148,  0.0475, -0.0461, -0.1642, -0.1814],\n",
       "       grad_fn=<SelectBackward0>)"
      ]
     },
     "execution_count": 7,
     "metadata": {},
     "output_type": "execute_result"
    }
   ],
   "execution_count": 7
  },
  {
   "metadata": {
    "ExecuteTime": {
     "end_time": "2024-11-14T15:13:37.127323Z",
     "start_time": "2024-11-14T15:13:37.108301Z"
    }
   },
   "cell_type": "code",
   "source": [
    "from tqdm import tqdm\n",
    "\n",
    "def train_model(model, opt, train_loader, test_loader, n_epoch=5):\n",
    "    loss_fn = torch.nn.CrossEntropyLoss()\n",
    "    acc_train_list, acc_test_list = [], []\n",
    "\n",
    "    for epoch_num in range(n_epoch):\n",
    "        train_loss, test_loss = 0.0, 0.0\n",
    "        correct_train, correct_test = 0, 0\n",
    "        total_train, total_test = 0, 0\n",
    "\n",
    "        for images, labels in tqdm(train_loader):\n",
    "            opt.zero_grad()  # обнуление градиентов\n",
    "            y_predicted = model(images)  # получение предсказаний\n",
    "            loss = loss_fn(y_predicted, labels)  # подсчет функции потерь\n",
    "\n",
    "            loss.backward()  # обратный проход\n",
    "            opt.step()  # шаг оптимизации\n",
    "\n",
    "            # фиксация функции потерь и accuracy на обучении\n",
    "            train_loss += loss.item()  # суммируем ошибку\n",
    "            total_train += len(labels)  # суммируем кол-во объектов\n",
    "            _, predicted = torch.max(y_predicted, 1)  # получаем предсказанные классы\n",
    "            correct_train += (predicted == labels).sum().item()  # суммируем кол-во правильных классификаций\n",
    "\n",
    "        # вычисляем значение функции потерь и метрик на обучении на всем train_loader\n",
    "        train_acc = correct_train / total_train\n",
    "        train_loss = train_loss / total_train\n",
    "        acc_train_list.append(train_acc)\n",
    "\n",
    "        \n",
    "        for images, labels in test_loader:\n",
    "            outputs = model(images)\n",
    "            loss = loss_fn(outputs, labels)\n",
    "\n",
    "            # фиксация функции потерь и accuracy на тесте\n",
    "            test_loss += loss.item()  # суммируем ошибку\n",
    "            total_test += len(labels)  # суммируем кол-во объектов\n",
    "            _, predicted = torch.max(model(images), 1)  # получаем предсказанные классы\n",
    "            correct_test += (predicted == labels).sum().item()  # суммируем кол-во правильных классификаций\n",
    "\n",
    "        # вычисляем значение функции потерь и метрик на тесте на всем test_loader\n",
    "        test_acc = correct_test/total_test\n",
    "        test_loss = test_loss/total_test\n",
    "\n",
    "        acc_test_list.append(test_acc)\n",
    "\n",
    "\n",
    "        # печатаем результаты эпохи\n",
    "        print(f\"Epoch {epoch_num+1}/{n_epoch} \" \\\n",
    "              f\"Train Loss: {train_loss:.3f} - Train Acc: {train_acc:.3f} \" \\\n",
    "              f\"Test Loss: {test_loss:.3f} - Test Acc: {test_acc:.3f}\")\n",
    "\n",
    "    return model, acc_train_list, acc_test_list \n"
   ],
   "outputs": [],
   "execution_count": 8
  },
  {
   "metadata": {
    "ExecuteTime": {
     "end_time": "2024-11-14T15:13:38.708064Z",
     "start_time": "2024-11-14T15:13:38.700039Z"
    }
   },
   "cell_type": "code",
   "source": [
    "def vizual_learning(train_loss, test_loss):\n",
    "    plt.plot(np.arange(0, len(train_loss)), train_loss, label = 'train')\n",
    "    plt.plot(np.arange(0, len(test_loss)), test_loss,  label = 'test')\n",
    "    plt.legend()"
   ],
   "outputs": [],
   "execution_count": 9
  },
  {
   "metadata": {
    "ExecuteTime": {
     "end_time": "2024-11-14T15:15:56.051186Z",
     "start_time": "2024-11-14T15:13:39.446065Z"
    }
   },
   "cell_type": "code",
   "source": [
    "torch.manual_seed(1)\n",
    "model = create_model(3, D_in, D_out)\n",
    "optAdam  = torch.optim.Adam(model.parameters(), lr = 0.0001)\n",
    "modelAdam, acc_train, acc_test  = train_model(model, optAdam, train_loader, test_loader, n_epoch=5)\n",
    "print(acc_train[-1]-acc_test[-1])\n",
    "vizual_learning(acc_train, acc_test)"
   ],
   "outputs": [
    {
     "name": "stderr",
     "output_type": "stream",
     "text": [
      "100%|██████████| 92/92 [01:31<00:00,  1.00it/s]\n"
     ]
    },
    {
     "name": "stdout",
     "output_type": "stream",
     "text": [
      "Epoch 1/5 Train Loss: 0.030 - Train Acc: 0.491 Test Loss: 0.019 - Test Acc: 0.722\n"
     ]
    },
    {
     "name": "stderr",
     "output_type": "stream",
     "text": [
      "100%|██████████| 92/92 [00:05<00:00, 16.38it/s]\n"
     ]
    },
    {
     "name": "stdout",
     "output_type": "stream",
     "text": [
      "Epoch 2/5 Train Loss: 0.013 - Train Acc: 0.831 Test Loss: 0.008 - Test Acc: 0.939\n"
     ]
    },
    {
     "name": "stderr",
     "output_type": "stream",
     "text": [
      "100%|██████████| 92/92 [00:05<00:00, 16.79it/s]\n"
     ]
    },
    {
     "name": "stdout",
     "output_type": "stream",
     "text": [
      "Epoch 3/5 Train Loss: 0.006 - Train Acc: 0.956 Test Loss: 0.004 - Test Acc: 0.975\n"
     ]
    },
    {
     "name": "stderr",
     "output_type": "stream",
     "text": [
      "100%|██████████| 92/92 [00:05<00:00, 16.73it/s]\n"
     ]
    },
    {
     "name": "stdout",
     "output_type": "stream",
     "text": [
      "Epoch 4/5 Train Loss: 0.004 - Train Acc: 0.981 Test Loss: 0.003 - Test Acc: 0.990\n"
     ]
    },
    {
     "name": "stderr",
     "output_type": "stream",
     "text": [
      "100%|██████████| 92/92 [00:05<00:00, 16.79it/s]\n"
     ]
    },
    {
     "name": "stdout",
     "output_type": "stream",
     "text": [
      "Epoch 5/5 Train Loss: 0.002 - Train Acc: 0.992 Test Loss: 0.002 - Test Acc: 0.990\n",
      "0.0013572976539845127\n"
     ]
    },
    {
     "data": {
      "text/plain": [
       "<Figure size 432x288 with 1 Axes>"
      ],
      "image/png": "[encoded data removed]"
     },
     "metadata": {
      "needs_background": "light"
     },
     "output_type": "display_data"
    }
   ],
   "execution_count": 10
  },
  {
   "metadata": {
    "ExecuteTime": {
     "end_time": "2024-11-14T15:16:06.003218Z",
     "start_time": "2024-11-14T15:16:05.902311Z"
    }
   },
   "cell_type": "code",
   "source": [
    "torch.manual_seed(1)\n",
    "\n",
    "data_iter = iter(test_loader)\n",
    "images, labels = next(data_iter)\n",
    "\n",
    "print(torch.max(modelAdam(images)[0]))\n",
    "modelAdam(images)[0]\n"
   ],
   "outputs": [
    {
     "name": "stdout",
     "output_type": "stream",
     "text": [
      "tensor(7.0169, grad_fn=<MaxBackward1>)\n"
     ]
    },
    {
     "data": {
      "text/plain": [
       "tensor([  7.0169,  -3.8307,   2.6491, -10.7195,  -3.3055,   4.0986,   1.3094,\n",
       "          0.3915,  -0.2131, -12.1840,  -1.3997,  -3.4052,  -1.9533,  -4.7255,\n",
       "         -2.2802], grad_fn=<SelectBackward0>)"
      ]
     },
     "execution_count": 11,
     "metadata": {},
     "output_type": "execute_result"
    }
   ],
   "execution_count": 11
  },
  {
   "metadata": {},
   "cell_type": "code",
   "outputs": [],
   "execution_count": null,
   "source": ""
  }
 ]
}
