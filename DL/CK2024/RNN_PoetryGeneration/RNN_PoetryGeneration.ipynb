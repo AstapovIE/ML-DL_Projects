{
  "cells": [
    {
      "cell_type": "markdown",
      "metadata": {
        "id": "JtXcZwflQ4sd"
      },
      "source": [
        "## Lab 2"
      ]
    },
    {
      "cell_type": "markdown",
      "metadata": {
        "id": "TrOowGkuQ4sf"
      },
      "source": [
        "### Part 3. Poetry generation\n",
        "\n",
        "Let's try to generate some poetry using RNNs.\n",
        "\n",
        "You have several choices here:\n",
        "\n",
        "* The Shakespeare sonnets, file `sonnets.txt` available in the notebook directory.\n",
        "\n",
        "* Роман в стихах \"Евгений Онегин\" Александра Сергеевича Пушкина. В предобработанном виде доступен по [ссылке](https://github.com/attatrol/data_sources/blob/master/onegin.txt).\n",
        "\n",
        "* Some other text source, if it will be approved by the course staff.\n",
        "\n",
        "Text generation can be designed in several steps:\n",
        "    \n",
        "1. Data loading.\n",
        "2. Dictionary generation.\n",
        "3. Data preprocessing.\n",
        "4. Model (neural network) training.\n",
        "5. Text generation (model evaluation).\n"
      ]
    },
    {
      "cell_type": "code",
      "execution_count": null,
      "metadata": {
        "id": "7BLnggcVQ4sg"
      },
      "outputs": [],
      "source": [
        "import string\n",
        "import os\n",
        "import re\n",
        "\n",
        "import torch\n",
        "\n",
        "import torch, torch.nn as nn\n",
        "import torch.nn.functional as F\n",
        "from torch.autograd import Variable\n",
        "\n",
        "from IPython.display import clear_output\n",
        "from random import sample\n",
        "import numpy as np\n",
        "import matplotlib.pyplot as plt\n",
        "\n",
        "import pandas as pd\n",
        "import numpy as np\n",
        "from IPython.display import clear_output\n",
        "import matplotlib.pyplot as plt"
      ]
    },
    {
      "cell_type": "code",
      "source": [
        "device = \"cuda\" if torch.cuda.is_available() else \"cpu\"\n",
        "print(device)"
      ],
      "metadata": {
        "colab": {
          "base_uri": "https://localhost:8080/"
        },
        "id": "_1w8ve-a16PT",
        "outputId": "d4312d83-6eca-46ad-a6df-eba5970c6fbd"
      },
      "execution_count": null,
      "outputs": [
        {
          "output_type": "stream",
          "name": "stdout",
          "text": [
            "cuda\n"
          ]
        }
      ]
    },
    {
      "cell_type": "markdown",
      "metadata": {
        "id": "dldaNFoEQ4si"
      },
      "source": [
        "### Data loading: Shakespeare"
      ]
    },
    {
      "cell_type": "markdown",
      "metadata": {
        "id": "U9HrXUdJQ4si"
      },
      "source": [
        "Shakespeare sonnets are awailable at this [link](http://www.gutenberg.org/ebooks/1041?msg=welcome_stranger). In addition, they are stored in the same directory as this notebook (`sonnetes.txt`). Simple preprocessing is already done for you in the next cell: all technical info is dropped."
      ]
    },
    {
      "cell_type": "code",
      "execution_count": null,
      "metadata": {
        "collapsed": true,
        "colab": {
          "base_uri": "https://localhost:8080/"
        },
        "id": "p1Q-jshWQ4si",
        "outputId": "f50766c2-a17f-4a0d-d4ff-d36d110894a9"
      },
      "outputs": [
        {
          "output_type": "stream",
          "name": "stdout",
          "text": [
            "--2024-11-14 17:47:57--  https://raw.githubusercontent.com/girafe-ai/ml-course/22f_basic/homeworks/lab02_deep_learning/sonnets.txt\n",
            "Resolving raw.githubusercontent.com (raw.githubusercontent.com)... 185.199.108.133, 185.199.109.133, 185.199.110.133, ...\n",
            "Connecting to raw.githubusercontent.com (raw.githubusercontent.com)|185.199.108.133|:443... connected.\n",
            "HTTP request sent, awaiting response... 200 OK\n",
            "Length: 119748 (117K) [text/plain]\n",
            "Saving to: ‘sonnets.txt’\n",
            "\n",
            "sonnets.txt         100%[===================>] 116.94K  --.-KB/s    in 0.02s   \n",
            "\n",
            "2024-11-14 17:47:58 (4.65 MB/s) - ‘sonnets.txt’ saved [119748/119748]\n",
            "\n"
          ]
        }
      ],
      "source": [
        "if not os.path.exists('sonnets.txt'):\n",
        "    !wget https://raw.githubusercontent.com/girafe-ai/ml-course/22f_basic/homeworks/lab02_deep_learning/sonnets.txt\n",
        "\n",
        "with open('sonnets.txt', 'r') as iofile:\n",
        "    text = iofile.readlines()\n",
        "\n",
        "TEXT_START = 45\n",
        "TEXT_END = -368\n",
        "text = text[TEXT_START : TEXT_END]\n",
        "assert len(text) == 2616"
      ]
    },
    {
      "cell_type": "markdown",
      "metadata": {
        "id": "S_c1UEsgQ4sj"
      },
      "source": [
        "In opposite to the in-class practice, this time we want to predict complex text. Let's reduce the complexity of the task and lowercase all the symbols.\n",
        "\n",
        "Now variable `text` is a list of strings. Join all the strings into one and lowercase it."
      ]
    },
    {
      "cell_type": "code",
      "execution_count": null,
      "metadata": {
        "colab": {
          "base_uri": "https://localhost:8080/",
          "height": 211
        },
        "id": "G7ME7ReNQ4sj",
        "outputId": "ebcbb1c8-90fe-4ce6-9fdc-71989ae79dd2"
      },
      "outputs": [
        {
          "output_type": "error",
          "ename": "AssertionError",
          "evalue": "Are you sure you have concatenated all the strings?",
          "traceback": [
            "\u001b[0;31m---------------------------------------------------------------------------\u001b[0m",
            "\u001b[0;31mAssertionError\u001b[0m                            Traceback (most recent call last)",
            "\u001b[0;32m<ipython-input-25-bff52dfa80c5>\u001b[0m in \u001b[0;36m<cell line: 6>\u001b[0;34m()\u001b[0m\n\u001b[1;32m      4\u001b[0m \u001b[0;31m# Your great code here\u001b[0m\u001b[0;34m\u001b[0m\u001b[0;34m\u001b[0m\u001b[0m\n\u001b[1;32m      5\u001b[0m \u001b[0;34m\u001b[0m\u001b[0m\n\u001b[0;32m----> 6\u001b[0;31m \u001b[0;32massert\u001b[0m \u001b[0mlen\u001b[0m\u001b[0;34m(\u001b[0m\u001b[0mtext\u001b[0m\u001b[0;34m)\u001b[0m \u001b[0;34m==\u001b[0m \u001b[0;36m100225\u001b[0m\u001b[0;34m,\u001b[0m \u001b[0;34m'Are you sure you have concatenated all the strings?'\u001b[0m\u001b[0;34m\u001b[0m\u001b[0;34m\u001b[0m\u001b[0m\n\u001b[0m\u001b[1;32m      7\u001b[0m \u001b[0;32massert\u001b[0m \u001b[0;32mnot\u001b[0m \u001b[0many\u001b[0m\u001b[0;34m(\u001b[0m\u001b[0;34m[\u001b[0m\u001b[0mx\u001b[0m \u001b[0;32min\u001b[0m \u001b[0mset\u001b[0m\u001b[0;34m(\u001b[0m\u001b[0mtext\u001b[0m\u001b[0;34m)\u001b[0m \u001b[0;32mfor\u001b[0m \u001b[0mx\u001b[0m \u001b[0;32min\u001b[0m \u001b[0mstring\u001b[0m\u001b[0;34m.\u001b[0m\u001b[0mascii_uppercase\u001b[0m\u001b[0;34m]\u001b[0m\u001b[0;34m)\u001b[0m\u001b[0;34m,\u001b[0m \u001b[0;34m'Uppercase letters are present'\u001b[0m\u001b[0;34m\u001b[0m\u001b[0;34m\u001b[0m\u001b[0m\n\u001b[1;32m      8\u001b[0m \u001b[0mprint\u001b[0m\u001b[0;34m(\u001b[0m\u001b[0;34m'OK!'\u001b[0m\u001b[0;34m)\u001b[0m\u001b[0;34m\u001b[0m\u001b[0;34m\u001b[0m\u001b[0m\n",
            "\u001b[0;31mAssertionError\u001b[0m: Are you sure you have concatenated all the strings?"
          ]
        }
      ],
      "source": [
        "# Join all the strings into one and lowercase it\n",
        "# Put result into variable text.\n",
        "\n",
        "# Your great code here\n",
        "\n",
        "assert len(text) == 100225, 'Are you sure you have concatenated all the strings?'\n",
        "assert not any([x in set(text) for x in string.ascii_uppercase]), 'Uppercase letters are present'\n",
        "print('OK!')"
      ]
    },
    {
      "cell_type": "markdown",
      "metadata": {
        "id": "F2z6bZn0Q4sj"
      },
      "source": [
        "### Data loading: \"Евгений Онегин\"\n"
      ]
    },
    {
      "cell_type": "code",
      "execution_count": null,
      "metadata": {
        "id": "18Uy6CVNQ4sj"
      },
      "outputs": [],
      "source": [
        "# !wget https://raw.githubusercontent.com/attatrol/data_sources/master/onegin.txt\n",
        "\n",
        "with open('onegin.txt', 'r') as iofile:\n",
        "    text = iofile.readlines()\n",
        "\n",
        "text = [x.replace('\\t\\t', '') for x in text]"
      ]
    },
    {
      "cell_type": "markdown",
      "metadata": {
        "id": "JIdgMPJVQ4sl"
      },
      "source": [
        "In opposite to the in-class practice, this time we want to predict complex text. Let's reduce the complexity of the task and lowercase all the symbols.\n",
        "\n",
        "Now variable `text` is a list of strings. Join all the strings into one and lowercase it."
      ]
    },
    {
      "cell_type": "code",
      "source": [
        "text[:15]"
      ],
      "metadata": {
        "colab": {
          "base_uri": "https://localhost:8080/"
        },
        "id": "NnlQHZPWZywQ",
        "outputId": "a65f5224-d5c1-4723-ef5c-3f9f8f0bd628"
      },
      "execution_count": null,
      "outputs": [
        {
          "output_type": "execute_result",
          "data": {
            "text/plain": [
              "['\\n',\n",
              " 'I\\n',\n",
              " '\\n',\n",
              " '«Мой дядя самых честных правил,\\n',\n",
              " 'Когда не в шутку занемог,\\n',\n",
              " 'Он уважать себя заставил\\n',\n",
              " 'И лучше выдумать не мог.\\n',\n",
              " 'Его пример другим наука;\\n',\n",
              " 'Но, боже мой, какая скука\\n',\n",
              " 'С больным сидеть и день и ночь,\\n',\n",
              " 'Не отходя ни шагу прочь!\\n',\n",
              " 'Какое низкое коварство\\n',\n",
              " 'Полуживого забавлять,\\n',\n",
              " 'Ему подушки поправлять,\\n',\n",
              " 'Печально подносить лекарство,\\n']"
            ]
          },
          "metadata": {},
          "execution_count": 93
        }
      ]
    },
    {
      "cell_type": "code",
      "execution_count": null,
      "metadata": {
        "id": "o-SpuLfRQ4sl",
        "colab": {
          "base_uri": "https://localhost:8080/",
          "height": 36
        },
        "outputId": "4d024e4b-10ab-4bd5-ca66-975cd015c46f"
      },
      "outputs": [
        {
          "output_type": "execute_result",
          "data": {
            "text/plain": [
              "'\\n i\\n \\n «мой дядя самых честных правил,\\n когда не в шутку занемог,\\n он уважать себя заставил\\n и лучше'"
            ],
            "application/vnd.google.colaboratory.intrinsic+json": {
              "type": "string"
            }
          },
          "metadata": {},
          "execution_count": 94
        }
      ],
      "source": [
        "# Join all the strings into one and lowercase it\n",
        "# Put result into variable text.\n",
        "\n",
        "text = \" \".join(text).lower()\n",
        "text[:100]"
      ]
    },
    {
      "cell_type": "code",
      "source": [
        "def clean_text(text):\n",
        "    # Удаляем \"римские цифры\" между двумя переносами строки\n",
        "    text = re.sub(r'\\n\\s*[ivxlcdm]+\\s*\\n', '\\n\\n', text)\n",
        "    # Оставляем только буквы русского и английского алфавитов, цифры, пробелы, знаки препинания и переводы строк\n",
        "    # text = re.sub(r'[^\\w\\s.,!?;:\\-\\(\\)а-яА-ЯёЁ]', '', text)\n",
        "    text = re.sub(r'[a-zA-Z0-9]+', '', text)  # Убираем все английские слова и цифры\n",
        "    return text\n",
        "\n",
        "text = clean_text(text)\n",
        "print(text[:100])"
      ],
      "metadata": {
        "id": "QZ5s93KECCQ8",
        "colab": {
          "base_uri": "https://localhost:8080/"
        },
        "outputId": "6db89079-6c39-44e7-ca2f-1cc0a8b80269"
      },
      "execution_count": null,
      "outputs": [
        {
          "output_type": "stream",
          "name": "stdout",
          "text": [
            "\n",
            "\n",
            " «мой дядя самых честных правил,\n",
            " когда не в шутку занемог,\n",
            " он уважать себя заставил\n",
            " и лучше выд\n"
          ]
        }
      ]
    },
    {
      "cell_type": "markdown",
      "metadata": {
        "id": "Nb531m7TQ4sl"
      },
      "source": [
        "Put all the characters, that you've seen in the text, into variable `tokens`."
      ]
    },
    {
      "cell_type": "code",
      "execution_count": null,
      "metadata": {
        "id": "ov2KP9iOQ4sl",
        "colab": {
          "base_uri": "https://localhost:8080/"
        },
        "outputId": "6be7b801-61b4-4934-c573-8f60f3605aef"
      },
      "outputs": [
        {
          "output_type": "execute_result",
          "data": {
            "text/plain": [
              "55"
            ]
          },
          "metadata": {},
          "execution_count": 96
        }
      ],
      "source": [
        "tokens = sorted(set(text))\n",
        "\n",
        "tokens.append('_') # <PAD>\n",
        "num_tokens = len(tokens)\n",
        "\n",
        "consts= {\n",
        "    'num_tokens': num_tokens\n",
        "}\n",
        "\n",
        "consts['num_tokens']"
      ]
    },
    {
      "cell_type": "markdown",
      "metadata": {
        "id": "2DdVltAOQ4sl"
      },
      "source": [
        "Create dictionary `token_to_idx = {<char>: <index>}` and dictionary `idx_to_token = {<index>: <char>}`"
      ]
    },
    {
      "cell_type": "code",
      "execution_count": null,
      "metadata": {
        "collapsed": true,
        "id": "4EK6VdaxQ4sm"
      },
      "outputs": [],
      "source": [
        "# dict <index>:<char>\n",
        "idx2char = {i: c for i, c in enumerate(tokens)}\n",
        "\n",
        "# dict <char>:<index>\n",
        "char2idx = {c: i for i, c in enumerate(tokens)}"
      ]
    },
    {
      "cell_type": "code",
      "source": [
        "seq_length = 100\n",
        "sentences = []\n",
        "next_chars = []\n",
        "\n",
        "for i in range(0, len(text) - seq_length):\n",
        "    sentences.append(text[i: i + seq_length])\n",
        "    next_chars.append(text[i + seq_length])\n",
        "\n",
        "sentences = np.array(sentences)\n",
        "next_chars = np.array(next_chars)\n",
        "\n",
        "print(sentences[:5])\n",
        "print(next_chars[:5])\n",
        "print('Number of sequences:', len(sentences))\n",
        "print(sentences.shape, next_chars.shape)"
      ],
      "metadata": {
        "colab": {
          "base_uri": "https://localhost:8080/"
        },
        "id": "ShN7Z8TrzRjK",
        "outputId": "6822a64c-c33e-43f3-db6a-74945394bfbb"
      },
      "execution_count": null,
      "outputs": [
        {
          "output_type": "stream",
          "name": "stdout",
          "text": [
            "['\\n\\n «мой дядя самых честных правил,\\n когда не в шутку занемог,\\n он уважать себя заставил\\n и лучше выд'\n",
            " '\\n «мой дядя самых честных правил,\\n когда не в шутку занемог,\\n он уважать себя заставил\\n и лучше выду'\n",
            " ' «мой дядя самых честных правил,\\n когда не в шутку занемог,\\n он уважать себя заставил\\n и лучше выдум'\n",
            " '«мой дядя самых честных правил,\\n когда не в шутку занемог,\\n он уважать себя заставил\\n и лучше выдума'\n",
            " 'мой дядя самых честных правил,\\n когда не в шутку занемог,\\n он уважать себя заставил\\n и лучше выдумат']\n",
            "['у' 'м' 'а' 'т' 'ь']\n",
            "Number of sequences: 143942\n",
            "(143942,) (143942,)\n"
          ]
        }
      ]
    },
    {
      "cell_type": "markdown",
      "source": [
        "Переводим в индексы для обучения"
      ],
      "metadata": {
        "id": "KaNqz4TS23TN"
      }
    },
    {
      "cell_type": "code",
      "source": [
        "def getdata(sentences, next_chars):\n",
        "    X = np.zeros((len(sentences), seq_length))\n",
        "    y = np.zeros((len(sentences)))\n",
        "\n",
        "    for i in range(len(sentences)):\n",
        "        sentence = sentences[i]\n",
        "        for t, char in enumerate(sentence):\n",
        "            X[i, t] = char2idx[char]\n",
        "        y[i] = char2idx[next_chars[i]]\n",
        "    return X, y"
      ],
      "metadata": {
        "id": "hAXvNRCd0Dtt"
      },
      "execution_count": null,
      "outputs": []
    },
    {
      "cell_type": "code",
      "source": [
        "train_x, train_y = getdata(sentences, next_chars)\n",
        "print('Shape of train_x:', train_x.shape)\n",
        "print('Shape of train_y:', train_y.shape)"
      ],
      "metadata": {
        "colab": {
          "base_uri": "https://localhost:8080/"
        },
        "id": "2066KpOi0JiX",
        "outputId": "c4d4dac2-aaa5-437a-f925-a91bdf3555d2"
      },
      "execution_count": null,
      "outputs": [
        {
          "output_type": "stream",
          "name": "stdout",
          "text": [
            "Shape of train_x: (143942, 100)\n",
            "Shape of train_y: (143942,)\n"
          ]
        }
      ]
    },
    {
      "cell_type": "markdown",
      "source": [
        "формируем обуч. выборку"
      ],
      "metadata": {
        "id": "Eq4BtoT73V01"
      }
    },
    {
      "cell_type": "code",
      "source": [
        "# в тензоры\n",
        "X_train = torch.tensor(train_x, dtype=torch.long).to(device)\n",
        "y_train = torch.tensor(train_y, dtype=torch.long).to(device)"
      ],
      "metadata": {
        "id": "5koXheZR10tA"
      },
      "execution_count": null,
      "outputs": []
    },
    {
      "cell_type": "code",
      "source": [
        "from torch.utils.data import DataLoader\n",
        "\n",
        "train = torch.utils.data.TensorDataset(X_train, y_train)\n",
        "train_loader = torch.utils.data.DataLoader(train, batch_size=100, shuffle=True)"
      ],
      "metadata": {
        "id": "6ChnOFU22TNI"
      },
      "execution_count": null,
      "outputs": []
    },
    {
      "cell_type": "markdown",
      "metadata": {
        "id": "vtmknb_3Q4sm"
      },
      "source": [
        "### Building the model (base RNN можно сказать ручками)"
      ]
    },
    {
      "cell_type": "markdown",
      "metadata": {
        "id": "kjY2SJvSQ4sm"
      },
      "source": [
        "Now we want to build and train recurrent neural net which would be able to something similar to Shakespeare's poetry.\n",
        "\n",
        "Let's use vanilla RNN, similar to the one created during the lesson."
      ]
    },
    {
      "cell_type": "code",
      "execution_count": 103,
      "metadata": {
        "collapsed": true,
        "id": "qu0S3wsnQ4sm"
      },
      "outputs": [],
      "source": [
        "class CharRNNCell(nn.Module):\n",
        "    \"\"\"\n",
        "    Implement the scheme above as torch module\n",
        "    \"\"\"\n",
        "    def __init__(self, num_tokens, embedding_size, rnn_num_units):\n",
        "        super(self.__class__,self).__init__()\n",
        "        self.num_units = rnn_num_units\n",
        "\n",
        "        self.embedding = nn.Embedding(num_tokens, embedding_size, device=device)\n",
        "        self.rnn_update = nn.Linear(embedding_size + rnn_num_units, rnn_num_units, device=device)\n",
        "        self.rnn_to_logits = nn.Linear(rnn_num_units, num_tokens, device=device)\n",
        "\n",
        "    def forward(self, x, h_prev):\n",
        "        \"\"\"\n",
        "        This method computes h_next(x, h_prev) and log P(x_next | h_next)\n",
        "        We'll call it repeatedly to produce the whole sequence.\n",
        "\n",
        "        :param x: batch of character ids, containing vector of int64\n",
        "        :param h_prev: previous rnn hidden states, containing matrix [batch, rnn_num_units] of float32\n",
        "        \"\"\"\n",
        "        # get vector embedding of x\n",
        "        x_emb = self.embedding(x)\n",
        "        x_and_h = torch.cat([x_emb, h_prev], dim=-1)\n",
        "\n",
        "        h_next = self.rnn_update(x_and_h)\n",
        "        h_next = torch.tanh(h_next)\n",
        "\n",
        "        assert h_next.size() == h_prev.size()\n",
        "\n",
        "        #compute logits for next character probs\n",
        "        logits = self.rnn_to_logits(h_next)\n",
        "\n",
        "        return h_next, logits\n",
        "\n",
        "\n",
        "    def initial_state(self, batch_size=100):\n",
        "        \"\"\" return rnn state before it processes first input (aka h0) \"\"\"\n",
        "        return torch.zeros(batch_size, self.num_units, requires_grad=True, device=device)"
      ]
    },
    {
      "cell_type": "code",
      "source": [
        "char_rnn = CharRNNCell(consts['num_tokens'], embedding_size=64, rnn_num_units=128)\n",
        "hid_state0 = char_rnn.initial_state()\n",
        "hid_state0.shape"
      ],
      "metadata": {
        "id": "UCs2ZTCPxjDP",
        "colab": {
          "base_uri": "https://localhost:8080/"
        },
        "outputId": "27f7392f-cbb6-4a7f-9ffd-e98196eff4b8"
      },
      "execution_count": 104,
      "outputs": [
        {
          "output_type": "execute_result",
          "data": {
            "text/plain": [
              "torch.Size([100, 128])"
            ]
          },
          "metadata": {},
          "execution_count": 104
        }
      ]
    },
    {
      "cell_type": "markdown",
      "source": [
        "RNN LOOP"
      ],
      "metadata": {
        "id": "nXD_DXAOMcdD"
      }
    },
    {
      "cell_type": "code",
      "source": [
        "def rnn_loop(char_rnn, batch):\n",
        "    \"\"\"\n",
        "    Computes log P(next_character) for all time-steps in names_ix\n",
        "    :param names_ix: an int32 matrix of shape [batch, time], output of to_matrix(names)\n",
        "    \"\"\"\n",
        "    batch_size, max_length = batch.size()\n",
        "    hid_state = char_rnn.initial_state(batch_size)\n",
        "    logits = []\n",
        "\n",
        "    for x_t in batch.transpose(0,1):\n",
        "        hid_state, logits_next = char_rnn(x_t, hid_state)  # <-- here we call your one-step code\n",
        "        logits.append(logits_next)\n",
        "\n",
        "    return torch.stack(logits, dim=1)"
      ],
      "metadata": {
        "id": "G1nJ40a0LROn"
      },
      "execution_count": 105,
      "outputs": []
    },
    {
      "cell_type": "markdown",
      "metadata": {
        "id": "Ra1mD1F6Q4sn"
      },
      "source": [
        "Plot the loss function (axis X: number of epochs, axis Y: loss function)."
      ]
    },
    {
      "cell_type": "markdown",
      "source": [
        "The training loop"
      ],
      "metadata": {
        "id": "sIKwYr2_yJzo"
      }
    },
    {
      "cell_type": "code",
      "source": [
        "char_rnn = CharRNNCell(num_tokens, embedding_size=64, rnn_num_units=128)\n",
        "hid_state0 = char_rnn.initial_state()\n",
        "\n",
        "\n",
        "opt = torch.optim.Adam(char_rnn.parameters())\n",
        "loss_func = nn.CrossEntropyLoss(ignore_index=char2idx['_'])\n",
        "\n",
        "history = []"
      ],
      "metadata": {
        "id": "QrOa40lKgg8T"
      },
      "execution_count": 106,
      "outputs": []
    },
    {
      "cell_type": "code",
      "source": [
        "%%time\n",
        "for i, data in enumerate(train_loader):\n",
        "    batch = data[0]\n",
        "    logits_seq = rnn_loop(char_rnn, batch)\n",
        "\n",
        "\n",
        "    # Likelihood and gradients\n",
        "    predictions_logits = logits_seq[:, :-1]\n",
        "    actual_next_tokens = batch[:, 1:]\n",
        "\n",
        "    loss = loss_func(\n",
        "        predictions_logits.reshape((-1, num_tokens)),\n",
        "        actual_next_tokens.reshape(-1)\n",
        "    )\n",
        "\n",
        "    loss.backward()\n",
        "    opt.step()\n",
        "    opt.zero_grad()\n",
        "\n",
        "    history.append(loss.detach().cpu().numpy())\n",
        "    if (i+1)%100==0:\n",
        "        clear_output(True)\n",
        "        plt.plot(history,label='loss')\n",
        "        plt.legend()\n",
        "        plt.show()\n",
        "\n",
        "assert np.mean(history[:10]) > np.mean(history[-10:]), \"RNN didn't converge.\""
      ],
      "metadata": {
        "id": "DNNA9KnwghWJ",
        "colab": {
          "base_uri": "https://localhost:8080/",
          "height": 465
        },
        "collapsed": true,
        "outputId": "8f91dab7-8bfa-4683-8a92-4910a087d2f0"
      },
      "execution_count": 107,
      "outputs": [
        {
          "output_type": "display_data",
          "data": {
            "text/plain": [
              "<Figure size 640x480 with 1 Axes>"
            ],
            "image/png": "[encoded data removed]"
          },
          "metadata": {}
        },
        {
          "output_type": "stream",
          "name": "stdout",
          "text": [
            "CPU times: user 1min 15s, sys: 1.54 s, total: 1min 16s\n",
            "Wall time: 1min 17s\n"
          ]
        }
      ]
    },
    {
      "cell_type": "code",
      "source": [
        "# обобщение предыдущего цикла обучения в одну эпоху, теперь можем делать несколько таких эпох чтобы повысить качество обучения\n",
        "def train(model, num_epochs):\n",
        "    history = []\n",
        "\n",
        "    for epoch in range(num_epochs):\n",
        "        train_loss = 0\n",
        "\n",
        "        for i, data in enumerate(train_loader):\n",
        "            batch = data[0]\n",
        "            logits_seq = rnn_loop(model, batch)\n",
        "\n",
        "\n",
        "            predictions_logits = logits_seq[:, :-1]\n",
        "            actual_next_tokens = batch[:, 1:]\n",
        "\n",
        "            loss = loss_func(\n",
        "                predictions_logits.reshape((-1, num_tokens)),\n",
        "                actual_next_tokens.reshape(-1)\n",
        "            )\n",
        "\n",
        "            loss.backward()\n",
        "            opt.step()\n",
        "            opt.zero_grad()\n",
        "\n",
        "            train_loss += loss.detach().cpu().numpy()\n",
        "\n",
        "        train_loss /= len(train_loader)\n",
        "        history.append(train_loss)\n",
        "\n",
        "        print(f\"Epoch {epoch + 1} of {num_epochs}\", end='')\n",
        "        print(f\"  train loss: {train_loss:.3f}\")\\\n",
        "\n",
        "    return model, history"
      ],
      "metadata": {
        "id": "EP9O7wVL2H6x"
      },
      "execution_count": 109,
      "outputs": []
    },
    {
      "cell_type": "code",
      "source": [
        "%%time\n",
        "# по факту обучили 1+5 эпох, поэтому лосс тут стартует уже с 1.7\n",
        "char_rnn_trained, history_loss = train(char_rnn, 5)"
      ],
      "metadata": {
        "colab": {
          "base_uri": "https://localhost:8080/"
        },
        "id": "hBGCxUim3IXr",
        "outputId": "86500e8c-e8f3-4aab-bf07-2839d0300bda"
      },
      "execution_count": 110,
      "outputs": [
        {
          "output_type": "stream",
          "name": "stdout",
          "text": [
            "Epoch 1 of 5  train loss: 1.773\n",
            "Epoch 2 of 5  train loss: 1.692\n",
            "Epoch 3 of 5  train loss: 1.648\n",
            "Epoch 4 of 5  train loss: 1.620\n",
            "Epoch 5 of 5  train loss: 1.600\n",
            "CPU times: user 6min 10s, sys: 975 ms, total: 6min 11s\n",
            "Wall time: 6min 34s\n"
          ]
        }
      ]
    },
    {
      "cell_type": "code",
      "execution_count": 112,
      "metadata": {
        "id": "hKYJW3pvQ4sn"
      },
      "outputs": [],
      "source": [
        "def generate_sample(char_rnn, seed_phrase=' ', max_length=500, temperature=1.0):\n",
        "    '''\n",
        "    ### Disclaimer: this is an example function for text generation.\n",
        "    ### You can either adapt it in your code or create your own function\n",
        "\n",
        "    The function generates text given a phrase of length at least SEQ_LENGTH.\n",
        "    :param seed_phrase: prefix characters. The RNN is asked to continue the phrase\n",
        "    :param max_length: maximum output length, including seed_phrase\n",
        "    :param temperature: coefficient for sampling.  higher temperature produces more chaotic outputs,\n",
        "        smaller temperature converges to the single most likely output.\n",
        "\n",
        "    Be careful with the model output. This model waits logits (not probabilities/log-probabilities)\n",
        "    of the next symbol.\n",
        "    '''\n",
        "\n",
        "    x_sequence = [char2idx[token] for token in seed_phrase]\n",
        "    x_sequence = torch.tensor([x_sequence], dtype=torch.int64, device=device)\n",
        "    hid_state = char_rnn.initial_state(batch_size=1)\n",
        "\n",
        "    #feed the seed phrase, if any\n",
        "    for i in range(len(seed_phrase) - 1):\n",
        "        hid_state, out = char_rnn(x_sequence[:, i], hid_state)\n",
        "\n",
        "    #start generating\n",
        "    for _ in range(max_length - len(seed_phrase)):\n",
        "\n",
        "        hid_state, out = char_rnn(x_sequence[:, -1], hid_state)\n",
        "        p_next = F.softmax(out.detach().cpu() / temperature, dim=-1).data.numpy()[0]\n",
        "\n",
        "        next_ix = np.random.choice(len(tokens), p=p_next)\n",
        "        next_ix = torch.tensor([[next_ix]], dtype=torch.int64, device=device)\n",
        "\n",
        "        x_sequence = torch.cat([x_sequence, next_ix], dim=1)\n",
        "\n",
        "    return ''.join([tokens[ix] for ix in x_sequence.data.cpu().numpy()[0]])"
      ]
    },
    {
      "cell_type": "code",
      "source": [
        "print(generate_sample(char_rnn_trained, seed_phrase=' мой дядя самых честных правил\\n когда не в шутку занемог,\\n он у',\n",
        "                      max_length=500, temperature=0.2))"
      ],
      "metadata": {
        "colab": {
          "base_uri": "https://localhost:8080/"
        },
        "id": "_jm0eo2PRqSl",
        "outputId": "a5baab78-a91b-4d12-912b-f0d158d14963"
      },
      "execution_count": 113,
      "outputs": [
        {
          "output_type": "stream",
          "name": "stdout",
          "text": [
            " мой дядя самых честных правил\n",
            " когда не в шутку занемог,\n",
            " он устах соседом страха,\n",
            " с ней не всех под приятный проста\n",
            " он в после был покой постеленный,\n",
            " и в сердце простор забоконы\n",
            " привычки в поле, привется столо,\n",
            " как на свои страстей старины,\n",
            " и всех странный полей в том.\n",
            " простите сердце в сердечный своей\n",
            " приятно благословенный своей\n",
            " приятно ульянам столе\n",
            " татьяна страсти в сердцем конец\n",
            " ответ долго посланье,\n",
            " под ней сердце в сердце своей сосед\n",
            " и не послушает страстей отрада,\n",
            " и в себ\n"
          ]
        }
      ]
    },
    {
      "cell_type": "markdown",
      "metadata": {
        "id": "u1Ylpc63Q4so"
      },
      "source": [
        "### More poetic model\n",
        "\n",
        "Let's use LSTM instead of vanilla RNN and compare the results."
      ]
    },
    {
      "cell_type": "markdown",
      "metadata": {
        "id": "L0iLve7cQ4so"
      },
      "source": [
        "Plot the loss function of the number of epochs. Does the final loss become better?"
      ]
    },
    {
      "cell_type": "code",
      "source": [
        "for data, y in train_loader:\n",
        "    a1 = data\n",
        "    b1 = y\n",
        "    break\n",
        "print(a1.shape, b1.shape)"
      ],
      "metadata": {
        "colab": {
          "base_uri": "https://localhost:8080/"
        },
        "id": "igOj2Pe26jNH",
        "outputId": "96be0cdb-e3b0-4664-b8d1-e97fdfeb23a5"
      },
      "execution_count": 114,
      "outputs": [
        {
          "output_type": "stream",
          "name": "stdout",
          "text": [
            "torch.Size([100, 100]) torch.Size([100])\n"
          ]
        }
      ]
    },
    {
      "cell_type": "code",
      "execution_count": 115,
      "metadata": {
        "collapsed": true,
        "id": "s2-zvzB2Q4so"
      },
      "outputs": [],
      "source": [
        "class Simple_LSTM(nn.Module):\n",
        "    def __init__(self, n_vocab, hidden_dim, embedding_dim, dropout=0.2, seq_length=100):\n",
        "        super(Simple_LSTM, self).__init__()\n",
        "        torch.manual_seed(0)\n",
        "        self.hidden_dim = hidden_dim\n",
        "        self.embedding_dim = embedding_dim\n",
        "        self.seq_length_to_fit = seq_length\n",
        "\n",
        "        self.lstm = nn.LSTM(embedding_dim, hidden_dim, batch_first=True, dropout=dropout, num_layers=2)\n",
        "        self.embeddings = nn.Embedding(n_vocab, embedding_dim)\n",
        "        self.fc = nn.Linear(hidden_dim, n_vocab)\n",
        "\n",
        "    def forward(self, seq_in, printt=False):\n",
        "        embedded = self.embeddings(seq_in)\n",
        "        if printt:\n",
        "            print('after emb', embedded.shape)\n",
        "\n",
        "        lstm_out, _ = self.lstm(embedded)\n",
        "        if printt:\n",
        "            print('after lstm', lstm_out.shape)\n",
        "\n",
        "        ht = lstm_out[:, -1]\n",
        "        if printt:\n",
        "            print('after agg', ht.shape)\n",
        "\n",
        "        logits = self.fc(ht)\n",
        "        return logits"
      ]
    },
    {
      "cell_type": "code",
      "source": [
        "hyper_parametrs = {\n",
        "    'seq_length': 100,\n",
        "    'embedding_dim': 64,\n",
        "    'hidden_dim': 128\n",
        "}"
      ],
      "metadata": {
        "id": "X8A3MF5eN0xU"
      },
      "execution_count": 116,
      "outputs": []
    },
    {
      "cell_type": "code",
      "source": [
        "model = Simple_LSTM(n_vocab=consts['num_tokens'],\n",
        "                    hidden_dim=hyper_parametrs['hidden_dim'],\n",
        "                    embedding_dim=hyper_parametrs['embedding_dim'],\n",
        "                    dropout=0.2,\n",
        "                    seq_length=hyper_parametrs['seq_length'])\n",
        "model = model.to(device)\n",
        "model"
      ],
      "metadata": {
        "colab": {
          "base_uri": "https://localhost:8080/"
        },
        "id": "gDawhFOcNdN3",
        "outputId": "62543368-c5fb-42c3-ee53-31a05fa0f50c"
      },
      "execution_count": 117,
      "outputs": [
        {
          "output_type": "execute_result",
          "data": {
            "text/plain": [
              "Simple_LSTM(\n",
              "  (lstm): LSTM(64, 128, num_layers=2, batch_first=True, dropout=0.2)\n",
              "  (embeddings): Embedding(55, 64)\n",
              "  (fc): Linear(in_features=128, out_features=55, bias=True)\n",
              ")"
            ]
          },
          "metadata": {},
          "execution_count": 117
        }
      ]
    },
    {
      "cell_type": "code",
      "source": [
        "out = model(a1, printt=True)\n",
        "out.shape"
      ],
      "metadata": {
        "colab": {
          "base_uri": "https://localhost:8080/"
        },
        "id": "nLdq5Ed3NdQB",
        "outputId": "7f5c5743-7848-4222-bb5b-bc6601b74ad1"
      },
      "execution_count": 118,
      "outputs": [
        {
          "output_type": "stream",
          "name": "stdout",
          "text": [
            "after emb torch.Size([100, 100, 64])\n",
            "after lstm torch.Size([100, 100, 128])\n",
            "after agg torch.Size([100, 128])\n"
          ]
        },
        {
          "output_type": "execute_result",
          "data": {
            "text/plain": [
              "torch.Size([100, 55])"
            ]
          },
          "metadata": {},
          "execution_count": 118
        }
      ]
    },
    {
      "cell_type": "code",
      "source": [
        "def train(model, crit, optim,\n",
        "          train_loader,\n",
        "          num_epochs=10,\n",
        "          plot=False):\n",
        "\n",
        "    history = {'loss': []}\n",
        "\n",
        "    for epoch in range(num_epochs):\n",
        "        train_loss = 0\n",
        "\n",
        "        for i, data in enumerate(train_loader):\n",
        "            inputs, labels = data[0].to(device), data[1].to(device)\n",
        "            optim.zero_grad()\n",
        "\n",
        "            outputs = model(inputs)\n",
        "            loss = crit(outputs, labels)\n",
        "\n",
        "            loss.backward()\n",
        "            optim.step()\n",
        "\n",
        "            train_loss += np.sum(loss.detach().cpu().numpy())\n",
        "\n",
        "        train_loss /= len(train_loader)\n",
        "        history['loss'].append(train_loss)\n",
        "        print(f\"Epoch {epoch + 1} of {num_epochs}\", end='')\n",
        "        print(f\"  train loss: {train_loss:.3f}\")\n",
        "\n",
        "    return model, history"
      ],
      "metadata": {
        "id": "xz_eQumjNdSC"
      },
      "execution_count": 119,
      "outputs": []
    },
    {
      "cell_type": "code",
      "source": [
        "criterion = torch.nn.CrossEntropyLoss(ignore_index=char2idx['_'])\n",
        "optimizer = torch.optim.Adam(model.parameters(), lr=0.001)\n",
        "\n",
        "model_trained, history = train(\n",
        "    model, criterion, optimizer,\n",
        "    train_loader,\n",
        "    num_epochs=30,\n",
        ")"
      ],
      "metadata": {
        "colab": {
          "base_uri": "https://localhost:8080/"
        },
        "id": "vpIeM8viNdUI",
        "outputId": "16d3ccfe-e928-4f04-bf77-9c246547526a"
      },
      "execution_count": 120,
      "outputs": [
        {
          "output_type": "stream",
          "name": "stdout",
          "text": [
            "Epoch 1 of 30  train loss: 2.476\n",
            "Epoch 2 of 30  train loss: 2.149\n",
            "Epoch 3 of 30  train loss: 2.025\n",
            "Epoch 4 of 30  train loss: 1.946\n",
            "Epoch 5 of 30  train loss: 1.884\n",
            "Epoch 6 of 30  train loss: 1.837\n",
            "Epoch 7 of 30  train loss: 1.797\n",
            "Epoch 8 of 30  train loss: 1.761\n",
            "Epoch 9 of 30  train loss: 1.733\n",
            "Epoch 10 of 30  train loss: 1.709\n",
            "Epoch 11 of 30  train loss: 1.686\n",
            "Epoch 12 of 30  train loss: 1.665\n",
            "Epoch 13 of 30  train loss: 1.646\n",
            "Epoch 14 of 30  train loss: 1.631\n",
            "Epoch 15 of 30  train loss: 1.615\n",
            "Epoch 16 of 30  train loss: 1.599\n",
            "Epoch 17 of 30  train loss: 1.588\n",
            "Epoch 18 of 30  train loss: 1.573\n",
            "Epoch 19 of 30  train loss: 1.563\n",
            "Epoch 20 of 30  train loss: 1.553\n",
            "Epoch 21 of 30  train loss: 1.543\n",
            "Epoch 22 of 30  train loss: 1.530\n",
            "Epoch 23 of 30  train loss: 1.521\n",
            "Epoch 24 of 30  train loss: 1.513\n",
            "Epoch 25 of 30  train loss: 1.505\n",
            "Epoch 26 of 30  train loss: 1.495\n",
            "Epoch 27 of 30  train loss: 1.491\n",
            "Epoch 28 of 30  train loss: 1.481\n",
            "Epoch 29 of 30  train loss: 1.473\n",
            "Epoch 30 of 30  train loss: 1.468\n"
          ]
        }
      ]
    },
    {
      "cell_type": "code",
      "source": [
        "plt.plot(history['loss'])\n",
        "plt.xlabel('Epoch')\n",
        "plt.ylabel('Loss value')\n",
        "plt.show()"
      ],
      "metadata": {
        "colab": {
          "base_uri": "https://localhost:8080/",
          "height": 449
        },
        "id": "fSRYqAQANdYM",
        "outputId": "9796e896-55a7-4e64-c965-52c44a642e21"
      },
      "execution_count": 121,
      "outputs": [
        {
          "output_type": "display_data",
          "data": {
            "text/plain": [
              "<Figure size 640x480 with 1 Axes>"
            ],
            "image/png": "[encoded data removed]"
          },
          "metadata": {}
        }
      ]
    },
    {
      "cell_type": "markdown",
      "metadata": {
        "id": "YW0SKjnLQ4so"
      },
      "source": [
        "Generate text using the trained net with different `temperature` parameter: `[0.1, 0.2, 0.5, 1.0, 2.0]`.\n",
        "\n",
        "Evaluate the results visually, try to interpret them."
      ]
    },
    {
      "cell_type": "code",
      "execution_count": 122,
      "metadata": {
        "collapsed": true,
        "id": "TY-uymeRQ4so"
      },
      "outputs": [],
      "source": [
        "def get_sample(preds, temperature=1.0):\n",
        "    '''\n",
        "    The function selects the next symbol based on the predicted probabilities\n",
        "    :param preds: predicted probabilities\n",
        "    :param temperature: coefficient for sampling.  higher temperature produces more chaotic outputs,\n",
        "                        smaller temperature converges to the single most likely output\n",
        "    '''\n",
        "    adjusted_probs = F.softmax(preds / temperature, dim=-1).cpu().detach().numpy()\n",
        "    char_idx = np.random.choice(range(len(preds)), p=adjusted_probs)\n",
        "\n",
        "    return char_idx"
      ]
    },
    {
      "cell_type": "code",
      "source": [
        "def generate_text(model, seed_phrase=None, max_length=200, temperature=1.0, device=device):\n",
        "    '''\n",
        "    The function generates text given a phrase of length at least max_length.\n",
        "    :param trained model\n",
        "    :param seed_phrase: prefix characters. The RNN is asked to continue the phrase\n",
        "    :param max_length: maximum output length, including seed_phrase\n",
        "    :param temperature: coefficient for sampling.  higher temperature produces more chaotic outputs,\n",
        "                        smaller temperature converges to the single most likely output\n",
        "    '''\n",
        "    if seed_phrase is not None:\n",
        "        x_sequence = [char2idx[token] for token in seed_phrase]\n",
        "    else:\n",
        "        x_sequence = []\n",
        "\n",
        "    result = x_sequence\n",
        "    x_sequence = torch.tensor(x_sequence, dtype=torch.int64, device=device)\n",
        "    x_sequence = x_sequence[None, :] # to match the dimensions of the tensors..\n",
        "\n",
        "    # padding if seed is too short (need for fit)\n",
        "    if len(seed_phrase) <= model.seq_length_to_fit:\n",
        "        num_to_pad = model.seq_length_to_fit - len(seed_phrase)\n",
        "        padding = torch.tensor([char2idx['_'] for _ in range(num_to_pad)], dtype=torch.int64, device=device)\n",
        "        padding = padding[None, :]# to match the dimensions of the tensors..\n",
        "\n",
        "        x_sequence =  torch.cat([padding, x_sequence], dim=-1)\n",
        "\n",
        "    # sequentially fitting for all seed if it's longer then seq_length\n",
        "    else:\n",
        "        num_to_fit = len(seed_phrase)-model.seq_length_to_fit\n",
        "        idx_seed_phrase = x_sequence\n",
        "        for i in range(num_to_fit):\n",
        "            x_sequence = idx_seed_phrase[:, i:50+i]\n",
        "            logits = model(x_sequence)[0]\n",
        "\n",
        "    #start generating\n",
        "    for _ in range(max_length - len(seed_phrase)):\n",
        "        logits = model(x_sequence)[0]\n",
        "\n",
        "        # sample next token\n",
        "        next_char_index = get_sample(logits, temperature)\n",
        "        result.append(next_char_index)\n",
        "\n",
        "        # push it back into x_sequence\n",
        "        next = torch.tensor([[next_char_index]], dtype=torch.int64, device=device)\n",
        "        x_sequence = torch.cat([x_sequence[:, 1:], next], dim=-1)\n",
        "\n",
        "    return ''.join([idx2char[idx] for idx in result])\n"
      ],
      "metadata": {
        "id": "o65wy02FW0G1"
      },
      "execution_count": 123,
      "outputs": []
    },
    {
      "cell_type": "code",
      "source": [
        "sentence = ' мой дядя самых честных правил\\n когда не в шутку занемог,\\n он у'\n",
        "\n",
        "for temp in [0.1, 0.2, 0.5, 1.0, 2.0]:\n",
        "    print(f\"[TEMP = {temp}]\")\n",
        "    print(generate_text(model_trained, seed_phrase=sentence, max_length=300, temperature=temp, device=device))"
      ],
      "metadata": {
        "colab": {
          "base_uri": "https://localhost:8080/"
        },
        "id": "NVliwCHHgQRy",
        "outputId": "a57ef554-1072-471f-cd70-5c79fea3b51c"
      },
      "execution_count": 124,
      "outputs": [
        {
          "output_type": "stream",
          "name": "stdout",
          "text": [
            "[TEMP = 0.1]\n",
            " мой дядя самых честных правил\n",
            " когда не в шутку занемог,\n",
            " он уж мой в сердца от сердце —\n",
            " «не всех полно в каками света,\n",
            " и страстей старинный полет\n",
            " и в молодом полно нашей —\n",
            " не светит и полу последний\n",
            " и в тени своей постепенный,\n",
            " и в поле не встали в ней дале,\n",
            " не знаю, старинный мой друзья,\n",
            " и\n",
            "[TEMP = 0.2]\n",
            " мой дядя самых честных правил\n",
            " когда не в шутку занемог,\n",
            " он умолкнувший не постели\n",
            " и страстей полно волновал\n",
            " он в своей не полного стреметь,\n",
            " и в своей не под сонего ль\n",
            " на страстей не полного своей\n",
            " под ней нет не видит она.\n",
            " татьяна с ним и долго свой\n",
            " старик, и славы получил.\n",
            " он в том уж не \n",
            "[TEMP = 0.5]\n",
            " мой дядя самых честных правил\n",
            " когда не в шутку занемог,\n",
            " он уж не простительных взор\n",
            " и был порой от конце мой\n",
            " страстей полное томе вы?\n",
            " кто не стариком объяснели\n",
            " под ветреный мой как-нибудь\n",
            " под нем покойник на собою.\n",
            " в гором с очере в тени спит\n",
            " и заблечен и глупаю вновь;\n",
            " не могнится как и д\n",
            "[TEMP = 1.0]\n",
            " мой дядя самых честных правил\n",
            " когда не в шутку занемог,\n",
            " он устолской угомину.\n",
            " он жертва славительных речи,\n",
            " (толпа, благосклонно го ленив,\n",
            " ни побидесь из-то с пишит.\n",
            " москво их понемной воозы\n",
            " с поля мыслительну и руче,\n",
            " любит апыкали нежь!\n",
            " прикажусь; с вижу вызвается.\n",
            " взор и цверу, купял раз\n",
            "[TEMP = 2.0]\n",
            " мой дядя самых честных правил\n",
            " когда не в шутку занемог,\n",
            " он умелось, всё какще-нод?..\n",
            "\n",
            "\n",
            " иа! сьа, сна-лхваны?, рапячте:\n",
            " бьются … о…к моеед одиса,\n",
            " вия в сихому нрою-ты,\n",
            " ниутиласи фракреныец!\n",
            " \n",
            " на расзвакащий госкому;\n",
            " но какомодулкахханы.\n",
            " чурыю бтил… – модный, как смечать:\n",
            " небнужащи. боль!: а\n"
          ]
        }
      ]
    },
    {
      "cell_type": "markdown",
      "metadata": {
        "id": "gnP3_vhuQ4so"
      },
      "source": [
        "### Saving and loading models"
      ]
    },
    {
      "cell_type": "markdown",
      "metadata": {
        "id": "ijti_GQKQ4sp"
      },
      "source": [
        "Save the model to the disk, then load it and generate text. Examples are available [here](https://pytorch.org/tutorials/beginner/saving_loading_models.html])."
      ]
    },
    {
      "cell_type": "code",
      "source": [
        "PATH = \"/content/trained_model.pt\""
      ],
      "metadata": {
        "id": "BAvoOUhXrWGV"
      },
      "execution_count": 125,
      "outputs": []
    },
    {
      "cell_type": "code",
      "execution_count": 126,
      "metadata": {
        "collapsed": true,
        "id": "eRMkCt6uQ4sp"
      },
      "outputs": [],
      "source": [
        "torch.save(model_trained.state_dict(), PATH)"
      ]
    },
    {
      "cell_type": "code",
      "source": [
        "the_model = Simple_LSTM(n_vocab=consts['num_tokens'],\n",
        "                    hidden_dim=hyper_parametrs['hidden_dim'],\n",
        "                    embedding_dim=hyper_parametrs['embedding_dim'],\n",
        "                    dropout=0.2,\n",
        "                    seq_length=hyper_parametrs['seq_length'])\n",
        "the_model.load_state_dict(torch.load(PATH))\n",
        "the_model = the_model.to(device)"
      ],
      "metadata": {
        "colab": {
          "base_uri": "https://localhost:8080/"
        },
        "id": "NRL267-PqqxX",
        "outputId": "c716564c-6b7b-4408-d95d-6a59d980c46e"
      },
      "execution_count": 127,
      "outputs": [
        {
          "output_type": "stream",
          "name": "stderr",
          "text": [
            "<ipython-input-127-8b717c7bdfd9>:6: FutureWarning: You are using `torch.load` with `weights_only=False` (the current default value), which uses the default pickle module implicitly. It is possible to construct malicious pickle data which will execute arbitrary code during unpickling (See https://github.com/pytorch/pytorch/blob/main/SECURITY.md#untrusted-models for more details). In a future release, the default value for `weights_only` will be flipped to `True`. This limits the functions that could be executed during unpickling. Arbitrary objects will no longer be allowed to be loaded via this mode unless they are explicitly allowlisted by the user via `torch.serialization.add_safe_globals`. We recommend you start setting `weights_only=True` for any use case where you don't have full control of the loaded file. Please open an issue on GitHub for any issues related to this experimental feature.\n",
            "  the_model.load_state_dict(torch.load(PATH))\n"
          ]
        }
      ]
    },
    {
      "cell_type": "code",
      "source": [
        "sentence = ' мой дядя самых честных правил\\n когда не в шутку занемог,\\n он у'\n",
        "\n",
        "for temp in [0.1, 0.2, 0.5, 1.0, 2.0]:\n",
        "    print(f\"[TEMP = {temp}]\")\n",
        "    print(generate_text(the_model, seed_phrase=sentence, max_length=300, temperature=temp, device=device))"
      ],
      "metadata": {
        "colab": {
          "base_uri": "https://localhost:8080/"
        },
        "id": "vVGWGIWWtEyT",
        "outputId": "3c49086d-c774-44ae-937b-ebae8698d563"
      },
      "execution_count": 128,
      "outputs": [
        {
          "output_type": "stream",
          "name": "stdout",
          "text": [
            "[TEMP = 0.1]\n",
            " мой дядя самых честных правил\n",
            " когда не в шутку занемог,\n",
            " он увидеть молча подруги,\n",
            " и в ней не почтенный полею\n",
            " и в сад ней на воскривая,\n",
            " и в поле полеволенный мой\n",
            " и полны не поднять не поле,\n",
            " и в самом и поле не скучно\n",
            " и в нем он в сердца под нею света\n",
            " и под ней скоро свети нет.\n",
            " в то же в мо\n",
            "[TEMP = 0.2]\n",
            " мой дядя самых честных правил\n",
            " когда не в шутку занемог,\n",
            " он уж не все друг меня свет.\n",
            " но везде заняться в дворей.\n",
            "\n",
            " все воточет и пора со стало,\n",
            " на старины в полу все полны,\n",
            " но скучал в девошный взгляда,\n",
            " в конца привычный взором,\n",
            " не постепенно своей дале,\n",
            " и в сад был по старый полотный,\n",
            " и в\n",
            "[TEMP = 0.5]\n",
            " мой дядя самых честных правил\n",
            " когда не в шутку занемог,\n",
            " он уж мни не почтенный рон.\n",
            "\n",
            " но то не под как себя страхан;\n",
            " но верова, быть мой веками,\n",
            " с полиность не встали молчанье,\n",
            " и странный уголо все доли.\n",
            " в ней он полею почему\n",
            " была по красно возвращенный, —\n",
            " мне все как же вот под ней страсти\n",
            "[TEMP = 1.0]\n",
            " мой дядя самых честных правил\n",
            " когда не в шутку занемог,\n",
            " он углароны, бури вам лчак,\n",
            " ничто ж? уретия и там,\n",
            " соседте, таня залогнанный,\n",
            " кушных деревен вым цвет блесной),\n",
            " ити здесь мне счатеньем модолкои,\n",
            " тувай дверь утренной вели.\n",
            " подаренный полей делове\n",
            " с ушаминуем волновый,\n",
            " неволивой карт\n",
            "[TEMP = 2.0]\n",
            " мой дядя самых честных правил\n",
            " когда не в шутку занемог,\n",
            " он уплека от веби слоее,\n",
            " чтя? пцишь? –?ктазныа рикав.\n",
            " мери нё, – так ужвнадь вмолею,\n",
            " отк! да злоч, изныгох накник,\n",
            " сврячать-ет, рыйы, крикают)\n",
            " засу;, завтварного свяше\n",
            "м\n",
            " топокитае. вто, божчалася —\n",
            " ничалепех бууке, дой ге-д.\n",
            "\n",
            " умщедя…\n"
          ]
        }
      ]
    },
    {
      "cell_type": "code",
      "source": [],
      "metadata": {
        "id": "0JMCdyqU8WQ8"
      },
      "execution_count": null,
      "outputs": []
    },
    {
      "cell_type": "markdown",
      "metadata": {
        "id": "IOKAfIM8Q4sp"
      },
      "source": [
        "### References\n",
        "1. <a href='http://karpathy.github.io/2015/05/21/rnn-effectiveness/'> Andrew Karpathy blog post about RNN. </a>\n",
        "There are several examples of genration: Shakespeare texts, Latex formulas, Linux Sourse Code and children names.\n",
        "2. <a href='https://github.com/karpathy/char-rnn'> Repo with char-rnn code </a>\n",
        "3. Cool repo with PyTorch examples: [link](https://github.com/spro/practical-pytorch)"
      ]
    },
    {
      "cell_type": "code",
      "source": [],
      "metadata": {
        "id": "CCrIgSM2sxn_"
      },
      "execution_count": null,
      "outputs": []
    }
  ],
  "metadata": {
    "anaconda-cloud": {},
    "kernelspec": {
      "display_name": "Python 3",
      "name": "python3"
    },
    "language_info": {
      "codemirror_mode": {
        "name": "ipython",
        "version": 3
      },
      "file_extension": ".py",
      "mimetype": "text/x-python",
      "name": "python",
      "nbconvert_exporter": "python",
      "pygments_lexer": "ipython3",
      "version": "3.7.7"
    },
    "colab": {
      "provenance": [],
      "collapsed_sections": [
        "dldaNFoEQ4si",
        "vtmknb_3Q4sm"
      ],
      "gpuType": "T4"
    },
    "accelerator": "GPU"
  },
  "nbformat": 4,
  "nbformat_minor": 0
}