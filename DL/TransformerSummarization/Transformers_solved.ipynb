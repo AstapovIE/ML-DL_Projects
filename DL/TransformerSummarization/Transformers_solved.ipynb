{
 "cells": [
  {
   "cell_type": "code",
   "execution_count": 9,
   "metadata": {
    "colab": {
     "base_uri": "https://localhost:8080/"
    },
    "id": "OE7fXh-OSJYF",
    "outputId": "eaa3ba10-4451-44b8-b684-051046aa4ddd"
   },
   "outputs": [
    {
     "name": "stdout",
     "output_type": "stream",
     "text": [
      "Archive:  news.zip\n",
      "replace news.csv? [y]es, [n]o, [A]ll, [N]one, [r]ename: ^C\n"
     ]
    }
   ],
   "source": [
    "!wget -O news.zip -qq --no-check-certificate \"https://drive.google.com/uc?export=download&id=1hIVVpBqM6VU4n3ERkKq4tFaH4sKN0Hab\"\n",
    "!unzip news.zip"
   ]
  },
  {
   "cell_type": "code",
   "execution_count": 4,
   "metadata": {},
   "outputs": [
    {
     "name": "stdout",
     "output_type": "stream",
     "text": [
      "Requirement already satisfied: torchtext==0.6.0 in /Users/keleas/miniconda3/envs/general/lib/python3.10/site-packages (0.6.0)\n",
      "Requirement already satisfied: tqdm in /Users/keleas/miniconda3/envs/general/lib/python3.10/site-packages (from torchtext==0.6.0) (4.64.1)\n",
      "Requirement already satisfied: requests in /Users/keleas/miniconda3/envs/general/lib/python3.10/site-packages (from torchtext==0.6.0) (2.31.0)\n",
      "Requirement already satisfied: torch in /Users/keleas/miniconda3/envs/general/lib/python3.10/site-packages (from torchtext==0.6.0) (2.1.0)\n",
      "Requirement already satisfied: numpy in /Users/keleas/miniconda3/envs/general/lib/python3.10/site-packages (from torchtext==0.6.0) (1.25.2)\n",
      "Requirement already satisfied: six in /Users/keleas/miniconda3/envs/general/lib/python3.10/site-packages (from torchtext==0.6.0) (1.16.0)\n",
      "Requirement already satisfied: sentencepiece in /Users/keleas/miniconda3/envs/general/lib/python3.10/site-packages (from torchtext==0.6.0) (0.2.0)\n",
      "Requirement already satisfied: charset-normalizer<4,>=2 in /Users/keleas/miniconda3/envs/general/lib/python3.10/site-packages (from requests->torchtext==0.6.0) (3.2.0)\n",
      "Requirement already satisfied: idna<4,>=2.5 in /Users/keleas/miniconda3/envs/general/lib/python3.10/site-packages (from requests->torchtext==0.6.0) (3.4)\n",
      "Requirement already satisfied: urllib3<3,>=1.21.1 in /Users/keleas/miniconda3/envs/general/lib/python3.10/site-packages (from requests->torchtext==0.6.0) (2.0.4)\n",
      "Requirement already satisfied: certifi>=2017.4.17 in /Users/keleas/miniconda3/envs/general/lib/python3.10/site-packages (from requests->torchtext==0.6.0) (2023.7.22)\n",
      "Requirement already satisfied: filelock in /Users/keleas/miniconda3/envs/general/lib/python3.10/site-packages (from torch->torchtext==0.6.0) (3.13.1)\n",
      "Requirement already satisfied: typing-extensions in /Users/keleas/miniconda3/envs/general/lib/python3.10/site-packages (from torch->torchtext==0.6.0) (4.10.0)\n",
      "Requirement already satisfied: sympy in /Users/keleas/miniconda3/envs/general/lib/python3.10/site-packages (from torch->torchtext==0.6.0) (1.12)\n",
      "Requirement already satisfied: networkx in /Users/keleas/miniconda3/envs/general/lib/python3.10/site-packages (from torch->torchtext==0.6.0) (3.1)\n",
      "Requirement already satisfied: jinja2 in /Users/keleas/miniconda3/envs/general/lib/python3.10/site-packages (from torch->torchtext==0.6.0) (3.1.2)\n",
      "Requirement already satisfied: fsspec in /Users/keleas/miniconda3/envs/general/lib/python3.10/site-packages (from torch->torchtext==0.6.0) (2024.2.0)\n",
      "Requirement already satisfied: MarkupSafe>=2.0 in /Users/keleas/miniconda3/envs/general/lib/python3.10/site-packages (from jinja2->torch->torchtext==0.6.0) (2.1.3)\n",
      "Requirement already satisfied: mpmath>=0.19 in /Users/keleas/miniconda3/envs/general/lib/python3.10/site-packages (from sympy->torch->torchtext==0.6.0) (1.3.0)\n",
      "Collecting sacremoses==0.0.5\n",
      "  Using cached sacremoses-0.0.5.tar.gz (102 kB)\n",
      "  Preparing metadata (setup.py) ... \u001B[?25ldone\n",
      "\u001B[?25hRequirement already satisfied: six in /Users/keleas/miniconda3/envs/general/lib/python3.10/site-packages (from sacremoses==0.0.5) (1.16.0)\n",
      "Building wheels for collected packages: sacremoses\n",
      "  Building wheel for sacremoses (setup.py) ... \u001B[?25ldone\n",
      "\u001B[?25h  Created wheel for sacremoses: filename=sacremoses-0.0.5-py3-none-any.whl size=133502 sha256=164846f28484c01412308897d8ee455b1c9bec30ae6a0a0c94f9ce0684d2e951\n",
      "  Stored in directory: /Users/keleas/Library/Caches/pip/wheels/45/75/d5/425a6d12cf32b6bddc7cd4cf1b498079fc247548834ccacb38\n",
      "Successfully built sacremoses\n",
      "Installing collected packages: sacremoses\n",
      "Successfully installed sacremoses-0.0.5\n"
     ]
    }
   ],
   "source": [
    "!pip install torchtext==0.6.0\n",
    "!pip install sacremoses==0.0.5"
   ]
  },
  {
   "cell_type": "code",
   "metadata": {
    "id": "uhvfH55PUJ8K",
    "ExecuteTime": {
     "end_time": "2025-03-12T18:40:00.384386Z",
     "start_time": "2025-03-12T18:39:58.162105Z"
    }
   },
   "source": [
    "import numpy as np\n",
    "\n",
    "import torch\n",
    "import torch.nn as nn\n",
    "import torch.nn.functional as F\n",
    "import torch.optim as optim\n",
    "from torch.autograd import Variable\n",
    "\n",
    "import matplotlib.pyplot as plt\n",
    "%matplotlib inline\n",
    "\n",
    "\n",
    "if torch.cuda.is_available():\n",
    "    from torch.cuda import FloatTensor, LongTensor\n",
    "    DEVICE = torch.device('cuda')\n",
    "else:\n",
    "    from torch import FloatTensor, LongTensor\n",
    "    DEVICE = torch.device('cpu')\n",
    "\n",
    "np.random.seed(42)"
   ],
   "outputs": [],
   "execution_count": 1
  },
  {
   "cell_type": "markdown",
   "metadata": {
    "id": "txWqIO_74A4s"
   },
   "source": [
    "# Abstactive Summarization"
   ]
  },
  {
   "cell_type": "markdown",
   "metadata": {
    "id": "gJ7JQJMO2R7z"
   },
   "source": [
    "Задача - по тексту сгенерировать выдержку из него.\n",
    "\n",
    "Например, попробуем по новостям генерировать заголовки:"
   ]
  },
  {
   "cell_type": "code",
   "metadata": {
    "colab": {
     "base_uri": "https://localhost:8080/"
    },
    "id": "NzNGUFOcXMUs",
    "outputId": "9117ef66-dd08-4632-a4d3-4532d5090b1d",
    "ExecuteTime": {
     "end_time": "2025-03-12T18:40:18.165797Z",
     "start_time": "2025-03-12T18:40:18.144615Z"
    }
   },
   "source": "!shuf -n 10 news.csv",
   "outputs": [
    {
     "ename": "SyntaxError",
     "evalue": "invalid syntax (1602585183.py, line 1)",
     "output_type": "error",
     "traceback": [
      "  \u001B[36mCell\u001B[39m\u001B[36m \u001B[39m\u001B[32mIn[3]\u001B[39m\u001B[32m, line 1\u001B[39m\n\u001B[31m    \u001B[39m\u001B[31mshuf -n 10 data/news.csv\u001B[39m\n            ^\n\u001B[31mSyntaxError\u001B[39m\u001B[31m:\u001B[39m invalid syntax\n"
     ]
    }
   ],
   "execution_count": 3
  },
  {
   "cell_type": "markdown",
   "metadata": {
    "id": "QOVlO5_Qlg5y"
   },
   "source": [
    "Токенизируем их. Будем использовать единый словарь для текста и заголовков."
   ]
  },
  {
   "cell_type": "code",
   "metadata": {
    "id": "fsOvtO0fpCHa",
    "ExecuteTime": {
     "end_time": "2025-03-12T18:40:30.784546Z",
     "start_time": "2025-03-12T18:40:30.475017Z"
    }
   },
   "source": [
    "from torchtext.data import Field, Example, Dataset, BucketIterator\n",
    "\n",
    "BOS_TOKEN = '<s>'\n",
    "EOS_TOKEN = '</s>'\n",
    "\n",
    "word_field = Field(tokenize='moses', init_token=BOS_TOKEN, eos_token=EOS_TOKEN, lower=True)\n",
    "fields = [('source', word_field), ('target', word_field)]"
   ],
   "outputs": [],
   "execution_count": 4
  },
  {
   "cell_type": "code",
   "metadata": {
    "colab": {
     "base_uri": "https://localhost:8080/"
    },
    "id": "VO-gix7yoBjg",
    "outputId": "8ede1bde-9579-4fc1-a5bb-d44a82fc9023",
    "ExecuteTime": {
     "end_time": "2025-03-12T18:41:44.230615Z",
     "start_time": "2025-03-12T18:40:36.904689Z"
    }
   },
   "source": [
    "import pandas as pd\n",
    "from tqdm.auto import tqdm\n",
    "\n",
    "data = pd.read_csv('data/news.csv', delimiter=',')\n",
    "\n",
    "examples = []\n",
    "for _, row in tqdm(data.iterrows(), total=len(data)):\n",
    "    source_text = word_field.preprocess(row.text)\n",
    "    target_text = word_field.preprocess(row.title)\n",
    "    examples.append(Example.fromlist([source_text, target_text], fields))"
   ],
   "outputs": [
    {
     "name": "stderr",
     "output_type": "stream",
     "text": [
      "C:\\astap\\ML-DL_Projects\\DeepLearing\\Lib\\site-packages\\tqdm\\auto.py:21: TqdmWarning: IProgress not found. Please update jupyter and ipywidgets. See https://ipywidgets.readthedocs.io/en/stable/user_install.html\n",
      "  from .autonotebook import tqdm as notebook_tqdm\n",
      "100%|██████████| 74278/74278 [01:05<00:00, 1126.78it/s]\n"
     ]
    }
   ],
   "execution_count": 5
  },
  {
   "cell_type": "markdown",
   "metadata": {
    "id": "A8uCsMEglm6V"
   },
   "source": [
    "Построим датасеты:"
   ]
  },
  {
   "cell_type": "code",
   "metadata": {
    "colab": {
     "base_uri": "https://localhost:8080/"
    },
    "id": "ZOBgLAgVTrk1",
    "outputId": "38595aa7-2699-4c7c-a72d-e8fcc3f78608",
    "ExecuteTime": {
     "end_time": "2025-03-12T18:41:49.777010Z",
     "start_time": "2025-03-12T18:41:48.041552Z"
    }
   },
   "source": [
    "dataset = Dataset(examples, fields)\n",
    "\n",
    "train_dataset, test_dataset = dataset.split(split_ratio=0.85)\n",
    "\n",
    "print('Train size =', len(train_dataset))\n",
    "print('Test size =', len(test_dataset))\n",
    "\n",
    "word_field.build_vocab(train_dataset, min_freq=7)\n",
    "print('Vocab size =', len(word_field.vocab))\n",
    "\n",
    "train_iter, test_iter = BucketIterator.splits(\n",
    "    datasets=(train_dataset, test_dataset), batch_sizes=(16, 32), shuffle=True, device=DEVICE, sort=False\n",
    ")"
   ],
   "outputs": [
    {
     "name": "stdout",
     "output_type": "stream",
     "text": [
      "Train size = 63136\n",
      "Test size = 11142\n",
      "Vocab size = 55862\n"
     ]
    }
   ],
   "execution_count": 6
  },
  {
   "cell_type": "markdown",
   "metadata": {
    "id": "8FYJe2CA8GcY"
   },
   "source": [
    "# Transformer\n",
    "\n",
    "Из этой идеи - отказ от RNN - и получился Transformer.\n",
    "\n",
    "![](https://hsto.org/webt/59/f0/44/59f04410c0e56192990801.png)  \n",
    "*From Attention is all you need*\n",
    "\n",
    "Как в случае с RNN мы на каждом шаге применяем одну и ту же операцию (ячейку LSTM) к текущему входу, так и здесь - только теперь связей между timestamp'ами нет и можно обрабатывать их почти параллельно.\n",
    "\n",
    "*Код дальше очень сильно опирается на шикарную статью [The Annotated Transformer](http://nlp.seas.harvard.edu/2018/04/03/attention.html).*"
   ]
  },
  {
   "cell_type": "code",
   "metadata": {
    "id": "zI2rMiZhJcKX",
    "ExecuteTime": {
     "end_time": "2025-03-12T18:41:49.786449Z",
     "start_time": "2025-03-12T18:41:49.777010Z"
    }
   },
   "source": [
    "import math \n",
    "\n",
    "class PositionalEncoding(nn.Module):\n",
    "    def __init__(self, d_model, dropout, max_len=5000):\n",
    "        super().__init__()\n",
    "        self.dropout = nn.Dropout(p=dropout)\n",
    "        \n",
    "        pe = torch.zeros(max_len, d_model)\n",
    "        position = torch.arange(0, max_len, dtype=torch.float).unsqueeze(1)\n",
    "        div_term = torch.exp(torch.arange(0, d_model, 2, dtype=torch.float) * (-math.log(10000.0) / d_model))\n",
    "        pe[:, 0::2] = torch.sin(position * div_term)\n",
    "        pe[:, 1::2] = torch.cos(position * div_term)\n",
    "        pe = pe.unsqueeze(0)\n",
    "        self.register_buffer('pe', pe)\n",
    "        \n",
    "    def forward(self, x):\n",
    "        x = x + self.pe[:, :x.size(1)]\n",
    "        return self.dropout(x)"
   ],
   "outputs": [],
   "execution_count": 7
  },
  {
   "cell_type": "code",
   "metadata": {
    "colab": {
     "base_uri": "https://localhost:8080/",
     "height": 337
    },
    "id": "XEL9VppyKCBz",
    "outputId": "84c42bbd-260b-47c5-8647-02d1c91b2b07",
    "ExecuteTime": {
     "end_time": "2025-03-12T18:41:51.430765Z",
     "start_time": "2025-03-12T18:41:51.080852Z"
    }
   },
   "source": [
    "plt.figure(figsize=(15, 5))\n",
    "pe = PositionalEncoding(20, 0)\n",
    "y = pe(torch.zeros(1, 100, 20))\n",
    "plt.plot(np.arange(100), y[0, :, 4:8].data.numpy())\n",
    "plt.legend([\"dim %d\"%p for p in [4,5,6,7]])"
   ],
   "outputs": [
    {
     "data": {
      "text/plain": [
       "<matplotlib.legend.Legend at 0x18f71940110>"
      ]
     },
     "execution_count": 8,
     "metadata": {},
     "output_type": "execute_result"
    },
    {
     "data": {
      "text/plain": [
       "<Figure size 1500x500 with 1 Axes>"
      ],
      "image/png": "[encoded data removed]"
     },
     "metadata": {},
     "output_type": "display_data"
    }
   ],
   "execution_count": 8
  },
  {
   "cell_type": "markdown",
   "metadata": {
    "id": "a7OeqTcOdgud"
   },
   "source": [
    "В итоге эмбеддинги токена получается как сумма обычного эмбеддинга и эмбеддинга позиции:  \n",
    "![](http://jalammar.github.io/images/t/transformer_positional_encoding_vectors.png)  \n",
    "*From [Illustrated Transformer](http://jalammar.github.io/illustrated-transformer/)*"
   ]
  },
  {
   "cell_type": "markdown",
   "metadata": {
    "id": "9rvG4ZQ_icKH"
   },
   "source": [
    "### Residual Connection\n",
    "\n",
    "Разберем блок энкодера - повторяющейся N раз комбинации операций на первом рисунке.\n",
    "\n",
    "Самое простое здесь - residual connection. Вместо к выходу произвольной функции $F$ прибавляется её вход\n",
    "$$y = F(x) \\quad \\to \\quad y = F(x) + x$$\n",
    "\n",
    "Идея в том, что обычные сети сложно делать слишком глубокими - градиенты затухают. А через этот residual вход $x$ градиентам течь ничего не стоит. В итоге в картинках благодаря таким блокам получилось настакать дофига слоев и улучшить качество (см. ResNet).\n",
    "\n",
    "Ничего не мешает нам поступить также."
   ]
  },
  {
   "cell_type": "code",
   "metadata": {
    "id": "7QLCqNeEjKpD",
    "ExecuteTime": {
     "end_time": "2025-03-12T18:41:54.219314Z",
     "start_time": "2025-03-12T18:41:54.211649Z"
    }
   },
   "source": [
    "class ResidualBlock(nn.Module):\n",
    "    def __init__(self, size, dropout_rate):\n",
    "        super().__init__()\n",
    "        self._norm = LayerNorm(size)\n",
    "        self._dropout = nn.Dropout(dropout_rate)\n",
    "\n",
    "    def forward(self, inputs, sublayer):\n",
    "        return inputs + self._dropout(sublayer(self._norm(inputs)))"
   ],
   "outputs": [],
   "execution_count": 9
  },
  {
   "cell_type": "markdown",
   "metadata": {
    "id": "EHUqCsifmd5e"
   },
   "source": [
    "### Layer Norm\n",
    "\n",
    "Дополнительно применяется нормализация LayerNorm. \n",
    "\n",
    "**Batch normalization**  \n",
    "Мы вообще не разбирали, но BatchNorm работает так:\n",
    "$$\\mu_j = \\frac{1}{m}\\sum_{i=1}^{m}x_{ij} \\\\    \\sigma_j^2 = \\frac{1}{m}\\sum_{i=1}^{m}(x_{ij} - \\mu_j)^2 \\\\    \\hat{x}_{ij} = \\frac{x_{ij} - \\mu_j}{\\sqrt{\\sigma_j^2 + \\epsilon}}$$\n",
    "$$y_{ij} = \\gamma \\ \\hat{x}_{ij} + \\beta$$\n",
    "\n",
    "На каждом батче эти $\\mu$ и $\\sigma$ пересчитываются, обновляя статистики. На инференсе используются накопленные статистики.\n",
    "\n",
    "Основной его недостаток - он плохо работает с рекуррентными сетями. Чтобы побороть это придумали:\n",
    "\n",
    "**Layer normalization**  \n",
    "А сейчас мы будем пользоваться немного другими формулами:\n",
    "$$\\mu_i = \\frac{1}{m}\\sum_{j=1}^{m}x_{ij} \\\\    \\sigma_i^2 = \\frac{1}{m}\\sum_{j=1}^{m}(x_{ij} - \\mu_i)^2 \\\\    \\hat{x}_{ij} = \\frac{x_{ij} - \\mu_i}{\\sqrt{\\sigma_i^2 + \\epsilon}}$$\n",
    "$$y_{ij} = \\gamma \\ \\hat{x}_{ij} + \\beta$$\n",
    "\n",
    "Разницу с ходу не видно, но она есть:\n",
    "![](https://image.ibb.co/hjtuX0/layernorm.png)  \n",
    "*From [Weight Normalization and Layer Normalization Explained ](http://mlexplained.com/2018/01/13/weight-normalization-and-layer-normalization-explained-normalization-in-deep-learning-part-2/)*\n",
    "\n",
    "Если в BatchNorm статистики считаются для каждой фичи усреднением по батчу, то теперь - для каждого входа усредением по фичам."
   ]
  },
  {
   "cell_type": "code",
   "metadata": {
    "id": "Q5XLZZ3zrK24",
    "ExecuteTime": {
     "end_time": "2025-03-12T18:41:55.264002Z",
     "start_time": "2025-03-12T18:41:55.246901Z"
    }
   },
   "source": [
    "class LayerNorm(nn.Module):\n",
    "    def __init__(self, features, eps=1e-6):\n",
    "        super().__init__()\n",
    "        \n",
    "        self._gamma = nn.Parameter(torch.ones(features))\n",
    "        self._beta = nn.Parameter(torch.zeros(features))\n",
    "        self._eps = eps\n",
    "\n",
    "    def forward(self, inputs):\n",
    "        mean = inputs.mean(-1, keepdim=True)\n",
    "        std = inputs.std(-1, keepdim=True)\n",
    "        return self._gamma * (inputs - mean) / (std + self._eps) + self._beta"
   ],
   "outputs": [],
   "execution_count": 10
  },
  {
   "cell_type": "markdown",
   "metadata": {
    "id": "WrWvtymp2G8o"
   },
   "source": [
    "### Attention\n",
    "\n",
    "Весь Transformer опирается на идею self-attention. Выглядит это так:\n",
    "\n",
    "![](http://jalammar.github.io/images/t/transformer_self-attention_visualization.png)  \n",
    "*From [Tensor2Tensor Tutorial](https://colab.research.google.com/github/tensorflow/tensor2tensor/blob/master/tensor2tensor/notebooks/hello_t2t.ipynb)*\n",
    "\n",
    "Эмбеддинг слова *it* строится как комбинация всех эмбеддингов предложения.\n",
    "\n",
    "В статье придумали делать такой аттеншен:\n",
    "\n",
    "$$\\mathrm{Attention}(Q, K, V) = \\mathrm{softmax}\\left(\\frac{QK^T}{\\sqrt{d_k}}\\right)V$$\n",
    "\n",
    "Это примерно как dot-attention на прошлом занятии: запрос (**Q**uery) умножается на ключи (**K**ey) скалярно, затем берется софтмакс - получаются оценки того, насколько интересны разные таймстемпы из значений (**V**alue). \n",
    "\n",
    "Например, $\\mathrm{emb}(\\text{it}) = \\mathrm{Attention}(\\text{it}, \\ldots\\text{because it was too tired}, \\ldots\\text{because it was too tired})$.\n",
    "\n",
    "Только теперь ещё с параметром $\\frac{1}{\\sqrt{d_k}}$, где $d_k$ - это размерность ключа. Утверждается, это работает лучше при больших размерностях ключа $d_k$."
   ]
  },
  {
   "cell_type": "code",
   "metadata": {
    "id": "2ApuVJZn5i4R",
    "ExecuteTime": {
     "end_time": "2025-03-12T21:10:22.679911Z",
     "start_time": "2025-03-12T21:10:22.675773Z"
    }
   },
   "source": [
    "class ScaledDotProductAttention(nn.Module):\n",
    "    def __init__(self, dropout_rate):\n",
    "        super().__init__()\n",
    "        \n",
    "        self._dropout = nn.Dropout(dropout_rate)\n",
    "        \n",
    "    def forward(self, query, key, value, mask):\n",
    "        d_k = query.size(-1)\n",
    "        scores = torch.matmul(query, key.transpose(-2, -1)) / math.sqrt(d_k)\n",
    "        print(mask.shape, mask)\n",
    "        print(scores.shape)\n",
    "        print(scores[0][0])\n",
    "        if mask is not None:\n",
    "            scores = scores.masked_fill(mask == 0, 1e-9)\n",
    "            print(scores.shape)\n",
    "            print(scores[0][0])\n",
    "            \n",
    "        print()\n",
    "        p_attn = F.softmax(scores, dim=-1)\n",
    "        p_attn = self._dropout(p_attn)\n",
    "        \n",
    "        return torch.matmul(p_attn, value), p_attn"
   ],
   "outputs": [],
   "execution_count": 167
  },
  {
   "cell_type": "markdown",
   "metadata": {
    "id": "uZ-xQbgM6MNl"
   },
   "source": [
    "### Multi-Head Attention\n",
    "\n",
    "![](https://hsto.org/webt/59/f0/44/59f0440f1109b864893781.png)\n",
    "\n",
    "Важная идея, почему attention (и, главное, self-attention) заработал - использование нескольких голов (multi-head).\n",
    "\n",
    "Вообще, когда мы делаем attention - мы определяем похожесть ключа и запроса. Многоголовость помогает (должна) определять эту похожесть по разным критериям - синтаксически, семантически и т.д.\n",
    "\n",
    "Например, на картинке используется две головы и одна голова смотрит на *the animal* при генерации *it*, вторая - на *tired*:\n",
    "\n",
    "![](http://jalammar.github.io/images/t/transformer_self-attention_visualization_2.png)  \n",
    "*From [Tensor2Tensor Tutorial](https://colab.research.google.com/github/tensorflow/tensor2tensor/blob/master/tensor2tensor/notebooks/hello_t2t.ipynb)*\n",
    "\n",
    "Применяется это таким образом:\n",
    "\n",
    "$$\\mathrm{MultiHead}(Q, K, V) = \\mathrm{Concat}(\\mathrm{head_1}, ...,\n",
    "\\mathrm{head_h})W^O    \\\\\n",
    "    \\mathrm{head_i} = \\mathrm{Attention}(QW^Q_i, KW^K_i, VW^V_i)$$\n",
    "    \n",
    "где $W^Q_i \\in \\mathbb{R}^{d_{model} \\times d_k}, W_i^K \\in \\mathbb{R}^{d_{model} \\times d_k}, W^V_i \\in \\mathbb{R}^{d_{model} \\times d_v}, W^O \\in \\mathbb{R}^{hd_v \\times d_{model}}$.\n",
    "\n",
    "В оригинальной статье использовали $h=8$, $d_k=d_v=d_{\\text{model}}/h=64$.\n",
    "\n",
    "Процесс применения такой:\n",
    "![](http://jalammar.github.io/images/t/transformer_multi-headed_self-attention-recap.png)  \n",
    "*From Illustrated Transformer*"
   ]
  },
  {
   "cell_type": "code",
   "metadata": {
    "id": "rg-CxvPDAJPP",
    "ExecuteTime": {
     "end_time": "2025-03-12T21:10:22.961576Z",
     "start_time": "2025-03-12T21:10:22.956061Z"
    }
   },
   "source": [
    "class MultiHeadedAttention(nn.Module):\n",
    "    def __init__(self, heads_count, d_model, dropout_rate=0.1):\n",
    "        super().__init__()\n",
    "        \n",
    "        assert d_model % heads_count == 0\n",
    "\n",
    "        self._d_k = d_model // heads_count\n",
    "        self._heads_count = heads_count\n",
    "        self._attention = ScaledDotProductAttention(dropout_rate)\n",
    "        self._attn_probs = None\n",
    "        \n",
    "        self._w_q = nn.Linear(d_model, d_model)\n",
    "        self._w_k = nn.Linear(d_model, d_model)\n",
    "        self._w_v = nn.Linear(d_model, d_model)\n",
    "        self._w_o = nn.Linear(d_model, d_model)\n",
    "        \n",
    "    def forward(self, query, key, value, mask=None):\n",
    "        if mask is not None:\n",
    "            mask = mask.unsqueeze(1)\n",
    "        nbatches = query.size(0)\n",
    "\n",
    "        query = self._w_q(query).view(nbatches, -1, self._heads_count, self._d_k).transpose(1, 2)\n",
    "        key = self._w_k(key).view(nbatches, -1, self._heads_count, self._d_k).transpose(1, 2)\n",
    "        value = self._w_v(value).view(nbatches, -1, self._heads_count, self._d_k).transpose(1, 2)\n",
    "        x, self._attn_probs = self._attention(query, key, value, mask)\n",
    "\n",
    "        x = x.transpose(1, 2).contiguous().view(nbatches, -1, self._heads_count * self._d_k)\n",
    "        x = self._w_o(x)\n",
    "        return x"
   ],
   "outputs": [],
   "execution_count": 168
  },
  {
   "cell_type": "markdown",
   "metadata": {
    "id": "pOKwneaKGaJi"
   },
   "source": [
    "### Position-wise Feed-Forward Networks\n",
    "\n",
    "Линейный блок в энкодере выглядит так:\n",
    "$$\\mathrm{FFN}(x)=\\max(0, xW_1 + b_1) W_2 + b_2$$"
   ]
  },
  {
   "cell_type": "code",
   "metadata": {
    "id": "uh1UVkAUGiwh",
    "ExecuteTime": {
     "end_time": "2025-03-12T21:10:23.268806Z",
     "start_time": "2025-03-12T21:10:23.265453Z"
    }
   },
   "source": [
    "class PositionwiseFeedForward(nn.Module):\n",
    "    def __init__(self, d_model, d_ff, dropout=0.1):\n",
    "        super().__init__()\n",
    "        \n",
    "        self.w_1 = nn.Linear(d_model, d_ff)\n",
    "        self.w_2 = nn.Linear(d_ff, d_model)\n",
    "        self.dropout = nn.Dropout(dropout)\n",
    "\n",
    "    def forward(self, inputs):\n",
    "        return self.w_2(self.dropout(F.relu(self.w_1(inputs))))"
   ],
   "outputs": [],
   "execution_count": 169
  },
  {
   "cell_type": "markdown",
   "metadata": {
    "id": "_dZoU1JIt6QP"
   },
   "source": [
    "### Encoder block\n",
    "\n",
    "Соберем все в блок:"
   ]
  },
  {
   "cell_type": "code",
   "metadata": {
    "id": "Nh7wQL65sBmk",
    "ExecuteTime": {
     "end_time": "2025-03-12T21:10:23.560277Z",
     "start_time": "2025-03-12T21:10:23.556446Z"
    }
   },
   "source": [
    "class EncoderBlock(nn.Module):\n",
    "    def __init__(self, size, self_attn, feed_forward, dropout_rate):\n",
    "        super().__init__()\n",
    "        \n",
    "        self._self_attn = self_attn\n",
    "        self._feed_forward = feed_forward\n",
    "        self._self_attention_block = ResidualBlock(size, dropout_rate)\n",
    "        self._feed_forward_block = ResidualBlock(size, dropout_rate)\n",
    "\n",
    "    def forward(self, inputs, mask):\n",
    "        outputs = self._self_attention_block(inputs, lambda inputs: self._self_attn(inputs, inputs, inputs, mask))\n",
    "        return self._feed_forward_block(outputs, self._feed_forward)"
   ],
   "outputs": [],
   "execution_count": 170
  },
  {
   "cell_type": "code",
   "metadata": {
    "id": "x8ndCRZLl4ZZ",
    "ExecuteTime": {
     "end_time": "2025-03-12T21:10:23.721511Z",
     "start_time": "2025-03-12T21:10:23.716707Z"
    }
   },
   "source": [
    "class Encoder(nn.Module):\n",
    "    def __init__(self, vocab_size, d_model, d_ff, blocks_count, heads_count, dropout_rate):\n",
    "        super().__init__()\n",
    "        \n",
    "        self._emb = nn.Sequential(\n",
    "            nn.Embedding(vocab_size, d_model),\n",
    "            PositionalEncoding(d_model, dropout_rate)\n",
    "        )\n",
    "        \n",
    "        block = lambda: EncoderBlock(\n",
    "            size=d_model, \n",
    "            self_attn=MultiHeadedAttention(heads_count, d_model, dropout_rate), \n",
    "            feed_forward=PositionwiseFeedForward(d_model, d_ff, dropout_rate),\n",
    "            dropout_rate=dropout_rate\n",
    "        )\n",
    "        self._blocks = nn.ModuleList([block() for _ in range(blocks_count)])\n",
    "        self._norm = LayerNorm(d_model)\n",
    "        \n",
    "    def forward(self, inputs, mask):\n",
    "        inputs = self._emb(inputs)\n",
    "\n",
    "        for block in self._blocks:\n",
    "            inputs = block(inputs, mask)\n",
    "            \n",
    "        return self._norm(inputs)"
   ],
   "outputs": [],
   "execution_count": 171
  },
  {
   "cell_type": "markdown",
   "metadata": {
    "id": "_pphRcbTvqnq"
   },
   "source": [
    "## Decoder\n",
    "\n",
    "![](https://hsto.org/webt/59/f0/44/59f0440f7d88f805415140.png)\n",
    "\n",
    "Блок декодера (серая часть) состоит уже из трех частей:\n",
    "1. Сперва - тот же self-attention, что и в энкодере\n",
    "2. Затем - стандартный attention на выходы из энкодера + текущее состояние декодера (такой же был в seq2seq with attention)\n",
    "3. Наконец - feed-forward блок\n",
    "\n",
    "Всё это, конечно, с residual связями."
   ]
  },
  {
   "cell_type": "code",
   "metadata": {
    "id": "6LTWjKUXx2LP",
    "ExecuteTime": {
     "end_time": "2025-03-12T21:10:24.008134Z",
     "start_time": "2025-03-12T21:10:24.004186Z"
    }
   },
   "source": [
    "class DecoderLayer(nn.Module):\n",
    "    def __init__(self, size, self_attn, encoder_attn, feed_forward, dropout_rate):\n",
    "        super().__init__()\n",
    "                \n",
    "        self._self_attn = self_attn\n",
    "        self._encoder_attn = encoder_attn\n",
    "        self._feed_forward = feed_forward\n",
    "        self._self_attention_block = ResidualBlock(size, dropout_rate)\n",
    "        self._attention_block = ResidualBlock(size, dropout_rate)\n",
    "        self._feed_forward_block = ResidualBlock(size, dropout_rate)\n",
    " \n",
    "    def forward(self, inputs, encoder_output, source_mask, target_mask):\n",
    "        outputs = self._self_attention_block(\n",
    "            inputs, lambda inputs: self._self_attn(inputs, inputs, inputs, target_mask)\n",
    "        )\n",
    "        outputs = self._attention_block(\n",
    "            outputs, lambda inputs: self._encoder_attn(inputs, encoder_output, encoder_output, source_mask)\n",
    "        )\n",
    "        return self._feed_forward_block(outputs, self._feed_forward)"
   ],
   "outputs": [],
   "execution_count": 172
  },
  {
   "cell_type": "code",
   "metadata": {
    "id": "Un0AOmdqLPp_",
    "ExecuteTime": {
     "end_time": "2025-03-12T21:10:24.175498Z",
     "start_time": "2025-03-12T21:10:24.172225Z"
    }
   },
   "source": [
    "class Decoder(nn.Module):\n",
    "    def __init__(self, vocab_size, d_model, d_ff, blocks_count, heads_count, dropout_rate):\n",
    "        super().__init__()\n",
    "        \n",
    "        self._emb = nn.Sequential(\n",
    "            nn.Embedding(vocab_size, d_model),\n",
    "            PositionalEncoding(d_model, dropout_rate)\n",
    "        )\n",
    "        \n",
    "        block = lambda: DecoderLayer(\n",
    "            size=d_model, \n",
    "            self_attn=MultiHeadedAttention(heads_count, d_model, dropout_rate),\n",
    "            encoder_attn=MultiHeadedAttention(heads_count, d_model, dropout_rate),\n",
    "            feed_forward=PositionwiseFeedForward(d_model, d_ff, dropout_rate),\n",
    "            dropout_rate=dropout_rate\n",
    "        )\n",
    "        self._blocks = nn.ModuleList([block() for _ in range(blocks_count)])\n",
    "        self._norm = LayerNorm(d_model)\n",
    "        self._out_layer = nn.Linear(d_model, vocab_size)\n",
    "        \n",
    "    def forward(self, inputs, encoder_output, source_mask, target_mask):\n",
    "        inputs = self._emb(inputs)\n",
    "        for block in self._blocks:\n",
    "            inputs = block(inputs, encoder_output, source_mask, target_mask)\n",
    "        return self._out_layer(self._norm(inputs))"
   ],
   "outputs": [],
   "execution_count": 173
  },
  {
   "cell_type": "markdown",
   "metadata": {
    "id": "tbEkHtwWz0Yh"
   },
   "source": [
    "В декодере нужно аттентиться только на предыдущие токены - сгенерируем маску для этого:"
   ]
  },
  {
   "cell_type": "code",
   "metadata": {
    "id": "EbVkZSRq0cD5",
    "ExecuteTime": {
     "end_time": "2025-03-12T21:10:24.456027Z",
     "start_time": "2025-03-12T21:10:24.452827Z"
    }
   },
   "source": [
    "def subsequent_mask(size):\n",
    "    mask = torch.ones(size, size, device=DEVICE).triu_()\n",
    "    return mask.unsqueeze(0) == 0"
   ],
   "outputs": [],
   "execution_count": 174
  },
  {
   "cell_type": "code",
   "metadata": {
    "colab": {
     "base_uri": "https://localhost:8080/",
     "height": 337
    },
    "id": "_8X_fqeL0jeW",
    "outputId": "45f6368f-a8c9-4d6d-a291-0d96e8ff9231",
    "ExecuteTime": {
     "end_time": "2025-03-12T21:10:24.693298Z",
     "start_time": "2025-03-12T21:10:24.630301Z"
    }
   },
   "source": [
    "plt.figure(figsize=(5,5))\n",
    "plt.imshow(subsequent_mask(20)[0].cpu().numpy())"
   ],
   "outputs": [
    {
     "data": {
      "text/plain": [
       "<matplotlib.image.AxesImage at 0x18f7160e990>"
      ]
     },
     "execution_count": 175,
     "metadata": {},
     "output_type": "execute_result"
    },
    {
     "data": {
      "text/plain": [
       "<Figure size 500x500 with 1 Axes>"
      ],
      "image/png": "[encoded data removed]"
     },
     "metadata": {},
     "output_type": "display_data"
    }
   ],
   "execution_count": 175
  },
  {
   "cell_type": "markdown",
   "metadata": {
    "id": "b7UEsntVj9lb"
   },
   "source": [
    "## Полная модель"
   ]
  },
  {
   "cell_type": "code",
   "metadata": {
    "id": "niG-PnInlF1I",
    "ExecuteTime": {
     "end_time": "2025-03-12T21:10:24.958757Z",
     "start_time": "2025-03-12T21:10:24.951548Z"
    }
   },
   "source": [
    "class Generator(nn.Module):\n",
    "    \"Define standard linear + softmax generation step.\"\n",
    "    def __init__(self, d_model, vocab):\n",
    "        super(Generator, self).__init__()\n",
    "        self.proj = nn.Linear(d_model, vocab)\n",
    "\n",
    "    def forward(self, x):\n",
    "        return F.log_softmax(self.proj(x), dim=-1)\n",
    "\n",
    "\n",
    "class EncoderDecoder(nn.Module):\n",
    "    \"\"\"\n",
    "    A standard Encoder-Decoder architecture. Base for this and many \n",
    "    other models.\n",
    "    \"\"\"\n",
    "    def __init__(self, source_vocab_size, target_vocab_size, d_model=256, d_ff=1024, \n",
    "                 blocks_count=4, heads_count=8, dropout_rate=0.1):\n",
    "        super(EncoderDecoder, self).__init__()\n",
    "\n",
    "        self.d_model = d_model\n",
    "        self.encoder = Encoder(source_vocab_size, d_model, d_ff, blocks_count, heads_count, dropout_rate)\n",
    "        self.decoder = Decoder(target_vocab_size, d_model, d_ff, blocks_count, heads_count, dropout_rate)\n",
    "        self.ignore_tokens = {word_field.vocab[\"<s>\"], word_field.vocab[\"</s>\"], word_field.vocab[\"<pad>\"]}\n",
    "        # self.generator = Generator(d_model, target_vocab_size)\n",
    "\n",
    "        for p in self.parameters():\n",
    "            if p.dim() > 1:\n",
    "                nn.init.xavier_uniform_(p)\n",
    "        \n",
    "    def forward(self, source_inputs, target_inputs, source_mask, target_mask):\n",
    "        encoder_output = self.encoder(source_inputs, source_mask)\n",
    "        return self.decoder(target_inputs, encoder_output, source_mask, target_mask)\n",
    "    \n",
    "    def decode_tensor(self, tensor):\n",
    "        return ' '.join([word_field.vocab.itos[idx] for idx in tensor if idx not in self.ignore_tokens])\n",
    "    \n",
    "    def generate_summary(self, source_inputs, target_inputs, source_mask, target_mask):\n",
    "        with torch.no_grad():\n",
    "            outputs = self.forward(source_inputs, target_inputs, source_mask, target_mask)\n",
    "            return ([self.decode_tensor(seq) for seq in source_inputs],\n",
    "                    [self.decode_tensor(seq)for seq in target_inputs],\n",
    "                    [self.decode_tensor(F.log_softmax(seq, dim=-1).argmax(dim=-1)) for seq in outputs])\n",
    "            # return ([self.decode_tensor(seq) for seq in source_inputs],\n",
    "            #         [self.decode_tensor(seq).split(\"</s>\")[0].strip()[4:] for seq in target_inputs],\n",
    "            #         [self.decode_tensor(F.log_softmax(seq, dim=-1).argmax(dim=-1)).split(\"</s>\")[0].strip() for seq in\n",
    "            #          outputs])"
   ],
   "outputs": [],
   "execution_count": 176
  },
  {
   "cell_type": "code",
   "metadata": {
    "id": "BmucSaUOjlmh",
    "ExecuteTime": {
     "end_time": "2025-03-12T21:10:25.131232Z",
     "start_time": "2025-03-12T21:10:25.126549Z"
    }
   },
   "source": [
    "def make_mask(source_inputs, target_inputs, pad_idx):\n",
    "    source_mask = (source_inputs != pad_idx).unsqueeze(-2)\n",
    "    target_mask = (target_inputs != pad_idx).unsqueeze(-2)\n",
    "    target_mask = target_mask & subsequent_mask(target_inputs.size(-1)).type_as(target_mask)\n",
    "    return source_mask, target_mask\n",
    "\n",
    "\n",
    "def convert_batch(batch, pad_idx=1):\n",
    "    source_inputs, target_inputs = batch.source.transpose(0, 1), batch.target.transpose(0, 1)\n",
    "    source_mask, target_mask = make_mask(source_inputs, target_inputs, pad_idx)\n",
    "    print(source_inputs.shape)\n",
    "    print(target_inputs.shape)\n",
    "    print(source_mask.shape)\n",
    "    print(target_mask.shape)\n",
    "    print()\n",
    "    return source_inputs, target_inputs, source_mask, target_mask"
   ],
   "outputs": [],
   "execution_count": 177
  },
  {
   "cell_type": "code",
   "metadata": {
    "id": "9iWSl6m6jfbl",
    "ExecuteTime": {
     "end_time": "2025-03-12T21:10:25.346720Z",
     "start_time": "2025-03-12T21:10:25.301454Z"
    }
   },
   "source": [
    "batch = next(iter(train_iter))\n",
    "print(batch.target[:,0])"
   ],
   "outputs": [
    {
     "name": "stdout",
     "output_type": "stream",
     "text": [
      "tensor([   2,    6,   42, 4334,  206,    8, 3081,   57,   71,   92,    3,    1,\n",
      "           1,    1,    1], device='cuda:0')\n"
     ]
    }
   ],
   "execution_count": 178
  },
  {
   "metadata": {
    "ExecuteTime": {
     "end_time": "2025-03-12T21:10:25.558822Z",
     "start_time": "2025-03-12T21:10:25.554214Z"
    }
   },
   "cell_type": "code",
   "source": [
    "a = torch.ones(3, 4)\n",
    "a[:, :]\n",
    "# a"
   ],
   "outputs": [
    {
     "data": {
      "text/plain": [
       "tensor([[1., 1., 1., 1.],\n",
       "        [1., 1., 1., 1.],\n",
       "        [1., 1., 1., 1.]])"
      ]
     },
     "execution_count": 179,
     "metadata": {},
     "output_type": "execute_result"
    }
   ],
   "execution_count": 179
  },
  {
   "cell_type": "code",
   "metadata": {
    "id": "5_qVuSL8QJg4",
    "ExecuteTime": {
     "end_time": "2025-03-12T21:10:26.071677Z",
     "start_time": "2025-03-12T21:10:25.737933Z"
    }
   },
   "source": [
    "model = EncoderDecoder(source_vocab_size=len(word_field.vocab), blocks_count=1,\n",
    "                  target_vocab_size=len(word_field.vocab)).to(DEVICE)\n",
    "\n",
    "# out = model.generate_summary(*convert_batch(batch))\n",
    "# source_text, target_text, output_text = model.generate_summary(*convert_batch(batch))"
   ],
   "outputs": [],
   "execution_count": 180
  },
  {
   "metadata": {
    "ExecuteTime": {
     "end_time": "2025-03-12T21:10:26.314805Z",
     "start_time": "2025-03-12T21:10:26.085679Z"
    }
   },
   "cell_type": "code",
   "source": [
    "source_inputs, target_inputs, source_mask, target_mask = convert_batch(batch)\n",
    "num_examples = 1\n",
    "source_text, target_text, output_text = model.generate_summary(\n",
    "    source_inputs[:num_examples], target_inputs[:num_examples],\n",
    "    source_mask[:num_examples], target_mask[:num_examples]\n",
    ")\n",
    "for i in range(num_examples):\n",
    "    print(f\"Исходный текст: {source_text[i]}\\n\")\n",
    "    print(f\"Ожидаемая суммаризация: {target_text[i]}\\n\")\n",
    "    print(f\"Суммаризация от модели: {output_text[i]}\\n\")"
   ],
   "outputs": [
    {
     "name": "stdout",
     "output_type": "stream",
     "text": [
      "torch.Size([16, 146])\n",
      "torch.Size([16, 15])\n",
      "torch.Size([16, 1, 146])\n",
      "torch.Size([16, 15, 15])\n",
      "\n",
      "torch.Size([1, 1, 1, 146]) tensor([[[[ True,  True,  True,  True,  True,  True,  True,  True,  True,  True,\n",
      "            True,  True,  True,  True,  True,  True,  True,  True,  True,  True,\n",
      "            True,  True,  True,  True,  True,  True,  True,  True,  True,  True,\n",
      "            True,  True,  True,  True,  True,  True,  True,  True,  True,  True,\n",
      "            True,  True,  True,  True,  True,  True,  True,  True,  True,  True,\n",
      "            True,  True,  True,  True,  True,  True,  True,  True,  True,  True,\n",
      "            True,  True,  True,  True,  True,  True,  True,  True,  True,  True,\n",
      "            True,  True,  True,  True,  True,  True,  True,  True,  True,  True,\n",
      "            True,  True,  True,  True,  True,  True,  True,  True,  True,  True,\n",
      "            True,  True,  True,  True,  True,  True,  True,  True,  True,  True,\n",
      "            True,  True,  True,  True,  True,  True,  True,  True,  True,  True,\n",
      "            True,  True,  True,  True,  True,  True,  True,  True,  True,  True,\n",
      "            True,  True,  True,  True,  True,  True,  True,  True,  True, False,\n",
      "           False, False, False, False, False, False, False, False, False, False,\n",
      "           False, False, False, False, False, False]]]], device='cuda:0')\n",
      "torch.Size([1, 8, 146, 146])\n",
      "tensor([[ 0.3018,  0.0542,  1.3419,  ...,  2.3883,  2.1831,  1.0178],\n",
      "        [ 0.0353,  0.0723,  0.7855,  ...,  1.7406,  1.7390,  0.9991],\n",
      "        [ 0.4757, -0.0123,  0.6130,  ...,  1.1297,  1.0795,  0.7138],\n",
      "        ...,\n",
      "        [-0.7747, -0.6731, -0.5713,  ..., -0.5102, -0.8382, -0.7859],\n",
      "        [-0.5810, -1.0439, -0.3129,  ..., -0.0887, -0.7021, -0.6428],\n",
      "        [-0.9190, -0.9715, -0.5610,  ..., -0.7657, -1.2602, -0.9334]],\n",
      "       device='cuda:0')\n",
      "torch.Size([1, 8, 146, 146])\n",
      "tensor([[ 3.0176e-01,  5.4162e-02,  1.3419e+00,  ...,  1.0000e-09,\n",
      "          1.0000e-09,  1.0000e-09],\n",
      "        [ 3.5261e-02,  7.2267e-02,  7.8554e-01,  ...,  1.0000e-09,\n",
      "          1.0000e-09,  1.0000e-09],\n",
      "        [ 4.7569e-01, -1.2264e-02,  6.1300e-01,  ...,  1.0000e-09,\n",
      "          1.0000e-09,  1.0000e-09],\n",
      "        ...,\n",
      "        [-7.7472e-01, -6.7310e-01, -5.7134e-01,  ...,  1.0000e-09,\n",
      "          1.0000e-09,  1.0000e-09],\n",
      "        [-5.8103e-01, -1.0439e+00, -3.1286e-01,  ...,  1.0000e-09,\n",
      "          1.0000e-09,  1.0000e-09],\n",
      "        [-9.1896e-01, -9.7152e-01, -5.6097e-01,  ...,  1.0000e-09,\n",
      "          1.0000e-09,  1.0000e-09]], device='cuda:0')\n",
      "\n",
      "torch.Size([1, 1, 15, 15]) tensor([[[[False, False, False, False, False, False, False, False, False, False,\n",
      "           False, False, False, False, False],\n",
      "          [ True, False, False, False, False, False, False, False, False, False,\n",
      "           False, False, False, False, False],\n",
      "          [ True,  True, False, False, False, False, False, False, False, False,\n",
      "           False, False, False, False, False],\n",
      "          [ True,  True,  True, False, False, False, False, False, False, False,\n",
      "           False, False, False, False, False],\n",
      "          [ True,  True,  True,  True, False, False, False, False, False, False,\n",
      "           False, False, False, False, False],\n",
      "          [ True,  True,  True,  True,  True, False, False, False, False, False,\n",
      "           False, False, False, False, False],\n",
      "          [ True,  True,  True,  True,  True,  True, False, False, False, False,\n",
      "           False, False, False, False, False],\n",
      "          [ True,  True,  True,  True,  True,  True,  True, False, False, False,\n",
      "           False, False, False, False, False],\n",
      "          [ True,  True,  True,  True,  True,  True,  True,  True, False, False,\n",
      "           False, False, False, False, False],\n",
      "          [ True,  True,  True,  True,  True,  True,  True,  True,  True, False,\n",
      "           False, False, False, False, False],\n",
      "          [ True,  True,  True,  True,  True,  True,  True,  True,  True,  True,\n",
      "           False, False, False, False, False],\n",
      "          [ True,  True,  True,  True,  True,  True,  True,  True,  True,  True,\n",
      "            True, False, False, False, False],\n",
      "          [ True,  True,  True,  True,  True,  True,  True,  True,  True,  True,\n",
      "            True, False, False, False, False],\n",
      "          [ True,  True,  True,  True,  True,  True,  True,  True,  True,  True,\n",
      "            True, False, False, False, False],\n",
      "          [ True,  True,  True,  True,  True,  True,  True,  True,  True,  True,\n",
      "            True, False, False, False, False]]]], device='cuda:0')\n",
      "torch.Size([1, 8, 15, 15])\n",
      "tensor([[-1.0680, -1.9825,  0.7329, -0.9624, -0.5480, -0.1572, -0.5992, -0.5487,\n",
      "         -0.5067, -1.0752, -1.3584, -1.1455, -0.0488,  0.4662,  0.9047],\n",
      "        [-1.2211, -2.3370,  0.2535, -1.1812, -1.0662, -1.3283, -1.1169, -1.7991,\n",
      "         -1.4536, -1.8339, -2.1167, -1.9110, -1.0731, -0.2557,  0.2529],\n",
      "        [-0.8631, -0.7064,  0.6097, -0.0080,  0.1271, -0.8425, -0.6687, -0.6202,\n",
      "         -1.1620, -1.2344, -1.9909, -2.1559, -0.8897, -0.8762, -0.6497],\n",
      "        [-1.1028, -0.8595,  0.8595,  0.1144, -0.1581, -1.4075, -0.3128, -0.9053,\n",
      "         -1.0170, -0.7100, -1.3954, -1.8269, -1.1626, -1.3077, -0.2581],\n",
      "        [-0.5821, -0.4596,  0.8244, -0.1228, -0.2299, -0.9275,  0.0112, -0.8290,\n",
      "         -0.9775, -1.4909, -1.5435, -1.3013, -1.0757, -0.8762,  0.0863],\n",
      "        [-1.5846, -0.7459,  0.1520, -0.4517, -0.3702, -1.6258, -0.7257, -1.3458,\n",
      "         -1.3960, -1.7451, -1.7843, -1.6589, -1.5958, -1.8728, -0.7904],\n",
      "        [-0.9268, -0.5829,  0.6299, -0.1843, -0.3789, -0.6081, -0.0312, -1.0924,\n",
      "         -1.0215, -1.8050, -1.8157, -1.5349, -1.0249, -0.0883,  0.0502],\n",
      "        [-1.2530, -0.9606,  0.5346, -0.3147, -0.8034, -0.1194,  0.0560, -0.4379,\n",
      "         -0.5646, -1.4722, -1.5351, -0.9688, -0.4009, -0.0124,  0.5009],\n",
      "        [-0.8321, -0.1575,  1.1373,  0.1910,  0.7118,  0.8386,  0.6405,  0.4410,\n",
      "          0.1876, -1.0361, -1.3716, -1.1789, -0.1207,  0.0976,  0.7194],\n",
      "        [-0.8235, -0.2299,  0.6127, -0.1402,  0.1351,  0.0674,  0.4084,  0.2639,\n",
      "          0.0268, -0.7171, -1.0993, -1.2611, -0.4121,  0.1141,  0.1952],\n",
      "        [-1.3090, -0.4911, -0.7691, -1.2617, -1.1560, -1.3309, -0.6279, -0.8147,\n",
      "         -0.9072, -1.5311, -1.4959, -1.8141, -1.2169, -0.7318, -0.5907],\n",
      "        [-1.3209, -0.1415, -0.2367, -1.1443, -0.7457, -1.7308, -0.8892, -0.8886,\n",
      "         -1.1310, -1.2692, -0.9209, -1.1194, -0.9598, -0.8865,  0.0345],\n",
      "        [-1.5368, -0.4155, -0.7280, -1.6833, -0.9238, -1.8446, -0.8031, -0.9428,\n",
      "         -1.3706, -1.5444, -1.2320, -1.2172, -1.6839, -1.6344, -0.8429],\n",
      "        [-2.1958, -1.2211, -0.7520, -1.5401, -1.0825, -1.6881, -0.9081, -1.3058,\n",
      "         -1.1594, -1.4860, -1.6429, -1.4240, -1.3126, -1.5394, -0.5225],\n",
      "        [-2.4358, -1.3022,  0.1376, -1.2213, -0.5479, -1.0392, -0.7900, -1.2801,\n",
      "         -1.2245, -2.2157, -2.2761, -1.6172, -1.1825, -1.1319, -0.5087]],\n",
      "       device='cuda:0')\n",
      "torch.Size([1, 8, 15, 15])\n",
      "tensor([[ 1.0000e-09,  1.0000e-09,  1.0000e-09,  1.0000e-09,  1.0000e-09,\n",
      "          1.0000e-09,  1.0000e-09,  1.0000e-09,  1.0000e-09,  1.0000e-09,\n",
      "          1.0000e-09,  1.0000e-09,  1.0000e-09,  1.0000e-09,  1.0000e-09],\n",
      "        [-1.2211e+00,  1.0000e-09,  1.0000e-09,  1.0000e-09,  1.0000e-09,\n",
      "          1.0000e-09,  1.0000e-09,  1.0000e-09,  1.0000e-09,  1.0000e-09,\n",
      "          1.0000e-09,  1.0000e-09,  1.0000e-09,  1.0000e-09,  1.0000e-09],\n",
      "        [-8.6313e-01, -7.0637e-01,  1.0000e-09,  1.0000e-09,  1.0000e-09,\n",
      "          1.0000e-09,  1.0000e-09,  1.0000e-09,  1.0000e-09,  1.0000e-09,\n",
      "          1.0000e-09,  1.0000e-09,  1.0000e-09,  1.0000e-09,  1.0000e-09],\n",
      "        [-1.1028e+00, -8.5948e-01,  8.5954e-01,  1.0000e-09,  1.0000e-09,\n",
      "          1.0000e-09,  1.0000e-09,  1.0000e-09,  1.0000e-09,  1.0000e-09,\n",
      "          1.0000e-09,  1.0000e-09,  1.0000e-09,  1.0000e-09,  1.0000e-09],\n",
      "        [-5.8209e-01, -4.5960e-01,  8.2441e-01, -1.2284e-01,  1.0000e-09,\n",
      "          1.0000e-09,  1.0000e-09,  1.0000e-09,  1.0000e-09,  1.0000e-09,\n",
      "          1.0000e-09,  1.0000e-09,  1.0000e-09,  1.0000e-09,  1.0000e-09],\n",
      "        [-1.5846e+00, -7.4587e-01,  1.5197e-01, -4.5171e-01, -3.7024e-01,\n",
      "          1.0000e-09,  1.0000e-09,  1.0000e-09,  1.0000e-09,  1.0000e-09,\n",
      "          1.0000e-09,  1.0000e-09,  1.0000e-09,  1.0000e-09,  1.0000e-09],\n",
      "        [-9.2683e-01, -5.8288e-01,  6.2988e-01, -1.8433e-01, -3.7894e-01,\n",
      "         -6.0811e-01,  1.0000e-09,  1.0000e-09,  1.0000e-09,  1.0000e-09,\n",
      "          1.0000e-09,  1.0000e-09,  1.0000e-09,  1.0000e-09,  1.0000e-09],\n",
      "        [-1.2530e+00, -9.6063e-01,  5.3456e-01, -3.1472e-01, -8.0343e-01,\n",
      "         -1.1939e-01,  5.6027e-02,  1.0000e-09,  1.0000e-09,  1.0000e-09,\n",
      "          1.0000e-09,  1.0000e-09,  1.0000e-09,  1.0000e-09,  1.0000e-09],\n",
      "        [-8.3210e-01, -1.5748e-01,  1.1373e+00,  1.9104e-01,  7.1177e-01,\n",
      "          8.3860e-01,  6.4050e-01,  4.4101e-01,  1.0000e-09,  1.0000e-09,\n",
      "          1.0000e-09,  1.0000e-09,  1.0000e-09,  1.0000e-09,  1.0000e-09],\n",
      "        [-8.2351e-01, -2.2992e-01,  6.1272e-01, -1.4023e-01,  1.3512e-01,\n",
      "          6.7370e-02,  4.0844e-01,  2.6391e-01,  2.6821e-02,  1.0000e-09,\n",
      "          1.0000e-09,  1.0000e-09,  1.0000e-09,  1.0000e-09,  1.0000e-09],\n",
      "        [-1.3090e+00, -4.9111e-01, -7.6912e-01, -1.2617e+00, -1.1560e+00,\n",
      "         -1.3309e+00, -6.2788e-01, -8.1473e-01, -9.0718e-01, -1.5311e+00,\n",
      "          1.0000e-09,  1.0000e-09,  1.0000e-09,  1.0000e-09,  1.0000e-09],\n",
      "        [-1.3209e+00, -1.4152e-01, -2.3669e-01, -1.1443e+00, -7.4571e-01,\n",
      "         -1.7308e+00, -8.8916e-01, -8.8862e-01, -1.1310e+00, -1.2692e+00,\n",
      "         -9.2090e-01,  1.0000e-09,  1.0000e-09,  1.0000e-09,  1.0000e-09],\n",
      "        [-1.5368e+00, -4.1554e-01, -7.2797e-01, -1.6833e+00, -9.2377e-01,\n",
      "         -1.8446e+00, -8.0313e-01, -9.4279e-01, -1.3706e+00, -1.5444e+00,\n",
      "         -1.2320e+00,  1.0000e-09,  1.0000e-09,  1.0000e-09,  1.0000e-09],\n",
      "        [-2.1958e+00, -1.2211e+00, -7.5205e-01, -1.5401e+00, -1.0825e+00,\n",
      "         -1.6881e+00, -9.0812e-01, -1.3058e+00, -1.1594e+00, -1.4860e+00,\n",
      "         -1.6429e+00,  1.0000e-09,  1.0000e-09,  1.0000e-09,  1.0000e-09],\n",
      "        [-2.4358e+00, -1.3022e+00,  1.3760e-01, -1.2213e+00, -5.4792e-01,\n",
      "         -1.0392e+00, -7.9002e-01, -1.2801e+00, -1.2245e+00, -2.2157e+00,\n",
      "         -2.2761e+00,  1.0000e-09,  1.0000e-09,  1.0000e-09,  1.0000e-09]],\n",
      "       device='cuda:0')\n",
      "\n",
      "torch.Size([1, 1, 1, 146]) tensor([[[[ True,  True,  True,  True,  True,  True,  True,  True,  True,  True,\n",
      "            True,  True,  True,  True,  True,  True,  True,  True,  True,  True,\n",
      "            True,  True,  True,  True,  True,  True,  True,  True,  True,  True,\n",
      "            True,  True,  True,  True,  True,  True,  True,  True,  True,  True,\n",
      "            True,  True,  True,  True,  True,  True,  True,  True,  True,  True,\n",
      "            True,  True,  True,  True,  True,  True,  True,  True,  True,  True,\n",
      "            True,  True,  True,  True,  True,  True,  True,  True,  True,  True,\n",
      "            True,  True,  True,  True,  True,  True,  True,  True,  True,  True,\n",
      "            True,  True,  True,  True,  True,  True,  True,  True,  True,  True,\n",
      "            True,  True,  True,  True,  True,  True,  True,  True,  True,  True,\n",
      "            True,  True,  True,  True,  True,  True,  True,  True,  True,  True,\n",
      "            True,  True,  True,  True,  True,  True,  True,  True,  True,  True,\n",
      "            True,  True,  True,  True,  True,  True,  True,  True,  True, False,\n",
      "           False, False, False, False, False, False, False, False, False, False,\n",
      "           False, False, False, False, False, False]]]], device='cuda:0')\n",
      "torch.Size([1, 8, 15, 146])\n",
      "tensor([[1.2062, 1.5021, 2.2051,  ..., 1.2934, 1.3770, 1.3866],\n",
      "        [0.4821, 1.0077, 0.9991,  ..., 0.4500, 1.2256, 0.6171],\n",
      "        [0.4589, 1.8947, 1.4746,  ..., 0.9174, 2.2653, 1.8053],\n",
      "        ...,\n",
      "        [0.0496, 0.6534, 0.5474,  ..., 0.0847, 0.9276, 0.7934],\n",
      "        [0.7364, 1.0796, 1.2453,  ..., 0.4282, 0.9132, 0.7058],\n",
      "        [0.6420, 1.3439, 1.2718,  ..., 1.1303, 1.8375, 1.1337]],\n",
      "       device='cuda:0')\n",
      "torch.Size([1, 8, 15, 146])\n",
      "tensor([[1.2062e+00, 1.5021e+00, 2.2051e+00,  ..., 1.0000e-09, 1.0000e-09,\n",
      "         1.0000e-09],\n",
      "        [4.8211e-01, 1.0077e+00, 9.9905e-01,  ..., 1.0000e-09, 1.0000e-09,\n",
      "         1.0000e-09],\n",
      "        [4.5890e-01, 1.8947e+00, 1.4746e+00,  ..., 1.0000e-09, 1.0000e-09,\n",
      "         1.0000e-09],\n",
      "        ...,\n",
      "        [4.9631e-02, 6.5340e-01, 5.4741e-01,  ..., 1.0000e-09, 1.0000e-09,\n",
      "         1.0000e-09],\n",
      "        [7.3645e-01, 1.0796e+00, 1.2453e+00,  ..., 1.0000e-09, 1.0000e-09,\n",
      "         1.0000e-09],\n",
      "        [6.4198e-01, 1.3439e+00, 1.2718e+00,  ..., 1.0000e-09, 1.0000e-09,\n",
      "         1.0000e-09]], device='cuda:0')\n",
      "\n",
      "Исходный текст: <s> в результате крупного дтп , которое произошло на мкад в ночь на 11 мая , погибли два человека . еще четыре человека получили ранения . об этом сообщает риа новости со ссылкой на представителя гибдд москвы . авария произошла около 23 : 30 10 мая на <unk> километре внешней стороны мкад . сначала произошло мелкое дтп с участием трех автомобилей , водители которых остались ждать сотрудников гибдд . вскоре в автомобили врезался грузовик и еще одна легковая машина . два водителя погибли на месте . среди пострадавших есть десятилетний ребенок . между тем , « интерфакс » со ссылкой на источник в правоохранительных органах сообщает , что в аварии участвовали шесть автомобилей . на месте дтп работают врачи и сотрудники полиции , которые устанавливают обстоятельства аварии . </s> <pad> <pad> <pad> <pad> <pad> <pad> <pad> <pad> <pad> <pad> <pad> <pad> <pad> <pad> <pad> <pad> <pad>\n",
      "\n",
      "Ожидаемая суммаризация: <s> в результате крупной аварии на мкад погибли два человека </s> <pad> <pad> <pad> <pad>\n",
      "\n",
      "Суммаризация от модели: вачовски рассказом рассказом задержек печально приговорен внешнеполитическое выброшены закупит ральфа предварительном ральфа самоубийство меняться задержек\n",
      "\n"
     ]
    }
   ],
   "execution_count": 181
  },
  {
   "cell_type": "code",
   "metadata": {
    "tags": [],
    "ExecuteTime": {
     "end_time": "2025-03-12T21:10:26.473438Z",
     "start_time": "2025-03-12T21:10:26.469438Z"
    }
   },
   "source": [
    "out.shape, len(word_field.vocab)"
   ],
   "outputs": [
    {
     "data": {
      "text/plain": [
       "(torch.Size([16, 14, 55862]), 55862)"
      ]
     },
     "execution_count": 182,
     "metadata": {},
     "output_type": "execute_result"
    }
   ],
   "execution_count": 182
  },
  {
   "cell_type": "markdown",
   "metadata": {
    "id": "vX6PrVksnaq7"
   },
   "source": [
    "## Оптимизатор\n",
    "\n",
    "Тоже очень важно в данной модели - использовать правильный оптимизатор"
   ]
  },
  {
   "cell_type": "code",
   "execution_count": 79,
   "metadata": {
    "id": "KMhopCgTnh-w"
   },
   "outputs": [],
   "source": [
    "class NoamOpt(object):\n",
    "    def __init__(self, model_size, factor=2, warmup=4000, optimizer=None):\n",
    "        if optimizer is not None:\n",
    "            self.optimizer = optimizer\n",
    "        else:\n",
    "            self.optimizer = optim.Adam(model.parameters(), lr=0, betas=(0.9, 0.98), eps=1e-9)\n",
    "        self._step = 0\n",
    "        self.warmup = warmup\n",
    "        self.factor = factor\n",
    "        self.model_size = model_size\n",
    "        self._rate = 0\n",
    "        \n",
    "    def step(self):\n",
    "        self._step += 1\n",
    "        rate = self.rate()\n",
    "        for p in self.optimizer.param_groups:\n",
    "            p['lr'] = rate\n",
    "        self._rate = rate\n",
    "        self.optimizer.step()\n",
    "        \n",
    "    def rate(self, step = None):\n",
    "        if step is None:\n",
    "            step = self._step\n",
    "        return self.factor * (self.model_size ** (-0.5) * min(step ** (-0.5), step * self.warmup ** (-1.5)))"
   ]
  },
  {
   "cell_type": "markdown",
   "metadata": {
    "id": "OuYc21J5oIdb"
   },
   "source": [
    "Идея в том, чтобы повышать learning rate в течении первых warmup шагов линейно, а затем понижать его по сложной формуле:\n",
    "\n",
    "$$\n",
    "lrate = d_{\\text{model}}^{-0.5} \\cdot\n",
    "  \\min({step\\_num}^{-0.5},\n",
    "    {step\\_num} \\cdot {warmup\\_steps}^{-1.5})\n",
    "$$"
   ]
  },
  {
   "cell_type": "code",
   "execution_count": 80,
   "metadata": {
    "colab": {
     "base_uri": "https://localhost:8080/",
     "height": 282
    },
    "id": "kMBL261hoA58",
    "outputId": "d8fa0473-a9ab-47af-87f0-5929a1f6cc2c"
   },
   "outputs": [
    {
     "data": {
      "text/plain": [
       "<matplotlib.legend.Legend at 0x2faa4bf40>"
      ]
     },
     "execution_count": 80,
     "metadata": {},
     "output_type": "execute_result"
    },
    {
     "data": {
      "image/png": "[encoded data removed]",
      "text/plain": [
       "<Figure size 640x480 with 1 Axes>"
      ]
     },
     "metadata": {},
     "output_type": "display_data"
    }
   ],
   "source": [
    "opts = [NoamOpt(512, 1, 4000, None), \n",
    "        NoamOpt(512, 1, 8000, None),\n",
    "        NoamOpt(256, 1, 4000, None)]\n",
    "plt.plot(np.arange(1, 20000), [[opt.rate(i) for opt in opts] for i in range(1, 20000)])\n",
    "plt.legend([\"512:4000\", \"512:8000\", \"256:4000\"])"
   ]
  },
  {
   "cell_type": "markdown",
   "metadata": {
    "id": "W71i85Q4pdOS"
   },
   "source": [
    "## Тренировка модели"
   ]
  },
  {
   "cell_type": "code",
   "execution_count": 81,
   "metadata": {
    "id": "_E2JxfRuphch"
   },
   "outputs": [],
   "source": [
    "tqdm.get_lock().locks = []\n",
    "\n",
    "\n",
    "def do_epoch(model, criterion, data_iter, optimizer=None, name=None):\n",
    "    epoch_loss = 0\n",
    "    \n",
    "    is_train = not optimizer is None\n",
    "    name = name or ''\n",
    "    model.train(is_train)\n",
    "    \n",
    "    batches_count = len(data_iter)\n",
    "    \n",
    "    with torch.autograd.set_grad_enabled(is_train):\n",
    "        with tqdm(total=batches_count) as progress_bar:\n",
    "            for i, batch in enumerate(data_iter):\n",
    "                source_inputs, target_inputs, source_mask, target_mask = convert_batch(batch)                                \n",
    "                logits = model.forward(source_inputs, target_inputs[:, :-1], source_mask, target_mask[:, :-1, :-1])\n",
    "                \n",
    "                logits = logits.contiguous().view(-1, logits.shape[-1])\n",
    "                target = target_inputs[:, 1:].contiguous().view(-1)\n",
    "                loss = criterion(logits, target)\n",
    "\n",
    "                epoch_loss += loss.item()\n",
    "\n",
    "                if optimizer:\n",
    "                    optimizer.optimizer.zero_grad()\n",
    "                    loss.backward()\n",
    "                    optimizer.step()\n",
    "\n",
    "                progress_bar.update()\n",
    "                progress_bar.set_description('{:>5s} Loss = {:.5f}, PPX = {:.2f}'.format(name, loss.item(), \n",
    "                                                                                         math.exp(loss.item())))\n",
    "                \n",
    "            progress_bar.set_description('{:>5s} Loss = {:.5f}, PPX = {:.2f}'.format(\n",
    "                name, epoch_loss / batches_count, math.exp(epoch_loss / batches_count))\n",
    "            )\n",
    "            progress_bar.refresh()\n",
    "\n",
    "    return epoch_loss / batches_count\n",
    "\n",
    "\n",
    "def fit(model, criterion, optimizer, train_iter, epochs_count=1, val_iter=None):\n",
    "    best_val_loss = None\n",
    "    for epoch in range(epochs_count):\n",
    "        name_prefix = '[{} / {}] '.format(epoch + 1, epochs_count)\n",
    "        train_loss = do_epoch(model, criterion, train_iter, optimizer, name_prefix + 'Train:')\n",
    "        \n",
    "        if not val_iter is None:\n",
    "            val_loss = do_epoch(model, criterion, val_iter, None, name_prefix + '  Val:')"
   ]
  },
  {
   "cell_type": "code",
   "execution_count": 82,
   "metadata": {
    "id": "5X2kYDU_rCjP",
    "tags": []
   },
   "outputs": [
    {
     "name": "stderr",
     "output_type": "stream",
     "text": [
      "[1 / 30] Train: Loss = 7.70035, PPX = 2209.13:   8%|▊         | 297/3946 [02:47<34:26,  1.77it/s]  "
     ]
    },
    {
     "ename": "",
     "evalue": "",
     "output_type": "error",
     "traceback": [
      "\u001B[1;31mThe Kernel crashed while executing code in the current cell or a previous cell. \n",
      "\u001B[1;31mPlease review the code in the cell(s) to identify a possible cause of the failure. \n",
      "\u001B[1;31mClick <a href='https://aka.ms/vscodeJupyterKernelCrash'>here</a> for more info. \n",
      "\u001B[1;31mView Jupyter <a href='command:jupyter.viewOutput'>log</a> for further details."
     ]
    }
   ],
   "source": [
    "model = EncoderDecoder(source_vocab_size=len(word_field.vocab), target_vocab_size=len(word_field.vocab)).to(DEVICE)\n",
    "\n",
    "pad_idx = word_field.vocab.stoi['<pad>']\n",
    "criterion = nn.CrossEntropyLoss(ignore_index=pad_idx).to(DEVICE)\n",
    "\n",
    "optimizer = NoamOpt(model.d_model)\n",
    "\n",
    "fit(model, criterion, optimizer, train_iter, epochs_count=30, val_iter=test_iter)"
   ]
  },
  {
   "cell_type": "markdown",
   "metadata": {
    "id": "iRudmDewoIPJ"
   },
   "source": [
    "# Домашнее задание"
   ]
  },
  {
   "cell_type": "markdown",
   "metadata": {
    "id": "PRMFkzDV-wI9"
   },
   "source": [
    "## Применение модели\n",
    "\n",
    "**Задание** Добавьте генератор суммаризации для модели.\n",
    "\n",
    "**Задание** Добавьте оценку для модели с помощью ROUGE metric (например, из пакета https://pypi.org/project/pyrouge/0.1.3/)\n",
    "\n",
    "**Задание** Добавьте визуализацию механизма attention (можно подсмотреть в коде по ссылкам)."
   ]
  },
  {
   "cell_type": "markdown",
   "metadata": {
    "id": "Ij1GiNx54Ke5"
   },
   "source": [
    "## Улучшения модели\n",
    "\n",
    "**Задание** Попробовать расшарить матрицы эмбеддингов - их тут три (входные в энкодер и декодер + выход декодера).\n",
    "\n",
    "**Задание** Замените лосс на LabelSmoothing.\n",
    "\n",
    "**Задание** Добавьте предодученные эмбединги."
   ]
  },
  {
   "cell_type": "markdown",
   "metadata": {
    "id": "N4-3pYqVJIKA"
   },
   "source": [
    "# Дополнительные материалы\n",
    "\n",
    "## Статьи\n",
    "Attention Is All You Need, 2017 [[pdf]](https://arxiv.org/pdf/1706.03762.pdf)  \n",
    "Get To The Point: Summarization with Pointer-Generator Networks, 2017 [[pdf]](https://arxiv.org/pdf/1704.04368.pdf)  \n",
    "Universal Transformers, 2018 [[arxiv]](https://arxiv.org/abs/1807.03819)\n",
    "\n",
    "## Блоги\n",
    "[Transformer — новая архитектура нейросетей для работы с последовательностями](https://habr.com/post/341240/)  \n",
    "[The Illustrated Transformer](http://jalammar.github.io/illustrated-transformer/)  \n",
    "[The Annotated Transformer](http://nlp.seas.harvard.edu/2018/04/03/attention.html)  \n",
    "[Weighted Tranformer](https://einstein.ai/research/blog/weighted-transformer)  \n",
    "[Your tldr by an ai: a deep reinforced model for abstractive summarization](https://einstein.ai/research/blog/your-tldr-by-an-ai-a-deep-reinforced-model-for-abstractive-summarization)"
   ]
  }
 ],
 "metadata": {
  "accelerator": "GPU",
  "colab": {
   "collapsed_sections": [],
   "name": "Копия блокнота \"Week 11 - Transformers.ipynb\"",
   "provenance": []
  },
  "hide_input": false,
  "kernelspec": {
   "display_name": "Python 3 (ipykernel)",
   "language": "python",
   "name": "python3"
  },
  "language_info": {
   "codemirror_mode": {
    "name": "ipython",
    "version": 3
   },
   "file_extension": ".py",
   "mimetype": "text/x-python",
   "name": "python",
   "nbconvert_exporter": "python",
   "pygments_lexer": "ipython3",
   "version": "3.10.12"
  },
  "toc": {
   "base_numbering": 1,
   "nav_menu": {},
   "number_sections": true,
   "sideBar": true,
   "skip_h1_title": false,
   "title_cell": "Table of Contents",
   "title_sidebar": "Contents",
   "toc_cell": false,
   "toc_position": {},
   "toc_section_display": true,
   "toc_window_display": false
  },
  "varInspector": {
   "cols": {
    "lenName": 16,
    "lenType": 16,
    "lenVar": 40
   },
   "kernels_config": {
    "python": {
     "delete_cmd_postfix": "",
     "delete_cmd_prefix": "del ",
     "library": "var_list.py",
     "varRefreshCmd": "print(var_dic_list())"
    },
    "r": {
     "delete_cmd_postfix": ") ",
     "delete_cmd_prefix": "rm(",
     "library": "var_list.r",
     "varRefreshCmd": "cat(var_dic_list()) "
    }
   },
   "types_to_exclude": [
    "module",
    "function",
    "builtin_function_or_method",
    "instance",
    "_Feature"
   ],
   "window_display": false
  }
 },
 "nbformat": 4,
 "nbformat_minor": 4
}
